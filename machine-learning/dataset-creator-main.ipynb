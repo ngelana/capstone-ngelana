{
 "cells": [
  {
   "cell_type": "code",
   "id": "initial_id",
   "metadata": {
    "collapsed": true,
    "ExecuteTime": {
     "end_time": "2024-06-17T21:37:54.095726700Z",
     "start_time": "2024-06-17T21:37:53.761286Z"
    }
   },
   "source": [
    "import pandas as pd"
   ],
   "outputs": [],
   "execution_count": 1
  },
  {
   "metadata": {
    "ExecuteTime": {
     "end_time": "2024-06-17T21:37:54.835324700Z",
     "start_time": "2024-06-17T21:37:54.099129900Z"
    }
   },
   "cell_type": "code",
   "source": [
    "places_df = pd.read_csv('combined-dataset/combined_datasetV2.csv')"
   ],
   "id": "2275726c22f8977f",
   "outputs": [],
   "execution_count": 2
  },
  {
   "metadata": {
    "ExecuteTime": {
     "end_time": "2024-06-17T21:37:54.863814600Z",
     "start_time": "2024-06-17T21:37:54.853381200Z"
    }
   },
   "cell_type": "code",
   "source": [
    "print(places_df.isna().sum())"
   ],
   "id": "eab9e12eb0c2f39a",
   "outputs": [
    {
     "name": "stdout",
     "output_type": "stream",
     "text": [
      "id                  0\n",
      "name                0\n",
      "latitude            0\n",
      "longitude           0\n",
      "address             0\n",
      "url                 0\n",
      "status              4\n",
      "phone           13813\n",
      "primary-type     2756\n",
      "types               0\n",
      "rating           8452\n",
      "rating-count     8452\n",
      "price-level     31664\n",
      "review 1        18444\n",
      "review 2        21617\n",
      "review 3        23050\n",
      "review 4        23930\n",
      "review 5        24582\n",
      "dtype: int64\n"
     ]
    }
   ],
   "execution_count": 3
  },
  {
   "metadata": {
    "ExecuteTime": {
     "end_time": "2024-06-17T21:37:54.906425600Z",
     "start_time": "2024-06-17T21:37:54.861812400Z"
    }
   },
   "cell_type": "code",
   "source": [
    "places_df.dropna(subset=['primary-type', 'rating', 'review 1', 'review 2', 'review 3', 'review 4', 'review 5'], inplace=True)\n",
    "\n",
    "places_df = places_df[places_df['rating-count'] >= 50]\n",
    "places_df = places_df[places_df['rating'] >= 3.5]\n",
    "places_df['price-level'] = places_df['price-level'].fillna('PRICE_LEVEL_UNKNOWN')\n",
    "\n",
    "places_df.reset_index(drop=True, inplace=True)"
   ],
   "id": "95f04a2e29963b51",
   "outputs": [],
   "execution_count": 4
  },
  {
   "metadata": {
    "ExecuteTime": {
     "end_time": "2024-06-17T21:37:54.917988900Z",
     "start_time": "2024-06-17T21:37:54.902326500Z"
    }
   },
   "cell_type": "code",
   "source": [
    "print(places_df.isna().sum())"
   ],
   "id": "e5c77e23d9177213",
   "outputs": [
    {
     "name": "stdout",
     "output_type": "stream",
     "text": [
      "id                0\n",
      "name              0\n",
      "latitude          0\n",
      "longitude         0\n",
      "address           0\n",
      "url               0\n",
      "status            0\n",
      "phone           811\n",
      "primary-type      0\n",
      "types             0\n",
      "rating            0\n",
      "rating-count      0\n",
      "price-level       0\n",
      "review 1          0\n",
      "review 2          0\n",
      "review 3          0\n",
      "review 4          0\n",
      "review 5          0\n",
      "dtype: int64\n"
     ]
    }
   ],
   "execution_count": 5
  },
  {
   "metadata": {
    "ExecuteTime": {
     "end_time": "2024-06-17T21:37:54.957399600Z",
     "start_time": "2024-06-17T21:37:54.910431100Z"
    }
   },
   "cell_type": "code",
   "source": [
    "places_df"
   ],
   "id": "5891be2b5eec407e",
   "outputs": [
    {
     "data": {
      "text/plain": "                               id  \\\n0     ChIJYcGr7GSb0S0RckePBrCWikw   \n1     ChIJZbWX6Aia0S0R0tM3h1RZ1h8   \n2     ChIJYyHbhgia0S0RzdjNXLmcf54   \n3     ChIJ6zf9LJCb0S0RFv3BdLl61ZY   \n4     ChIJxaITmQia0S0RyrbukE8vsJU   \n...                           ...   \n6174  ChIJf6d0f5Nb0i0Rq_tEZeZB_Nc   \n6175  ChIJk41ld9Fb0i0RStb1NFpDAno   \n6176  ChIJO30FJJdd0i0RCOyG8WcyJBk   \n6177  ChIJvazdGXtb0i0RA-4XopPth7A   \n6178  ChIJqZTwKr5b0i0Rw1O4htYbMgg   \n\n                                                   name  latitude   longitude  \\\n0     Singaraja Hotel (ex- POP! Hotel Hardys Singara... -8.103137  115.090514   \n1                                        Warung Bik Juk -8.106189  115.089961   \n2                      Harbour Tourist Area of Buleleng -8.103931  115.090031   \n3                                         Abuela Coffee -8.104751  115.087919   \n4                              Klenteng Ling Gwan Kiong -8.103899  115.089833   \n...                                                 ...       ...         ...   \n6174                              Melasti Beach Ungasan -8.847742  115.160670   \n6175  Tropical Temptation Beach Club by Ini Vie Hosp... -8.848187  115.160380   \n6176                                     Pantai Melasti -8.848278  115.163173   \n6177                                   Mïnoo Beach Club -8.848279  115.161177   \n6178                       Kecak Dance at Melasti Beach -8.848176  115.162956   \n\n                                                address  \\\n0     Jl. Surapati No.12 14, Kp. Baru, Kec. Buleleng...   \n1     Kampung Kajanan, Buleleng, Buleleng Regency, B...   \n2     Jl. Pelabuhan Buleleng, Kp. Bugis, Kec. Bulele...   \n3     Jl. Erlangga No.1, Kp. Bugis, Kec. Buleleng, K...   \n4     Jl. Erlangga No.65, Kp. Bugis, Kec. Buleleng, ...   \n...                                                 ...   \n6174  Indonesia, Bali, Badung Regency, South Kuta, U...   \n6175  Melasti Beach 88, Ungasan, Kec. Kuta Sel., Kab...   \n6176  554Q+PJ5, Jl. Pantai Melasti, Kutuh, Kec. Kuta...   \n6177  Jl. Pengayutan. Pantai Melasti, Ungasan, Kec. ...   \n6178  5527+P5G, Jl. Melasti, Ungasan, Kec. Kuta Sel....   \n\n                                                    url       status  \\\n0      https://maps.google.com/?cid=5515386376437057394  OPERATIONAL   \n1      https://maps.google.com/?cid=2294119279772554194  OPERATIONAL   \n2     https://maps.google.com/?cid=11421019499974744269  OPERATIONAL   \n3     https://maps.google.com/?cid=10868728212674968854  OPERATIONAL   \n4     https://maps.google.com/?cid=10786173126332823242  OPERATIONAL   \n...                                                 ...          ...   \n6174  https://maps.google.com/?cid=15563386870082894763  OPERATIONAL   \n6175   https://maps.google.com/?cid=8791663477295273546  OPERATIONAL   \n6176   https://maps.google.com/?cid=1811628372124953608  OPERATIONAL   \n6177  https://maps.google.com/?cid=12720396890866707971  OPERATIONAL   \n6178    https://maps.google.com/?cid=590565109336134595  OPERATIONAL   \n\n                  phone             primary-type  \\\n0       +62 362 3301500                    hotel   \n1     +62 819-1566-2913    indonesian_restaurant   \n2         +62 362 21342       tourist_attraction   \n3     +62 858-5878-5361              coffee_shop   \n4                   NaN         place_of_worship   \n...                 ...                      ...   \n6174                NaN       tourist_attraction   \n6175  +62 812-3776-3903               restaurant   \n6176                NaN       tourist_attraction   \n6177   +62 811-3898-902                      bar   \n6178                NaN  performing_arts_theater   \n\n                                                  types  rating  rating-count  \\\n0                                        hotel, lodging     4.1        2581.0   \n1               indonesian_restaurant, restaurant, food     4.5         648.0   \n2                  tourist_attraction, restaurant, food     4.3        2800.0   \n3                        coffee_shop, cafe, food, store     4.9         164.0   \n4                  tourist_attraction, place_of_worship     4.6         142.0   \n...                                                 ...     ...           ...   \n6174                                 tourist_attraction     4.8       19752.0   \n6175                              restaurant, bar, food     4.6        2990.0   \n6176                                 tourist_attraction     4.7          75.0   \n6177                              bar, restaurant, food     4.5         725.0   \n6178  performing_arts_theater, tourist_attraction, e...     4.8         617.0   \n\n               price-level                                           review 1  \\\n0      PRICE_LEVEL_UNKNOWN  It has quite small room, and the hallway is qu...   \n1     PRICE_LEVEL_MODERATE  Surprisingly, a really good warung that’s hidd...   \n2      PRICE_LEVEL_UNKNOWN  Only had a fleeting visit here, came by coach,...   \n3      PRICE_LEVEL_UNKNOWN  One word, underrated! How come place like this...   \n4      PRICE_LEVEL_UNKNOWN  This temple is located in Singaraja, located i...   \n...                    ...                                                ...   \n6174   PRICE_LEVEL_UNKNOWN  the location is not far and not too crowded. t...   \n6175   PRICE_LEVEL_UNKNOWN  First off, the staff is incredible.  Like, rid...   \n6176   PRICE_LEVEL_UNKNOWN  One of the cleanest beaches we visited in Uluw...   \n6177  PRICE_LEVEL_MODERATE  It was a great place to chill for the day. The...   \n6178   PRICE_LEVEL_UNKNOWN  Witnessing the Kecak Dance at Melasti Beach wa...   \n\n                                               review 2  \\\n0     Few days ago My wife and me stayed 2 night at ...   \n1     So in love with the food, very simple but tast...   \n2     The Harbour Tourist Area in Buleleng offers a ...   \n3     Coffee shop with good food and coffee. Very ni...   \n4     Taoist temple with beautiful old-chinese archi...   \n...                                                 ...   \n6174  Nicely made beach with parking right in front ...   \n6175  We ended up paying 1.5mil for two here while s...   \n6176  I went to Melasti Beach at the end of October,...   \n6177  Nice beach club, really love the foods and dri...   \n6178  One of the best experience to watch this dance...   \n\n                                               review 3  \\\n0     Because its cheap, cant complaint too much. Th...   \n1     A hidden treasure in the heart of Singaraja Ci...   \n2     Its ine of nice place you must visit when you ...   \n3     Small cafe, the coffee is good, the dimsum is ...   \n4     Ling Gwan Kiong is an old Chinese temple popul...   \n...                                                 ...   \n6174  Melasti Beach Ungasan is a stunning beach in B...   \n6175  Had an awesome day at Tropical Temptation!  Th...   \n6176  I went to Bali at the end of October and visit...   \n6177  Good place, good food and good staff!\\n\\nNo en...   \n6178  Wow! Amazing experience! Recommend this one ov...   \n\n                                               review 4  \\\n0     Stayed here for 1 night, the room is small wit...   \n1     Nice warung on the side street. They were out ...   \n2     A historical place for the Balinese people, es...   \n3     Love this place 🫶\\nGreat coffee ☕️\\nLumpia is ...   \n4     The Tri Dharma Temple, very unique, historic a...   \n...                                                 ...   \n6174  The approach road to this beach is amazing spe...   \n6175  Beautiful area, can not fault how breath takin...   \n6176                                    Beautiful place   \n6177  Good place to bring your family & friends, kid...   \n6178  Really enjoyed the Kecak Dance here! A beautif...   \n\n                                               review 5  \n0     Good place to short stay located next Historic...  \n1     Nostalgic place at singaraja.. good and friend...  \n2     It's a good place to relax with you friends an...  \n3     Best coffee in Singaraja. Cappuccino was 20k a...  \n4     Quiet, clean and peaceful. Visited this place ...  \n...                                                 ...  \n6174  🚶 I walked down to the beach, but it’s quite s...  \n6175  Tropical Temptation is a beach club gem! 💎 The...  \n6176  it was really hot when we went here but its a ...  \n6177  I went to this beach a few days ago, the food ...  \n6178  Good performance, but there was only one guy w...  \n\n[6179 rows x 18 columns]",
      "text/html": "<div>\n<style scoped>\n    .dataframe tbody tr th:only-of-type {\n        vertical-align: middle;\n    }\n\n    .dataframe tbody tr th {\n        vertical-align: top;\n    }\n\n    .dataframe thead th {\n        text-align: right;\n    }\n</style>\n<table border=\"1\" class=\"dataframe\">\n  <thead>\n    <tr style=\"text-align: right;\">\n      <th></th>\n      <th>id</th>\n      <th>name</th>\n      <th>latitude</th>\n      <th>longitude</th>\n      <th>address</th>\n      <th>url</th>\n      <th>status</th>\n      <th>phone</th>\n      <th>primary-type</th>\n      <th>types</th>\n      <th>rating</th>\n      <th>rating-count</th>\n      <th>price-level</th>\n      <th>review 1</th>\n      <th>review 2</th>\n      <th>review 3</th>\n      <th>review 4</th>\n      <th>review 5</th>\n    </tr>\n  </thead>\n  <tbody>\n    <tr>\n      <th>0</th>\n      <td>ChIJYcGr7GSb0S0RckePBrCWikw</td>\n      <td>Singaraja Hotel (ex- POP! Hotel Hardys Singara...</td>\n      <td>-8.103137</td>\n      <td>115.090514</td>\n      <td>Jl. Surapati No.12 14, Kp. Baru, Kec. Buleleng...</td>\n      <td>https://maps.google.com/?cid=5515386376437057394</td>\n      <td>OPERATIONAL</td>\n      <td>+62 362 3301500</td>\n      <td>hotel</td>\n      <td>hotel, lodging</td>\n      <td>4.1</td>\n      <td>2581.0</td>\n      <td>PRICE_LEVEL_UNKNOWN</td>\n      <td>It has quite small room, and the hallway is qu...</td>\n      <td>Few days ago My wife and me stayed 2 night at ...</td>\n      <td>Because its cheap, cant complaint too much. Th...</td>\n      <td>Stayed here for 1 night, the room is small wit...</td>\n      <td>Good place to short stay located next Historic...</td>\n    </tr>\n    <tr>\n      <th>1</th>\n      <td>ChIJZbWX6Aia0S0R0tM3h1RZ1h8</td>\n      <td>Warung Bik Juk</td>\n      <td>-8.106189</td>\n      <td>115.089961</td>\n      <td>Kampung Kajanan, Buleleng, Buleleng Regency, B...</td>\n      <td>https://maps.google.com/?cid=2294119279772554194</td>\n      <td>OPERATIONAL</td>\n      <td>+62 819-1566-2913</td>\n      <td>indonesian_restaurant</td>\n      <td>indonesian_restaurant, restaurant, food</td>\n      <td>4.5</td>\n      <td>648.0</td>\n      <td>PRICE_LEVEL_MODERATE</td>\n      <td>Surprisingly, a really good warung that’s hidd...</td>\n      <td>So in love with the food, very simple but tast...</td>\n      <td>A hidden treasure in the heart of Singaraja Ci...</td>\n      <td>Nice warung on the side street. They were out ...</td>\n      <td>Nostalgic place at singaraja.. good and friend...</td>\n    </tr>\n    <tr>\n      <th>2</th>\n      <td>ChIJYyHbhgia0S0RzdjNXLmcf54</td>\n      <td>Harbour Tourist Area of Buleleng</td>\n      <td>-8.103931</td>\n      <td>115.090031</td>\n      <td>Jl. Pelabuhan Buleleng, Kp. Bugis, Kec. Bulele...</td>\n      <td>https://maps.google.com/?cid=11421019499974744269</td>\n      <td>OPERATIONAL</td>\n      <td>+62 362 21342</td>\n      <td>tourist_attraction</td>\n      <td>tourist_attraction, restaurant, food</td>\n      <td>4.3</td>\n      <td>2800.0</td>\n      <td>PRICE_LEVEL_UNKNOWN</td>\n      <td>Only had a fleeting visit here, came by coach,...</td>\n      <td>The Harbour Tourist Area in Buleleng offers a ...</td>\n      <td>Its ine of nice place you must visit when you ...</td>\n      <td>A historical place for the Balinese people, es...</td>\n      <td>It's a good place to relax with you friends an...</td>\n    </tr>\n    <tr>\n      <th>3</th>\n      <td>ChIJ6zf9LJCb0S0RFv3BdLl61ZY</td>\n      <td>Abuela Coffee</td>\n      <td>-8.104751</td>\n      <td>115.087919</td>\n      <td>Jl. Erlangga No.1, Kp. Bugis, Kec. Buleleng, K...</td>\n      <td>https://maps.google.com/?cid=10868728212674968854</td>\n      <td>OPERATIONAL</td>\n      <td>+62 858-5878-5361</td>\n      <td>coffee_shop</td>\n      <td>coffee_shop, cafe, food, store</td>\n      <td>4.9</td>\n      <td>164.0</td>\n      <td>PRICE_LEVEL_UNKNOWN</td>\n      <td>One word, underrated! How come place like this...</td>\n      <td>Coffee shop with good food and coffee. Very ni...</td>\n      <td>Small cafe, the coffee is good, the dimsum is ...</td>\n      <td>Love this place 🫶\\nGreat coffee ☕️\\nLumpia is ...</td>\n      <td>Best coffee in Singaraja. Cappuccino was 20k a...</td>\n    </tr>\n    <tr>\n      <th>4</th>\n      <td>ChIJxaITmQia0S0RyrbukE8vsJU</td>\n      <td>Klenteng Ling Gwan Kiong</td>\n      <td>-8.103899</td>\n      <td>115.089833</td>\n      <td>Jl. Erlangga No.65, Kp. Bugis, Kec. Buleleng, ...</td>\n      <td>https://maps.google.com/?cid=10786173126332823242</td>\n      <td>OPERATIONAL</td>\n      <td>NaN</td>\n      <td>place_of_worship</td>\n      <td>tourist_attraction, place_of_worship</td>\n      <td>4.6</td>\n      <td>142.0</td>\n      <td>PRICE_LEVEL_UNKNOWN</td>\n      <td>This temple is located in Singaraja, located i...</td>\n      <td>Taoist temple with beautiful old-chinese archi...</td>\n      <td>Ling Gwan Kiong is an old Chinese temple popul...</td>\n      <td>The Tri Dharma Temple, very unique, historic a...</td>\n      <td>Quiet, clean and peaceful. Visited this place ...</td>\n    </tr>\n    <tr>\n      <th>...</th>\n      <td>...</td>\n      <td>...</td>\n      <td>...</td>\n      <td>...</td>\n      <td>...</td>\n      <td>...</td>\n      <td>...</td>\n      <td>...</td>\n      <td>...</td>\n      <td>...</td>\n      <td>...</td>\n      <td>...</td>\n      <td>...</td>\n      <td>...</td>\n      <td>...</td>\n      <td>...</td>\n      <td>...</td>\n      <td>...</td>\n    </tr>\n    <tr>\n      <th>6174</th>\n      <td>ChIJf6d0f5Nb0i0Rq_tEZeZB_Nc</td>\n      <td>Melasti Beach Ungasan</td>\n      <td>-8.847742</td>\n      <td>115.160670</td>\n      <td>Indonesia, Bali, Badung Regency, South Kuta, U...</td>\n      <td>https://maps.google.com/?cid=15563386870082894763</td>\n      <td>OPERATIONAL</td>\n      <td>NaN</td>\n      <td>tourist_attraction</td>\n      <td>tourist_attraction</td>\n      <td>4.8</td>\n      <td>19752.0</td>\n      <td>PRICE_LEVEL_UNKNOWN</td>\n      <td>the location is not far and not too crowded. t...</td>\n      <td>Nicely made beach with parking right in front ...</td>\n      <td>Melasti Beach Ungasan is a stunning beach in B...</td>\n      <td>The approach road to this beach is amazing spe...</td>\n      <td>🚶 I walked down to the beach, but it’s quite s...</td>\n    </tr>\n    <tr>\n      <th>6175</th>\n      <td>ChIJk41ld9Fb0i0RStb1NFpDAno</td>\n      <td>Tropical Temptation Beach Club by Ini Vie Hosp...</td>\n      <td>-8.848187</td>\n      <td>115.160380</td>\n      <td>Melasti Beach 88, Ungasan, Kec. Kuta Sel., Kab...</td>\n      <td>https://maps.google.com/?cid=8791663477295273546</td>\n      <td>OPERATIONAL</td>\n      <td>+62 812-3776-3903</td>\n      <td>restaurant</td>\n      <td>restaurant, bar, food</td>\n      <td>4.6</td>\n      <td>2990.0</td>\n      <td>PRICE_LEVEL_UNKNOWN</td>\n      <td>First off, the staff is incredible.  Like, rid...</td>\n      <td>We ended up paying 1.5mil for two here while s...</td>\n      <td>Had an awesome day at Tropical Temptation!  Th...</td>\n      <td>Beautiful area, can not fault how breath takin...</td>\n      <td>Tropical Temptation is a beach club gem! 💎 The...</td>\n    </tr>\n    <tr>\n      <th>6176</th>\n      <td>ChIJO30FJJdd0i0RCOyG8WcyJBk</td>\n      <td>Pantai Melasti</td>\n      <td>-8.848278</td>\n      <td>115.163173</td>\n      <td>554Q+PJ5, Jl. Pantai Melasti, Kutuh, Kec. Kuta...</td>\n      <td>https://maps.google.com/?cid=1811628372124953608</td>\n      <td>OPERATIONAL</td>\n      <td>NaN</td>\n      <td>tourist_attraction</td>\n      <td>tourist_attraction</td>\n      <td>4.7</td>\n      <td>75.0</td>\n      <td>PRICE_LEVEL_UNKNOWN</td>\n      <td>One of the cleanest beaches we visited in Uluw...</td>\n      <td>I went to Melasti Beach at the end of October,...</td>\n      <td>I went to Bali at the end of October and visit...</td>\n      <td>Beautiful place</td>\n      <td>it was really hot when we went here but its a ...</td>\n    </tr>\n    <tr>\n      <th>6177</th>\n      <td>ChIJvazdGXtb0i0RA-4XopPth7A</td>\n      <td>Mïnoo Beach Club</td>\n      <td>-8.848279</td>\n      <td>115.161177</td>\n      <td>Jl. Pengayutan. Pantai Melasti, Ungasan, Kec. ...</td>\n      <td>https://maps.google.com/?cid=12720396890866707971</td>\n      <td>OPERATIONAL</td>\n      <td>+62 811-3898-902</td>\n      <td>bar</td>\n      <td>bar, restaurant, food</td>\n      <td>4.5</td>\n      <td>725.0</td>\n      <td>PRICE_LEVEL_MODERATE</td>\n      <td>It was a great place to chill for the day. The...</td>\n      <td>Nice beach club, really love the foods and dri...</td>\n      <td>Good place, good food and good staff!\\n\\nNo en...</td>\n      <td>Good place to bring your family &amp; friends, kid...</td>\n      <td>I went to this beach a few days ago, the food ...</td>\n    </tr>\n    <tr>\n      <th>6178</th>\n      <td>ChIJqZTwKr5b0i0Rw1O4htYbMgg</td>\n      <td>Kecak Dance at Melasti Beach</td>\n      <td>-8.848176</td>\n      <td>115.162956</td>\n      <td>5527+P5G, Jl. Melasti, Ungasan, Kec. Kuta Sel....</td>\n      <td>https://maps.google.com/?cid=590565109336134595</td>\n      <td>OPERATIONAL</td>\n      <td>NaN</td>\n      <td>performing_arts_theater</td>\n      <td>performing_arts_theater, tourist_attraction, e...</td>\n      <td>4.8</td>\n      <td>617.0</td>\n      <td>PRICE_LEVEL_UNKNOWN</td>\n      <td>Witnessing the Kecak Dance at Melasti Beach wa...</td>\n      <td>One of the best experience to watch this dance...</td>\n      <td>Wow! Amazing experience! Recommend this one ov...</td>\n      <td>Really enjoyed the Kecak Dance here! A beautif...</td>\n      <td>Good performance, but there was only one guy w...</td>\n    </tr>\n  </tbody>\n</table>\n<p>6179 rows × 18 columns</p>\n</div>"
     },
     "execution_count": 6,
     "metadata": {},
     "output_type": "execute_result"
    }
   ],
   "execution_count": 6
  },
  {
   "metadata": {
    "ExecuteTime": {
     "end_time": "2024-06-17T21:37:55.821262300Z",
     "start_time": "2024-06-17T21:37:54.931050300Z"
    }
   },
   "cell_type": "code",
   "source": [
    "places_df.to_csv('final-dataset/main_dataset.csv', index=False)"
   ],
   "id": "48f944d04c112c44",
   "outputs": [],
   "execution_count": 7
  },
  {
   "metadata": {
    "ExecuteTime": {
     "end_time": "2024-06-17T21:37:55.860017300Z",
     "start_time": "2024-06-17T21:37:55.795420800Z"
    }
   },
   "cell_type": "code",
   "outputs": [],
   "execution_count": 7,
   "source": [],
   "id": "656a95fe5eb847d7"
  }
 ],
 "metadata": {
  "kernelspec": {
   "display_name": "Python 3",
   "language": "python",
   "name": "python3"
  },
  "language_info": {
   "codemirror_mode": {
    "name": "ipython",
    "version": 2
   },
   "file_extension": ".py",
   "mimetype": "text/x-python",
   "name": "python",
   "nbconvert_exporter": "python",
   "pygments_lexer": "ipython2",
   "version": "2.7.6"
  }
 },
 "nbformat": 4,
 "nbformat_minor": 5
}
