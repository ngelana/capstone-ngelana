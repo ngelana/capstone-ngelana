{
 "cells": [
  {
   "cell_type": "code",
   "id": "initial_id",
   "metadata": {
    "collapsed": true,
    "ExecuteTime": {
     "end_time": "2024-06-04T16:51:11.923825900Z",
     "start_time": "2024-06-04T16:51:11.912236200Z"
    }
   },
   "source": [
    "import math\n",
    "import csv\n",
    "import folium\n",
    "\n",
    "from geopy.distance import geodesic"
   ],
   "outputs": [],
   "execution_count": 11
  },
  {
   "metadata": {
    "ExecuteTime": {
     "end_time": "2024-06-04T16:51:11.968365600Z",
     "start_time": "2024-06-04T16:51:11.928157700Z"
    }
   },
   "cell_type": "code",
   "source": [
    "def get_hexagon_row_coord(start_coord, radius, count, coord_data):\n",
    "    if count== 0:\n",
    "        return coord_data\n",
    "    else:\n",
    "        next_coord = geodesic(meters=radius*2).destination(start_coord, 90)\n",
    "        row = [next_coord.latitude, next_coord.longitude]\n",
    "        coord_data.append(row)\n",
    "        return get_hexagon_row_coord(next_coord, radius, count-1, coord_data)"
   ],
   "id": "358f96a83572c938",
   "outputs": [],
   "execution_count": 12
  },
  {
   "metadata": {
    "ExecuteTime": {
     "end_time": "2024-06-04T16:51:11.988021700Z",
     "start_time": "2024-06-04T16:51:11.974979100Z"
    }
   },
   "cell_type": "code",
   "source": [
    "def row_mapper(start_coord, radius, row_count, height_count, coord_data):\n",
    "    height = radius * math.sqrt(3)\n",
    "    if height_count == 0:\n",
    "        return coord_data\n",
    "    elif height_count % 2 != 0:\n",
    "        next_coord = geodesic(meters=radius).destination(\n",
    "            geodesic(meters=height).destination(start_coord, 180), 90\n",
    "        )\n",
    "        coord_data = get_hexagon_row_coord(next_coord, radius, row_count, coord_data)\n",
    "    else:\n",
    "        next_coord = geodesic(meters=radius).destination(\n",
    "            geodesic(meters=height).destination(start_coord, 180), 270\n",
    "        )\n",
    "        coord_data = get_hexagon_row_coord(next_coord, radius, row_count, coord_data)\n",
    "    return row_mapper(next_coord, radius, row_count, height_count-1, coord_data)"
   ],
   "id": "91447288d1ee0d82",
   "outputs": [],
   "execution_count": 13
  },
  {
   "metadata": {
    "ExecuteTime": {
     "end_time": "2024-06-04T16:51:12.024154500Z",
     "start_time": "2024-06-04T16:51:11.991543Z"
    }
   },
   "cell_type": "code",
   "source": [
    "def data_to_csv(data):\n",
    "    file_path = 'coordinates/hexagonal-packing-v3.csv'\n",
    "    with open(file_path, mode='w', newline='', encoding='utf-8') as file:\n",
    "        writer = csv.writer(file)\n",
    "        writer.writerow(['lat', 'lon'])\n",
    "        writer.writerows(data)\n",
    "        print(f\"Coordinates saved to {file_path}\")"
   ],
   "id": "6d74bc1dae4639aa",
   "outputs": [],
   "execution_count": 14
  },
  {
   "metadata": {
    "ExecuteTime": {
     "end_time": "2024-06-04T16:51:13.315722200Z",
     "start_time": "2024-06-04T16:51:12.001563100Z"
    }
   },
   "cell_type": "code",
   "source": [
    "r = 500\n",
    "start_point = (-8.096568, 114.437477)\n",
    "row_count = 140\n",
    "height_count = 100\n",
    "coordinates = row_mapper(start_point, r, row_count, height_count, [])"
   ],
   "id": "4a3eef7f2fd8e0bd",
   "outputs": [],
   "execution_count": 15
  },
  {
   "metadata": {
    "ExecuteTime": {
     "end_time": "2024-06-04T16:51:13.322648400Z",
     "start_time": "2024-06-04T16:51:13.317610100Z"
    }
   },
   "cell_type": "code",
   "source": [
    "print(type(coordinates))"
   ],
   "id": "38ee9359562cc0d2",
   "outputs": [
    {
     "name": "stdout",
     "output_type": "stream",
     "text": [
      "<class 'list'>\n"
     ]
    }
   ],
   "execution_count": 16
  },
  {
   "metadata": {
    "ExecuteTime": {
     "end_time": "2024-06-04T16:51:13.397766800Z",
     "start_time": "2024-06-04T16:51:13.324649300Z"
    }
   },
   "cell_type": "code",
   "source": [
    "data_to_csv(coordinates)"
   ],
   "id": "f9bb547ce0e47ed7",
   "outputs": [
    {
     "name": "stdout",
     "output_type": "stream",
     "text": [
      "Coordinates saved to coordinates/hexagonal-packing-v3.csv\n"
     ]
    }
   ],
   "execution_count": 17
  },
  {
   "metadata": {
    "ExecuteTime": {
     "end_time": "2024-06-04T16:51:13.853976800Z",
     "start_time": "2024-06-04T16:51:13.464107100Z"
    }
   },
   "cell_type": "code",
   "source": [
    "world_map = folium.Map(location=start_point, zoom_start=15)\n",
    "\n",
    "for coord in coordinates:\n",
    "    folium.Marker(\n",
    "        location=coord,\n",
    "        icon=folium.Icon(color='blue', icon='info-sign')\n",
    "    ).add_to(world_map)"
   ],
   "id": "e884eb887a443914",
   "outputs": [],
   "execution_count": 18
  },
  {
   "metadata": {
    "ExecuteTime": {
     "end_time": "2024-06-04T16:51:22.954695300Z",
     "start_time": "2024-06-04T16:51:13.852977Z"
    }
   },
   "cell_type": "code",
   "source": [
    "world_map.save('test-map.html')"
   ],
   "id": "bd78ef66a795cc39",
   "outputs": [],
   "execution_count": 19
  },
  {
   "metadata": {
    "ExecuteTime": {
     "end_time": "2024-06-04T16:51:22.959809Z",
     "start_time": "2024-06-04T16:51:22.955694700Z"
    }
   },
   "cell_type": "code",
   "source": [],
   "id": "18e017d41d0f393",
   "outputs": [],
   "execution_count": 19
  }
 ],
 "metadata": {
  "kernelspec": {
   "display_name": "Python 3",
   "language": "python",
   "name": "python3"
  },
  "language_info": {
   "codemirror_mode": {
    "name": "ipython",
    "version": 2
   },
   "file_extension": ".py",
   "mimetype": "text/x-python",
   "name": "python",
   "nbconvert_exporter": "python",
   "pygments_lexer": "ipython2",
   "version": "2.7.6"
  }
 },
 "nbformat": 4,
 "nbformat_minor": 5
}
