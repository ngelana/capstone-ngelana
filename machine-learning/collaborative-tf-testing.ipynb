{
 "cells": [
  {
   "cell_type": "code",
   "execution_count": 1,
   "id": "initial_id",
   "metadata": {
    "collapsed": true,
    "ExecuteTime": {
     "end_time": "2024-06-15T13:20:34.494055900Z",
     "start_time": "2024-06-15T13:20:32.067225800Z"
    }
   },
   "outputs": [
    {
     "data": {
      "text/plain": "                            id                                    types  \\\n0  ChIJYcGr7GSb0S0RckePBrCWikw                           hotel, lodging   \n1  ChIJZbWX6Aia0S0R0tM3h1RZ1h8  indonesian_restaurant, restaurant, food   \n2  ChIJYyHbhgia0S0RzdjNXLmcf54     tourist_attraction, restaurant, food   \n3  ChIJ6zf9LJCb0S0RFv3BdLl61ZY           coffee_shop, cafe, food, store   \n4  ChIJxaITmQia0S0RyrbukE8vsJU     tourist_attraction, place_of_worship   \n\n  review_number                                             review  \\\n0      review 1  It has quite small room, and the hallway is qu...   \n1      review 1  Surprisingly, a really good warung that’s hidd...   \n2      review 1  Only had a fleeting visit here, came by coach,...   \n3      review 1  One word, underrated! How come place like this...   \n4      review 1  This temple is located in Singaraja, located i...   \n\n      user_id  sentiment  user_id_encoded  place_id_encoded  \n0  user_18425       3.02             3703              3660  \n1  user_46108       3.42            15699              3762  \n2  user_43063       2.97            14376              3678  \n3  user_18528       3.69             3748               829  \n4  user_19259       3.28             4073              6310  ",
      "text/html": "<div>\n<style scoped>\n    .dataframe tbody tr th:only-of-type {\n        vertical-align: middle;\n    }\n\n    .dataframe tbody tr th {\n        vertical-align: top;\n    }\n\n    .dataframe thead th {\n        text-align: right;\n    }\n</style>\n<table border=\"1\" class=\"dataframe\">\n  <thead>\n    <tr style=\"text-align: right;\">\n      <th></th>\n      <th>id</th>\n      <th>types</th>\n      <th>review_number</th>\n      <th>review</th>\n      <th>user_id</th>\n      <th>sentiment</th>\n      <th>user_id_encoded</th>\n      <th>place_id_encoded</th>\n    </tr>\n  </thead>\n  <tbody>\n    <tr>\n      <th>0</th>\n      <td>ChIJYcGr7GSb0S0RckePBrCWikw</td>\n      <td>hotel, lodging</td>\n      <td>review 1</td>\n      <td>It has quite small room, and the hallway is qu...</td>\n      <td>user_18425</td>\n      <td>3.02</td>\n      <td>3703</td>\n      <td>3660</td>\n    </tr>\n    <tr>\n      <th>1</th>\n      <td>ChIJZbWX6Aia0S0R0tM3h1RZ1h8</td>\n      <td>indonesian_restaurant, restaurant, food</td>\n      <td>review 1</td>\n      <td>Surprisingly, a really good warung that’s hidd...</td>\n      <td>user_46108</td>\n      <td>3.42</td>\n      <td>15699</td>\n      <td>3762</td>\n    </tr>\n    <tr>\n      <th>2</th>\n      <td>ChIJYyHbhgia0S0RzdjNXLmcf54</td>\n      <td>tourist_attraction, restaurant, food</td>\n      <td>review 1</td>\n      <td>Only had a fleeting visit here, came by coach,...</td>\n      <td>user_43063</td>\n      <td>2.97</td>\n      <td>14376</td>\n      <td>3678</td>\n    </tr>\n    <tr>\n      <th>3</th>\n      <td>ChIJ6zf9LJCb0S0RFv3BdLl61ZY</td>\n      <td>coffee_shop, cafe, food, store</td>\n      <td>review 1</td>\n      <td>One word, underrated! How come place like this...</td>\n      <td>user_18528</td>\n      <td>3.69</td>\n      <td>3748</td>\n      <td>829</td>\n    </tr>\n    <tr>\n      <th>4</th>\n      <td>ChIJxaITmQia0S0RyrbukE8vsJU</td>\n      <td>tourist_attraction, place_of_worship</td>\n      <td>review 1</td>\n      <td>This temple is located in Singaraja, located i...</td>\n      <td>user_19259</td>\n      <td>3.28</td>\n      <td>4073</td>\n      <td>6310</td>\n    </tr>\n  </tbody>\n</table>\n</div>"
     },
     "execution_count": 1,
     "metadata": {},
     "output_type": "execute_result"
    }
   ],
   "source": [
    "import pandas as pd\n",
    "from sklearn.preprocessing import LabelEncoder\n",
    "\n",
    "df = pd.read_csv('combined-dataset/final_reviews_data.csv')\n",
    "\n",
    "# Encode user_id and place_id\n",
    "user_encoder = LabelEncoder()\n",
    "place_encoder = LabelEncoder()\n",
    "\n",
    "df['user_id_encoded'] = user_encoder.fit_transform(df['user_id'])\n",
    "df['place_id_encoded'] = place_encoder.fit_transform(df['id'])\n",
    "\n",
    "# Display the DataFrame with encoded columns\n",
    "df.head()\n"
   ]
  },
  {
   "cell_type": "code",
   "outputs": [
    {
     "name": "stdout",
     "output_type": "stream",
     "text": [
      "WARNING:tensorflow:From C:\\Users\\anton\\PycharmProjects\\BangkitStuff\\capstone-ngelana\\.venv\\Lib\\site-packages\\keras\\src\\losses.py:2976: The name tf.losses.sparse_softmax_cross_entropy is deprecated. Please use tf.compat.v1.losses.sparse_softmax_cross_entropy instead.\n",
      "WARNING:tensorflow:From C:\\Users\\anton\\PycharmProjects\\BangkitStuff\\capstone-ngelana\\.venv\\Lib\\site-packages\\keras\\src\\backend.py:1398: The name tf.executing_eagerly_outside_functions is deprecated. Please use tf.compat.v1.executing_eagerly_outside_functions instead.\n",
      "WARNING:tensorflow:From C:\\Users\\anton\\PycharmProjects\\BangkitStuff\\capstone-ngelana\\.venv\\Lib\\site-packages\\keras\\src\\optimizers\\__init__.py:309: The name tf.train.Optimizer is deprecated. Please use tf.compat.v1.train.Optimizer instead.\n",
      "\n",
      "Model: \"model\"\n",
      "__________________________________________________________________________________________________\n",
      " Layer (type)                Output Shape                 Param #   Connected to                  \n",
      "==================================================================================================\n",
      " user_input (InputLayer)     [(None, 1)]                  0         []                            \n",
      "                                                                                                  \n",
      " place_input (InputLayer)    [(None, 1)]                  0         []                            \n",
      "                                                                                                  \n",
      " user_embedding (Embedding)  (None, 1, 16)                411072    ['user_input[0][0]']          \n",
      "                                                                                                  \n",
      " place_embedding (Embedding  (None, 1, 16)                104768    ['place_input[0][0]']         \n",
      " )                                                                                                \n",
      "                                                                                                  \n",
      " user_flatten (Flatten)      (None, 16)                   0         ['user_embedding[0][0]']      \n",
      "                                                                                                  \n",
      " place_flatten (Flatten)     (None, 16)                   0         ['place_embedding[0][0]']     \n",
      "                                                                                                  \n",
      " concatenate (Concatenate)   (None, 32)                   0         ['user_flatten[0][0]',        \n",
      "                                                                     'place_flatten[0][0]']       \n",
      "                                                                                                  \n",
      " dense (Dense)               (None, 128)                  4224      ['concatenate[0][0]']         \n",
      "                                                                                                  \n",
      " dense_1 (Dense)             (None, 1)                    129       ['dense[0][0]']               \n",
      "                                                                                                  \n",
      "==================================================================================================\n",
      "Total params: 520193 (1.98 MB)\n",
      "Trainable params: 520193 (1.98 MB)\n",
      "Non-trainable params: 0 (0.00 Byte)\n",
      "__________________________________________________________________________________________________\n"
     ]
    }
   ],
   "source": [
    "import tensorflow as tf\n",
    "from tensorflow.keras.layers import Embedding, Flatten, Dense, Input, Concatenate\n",
    "from tensorflow.keras.models import Model\n",
    "\n",
    "# Number of unique users and places\n",
    "num_users = df['user_id_encoded'].nunique()\n",
    "num_places = df['place_id_encoded'].nunique()\n",
    "\n",
    "# Define the embedding size\n",
    "embedding_size = 16\n",
    "\n",
    "# User input\n",
    "user_input = Input(shape=(1,), name='user_input')\n",
    "user_embedding = Embedding(num_users, embedding_size, name='user_embedding')(user_input)\n",
    "user_vec = Flatten(name='user_flatten')(user_embedding)\n",
    "\n",
    "# Place input\n",
    "place_input = Input(shape=(1,), name='place_input')\n",
    "place_embedding = Embedding(num_places, embedding_size, name='place_embedding')(place_input)\n",
    "place_vec = Flatten(name='place_flatten')(place_embedding)\n",
    "\n",
    "# Concatenate user and place vectors\n",
    "concat = Concatenate()([user_vec, place_vec])\n",
    "\n",
    "# Add dense layers\n",
    "dense = Dense(128, activation='relu')(concat)\n",
    "output = Dense(1, activation='linear')(dense)\n",
    "\n",
    "# Build the model\n",
    "model = Model(inputs=[user_input, place_input], outputs=output)\n",
    "\n",
    "# Compile the model\n",
    "model.compile(optimizer='adam', loss='mean_squared_error')\n",
    "\n",
    "# Display the model summary\n",
    "model.summary()\n"
   ],
   "metadata": {
    "collapsed": false,
    "ExecuteTime": {
     "end_time": "2024-06-15T13:20:42.682191100Z",
     "start_time": "2024-06-15T13:20:34.491738300Z"
    }
   },
   "id": "951b3257ba9734ec",
   "execution_count": 2
  },
  {
   "cell_type": "code",
   "outputs": [
    {
     "name": "stdout",
     "output_type": "stream",
     "text": [
      "Epoch 1/10\n",
      "WARNING:tensorflow:From C:\\Users\\anton\\PycharmProjects\\BangkitStuff\\capstone-ngelana\\.venv\\Lib\\site-packages\\keras\\src\\utils\\tf_utils.py:492: The name tf.ragged.RaggedTensorValue is deprecated. Please use tf.compat.v1.ragged.RaggedTensorValue instead.\n",
      "32745/32745 [==============================] - 164s 5ms/step - loss: 0.2678\n",
      "Epoch 2/10\n",
      "32745/32745 [==============================] - 115s 4ms/step - loss: 0.2012\n",
      "Epoch 3/10\n",
      "32745/32745 [==============================] - 120s 4ms/step - loss: 0.1448\n",
      "Epoch 4/10\n",
      "32745/32745 [==============================] - 126s 4ms/step - loss: 0.1123\n",
      "Epoch 5/10\n",
      "32745/32745 [==============================] - 124s 4ms/step - loss: 0.0899\n",
      "Epoch 6/10\n",
      "32745/32745 [==============================] - 117s 4ms/step - loss: 0.0726\n",
      "Epoch 7/10\n",
      "32745/32745 [==============================] - 110s 3ms/step - loss: 0.0576\n",
      "Epoch 8/10\n",
      "32745/32745 [==============================] - 174s 5ms/step - loss: 0.0474\n",
      "Epoch 9/10\n",
      "32745/32745 [==============================] - 104s 3ms/step - loss: 0.0392\n",
      "Epoch 10/10\n",
      "32745/32745 [==============================] - 107s 3ms/step - loss: 0.0331\n"
     ]
    }
   ],
   "source": [
    "# Train the model\n",
    "history = model.fit(\n",
    "    [df['user_id_encoded'], df['place_id_encoded']],\n",
    "    df['sentiment'],\n",
    "    epochs=10,\n",
    "    batch_size=1,\n",
    "    verbose=1\n",
    ")\n"
   ],
   "metadata": {
    "collapsed": false,
    "ExecuteTime": {
     "end_time": "2024-06-15T13:41:44.044254500Z",
     "start_time": "2024-06-15T13:20:42.676191800Z"
    }
   },
   "id": "3079a5151bbbe67",
   "execution_count": 3
  },
  {
   "cell_type": "code",
   "outputs": [
    {
     "name": "stdout",
     "output_type": "stream",
     "text": [
      "1024/1024 [==============================] - 1s 1ms/step - loss: 0.0288\n",
      "Model Loss: 0.028812170028686523\n"
     ]
    }
   ],
   "source": [
    "# Evaluate the model\n",
    "loss = model.evaluate([df['user_id_encoded'], df['place_id_encoded']], df['sentiment'])\n",
    "print(f\"Model Loss: {loss}\")\n"
   ],
   "metadata": {
    "collapsed": false,
    "ExecuteTime": {
     "end_time": "2024-06-15T13:41:45.483711900Z",
     "start_time": "2024-06-15T13:41:44.038238100Z"
    }
   },
   "id": "6f2918dcaf589f0c",
   "execution_count": 4
  },
  {
   "cell_type": "code",
   "outputs": [],
   "source": [
    "model.save('39_collab_model.keras')"
   ],
   "metadata": {
    "collapsed": false,
    "ExecuteTime": {
     "end_time": "2024-06-15T13:41:45.550441500Z",
     "start_time": "2024-06-15T13:41:45.483711900Z"
    }
   },
   "id": "55caab79d112c2d",
   "execution_count": 5
  },
  {
   "cell_type": "code",
   "outputs": [
    {
     "name": "stdout",
     "output_type": "stream",
     "text": [
      "205/205 [==============================] - 0s 1ms/step\n",
      "Recommended places for user user_18425: ['ChIJM_7mcTZz0i0RDxK41mExGTk' 'ChIJqZ2jWOMX0i0Rr6xvzG8HXjI'\n",
      " 'ChIJtyiHqSRD0i0RSJxxpT8u4FM' 'ChIJkUCRuTEm0i0R5EocJ4O1NdA'\n",
      " 'ChIJO2aDqyVH0i0R5ac30dOPAUc']\n"
     ]
    },
    {
     "data": {
      "text/plain": "                                id                                       name  \\\n9357   ChIJkUCRuTEm0i0R5EocJ4O1NdA                        TEGAL JERO Homestay   \n21003  ChIJqZ2jWOMX0i0Rr6xvzG8HXjI  Tomato Wood Fired Pizza And Pasta Gianyar   \n29383  ChIJM_7mcTZz0i0RDxK41mExGTk                              My Art Hostel   \n29461  ChIJO2aDqyVH0i0R5ac30dOPAUc                    KamarKoe Hotel Seminyak   \n31897  ChIJtyiHqSRD0i0RSJxxpT8u4FM       Amaris Hotel Pratama Nusa Dua - Bali   \n\n       latitude   longitude  \\\n9357  -8.383688  115.108480   \n21003 -8.541505  115.317586   \n29383 -8.676856  115.552880   \n29461 -8.686134  115.174480   \n31897 -8.796254  115.224730   \n\n                                                 address  \\\n9357   Jalan Penatahan - Wongaya Gede, J485+G9H, Pene...   \n21003  Jl. Kenarok No.6, Gianyar, Kec. Gianyar, Kabup...   \n29383  Unnamed Road, Kutampi Kaler, Nusa Penida, Klun...   \n29461  Jl. Dewi Saraswati III No.53-55, Seminyak, Kec...   \n31897  Jl. Pratama, Banjar Celuk, Benoa, Kec. Kuta Se...   \n\n                                                     url       status  \\\n9357   https://maps.google.com/?cid=15003097308556184292  OPERATIONAL   \n21003   https://maps.google.com/?cid=3629346526459833519  OPERATIONAL   \n29383   https://maps.google.com/?cid=4114374030863634959  OPERATIONAL   \n29461   https://maps.google.com/?cid=5116528791580551141  OPERATIONAL   \n31897   https://maps.google.com/?cid=6043881550824709192  OPERATIONAL   \n\n                   phone primary-type             types  rating  rating-count  \\\n9357   +62 852-3809-0000      lodging           lodging     4.5          88.0   \n21003  +62 821-4581-8567   restaurant  restaurant, food     4.3          97.0   \n29383  +62 813-3908-2551       hostel   hostel, lodging     4.3          92.0   \n29461    +62 361 4741953        hotel    hotel, lodging     4.5         155.0   \n31897    +62 361 8468333        hotel    hotel, lodging     4.1        1215.0   \n\n      price-level                                           review 1  \\\n9357          NaN  My first trip to bali.i flew from Australia an...   \n21003         NaN  Discovered through an Instagram ad, this resta...   \n29383         NaN  Amazing tasty breakfast! Nice big beds and in ...   \n29461         NaN  Good modest hotel. Spacious room. Good service...   \n31897         NaN  Stayed with family for a few nights, great pri...   \n\n                                                review 2  \\\n9357   🌿✨ Tranquil Retreat in Nature: TEGAL JERO Home...   \n21003  + the best pizza I've had in Bali\\n+ the best ...   \n29383  Amazing breakfast! The staff super nice and fr...   \n29461  Based on my experience, the hotel atmosphere w...   \n31897  For me the price is so unbeatable compared to ...   \n\n                                                review 3  \\\n9357   This is a good place to stay , i suggest you t...   \n21003  The pasta is very tasty, very cheap, the porti...   \n29383  My art hostel was a super nice place with a gr...   \n29461  The best room we have stayed so far. Super cle...   \n31897  A decent and cost effective solution in the Nu...   \n\n                                                review 4  \\\n9357   Adi is an amazing host with a simple but cute ...   \n21003  We went specifically to get the \"Pragiatha\" pi...   \n29383  Great hostel.\\nGood rooms with big beds, clean...   \n29461  I stayed in this hotel for one month or even m...   \n31897  Friendly staffs & thanks to Mba Oliep for taki...   \n\n                                                review 5  \n9357   We can definitely recommend this place! We had...  \n21003  It's decent if you're craving for a quick pizz...  \n29383  Comfy spacious rooms, cute small pool. The sta...  \n29461  Great staff always willing to help! Beds are r...  \n31897  Perfect for the price. Very kind and friendly ...  ",
      "text/html": "<div>\n<style scoped>\n    .dataframe tbody tr th:only-of-type {\n        vertical-align: middle;\n    }\n\n    .dataframe tbody tr th {\n        vertical-align: top;\n    }\n\n    .dataframe thead th {\n        text-align: right;\n    }\n</style>\n<table border=\"1\" class=\"dataframe\">\n  <thead>\n    <tr style=\"text-align: right;\">\n      <th></th>\n      <th>id</th>\n      <th>name</th>\n      <th>latitude</th>\n      <th>longitude</th>\n      <th>address</th>\n      <th>url</th>\n      <th>status</th>\n      <th>phone</th>\n      <th>primary-type</th>\n      <th>types</th>\n      <th>rating</th>\n      <th>rating-count</th>\n      <th>price-level</th>\n      <th>review 1</th>\n      <th>review 2</th>\n      <th>review 3</th>\n      <th>review 4</th>\n      <th>review 5</th>\n    </tr>\n  </thead>\n  <tbody>\n    <tr>\n      <th>9357</th>\n      <td>ChIJkUCRuTEm0i0R5EocJ4O1NdA</td>\n      <td>TEGAL JERO Homestay</td>\n      <td>-8.383688</td>\n      <td>115.108480</td>\n      <td>Jalan Penatahan - Wongaya Gede, J485+G9H, Pene...</td>\n      <td>https://maps.google.com/?cid=15003097308556184292</td>\n      <td>OPERATIONAL</td>\n      <td>+62 852-3809-0000</td>\n      <td>lodging</td>\n      <td>lodging</td>\n      <td>4.5</td>\n      <td>88.0</td>\n      <td>NaN</td>\n      <td>My first trip to bali.i flew from Australia an...</td>\n      <td>🌿✨ Tranquil Retreat in Nature: TEGAL JERO Home...</td>\n      <td>This is a good place to stay , i suggest you t...</td>\n      <td>Adi is an amazing host with a simple but cute ...</td>\n      <td>We can definitely recommend this place! We had...</td>\n    </tr>\n    <tr>\n      <th>21003</th>\n      <td>ChIJqZ2jWOMX0i0Rr6xvzG8HXjI</td>\n      <td>Tomato Wood Fired Pizza And Pasta Gianyar</td>\n      <td>-8.541505</td>\n      <td>115.317586</td>\n      <td>Jl. Kenarok No.6, Gianyar, Kec. Gianyar, Kabup...</td>\n      <td>https://maps.google.com/?cid=3629346526459833519</td>\n      <td>OPERATIONAL</td>\n      <td>+62 821-4581-8567</td>\n      <td>restaurant</td>\n      <td>restaurant, food</td>\n      <td>4.3</td>\n      <td>97.0</td>\n      <td>NaN</td>\n      <td>Discovered through an Instagram ad, this resta...</td>\n      <td>+ the best pizza I've had in Bali\\n+ the best ...</td>\n      <td>The pasta is very tasty, very cheap, the porti...</td>\n      <td>We went specifically to get the \"Pragiatha\" pi...</td>\n      <td>It's decent if you're craving for a quick pizz...</td>\n    </tr>\n    <tr>\n      <th>29383</th>\n      <td>ChIJM_7mcTZz0i0RDxK41mExGTk</td>\n      <td>My Art Hostel</td>\n      <td>-8.676856</td>\n      <td>115.552880</td>\n      <td>Unnamed Road, Kutampi Kaler, Nusa Penida, Klun...</td>\n      <td>https://maps.google.com/?cid=4114374030863634959</td>\n      <td>OPERATIONAL</td>\n      <td>+62 813-3908-2551</td>\n      <td>hostel</td>\n      <td>hostel, lodging</td>\n      <td>4.3</td>\n      <td>92.0</td>\n      <td>NaN</td>\n      <td>Amazing tasty breakfast! Nice big beds and in ...</td>\n      <td>Amazing breakfast! The staff super nice and fr...</td>\n      <td>My art hostel was a super nice place with a gr...</td>\n      <td>Great hostel.\\nGood rooms with big beds, clean...</td>\n      <td>Comfy spacious rooms, cute small pool. The sta...</td>\n    </tr>\n    <tr>\n      <th>29461</th>\n      <td>ChIJO2aDqyVH0i0R5ac30dOPAUc</td>\n      <td>KamarKoe Hotel Seminyak</td>\n      <td>-8.686134</td>\n      <td>115.174480</td>\n      <td>Jl. Dewi Saraswati III No.53-55, Seminyak, Kec...</td>\n      <td>https://maps.google.com/?cid=5116528791580551141</td>\n      <td>OPERATIONAL</td>\n      <td>+62 361 4741953</td>\n      <td>hotel</td>\n      <td>hotel, lodging</td>\n      <td>4.5</td>\n      <td>155.0</td>\n      <td>NaN</td>\n      <td>Good modest hotel. Spacious room. Good service...</td>\n      <td>Based on my experience, the hotel atmosphere w...</td>\n      <td>The best room we have stayed so far. Super cle...</td>\n      <td>I stayed in this hotel for one month or even m...</td>\n      <td>Great staff always willing to help! Beds are r...</td>\n    </tr>\n    <tr>\n      <th>31897</th>\n      <td>ChIJtyiHqSRD0i0RSJxxpT8u4FM</td>\n      <td>Amaris Hotel Pratama Nusa Dua - Bali</td>\n      <td>-8.796254</td>\n      <td>115.224730</td>\n      <td>Jl. Pratama, Banjar Celuk, Benoa, Kec. Kuta Se...</td>\n      <td>https://maps.google.com/?cid=6043881550824709192</td>\n      <td>OPERATIONAL</td>\n      <td>+62 361 8468333</td>\n      <td>hotel</td>\n      <td>hotel, lodging</td>\n      <td>4.1</td>\n      <td>1215.0</td>\n      <td>NaN</td>\n      <td>Stayed with family for a few nights, great pri...</td>\n      <td>For me the price is so unbeatable compared to ...</td>\n      <td>A decent and cost effective solution in the Nu...</td>\n      <td>Friendly staffs &amp; thanks to Mba Oliep for taki...</td>\n      <td>Perfect for the price. Very kind and friendly ...</td>\n    </tr>\n  </tbody>\n</table>\n</div>"
     },
     "execution_count": 6,
     "metadata": {},
     "output_type": "execute_result"
    }
   ],
   "source": [
    "import numpy as np\n",
    "\n",
    "# Function to recommend places for a given user\n",
    "def recommend_places(user_id, model, df, user_encoder, place_encoder, top_n=5):\n",
    "    user_idx = user_encoder.transform([user_id])[0]\n",
    "    all_place_ids = df['place_id_encoded'].unique()\n",
    "    user_array = np.array([user_idx] * len(all_place_ids))\n",
    "    \n",
    "    predictions = model.predict([user_array, all_place_ids])\n",
    "    \n",
    "    place_indices = predictions.flatten().argsort()[-top_n:][::-1]\n",
    "    recommended_places = place_encoder.inverse_transform(place_indices)\n",
    "    \n",
    "    return recommended_places\n",
    "\n",
    "# Get recommendations for a specific user\n",
    "user_id = \"user_18425\"\n",
    "recommended_places = recommend_places(user_id, model, df, user_encoder, place_encoder)\n",
    "print(f\"Recommended places for user {user_id}: {recommended_places}\")\n",
    "\n",
    "places = pd.read_csv('combined-dataset/combined_datasetV2.csv')\n",
    "places = places[places['id'].isin(recommended_places)]  # Filter places\n",
    "places\n"
   ],
   "metadata": {
    "collapsed": false,
    "ExecuteTime": {
     "end_time": "2024-06-15T13:41:46.601183800Z",
     "start_time": "2024-06-15T13:41:45.553446600Z"
    }
   },
   "id": "ea9ea53e16b8406b",
   "execution_count": 6
  },
  {
   "cell_type": "code",
   "outputs": [],
   "source": [],
   "metadata": {
    "collapsed": false,
    "ExecuteTime": {
     "end_time": "2024-06-15T13:41:46.604656300Z",
     "start_time": "2024-06-15T13:41:46.601183800Z"
    }
   },
   "id": "64d8dd46b12b5778",
   "execution_count": 6
  }
 ],
 "metadata": {
  "kernelspec": {
   "display_name": "Python 3",
   "language": "python",
   "name": "python3"
  },
  "language_info": {
   "codemirror_mode": {
    "name": "ipython",
    "version": 2
   },
   "file_extension": ".py",
   "mimetype": "text/x-python",
   "name": "python",
   "nbconvert_exporter": "python",
   "pygments_lexer": "ipython2",
   "version": "2.7.6"
  }
 },
 "nbformat": 4,
 "nbformat_minor": 5
}
