{
 "cells": [
  {
   "cell_type": "code",
   "execution_count": 1,
   "id": "initial_id",
   "metadata": {
    "collapsed": true,
    "ExecuteTime": {
     "end_time": "2024-06-13T05:20:14.985970900Z",
     "start_time": "2024-06-13T05:20:13.756737Z"
    }
   },
   "outputs": [
    {
     "data": {
      "text/plain": "                            id                                    types  \\\n0  ChIJYcGr7GSb0S0RckePBrCWikw                           hotel, lodging   \n1  ChIJZbWX6Aia0S0R0tM3h1RZ1h8  indonesian_restaurant, restaurant, food   \n2  ChIJYyHbhgia0S0RzdjNXLmcf54     tourist_attraction, restaurant, food   \n3  ChIJ6zf9LJCb0S0RFv3BdLl61ZY           coffee_shop, cafe, food, store   \n4  ChIJxaITmQia0S0RyrbukE8vsJU     tourist_attraction, place_of_worship   \n\n  review_number                                             review  \\\n0      review 1  It has quite small room, and the hallway is qu...   \n1      review 1  Surprisingly, a really good warung that’s hidd...   \n2      review 1  Only had a fleeting visit here, came by coach,...   \n3      review 1  One word, underrated! How come place like this...   \n4      review 1  This temple is located in Singaraja, located i...   \n\n      user_id  sentiment  user_id_encoded  place_id_encoded  \n0  user_18425       3.02             3703              3660  \n1  user_46108       3.42            15699              3762  \n2  user_43063       2.97            14376              3678  \n3  user_18528       3.69             3748               829  \n4  user_19259       3.28             4073              6310  ",
      "text/html": "<div>\n<style scoped>\n    .dataframe tbody tr th:only-of-type {\n        vertical-align: middle;\n    }\n\n    .dataframe tbody tr th {\n        vertical-align: top;\n    }\n\n    .dataframe thead th {\n        text-align: right;\n    }\n</style>\n<table border=\"1\" class=\"dataframe\">\n  <thead>\n    <tr style=\"text-align: right;\">\n      <th></th>\n      <th>id</th>\n      <th>types</th>\n      <th>review_number</th>\n      <th>review</th>\n      <th>user_id</th>\n      <th>sentiment</th>\n      <th>user_id_encoded</th>\n      <th>place_id_encoded</th>\n    </tr>\n  </thead>\n  <tbody>\n    <tr>\n      <th>0</th>\n      <td>ChIJYcGr7GSb0S0RckePBrCWikw</td>\n      <td>hotel, lodging</td>\n      <td>review 1</td>\n      <td>It has quite small room, and the hallway is qu...</td>\n      <td>user_18425</td>\n      <td>3.02</td>\n      <td>3703</td>\n      <td>3660</td>\n    </tr>\n    <tr>\n      <th>1</th>\n      <td>ChIJZbWX6Aia0S0R0tM3h1RZ1h8</td>\n      <td>indonesian_restaurant, restaurant, food</td>\n      <td>review 1</td>\n      <td>Surprisingly, a really good warung that’s hidd...</td>\n      <td>user_46108</td>\n      <td>3.42</td>\n      <td>15699</td>\n      <td>3762</td>\n    </tr>\n    <tr>\n      <th>2</th>\n      <td>ChIJYyHbhgia0S0RzdjNXLmcf54</td>\n      <td>tourist_attraction, restaurant, food</td>\n      <td>review 1</td>\n      <td>Only had a fleeting visit here, came by coach,...</td>\n      <td>user_43063</td>\n      <td>2.97</td>\n      <td>14376</td>\n      <td>3678</td>\n    </tr>\n    <tr>\n      <th>3</th>\n      <td>ChIJ6zf9LJCb0S0RFv3BdLl61ZY</td>\n      <td>coffee_shop, cafe, food, store</td>\n      <td>review 1</td>\n      <td>One word, underrated! How come place like this...</td>\n      <td>user_18528</td>\n      <td>3.69</td>\n      <td>3748</td>\n      <td>829</td>\n    </tr>\n    <tr>\n      <th>4</th>\n      <td>ChIJxaITmQia0S0RyrbukE8vsJU</td>\n      <td>tourist_attraction, place_of_worship</td>\n      <td>review 1</td>\n      <td>This temple is located in Singaraja, located i...</td>\n      <td>user_19259</td>\n      <td>3.28</td>\n      <td>4073</td>\n      <td>6310</td>\n    </tr>\n  </tbody>\n</table>\n</div>"
     },
     "execution_count": 1,
     "metadata": {},
     "output_type": "execute_result"
    }
   ],
   "source": [
    "import pandas as pd\n",
    "from sklearn.preprocessing import LabelEncoder\n",
    "\n",
    "df = pd.read_csv('combined-dataset/final_reviews_data.csv')\n",
    "\n",
    "# Encode user_id and place_id\n",
    "user_encoder = LabelEncoder()\n",
    "place_encoder = LabelEncoder()\n",
    "\n",
    "df['user_id_encoded'] = user_encoder.fit_transform(df['user_id'])\n",
    "df['place_id_encoded'] = place_encoder.fit_transform(df['id'])\n",
    "\n",
    "# Display the DataFrame with encoded columns\n",
    "df.head()\n"
   ]
  },
  {
   "cell_type": "code",
   "outputs": [
    {
     "data": {
      "text/plain": "\u001B[1mModel: \"functional_1\"\u001B[0m\n",
      "text/html": "<pre style=\"white-space:pre;overflow-x:auto;line-height:normal;font-family:Menlo,'DejaVu Sans Mono',consolas,'Courier New',monospace\"><span style=\"font-weight: bold\">Model: \"functional_1\"</span>\n</pre>\n"
     },
     "metadata": {},
     "output_type": "display_data"
    },
    {
     "data": {
      "text/plain": "┏━━━━━━━━━━━━━━━━━━━━━┳━━━━━━━━━━━━━━━━━━━┳━━━━━━━━━━━━┳━━━━━━━━━━━━━━━━━━━┓\n┃\u001B[1m \u001B[0m\u001B[1mLayer (type)       \u001B[0m\u001B[1m \u001B[0m┃\u001B[1m \u001B[0m\u001B[1mOutput Shape     \u001B[0m\u001B[1m \u001B[0m┃\u001B[1m \u001B[0m\u001B[1m   Param #\u001B[0m\u001B[1m \u001B[0m┃\u001B[1m \u001B[0m\u001B[1mConnected to     \u001B[0m\u001B[1m \u001B[0m┃\n┡━━━━━━━━━━━━━━━━━━━━━╇━━━━━━━━━━━━━━━━━━━╇━━━━━━━━━━━━╇━━━━━━━━━━━━━━━━━━━┩\n│ user_input          │ (\u001B[38;5;45mNone\u001B[0m, \u001B[38;5;34m1\u001B[0m)         │          \u001B[38;5;34m0\u001B[0m │ -                 │\n│ (\u001B[38;5;33mInputLayer\u001B[0m)        │                   │            │                   │\n├─────────────────────┼───────────────────┼────────────┼───────────────────┤\n│ place_input         │ (\u001B[38;5;45mNone\u001B[0m, \u001B[38;5;34m1\u001B[0m)         │          \u001B[38;5;34m0\u001B[0m │ -                 │\n│ (\u001B[38;5;33mInputLayer\u001B[0m)        │                   │            │                   │\n├─────────────────────┼───────────────────┼────────────┼───────────────────┤\n│ user_embedding      │ (\u001B[38;5;45mNone\u001B[0m, \u001B[38;5;34m1\u001B[0m, \u001B[38;5;34m16\u001B[0m)     │    \u001B[38;5;34m411,072\u001B[0m │ user_input[\u001B[38;5;34m0\u001B[0m][\u001B[38;5;34m0\u001B[0m]  │\n│ (\u001B[38;5;33mEmbedding\u001B[0m)         │                   │            │                   │\n├─────────────────────┼───────────────────┼────────────┼───────────────────┤\n│ place_embedding     │ (\u001B[38;5;45mNone\u001B[0m, \u001B[38;5;34m1\u001B[0m, \u001B[38;5;34m16\u001B[0m)     │    \u001B[38;5;34m104,768\u001B[0m │ place_input[\u001B[38;5;34m0\u001B[0m][\u001B[38;5;34m0\u001B[0m] │\n│ (\u001B[38;5;33mEmbedding\u001B[0m)         │                   │            │                   │\n├─────────────────────┼───────────────────┼────────────┼───────────────────┤\n│ user_flatten        │ (\u001B[38;5;45mNone\u001B[0m, \u001B[38;5;34m16\u001B[0m)        │          \u001B[38;5;34m0\u001B[0m │ user_embedding[\u001B[38;5;34m0\u001B[0m… │\n│ (\u001B[38;5;33mFlatten\u001B[0m)           │                   │            │                   │\n├─────────────────────┼───────────────────┼────────────┼───────────────────┤\n│ place_flatten       │ (\u001B[38;5;45mNone\u001B[0m, \u001B[38;5;34m16\u001B[0m)        │          \u001B[38;5;34m0\u001B[0m │ place_embedding[\u001B[38;5;34m…\u001B[0m │\n│ (\u001B[38;5;33mFlatten\u001B[0m)           │                   │            │                   │\n├─────────────────────┼───────────────────┼────────────┼───────────────────┤\n│ concatenate         │ (\u001B[38;5;45mNone\u001B[0m, \u001B[38;5;34m32\u001B[0m)        │          \u001B[38;5;34m0\u001B[0m │ user_flatten[\u001B[38;5;34m0\u001B[0m][\u001B[38;5;34m…\u001B[0m │\n│ (\u001B[38;5;33mConcatenate\u001B[0m)       │                   │            │ place_flatten[\u001B[38;5;34m0\u001B[0m]… │\n├─────────────────────┼───────────────────┼────────────┼───────────────────┤\n│ dense (\u001B[38;5;33mDense\u001B[0m)       │ (\u001B[38;5;45mNone\u001B[0m, \u001B[38;5;34m128\u001B[0m)       │      \u001B[38;5;34m4,224\u001B[0m │ concatenate[\u001B[38;5;34m0\u001B[0m][\u001B[38;5;34m0\u001B[0m] │\n├─────────────────────┼───────────────────┼────────────┼───────────────────┤\n│ dense_1 (\u001B[38;5;33mDense\u001B[0m)     │ (\u001B[38;5;45mNone\u001B[0m, \u001B[38;5;34m1\u001B[0m)         │        \u001B[38;5;34m129\u001B[0m │ dense[\u001B[38;5;34m0\u001B[0m][\u001B[38;5;34m0\u001B[0m]       │\n└─────────────────────┴───────────────────┴────────────┴───────────────────┘\n",
      "text/html": "<pre style=\"white-space:pre;overflow-x:auto;line-height:normal;font-family:Menlo,'DejaVu Sans Mono',consolas,'Courier New',monospace\">┏━━━━━━━━━━━━━━━━━━━━━┳━━━━━━━━━━━━━━━━━━━┳━━━━━━━━━━━━┳━━━━━━━━━━━━━━━━━━━┓\n┃<span style=\"font-weight: bold\"> Layer (type)        </span>┃<span style=\"font-weight: bold\"> Output Shape      </span>┃<span style=\"font-weight: bold\">    Param # </span>┃<span style=\"font-weight: bold\"> Connected to      </span>┃\n┡━━━━━━━━━━━━━━━━━━━━━╇━━━━━━━━━━━━━━━━━━━╇━━━━━━━━━━━━╇━━━━━━━━━━━━━━━━━━━┩\n│ user_input          │ (<span style=\"color: #00d7ff; text-decoration-color: #00d7ff\">None</span>, <span style=\"color: #00af00; text-decoration-color: #00af00\">1</span>)         │          <span style=\"color: #00af00; text-decoration-color: #00af00\">0</span> │ -                 │\n│ (<span style=\"color: #0087ff; text-decoration-color: #0087ff\">InputLayer</span>)        │                   │            │                   │\n├─────────────────────┼───────────────────┼────────────┼───────────────────┤\n│ place_input         │ (<span style=\"color: #00d7ff; text-decoration-color: #00d7ff\">None</span>, <span style=\"color: #00af00; text-decoration-color: #00af00\">1</span>)         │          <span style=\"color: #00af00; text-decoration-color: #00af00\">0</span> │ -                 │\n│ (<span style=\"color: #0087ff; text-decoration-color: #0087ff\">InputLayer</span>)        │                   │            │                   │\n├─────────────────────┼───────────────────┼────────────┼───────────────────┤\n│ user_embedding      │ (<span style=\"color: #00d7ff; text-decoration-color: #00d7ff\">None</span>, <span style=\"color: #00af00; text-decoration-color: #00af00\">1</span>, <span style=\"color: #00af00; text-decoration-color: #00af00\">16</span>)     │    <span style=\"color: #00af00; text-decoration-color: #00af00\">411,072</span> │ user_input[<span style=\"color: #00af00; text-decoration-color: #00af00\">0</span>][<span style=\"color: #00af00; text-decoration-color: #00af00\">0</span>]  │\n│ (<span style=\"color: #0087ff; text-decoration-color: #0087ff\">Embedding</span>)         │                   │            │                   │\n├─────────────────────┼───────────────────┼────────────┼───────────────────┤\n│ place_embedding     │ (<span style=\"color: #00d7ff; text-decoration-color: #00d7ff\">None</span>, <span style=\"color: #00af00; text-decoration-color: #00af00\">1</span>, <span style=\"color: #00af00; text-decoration-color: #00af00\">16</span>)     │    <span style=\"color: #00af00; text-decoration-color: #00af00\">104,768</span> │ place_input[<span style=\"color: #00af00; text-decoration-color: #00af00\">0</span>][<span style=\"color: #00af00; text-decoration-color: #00af00\">0</span>] │\n│ (<span style=\"color: #0087ff; text-decoration-color: #0087ff\">Embedding</span>)         │                   │            │                   │\n├─────────────────────┼───────────────────┼────────────┼───────────────────┤\n│ user_flatten        │ (<span style=\"color: #00d7ff; text-decoration-color: #00d7ff\">None</span>, <span style=\"color: #00af00; text-decoration-color: #00af00\">16</span>)        │          <span style=\"color: #00af00; text-decoration-color: #00af00\">0</span> │ user_embedding[<span style=\"color: #00af00; text-decoration-color: #00af00\">0</span>… │\n│ (<span style=\"color: #0087ff; text-decoration-color: #0087ff\">Flatten</span>)           │                   │            │                   │\n├─────────────────────┼───────────────────┼────────────┼───────────────────┤\n│ place_flatten       │ (<span style=\"color: #00d7ff; text-decoration-color: #00d7ff\">None</span>, <span style=\"color: #00af00; text-decoration-color: #00af00\">16</span>)        │          <span style=\"color: #00af00; text-decoration-color: #00af00\">0</span> │ place_embedding[<span style=\"color: #00af00; text-decoration-color: #00af00\">…</span> │\n│ (<span style=\"color: #0087ff; text-decoration-color: #0087ff\">Flatten</span>)           │                   │            │                   │\n├─────────────────────┼───────────────────┼────────────┼───────────────────┤\n│ concatenate         │ (<span style=\"color: #00d7ff; text-decoration-color: #00d7ff\">None</span>, <span style=\"color: #00af00; text-decoration-color: #00af00\">32</span>)        │          <span style=\"color: #00af00; text-decoration-color: #00af00\">0</span> │ user_flatten[<span style=\"color: #00af00; text-decoration-color: #00af00\">0</span>][<span style=\"color: #00af00; text-decoration-color: #00af00\">…</span> │\n│ (<span style=\"color: #0087ff; text-decoration-color: #0087ff\">Concatenate</span>)       │                   │            │ place_flatten[<span style=\"color: #00af00; text-decoration-color: #00af00\">0</span>]… │\n├─────────────────────┼───────────────────┼────────────┼───────────────────┤\n│ dense (<span style=\"color: #0087ff; text-decoration-color: #0087ff\">Dense</span>)       │ (<span style=\"color: #00d7ff; text-decoration-color: #00d7ff\">None</span>, <span style=\"color: #00af00; text-decoration-color: #00af00\">128</span>)       │      <span style=\"color: #00af00; text-decoration-color: #00af00\">4,224</span> │ concatenate[<span style=\"color: #00af00; text-decoration-color: #00af00\">0</span>][<span style=\"color: #00af00; text-decoration-color: #00af00\">0</span>] │\n├─────────────────────┼───────────────────┼────────────┼───────────────────┤\n│ dense_1 (<span style=\"color: #0087ff; text-decoration-color: #0087ff\">Dense</span>)     │ (<span style=\"color: #00d7ff; text-decoration-color: #00d7ff\">None</span>, <span style=\"color: #00af00; text-decoration-color: #00af00\">1</span>)         │        <span style=\"color: #00af00; text-decoration-color: #00af00\">129</span> │ dense[<span style=\"color: #00af00; text-decoration-color: #00af00\">0</span>][<span style=\"color: #00af00; text-decoration-color: #00af00\">0</span>]       │\n└─────────────────────┴───────────────────┴────────────┴───────────────────┘\n</pre>\n"
     },
     "metadata": {},
     "output_type": "display_data"
    },
    {
     "data": {
      "text/plain": "\u001B[1m Total params: \u001B[0m\u001B[38;5;34m520,193\u001B[0m (1.98 MB)\n",
      "text/html": "<pre style=\"white-space:pre;overflow-x:auto;line-height:normal;font-family:Menlo,'DejaVu Sans Mono',consolas,'Courier New',monospace\"><span style=\"font-weight: bold\"> Total params: </span><span style=\"color: #00af00; text-decoration-color: #00af00\">520,193</span> (1.98 MB)\n</pre>\n"
     },
     "metadata": {},
     "output_type": "display_data"
    },
    {
     "data": {
      "text/plain": "\u001B[1m Trainable params: \u001B[0m\u001B[38;5;34m520,193\u001B[0m (1.98 MB)\n",
      "text/html": "<pre style=\"white-space:pre;overflow-x:auto;line-height:normal;font-family:Menlo,'DejaVu Sans Mono',consolas,'Courier New',monospace\"><span style=\"font-weight: bold\"> Trainable params: </span><span style=\"color: #00af00; text-decoration-color: #00af00\">520,193</span> (1.98 MB)\n</pre>\n"
     },
     "metadata": {},
     "output_type": "display_data"
    },
    {
     "data": {
      "text/plain": "\u001B[1m Non-trainable params: \u001B[0m\u001B[38;5;34m0\u001B[0m (0.00 B)\n",
      "text/html": "<pre style=\"white-space:pre;overflow-x:auto;line-height:normal;font-family:Menlo,'DejaVu Sans Mono',consolas,'Courier New',monospace\"><span style=\"font-weight: bold\"> Non-trainable params: </span><span style=\"color: #00af00; text-decoration-color: #00af00\">0</span> (0.00 B)\n</pre>\n"
     },
     "metadata": {},
     "output_type": "display_data"
    }
   ],
   "source": [
    "import tensorflow as tf\n",
    "from tensorflow.keras.layers import Embedding, Flatten, Dense, Input, Concatenate\n",
    "from tensorflow.keras.models import Model\n",
    "\n",
    "# Number of unique users and places\n",
    "num_users = df['user_id_encoded'].nunique()\n",
    "num_places = df['place_id_encoded'].nunique()\n",
    "\n",
    "# Define the embedding size\n",
    "embedding_size = 16\n",
    "\n",
    "# User input\n",
    "user_input = Input(shape=(1,), name='user_input')\n",
    "user_embedding = Embedding(num_users, embedding_size, name='user_embedding')(user_input)\n",
    "user_vec = Flatten(name='user_flatten')(user_embedding)\n",
    "\n",
    "# Place input\n",
    "place_input = Input(shape=(1,), name='place_input')\n",
    "place_embedding = Embedding(num_places, embedding_size, name='place_embedding')(place_input)\n",
    "place_vec = Flatten(name='place_flatten')(place_embedding)\n",
    "\n",
    "# Concatenate user and place vectors\n",
    "concat = Concatenate()([user_vec, place_vec])\n",
    "\n",
    "# Add dense layers\n",
    "dense = Dense(128, activation='relu')(concat)\n",
    "output = Dense(1, activation='linear')(dense)\n",
    "\n",
    "# Build the model\n",
    "model = Model(inputs=[user_input, place_input], outputs=output)\n",
    "\n",
    "# Compile the model\n",
    "model.compile(optimizer='adam', loss='mean_squared_error')\n",
    "\n",
    "# Display the model summary\n",
    "model.summary()\n"
   ],
   "metadata": {
    "collapsed": false,
    "ExecuteTime": {
     "end_time": "2024-06-13T05:20:17.860232600Z",
     "start_time": "2024-06-13T05:20:14.988989500Z"
    }
   },
   "id": "951b3257ba9734ec",
   "execution_count": 2
  },
  {
   "cell_type": "code",
   "outputs": [
    {
     "name": "stdout",
     "output_type": "stream",
     "text": [
      "Epoch 1/10\n",
      "\u001B[1m32745/32745\u001B[0m \u001B[32m━━━━━━━━━━━━━━━━━━━━\u001B[0m\u001B[37m\u001B[0m \u001B[1m74s\u001B[0m 2ms/step - loss: 0.4839\n",
      "Epoch 2/10\n",
      "\u001B[1m32745/32745\u001B[0m \u001B[32m━━━━━━━━━━━━━━━━━━━━\u001B[0m\u001B[37m\u001B[0m \u001B[1m73s\u001B[0m 2ms/step - loss: 0.1944\n",
      "Epoch 3/10\n",
      "\u001B[1m32745/32745\u001B[0m \u001B[32m━━━━━━━━━━━━━━━━━━━━\u001B[0m\u001B[37m\u001B[0m \u001B[1m84s\u001B[0m 3ms/step - loss: 0.1319\n",
      "Epoch 4/10\n",
      "\u001B[1m32745/32745\u001B[0m \u001B[32m━━━━━━━━━━━━━━━━━━━━\u001B[0m\u001B[37m\u001B[0m \u001B[1m96s\u001B[0m 3ms/step - loss: 0.0975\n",
      "Epoch 5/10\n",
      "\u001B[1m32745/32745\u001B[0m \u001B[32m━━━━━━━━━━━━━━━━━━━━\u001B[0m\u001B[37m\u001B[0m \u001B[1m81s\u001B[0m 2ms/step - loss: 0.0784\n",
      "Epoch 6/10\n",
      "\u001B[1m32745/32745\u001B[0m \u001B[32m━━━━━━━━━━━━━━━━━━━━\u001B[0m\u001B[37m\u001B[0m \u001B[1m82s\u001B[0m 3ms/step - loss: 0.0633\n",
      "Epoch 7/10\n",
      "\u001B[1m32745/32745\u001B[0m \u001B[32m━━━━━━━━━━━━━━━━━━━━\u001B[0m\u001B[37m\u001B[0m \u001B[1m81s\u001B[0m 2ms/step - loss: 0.0515\n",
      "Epoch 8/10\n",
      "\u001B[1m32745/32745\u001B[0m \u001B[32m━━━━━━━━━━━━━━━━━━━━\u001B[0m\u001B[37m\u001B[0m \u001B[1m81s\u001B[0m 2ms/step - loss: 0.0424\n",
      "Epoch 9/10\n",
      "\u001B[1m32745/32745\u001B[0m \u001B[32m━━━━━━━━━━━━━━━━━━━━\u001B[0m\u001B[37m\u001B[0m \u001B[1m77s\u001B[0m 2ms/step - loss: 0.0357\n",
      "Epoch 10/10\n",
      "\u001B[1m32745/32745\u001B[0m \u001B[32m━━━━━━━━━━━━━━━━━━━━\u001B[0m\u001B[37m\u001B[0m \u001B[1m63s\u001B[0m 2ms/step - loss: 0.0306\n"
     ]
    }
   ],
   "source": [
    "# Train the model\n",
    "history = model.fit(\n",
    "    [df['user_id_encoded'], df['place_id_encoded']],\n",
    "    df['sentiment'],\n",
    "    epochs=10,\n",
    "    batch_size=1,\n",
    "    verbose=1\n",
    ")\n"
   ],
   "metadata": {
    "collapsed": false,
    "ExecuteTime": {
     "end_time": "2024-06-13T05:33:29.617465200Z",
     "start_time": "2024-06-13T05:20:17.858232100Z"
    }
   },
   "id": "3079a5151bbbe67",
   "execution_count": 3
  },
  {
   "cell_type": "code",
   "outputs": [
    {
     "name": "stdout",
     "output_type": "stream",
     "text": [
      "\u001B[1m1024/1024\u001B[0m \u001B[32m━━━━━━━━━━━━━━━━━━━━\u001B[0m\u001B[37m\u001B[0m \u001B[1m1s\u001B[0m 872us/step - loss: 0.0245\n",
      "Model Loss: 0.025122590363025665\n"
     ]
    }
   ],
   "source": [
    "# Evaluate the model\n",
    "loss = model.evaluate([df['user_id_encoded'], df['place_id_encoded']], df['sentiment'])\n",
    "print(f\"Model Loss: {loss}\")\n"
   ],
   "metadata": {
    "collapsed": false,
    "ExecuteTime": {
     "end_time": "2024-06-13T05:33:30.608222400Z",
     "start_time": "2024-06-13T05:33:29.528168900Z"
    }
   },
   "id": "6f2918dcaf589f0c",
   "execution_count": 4
  },
  {
   "cell_type": "code",
   "outputs": [
    {
     "name": "stdout",
     "output_type": "stream",
     "text": [
      "\u001B[1m205/205\u001B[0m \u001B[32m━━━━━━━━━━━━━━━━━━━━\u001B[0m\u001B[37m\u001B[0m \u001B[1m0s\u001B[0m 1ms/step\n",
      "Recommended places for user user_18425: ['ChIJUUIIkCVb0i0RjJ5iXpnEoaU' 'ChIJeWatXmhb0i0Rnn-13EHMqiY'\n",
      " 'ChIJp3K9sSM50i0RLucGqMDEhPU' 'ChIJcQiarIwY0i0Rxq7rnU0QE80'\n",
      " 'ChIJ22zYshtF0i0RENOIShDHnXo']\n"
     ]
    },
    {
     "data": {
      "text/plain": "                                id                   name  latitude  \\\n12345  ChIJcQiarIwY0i0Rxq7rnU0QE80          Warung Umadue -8.436345   \n27765  ChIJp3K9sSM50i0RLucGqMDEhPU       The Palms Canggu -8.646618   \n31329  ChIJ22zYshtF0i0RENOIShDHnXo  Horison Le Aman Hotel -8.762298   \n32763  ChIJUUIIkCVb0i0RjJ5iXpnEoaU       Adhiloka Uluwatu -8.827930   \n33306  ChIJeWatXmhb0i0Rnn-13EHMqiY        Ocho Bali Villa -8.837684   \n\n        longitude                                            address  \\\n12345  115.307274  Jl, Jl. Astinapura Sel., Banjar Kelodan, Kec. ...   \n27765  115.136390  Jl. Canggu Padang Linjong Gg. Agung Roy, Cangg...   \n31329  115.178592  Jl. Bypass Ngurah Rai No.50, Jimbaran, Kec. Ku...   \n32763  115.149406  Jl. Pura Masuka No.168, Ungasan, Kec. Kuta Sel...   \n33306  115.175184  Jl. Alas Arum No.37, Kutuh, Kec. Kuta Sel., Ka...   \n\n                                                     url              status  \\\n12345  https://maps.google.com/?cid=14777172727880724166  CLOSED_TEMPORARILY   \n27765  https://maps.google.com/?cid=17691481567949940526         OPERATIONAL   \n31329   https://maps.google.com/?cid=8835436916754666256         OPERATIONAL   \n32763  https://maps.google.com/?cid=11935036650501086860         OPERATIONAL   \n33306   https://maps.google.com/?cid=2786263902729895838         OPERATIONAL   \n\n                   phone           primary-type  \\\n12345  +62 813-5397-6161  indonesian_restaurant   \n27765  +62 813-3806-7559                  hotel   \n31329    +62 361 4466000                  hotel   \n32763                NaN                  hotel   \n33306  +62 878-6201-1196                    NaN   \n\n                                         types  rating  rating-count  \\\n12345  indonesian_restaurant, restaurant, food     4.4          63.0   \n27765                           hotel, lodging     4.6         115.0   \n31329                           hotel, lodging     4.5         195.0   \n32763                           hotel, lodging     4.8          82.0   \n33306             resort_hotel, hotel, lodging     4.4         194.0   \n\n                   price-level  \\\n12345  PRICE_LEVEL_INEXPENSIVE   \n27765                      NaN   \n31329                      NaN   \n32763                      NaN   \n33306                      NaN   \n\n                                                review 1  \\\n12345  Good quality local balibese food. So autentik....   \n27765  Clean and modern hotel, nice pool with seating...   \n31329  Excellent!\\nFamily trip to Bali and got afford...   \n32763  Thank you to everyone, especially the boys at ...   \n33306  This hotel was so beautiful and small. If you ...   \n\n                                                review 2  \\\n12345  a good clean restaurant with rice field view. ...   \n27765  Little hidden paradise, we walked through the ...   \n31329  My room was booked via an Airbnb, and it was t...   \n32763  Really good hotel for a really good price. I l...   \n33306  good day, this place is amazing it has its own...   \n\n                                                review 3  \\\n12345  A beautifully built warung with taro tanah wal...   \n27765  I have stayed at The Palms several times and I...   \n31329  I stayed for one night in twin deluxe bedroom....   \n32763  I had a wonderful experience at Adhiloka last ...   \n33306  Stayed here 3 days 2 night\\nLocated in Uluwatu...   \n\n                                                review 4  \\\n12345  We had such a great time spent here. The food ...   \n27765  I have lived in Palms for 11 months from Febru...   \n31329  1000/10 IT WAS NICE TRIP WHEN I GO TO BALII YE...   \n32763  One of my all time favourite places I’ve staye...   \n33306  Staff were very welcoming and allowed us to ch...   \n\n                                                review 5  \n12345  Love the cozy little space yet very beautiful ...  \n27765  Enjoyed a lovely stay at this hotel, it felt l...  \n31329  clean and comfortable hotel, strategic locatio...  \n32763  It was what we expected out of the property.\\n...  \n33306  The room was perfect.\\nBreakfast was good.\\nIt...  ",
      "text/html": "<div>\n<style scoped>\n    .dataframe tbody tr th:only-of-type {\n        vertical-align: middle;\n    }\n\n    .dataframe tbody tr th {\n        vertical-align: top;\n    }\n\n    .dataframe thead th {\n        text-align: right;\n    }\n</style>\n<table border=\"1\" class=\"dataframe\">\n  <thead>\n    <tr style=\"text-align: right;\">\n      <th></th>\n      <th>id</th>\n      <th>name</th>\n      <th>latitude</th>\n      <th>longitude</th>\n      <th>address</th>\n      <th>url</th>\n      <th>status</th>\n      <th>phone</th>\n      <th>primary-type</th>\n      <th>types</th>\n      <th>rating</th>\n      <th>rating-count</th>\n      <th>price-level</th>\n      <th>review 1</th>\n      <th>review 2</th>\n      <th>review 3</th>\n      <th>review 4</th>\n      <th>review 5</th>\n    </tr>\n  </thead>\n  <tbody>\n    <tr>\n      <th>12345</th>\n      <td>ChIJcQiarIwY0i0Rxq7rnU0QE80</td>\n      <td>Warung Umadue</td>\n      <td>-8.436345</td>\n      <td>115.307274</td>\n      <td>Jl, Jl. Astinapura Sel., Banjar Kelodan, Kec. ...</td>\n      <td>https://maps.google.com/?cid=14777172727880724166</td>\n      <td>CLOSED_TEMPORARILY</td>\n      <td>+62 813-5397-6161</td>\n      <td>indonesian_restaurant</td>\n      <td>indonesian_restaurant, restaurant, food</td>\n      <td>4.4</td>\n      <td>63.0</td>\n      <td>PRICE_LEVEL_INEXPENSIVE</td>\n      <td>Good quality local balibese food. So autentik....</td>\n      <td>a good clean restaurant with rice field view. ...</td>\n      <td>A beautifully built warung with taro tanah wal...</td>\n      <td>We had such a great time spent here. The food ...</td>\n      <td>Love the cozy little space yet very beautiful ...</td>\n    </tr>\n    <tr>\n      <th>27765</th>\n      <td>ChIJp3K9sSM50i0RLucGqMDEhPU</td>\n      <td>The Palms Canggu</td>\n      <td>-8.646618</td>\n      <td>115.136390</td>\n      <td>Jl. Canggu Padang Linjong Gg. Agung Roy, Cangg...</td>\n      <td>https://maps.google.com/?cid=17691481567949940526</td>\n      <td>OPERATIONAL</td>\n      <td>+62 813-3806-7559</td>\n      <td>hotel</td>\n      <td>hotel, lodging</td>\n      <td>4.6</td>\n      <td>115.0</td>\n      <td>NaN</td>\n      <td>Clean and modern hotel, nice pool with seating...</td>\n      <td>Little hidden paradise, we walked through the ...</td>\n      <td>I have stayed at The Palms several times and I...</td>\n      <td>I have lived in Palms for 11 months from Febru...</td>\n      <td>Enjoyed a lovely stay at this hotel, it felt l...</td>\n    </tr>\n    <tr>\n      <th>31329</th>\n      <td>ChIJ22zYshtF0i0RENOIShDHnXo</td>\n      <td>Horison Le Aman Hotel</td>\n      <td>-8.762298</td>\n      <td>115.178592</td>\n      <td>Jl. Bypass Ngurah Rai No.50, Jimbaran, Kec. Ku...</td>\n      <td>https://maps.google.com/?cid=8835436916754666256</td>\n      <td>OPERATIONAL</td>\n      <td>+62 361 4466000</td>\n      <td>hotel</td>\n      <td>hotel, lodging</td>\n      <td>4.5</td>\n      <td>195.0</td>\n      <td>NaN</td>\n      <td>Excellent!\\nFamily trip to Bali and got afford...</td>\n      <td>My room was booked via an Airbnb, and it was t...</td>\n      <td>I stayed for one night in twin deluxe bedroom....</td>\n      <td>1000/10 IT WAS NICE TRIP WHEN I GO TO BALII YE...</td>\n      <td>clean and comfortable hotel, strategic locatio...</td>\n    </tr>\n    <tr>\n      <th>32763</th>\n      <td>ChIJUUIIkCVb0i0RjJ5iXpnEoaU</td>\n      <td>Adhiloka Uluwatu</td>\n      <td>-8.827930</td>\n      <td>115.149406</td>\n      <td>Jl. Pura Masuka No.168, Ungasan, Kec. Kuta Sel...</td>\n      <td>https://maps.google.com/?cid=11935036650501086860</td>\n      <td>OPERATIONAL</td>\n      <td>NaN</td>\n      <td>hotel</td>\n      <td>hotel, lodging</td>\n      <td>4.8</td>\n      <td>82.0</td>\n      <td>NaN</td>\n      <td>Thank you to everyone, especially the boys at ...</td>\n      <td>Really good hotel for a really good price. I l...</td>\n      <td>I had a wonderful experience at Adhiloka last ...</td>\n      <td>One of my all time favourite places I’ve staye...</td>\n      <td>It was what we expected out of the property.\\n...</td>\n    </tr>\n    <tr>\n      <th>33306</th>\n      <td>ChIJeWatXmhb0i0Rnn-13EHMqiY</td>\n      <td>Ocho Bali Villa</td>\n      <td>-8.837684</td>\n      <td>115.175184</td>\n      <td>Jl. Alas Arum No.37, Kutuh, Kec. Kuta Sel., Ka...</td>\n      <td>https://maps.google.com/?cid=2786263902729895838</td>\n      <td>OPERATIONAL</td>\n      <td>+62 878-6201-1196</td>\n      <td>NaN</td>\n      <td>resort_hotel, hotel, lodging</td>\n      <td>4.4</td>\n      <td>194.0</td>\n      <td>NaN</td>\n      <td>This hotel was so beautiful and small. If you ...</td>\n      <td>good day, this place is amazing it has its own...</td>\n      <td>Stayed here 3 days 2 night\\nLocated in Uluwatu...</td>\n      <td>Staff were very welcoming and allowed us to ch...</td>\n      <td>The room was perfect.\\nBreakfast was good.\\nIt...</td>\n    </tr>\n  </tbody>\n</table>\n</div>"
     },
     "execution_count": 7,
     "metadata": {},
     "output_type": "execute_result"
    }
   ],
   "source": [
    "import numpy as np\n",
    "\n",
    "# Function to recommend places for a given user\n",
    "def recommend_places(user_id, model, df, user_encoder, place_encoder, top_n=5):\n",
    "    user_idx = user_encoder.transform([user_id])[0]\n",
    "    all_place_ids = df['place_id_encoded'].unique()\n",
    "    user_array = np.array([user_idx] * len(all_place_ids))\n",
    "    \n",
    "    predictions = model.predict([user_array, all_place_ids])\n",
    "    \n",
    "    place_indices = predictions.flatten().argsort()[-top_n:][::-1]\n",
    "    recommended_places = place_encoder.inverse_transform(place_indices)\n",
    "    \n",
    "    return recommended_places\n",
    "\n",
    "# Get recommendations for a specific user\n",
    "user_id = \"user_18425\"\n",
    "recommended_places = recommend_places(user_id, model, df, user_encoder, place_encoder)\n",
    "print(f\"Recommended places for user {user_id}: {recommended_places}\")\n",
    "\n",
    "places = pd.read_csv('combined-dataset/combined_datasetV2.csv')\n",
    "places = places[places['id'].isin(recommended_places)]  # Filter places\n",
    "places\n"
   ],
   "metadata": {
    "collapsed": false,
    "ExecuteTime": {
     "end_time": "2024-06-13T05:36:46.923900300Z",
     "start_time": "2024-06-13T05:36:44.815858100Z"
    }
   },
   "id": "ea9ea53e16b8406b",
   "execution_count": 7
  },
  {
   "cell_type": "code",
   "outputs": [],
   "source": [],
   "metadata": {
    "collapsed": false
   },
   "id": "64d8dd46b12b5778"
  }
 ],
 "metadata": {
  "kernelspec": {
   "display_name": "Python 3",
   "language": "python",
   "name": "python3"
  },
  "language_info": {
   "codemirror_mode": {
    "name": "ipython",
    "version": 2
   },
   "file_extension": ".py",
   "mimetype": "text/x-python",
   "name": "python",
   "nbconvert_exporter": "python",
   "pygments_lexer": "ipython2",
   "version": "2.7.6"
  }
 },
 "nbformat": 4,
 "nbformat_minor": 5
}
