{
 "cells": [
  {
   "cell_type": "code",
   "id": "initial_id",
   "metadata": {
    "collapsed": true,
    "ExecuteTime": {
     "end_time": "2024-06-06T23:40:53.366912Z",
     "start_time": "2024-06-06T23:40:52.540487Z"
    }
   },
   "source": [
    "import math\n",
    "import csv\n",
    "import folium\n",
    "\n",
    "from geopy.distance import geodesic"
   ],
   "outputs": [],
   "execution_count": 1
  },
  {
   "metadata": {
    "ExecuteTime": {
     "end_time": "2024-06-06T23:40:53.372814Z",
     "start_time": "2024-06-06T23:40:53.367426Z"
    }
   },
   "cell_type": "code",
   "source": [
    "def get_hexagon_row_exp(start_coord, radius, count):\n",
    "    coord_data = []\n",
    "    for _ in range(count):\n",
    "        next_coord = geodesic(meters=radius * 2).destination(start_coord, 90)\n",
    "        coord_data.append([next_coord.latitude, next_coord.longitude])\n",
    "        start_coord = next_coord\n",
    "    return coord_data\n",
    "\n",
    "def row_mapper_exp(start_coord, radius, row_count, height_count):\n",
    "    coord_data = []\n",
    "    height = radius * math.sqrt(3)\n",
    "    for _ in range(height_count):\n",
    "        direction = 90 if _ % 2 != 0 else 270\n",
    "        next_coord = geodesic(meters=radius).destination(\n",
    "            geodesic(meters=height).destination(start_coord, 180), direction\n",
    "        )\n",
    "        coord_data.extend(get_hexagon_row_exp(next_coord, radius, row_count))\n",
    "        start_coord = next_coord\n",
    "    return coord_data\n",
    "\n",
    "def data_to_csv(data):\n",
    "    file_path = 'coordinates/hexagonal-packing-v3.csv'\n",
    "    with open(file_path, mode='w', newline='', encoding='utf-8') as file:\n",
    "        writer = csv.writer(file)\n",
    "        writer.writerow(['lat', 'lon'])\n",
    "        writer.writerows(data)\n",
    "        print(f\"Coordinates saved to {file_path}\")"
   ],
   "id": "3e407388eeef8954",
   "outputs": [],
   "execution_count": 2
  },
  {
   "metadata": {
    "ExecuteTime": {
     "end_time": "2024-06-06T23:40:54.156737Z",
     "start_time": "2024-06-06T23:40:53.373821Z"
    }
   },
   "cell_type": "code",
   "source": [
    "r = 500\n",
    "start_point = (-8.096568, 114.437477)\n",
    "row_count = 140\n",
    "height_count = 100\n",
    "coordinates = row_mapper_exp(start_point, r, row_count, height_count)"
   ],
   "id": "886503f51d0dfea5",
   "outputs": [],
   "execution_count": 3
  },
  {
   "metadata": {
    "ExecuteTime": {
     "end_time": "2024-06-06T23:40:54.160284Z",
     "start_time": "2024-06-06T23:40:54.157250Z"
    }
   },
   "cell_type": "code",
   "source": "print(len(coordinates))",
   "id": "17c12d076574ee1",
   "outputs": [
    {
     "name": "stdout",
     "output_type": "stream",
     "text": [
      "14000\n"
     ]
    }
   ],
   "execution_count": 4
  },
  {
   "metadata": {
    "ExecuteTime": {
     "end_time": "2024-06-06T23:41:16.774644Z",
     "start_time": "2024-06-06T23:41:11.755565Z"
    }
   },
   "cell_type": "code",
   "source": [
    "# TEST BENCH\n",
    "\n",
    "import os\n",
    "import csv\n",
    "import math\n",
    "import folium\n",
    "import pandas as pd\n",
    "import geopandas as gpd\n",
    "\n",
    "from shapely.geometry import Point\n",
    "from geopy.distance import geodesic\n",
    "\n",
    "\n",
    "def get_hexagon_row(start_coord, radius, count):\n",
    "    coord_data = []\n",
    "    for _ in range(count):\n",
    "        next_coord = geodesic(meters=radius * 2).destination(start_coord, 90)\n",
    "        coord_data.append([next_coord.latitude, next_coord.longitude])\n",
    "        start_coord = next_coord\n",
    "    return coord_data\n",
    "\n",
    "\n",
    "def create_hexagonal_grid(start_coord, radius, row_count, height_count):\n",
    "    coord_data = []\n",
    "    height = radius * math.sqrt(3)\n",
    "    for _ in range(height_count):\n",
    "        direction = 90 if _ % 2 == 0 else 270\n",
    "        next_coord = geodesic(meters=radius).destination(\n",
    "            geodesic(meters=height).destination(start_coord, 180), direction\n",
    "        )\n",
    "        coord_data.extend(get_hexagon_row(next_coord, radius, row_count))\n",
    "        start_coord = next_coord\n",
    "    return coord_data\n",
    "\n",
    "\n",
    "def save_to_csv(data, file_path):\n",
    "    with open(file_path, mode='w', newline='', encoding='utf-8') as file:\n",
    "        writer = csv.writer(file)\n",
    "        writer.writerow(['latitude', 'longitude'])\n",
    "        writer.writerows(data)\n",
    "\n",
    "\n",
    "def filter_points(land_gdf, forest_gdf, points_df):\n",
    "    land_points_df = gpd.GeoDataFrame(points_df, geometry=gpd.points_from_xy(points_df.longitude, points_df.latitude))\n",
    "    land_points_df.set_crs(crs=land_gdf.crs, inplace=True)\n",
    "    points_in_land = gpd.sjoin(land_points_df, land_gdf, how='inner', op='within')\n",
    "    points_in_land_index = points_in_land.index\n",
    "    points_out_forest = points_df[~points_df.index.isin(points_in_land_index)]\n",
    "    return points_out_forest\n",
    "\n",
    "\n",
    "def main():\n",
    "    circle_radius = 500\n",
    "    starting_point = (-8.096568, 114.437477)\n",
    "    square_length = 140\n",
    "    square_height = 100\n",
    "\n",
    "    square_coordinates = create_hexagonal_grid(starting_point, circle_radius, square_length, square_height)\n",
    "    coord_csv_path = 'coordinates/bali_island_square.csv'\n",
    "    save_to_csv(square_coordinates, coord_csv_path)\n",
    "\n",
    "    forest_dir = 'shape-filter'\n",
    "    shapefiles = [os.path.join(forest_dir, file) for file in os.listdir(forest_dir) if file.endswith('.shp')]\n",
    "\n",
    "    square_df = pd.read_csv(coord_csv_path)\n",
    "\n",
    "    land_gdf = gpd.read_file('land-filter/indonesia_province.shp')\n",
    "\n",
    "    forest_gdf = gpd.GeoDataFrame()\n",
    "    for file in shapefiles:\n",
    "        forest_gdf = pd.concat([forest_gdf, gpd.read_file(file)], ignore_index=True)\n",
    "\n",
    "    filtered_forest = filter_points(land_gdf, forest_gdf, square_df)\n",
    "\n",
    "    filtered_map = folium.Map(location=[filtered_forest['latitude'].iloc[0], filtered_forest['longitude'].iloc[0]], zoom_start=10)\n",
    "    for lat, lon in zip(filtered_forest['latitude'], filtered_forest['longitude']):\n",
    "        folium.Marker([lat, lon]).add_to(filtered_map)\n",
    "\n",
    "    filtered_map.save('map-export/bali_island_filtered_experimental.html')\n",
    "\n",
    "\n",
    "if __name__ == \"__main__\":\n",
    "    main()\n"
   ],
   "id": "425df3f85815a35e",
   "outputs": [
    {
     "name": "stderr",
     "output_type": "stream",
     "text": [
      "C:\\Users\\angger\\AppData\\Local\\Temp\\ipykernel_13256\\541454588.py:83: FutureWarning: The `op` parameter is deprecated and will be removed in a future release. Please use the `predicate` parameter instead.\n",
      "  main()\n"
     ]
    }
   ],
   "execution_count": 5
  },
  {
   "metadata": {},
   "cell_type": "code",
   "outputs": [],
   "execution_count": null,
   "source": "test = pd.read_csv()",
   "id": "228bb3f562ecc26f"
  }
 ],
 "metadata": {
  "kernelspec": {
   "display_name": "Python 3",
   "language": "python",
   "name": "python3"
  },
  "language_info": {
   "codemirror_mode": {
    "name": "ipython",
    "version": 2
   },
   "file_extension": ".py",
   "mimetype": "text/x-python",
   "name": "python",
   "nbconvert_exporter": "python",
   "pygments_lexer": "ipython2",
   "version": "2.7.6"
  }
 },
 "nbformat": 4,
 "nbformat_minor": 5
}
