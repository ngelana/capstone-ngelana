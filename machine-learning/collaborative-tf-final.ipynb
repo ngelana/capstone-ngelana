{
 "cells": [
  {
   "cell_type": "code",
   "execution_count": 1,
   "id": "initial_id",
   "metadata": {
    "collapsed": true,
    "ExecuteTime": {
     "end_time": "2024-06-20T14:20:19.908994100Z",
     "start_time": "2024-06-20T14:20:11.142034Z"
    }
   },
   "outputs": [
    {
     "name": "stderr",
     "output_type": "stream",
     "text": [
      "2024-06-20 21:20:14.310508: I tensorflow/core/util/port.cc:113] oneDNN custom operations are on. You may see slightly different numerical results due to floating-point round-off errors from different computation orders. To turn them off, set the environment variable `TF_ENABLE_ONEDNN_OPTS=0`.\n",
      "2024-06-20 21:20:14.807275: E external/local_xla/xla/stream_executor/cuda/cuda_dnn.cc:9261] Unable to register cuDNN factory: Attempting to register factory for plugin cuDNN when one has already been registered\n",
      "2024-06-20 21:20:14.807476: E external/local_xla/xla/stream_executor/cuda/cuda_fft.cc:607] Unable to register cuFFT factory: Attempting to register factory for plugin cuFFT when one has already been registered\n",
      "2024-06-20 21:20:14.899451: E external/local_xla/xla/stream_executor/cuda/cuda_blas.cc:1515] Unable to register cuBLAS factory: Attempting to register factory for plugin cuBLAS when one has already been registered\n",
      "2024-06-20 21:20:15.075907: I tensorflow/core/platform/cpu_feature_guard.cc:182] This TensorFlow binary is optimized to use available CPU instructions in performance-critical operations.\n",
      "To enable the following instructions: AVX2 AVX_VNNI FMA, in other operations, rebuild TensorFlow with the appropriate compiler flags.\n",
      "2024-06-20 21:20:17.871677: W tensorflow/compiler/tf2tensorrt/utils/py_utils.cc:38] TF-TRT Warning: Could not find TensorRT\n"
     ]
    }
   ],
   "source": [
    "# Import libraries used for collaborative filtering\n",
    "\n",
    "import pandas as pd\n",
    "import numpy as np\n",
    "from sklearn.preprocessing import LabelEncoder\n",
    "import tensorflow as tf\n",
    "from tensorflow.keras.layers import Embedding, Flatten, Dense, Input, Concatenate\n",
    "from tensorflow.keras.models import Model\n",
    "from sklearn.model_selection import train_test_split\n"
   ]
  },
  {
   "cell_type": "code",
   "outputs": [
    {
     "data": {
      "text/plain": "                            id  \\\n0  ChIJYcGr7GSb0S0RckePBrCWikw   \n1  ChIJZbWX6Aia0S0R0tM3h1RZ1h8   \n2  ChIJYyHbhgia0S0RzdjNXLmcf54   \n3  ChIJ6zf9LJCb0S0RFv3BdLl61ZY   \n4  ChIJxaITmQia0S0RyrbukE8vsJU   \n5  ChIJ63FmGgaa0S0RWD5dfwhjGHQ   \n6  ChIJAQAA5Aia0S0RBL27x0I5sHk   \n7  ChIJA7v-3Qia0S0RdP8U7AQZBHE   \n8  ChIJnSg1VAia0S0R3r6ej3XRQ50   \n9  ChIJL_GkVA-a0S0R6UJc7dfTH4A   \n\n                                               types review_number  \\\n0                                     hotel, lodging      review 1   \n1            indonesian_restaurant, restaurant, food      review 1   \n2               tourist_attraction, restaurant, food      review 1   \n3                     coffee_shop, cafe, food, store      review 1   \n4               tourist_attraction, place_of_worship      review 1   \n5            indonesian_restaurant, restaurant, food      review 1   \n6            indonesian_restaurant, restaurant, food      review 1   \n7            indonesian_restaurant, restaurant, food      review 1   \n8  breakfast_restaurant, indonesian_restaurant, r...      review 1   \n9  restaurant, coffee_shop, cafe, bakery, wholesa...      review 1   \n\n                                              review     user_id  sentiment  \n0  It has quite small room, and the hallway is qu...   user_5061   0.012500  \n1  Surprisingly, a really good warung that’s hidd...  user_17031   0.212500  \n2  Only had a fleeting visit here, came by coach,...  user_13759  -0.016667  \n3  One word, underrated! How come place like this...   user_5570   0.344676  \n4  This temple is located in Singaraja, located i...  user_20325   0.139524  \n5  We came here for dinner, food was good, i like...   user_3693   0.186111  \n6  They have 3 menus. Chicken, beef, or mixed. Th...  user_38971  -0.132630  \n7  Did not meet my expectation...dirty table, not...  user_19070  -0.200000  \n8  Super yum rawon (beef stew with spices)!\\nDefi...  user_80954   0.470833  \n9  A Singaraga Gem...\\nHighly recommended...\\nA f...   user_7798   0.308378  ",
      "text/html": "<div>\n<style scoped>\n    .dataframe tbody tr th:only-of-type {\n        vertical-align: middle;\n    }\n\n    .dataframe tbody tr th {\n        vertical-align: top;\n    }\n\n    .dataframe thead th {\n        text-align: right;\n    }\n</style>\n<table border=\"1\" class=\"dataframe\">\n  <thead>\n    <tr style=\"text-align: right;\">\n      <th></th>\n      <th>id</th>\n      <th>types</th>\n      <th>review_number</th>\n      <th>review</th>\n      <th>user_id</th>\n      <th>sentiment</th>\n    </tr>\n  </thead>\n  <tbody>\n    <tr>\n      <th>0</th>\n      <td>ChIJYcGr7GSb0S0RckePBrCWikw</td>\n      <td>hotel, lodging</td>\n      <td>review 1</td>\n      <td>It has quite small room, and the hallway is qu...</td>\n      <td>user_5061</td>\n      <td>0.012500</td>\n    </tr>\n    <tr>\n      <th>1</th>\n      <td>ChIJZbWX6Aia0S0R0tM3h1RZ1h8</td>\n      <td>indonesian_restaurant, restaurant, food</td>\n      <td>review 1</td>\n      <td>Surprisingly, a really good warung that’s hidd...</td>\n      <td>user_17031</td>\n      <td>0.212500</td>\n    </tr>\n    <tr>\n      <th>2</th>\n      <td>ChIJYyHbhgia0S0RzdjNXLmcf54</td>\n      <td>tourist_attraction, restaurant, food</td>\n      <td>review 1</td>\n      <td>Only had a fleeting visit here, came by coach,...</td>\n      <td>user_13759</td>\n      <td>-0.016667</td>\n    </tr>\n    <tr>\n      <th>3</th>\n      <td>ChIJ6zf9LJCb0S0RFv3BdLl61ZY</td>\n      <td>coffee_shop, cafe, food, store</td>\n      <td>review 1</td>\n      <td>One word, underrated! How come place like this...</td>\n      <td>user_5570</td>\n      <td>0.344676</td>\n    </tr>\n    <tr>\n      <th>4</th>\n      <td>ChIJxaITmQia0S0RyrbukE8vsJU</td>\n      <td>tourist_attraction, place_of_worship</td>\n      <td>review 1</td>\n      <td>This temple is located in Singaraja, located i...</td>\n      <td>user_20325</td>\n      <td>0.139524</td>\n    </tr>\n    <tr>\n      <th>5</th>\n      <td>ChIJ63FmGgaa0S0RWD5dfwhjGHQ</td>\n      <td>indonesian_restaurant, restaurant, food</td>\n      <td>review 1</td>\n      <td>We came here for dinner, food was good, i like...</td>\n      <td>user_3693</td>\n      <td>0.186111</td>\n    </tr>\n    <tr>\n      <th>6</th>\n      <td>ChIJAQAA5Aia0S0RBL27x0I5sHk</td>\n      <td>indonesian_restaurant, restaurant, food</td>\n      <td>review 1</td>\n      <td>They have 3 menus. Chicken, beef, or mixed. Th...</td>\n      <td>user_38971</td>\n      <td>-0.132630</td>\n    </tr>\n    <tr>\n      <th>7</th>\n      <td>ChIJA7v-3Qia0S0RdP8U7AQZBHE</td>\n      <td>indonesian_restaurant, restaurant, food</td>\n      <td>review 1</td>\n      <td>Did not meet my expectation...dirty table, not...</td>\n      <td>user_19070</td>\n      <td>-0.200000</td>\n    </tr>\n    <tr>\n      <th>8</th>\n      <td>ChIJnSg1VAia0S0R3r6ej3XRQ50</td>\n      <td>breakfast_restaurant, indonesian_restaurant, r...</td>\n      <td>review 1</td>\n      <td>Super yum rawon (beef stew with spices)!\\nDefi...</td>\n      <td>user_80954</td>\n      <td>0.470833</td>\n    </tr>\n    <tr>\n      <th>9</th>\n      <td>ChIJL_GkVA-a0S0R6UJc7dfTH4A</td>\n      <td>restaurant, coffee_shop, cafe, bakery, wholesa...</td>\n      <td>review 1</td>\n      <td>A Singaraga Gem...\\nHighly recommended...\\nA f...</td>\n      <td>user_7798</td>\n      <td>0.308378</td>\n    </tr>\n  </tbody>\n</table>\n</div>"
     },
     "execution_count": 2,
     "metadata": {},
     "output_type": "execute_result"
    }
   ],
   "source": [
    "# Load the data\n",
    "df = pd.read_csv('combined-dataset/final_reviews_dataV2.csv')\n",
    "df.head(10)"
   ],
   "metadata": {
    "collapsed": false,
    "ExecuteTime": {
     "end_time": "2024-06-20T14:20:20.396973700Z",
     "start_time": "2024-06-20T14:20:19.912652700Z"
    }
   },
   "id": "1db343237d543964",
   "execution_count": 2
  },
  {
   "cell_type": "code",
   "outputs": [],
   "source": [
    "import random\n",
    "import string\n",
    "import hashlib\n",
    "import time\n",
    "\n",
    "def generate_cuid():\n",
    "    c = 'c'\n",
    "    timestamp_str = ''.join(random.choices(string.ascii_lowercase + string.digits, k=8))  # Random 8 char string for timestamp\n",
    "    counter = random.randint(0, 9999)  # Random counter\n",
    "    client_fingerprint = ''.join(random.choices(string.ascii_lowercase + string.digits, k=4))  # Random 4 char string\n",
    "    random_string = ''.join(random.choices(string.ascii_lowercase + string.digits, k=8))  # Random 8 char string\n",
    "    \n",
    "    return f'{c}{timestamp_str}{counter}{client_fingerprint}{random_string}'\n",
    "\n",
    "unique_user_ids = df['user_id'].unique()\n",
    "user_id_to_cuid = {user_id: generate_cuid() for user_id in unique_user_ids}\n",
    "\n",
    "# Replace original user IDs with CUIDs\n",
    "df['user_cuid'] = df['user_id'].map(user_id_to_cuid)\n"
   ],
   "metadata": {
    "collapsed": false,
    "ExecuteTime": {
     "end_time": "2024-06-20T14:20:20.541191500Z",
     "start_time": "2024-06-20T14:20:20.395851400Z"
    }
   },
   "id": "d16901c7b9864ad1",
   "execution_count": 3
  },
  {
   "cell_type": "code",
   "outputs": [
    {
     "data": {
      "text/plain": "                            id                                    types  \\\n0  ChIJYcGr7GSb0S0RckePBrCWikw                           hotel, lodging   \n1  ChIJZbWX6Aia0S0R0tM3h1RZ1h8  indonesian_restaurant, restaurant, food   \n2  ChIJYyHbhgia0S0RzdjNXLmcf54     tourist_attraction, restaurant, food   \n3  ChIJ6zf9LJCb0S0RFv3BdLl61ZY           coffee_shop, cafe, food, store   \n4  ChIJxaITmQia0S0RyrbukE8vsJU     tourist_attraction, place_of_worship   \n\n  review_number                                             review  \\\n0      review 1  It has quite small room, and the hallway is qu...   \n1      review 1  Surprisingly, a really good warung that’s hidd...   \n2      review 1  Only had a fleeting visit here, came by coach,...   \n3      review 1  One word, underrated! How come place like this...   \n4      review 1  This temple is located in Singaraja, located i...   \n\n      user_id  sentiment                  user_cuid  \n0   user_5061   0.012500   cy2b6vk5n120hrwu2eu55l3k  \n1  user_17031   0.212500  cyu8yc77m8991w81jele5he4z  \n2  user_13759  -0.016667  cdmnbu1268093imcrbhl9wsu9  \n3   user_5570   0.344676  cn0ei2w863674yqmeh3mqj5hj  \n4  user_20325   0.139524  c2lp5vvf96582n3jpyw1uet02  ",
      "text/html": "<div>\n<style scoped>\n    .dataframe tbody tr th:only-of-type {\n        vertical-align: middle;\n    }\n\n    .dataframe tbody tr th {\n        vertical-align: top;\n    }\n\n    .dataframe thead th {\n        text-align: right;\n    }\n</style>\n<table border=\"1\" class=\"dataframe\">\n  <thead>\n    <tr style=\"text-align: right;\">\n      <th></th>\n      <th>id</th>\n      <th>types</th>\n      <th>review_number</th>\n      <th>review</th>\n      <th>user_id</th>\n      <th>sentiment</th>\n      <th>user_cuid</th>\n    </tr>\n  </thead>\n  <tbody>\n    <tr>\n      <th>0</th>\n      <td>ChIJYcGr7GSb0S0RckePBrCWikw</td>\n      <td>hotel, lodging</td>\n      <td>review 1</td>\n      <td>It has quite small room, and the hallway is qu...</td>\n      <td>user_5061</td>\n      <td>0.012500</td>\n      <td>cy2b6vk5n120hrwu2eu55l3k</td>\n    </tr>\n    <tr>\n      <th>1</th>\n      <td>ChIJZbWX6Aia0S0R0tM3h1RZ1h8</td>\n      <td>indonesian_restaurant, restaurant, food</td>\n      <td>review 1</td>\n      <td>Surprisingly, a really good warung that’s hidd...</td>\n      <td>user_17031</td>\n      <td>0.212500</td>\n      <td>cyu8yc77m8991w81jele5he4z</td>\n    </tr>\n    <tr>\n      <th>2</th>\n      <td>ChIJYyHbhgia0S0RzdjNXLmcf54</td>\n      <td>tourist_attraction, restaurant, food</td>\n      <td>review 1</td>\n      <td>Only had a fleeting visit here, came by coach,...</td>\n      <td>user_13759</td>\n      <td>-0.016667</td>\n      <td>cdmnbu1268093imcrbhl9wsu9</td>\n    </tr>\n    <tr>\n      <th>3</th>\n      <td>ChIJ6zf9LJCb0S0RFv3BdLl61ZY</td>\n      <td>coffee_shop, cafe, food, store</td>\n      <td>review 1</td>\n      <td>One word, underrated! How come place like this...</td>\n      <td>user_5570</td>\n      <td>0.344676</td>\n      <td>cn0ei2w863674yqmeh3mqj5hj</td>\n    </tr>\n    <tr>\n      <th>4</th>\n      <td>ChIJxaITmQia0S0RyrbukE8vsJU</td>\n      <td>tourist_attraction, place_of_worship</td>\n      <td>review 1</td>\n      <td>This temple is located in Singaraja, located i...</td>\n      <td>user_20325</td>\n      <td>0.139524</td>\n      <td>c2lp5vvf96582n3jpyw1uet02</td>\n    </tr>\n  </tbody>\n</table>\n</div>"
     },
     "execution_count": 4,
     "metadata": {},
     "output_type": "execute_result"
    }
   ],
   "source": [
    "df.head()"
   ],
   "metadata": {
    "collapsed": false,
    "ExecuteTime": {
     "end_time": "2024-06-20T14:20:20.586913500Z",
     "start_time": "2024-06-20T14:20:20.548751600Z"
    }
   },
   "id": "c46460c2c2b270b2",
   "execution_count": 4
  },
  {
   "cell_type": "code",
   "outputs": [
    {
     "name": "stderr",
     "output_type": "stream",
     "text": [
      "2024-06-20 21:20:21.244455: I external/local_xla/xla/stream_executor/cuda/cuda_executor.cc:887] could not open file to read NUMA node: /sys/bus/pci/devices/0000:01:00.0/numa_node\n",
      "Your kernel may have been built without NUMA support.\n",
      "2024-06-20 21:20:21.622037: I external/local_xla/xla/stream_executor/cuda/cuda_executor.cc:887] could not open file to read NUMA node: /sys/bus/pci/devices/0000:01:00.0/numa_node\n",
      "Your kernel may have been built without NUMA support.\n",
      "2024-06-20 21:20:21.622102: I external/local_xla/xla/stream_executor/cuda/cuda_executor.cc:887] could not open file to read NUMA node: /sys/bus/pci/devices/0000:01:00.0/numa_node\n",
      "Your kernel may have been built without NUMA support.\n",
      "2024-06-20 21:20:21.627589: I external/local_xla/xla/stream_executor/cuda/cuda_executor.cc:887] could not open file to read NUMA node: /sys/bus/pci/devices/0000:01:00.0/numa_node\n",
      "Your kernel may have been built without NUMA support.\n",
      "2024-06-20 21:20:21.627801: I external/local_xla/xla/stream_executor/cuda/cuda_executor.cc:887] could not open file to read NUMA node: /sys/bus/pci/devices/0000:01:00.0/numa_node\n",
      "Your kernel may have been built without NUMA support.\n",
      "2024-06-20 21:20:21.627863: I external/local_xla/xla/stream_executor/cuda/cuda_executor.cc:887] could not open file to read NUMA node: /sys/bus/pci/devices/0000:01:00.0/numa_node\n",
      "Your kernel may have been built without NUMA support.\n",
      "2024-06-20 21:20:21.939652: I external/local_xla/xla/stream_executor/cuda/cuda_executor.cc:887] could not open file to read NUMA node: /sys/bus/pci/devices/0000:01:00.0/numa_node\n",
      "Your kernel may have been built without NUMA support.\n",
      "2024-06-20 21:20:21.939984: I external/local_xla/xla/stream_executor/cuda/cuda_executor.cc:887] could not open file to read NUMA node: /sys/bus/pci/devices/0000:01:00.0/numa_node\n",
      "Your kernel may have been built without NUMA support.\n",
      "2024-06-20 21:20:21.940021: I tensorflow/core/common_runtime/gpu/gpu_device.cc:2022] Could not identify NUMA node of platform GPU id 0, defaulting to 0.  Your kernel may not have been built with NUMA support.\n",
      "2024-06-20 21:20:21.940188: I external/local_xla/xla/stream_executor/cuda/cuda_executor.cc:887] could not open file to read NUMA node: /sys/bus/pci/devices/0000:01:00.0/numa_node\n",
      "Your kernel may have been built without NUMA support.\n",
      "2024-06-20 21:20:21.940247: I tensorflow/core/common_runtime/gpu/gpu_device.cc:1929] Created device /job:localhost/replica:0/task:0/device:GPU:0 with 1767 MB memory:  -> device: 0, name: NVIDIA GeForce RTX 3050 Laptop GPU, pci bus id: 0000:01:00.0, compute capability: 8.6\n",
      "2024-06-20 21:20:23.050934: I external/local_tsl/tsl/platform/default/subprocess.cc:304] Start cannot spawn child process: No such file or directory\n"
     ]
    },
    {
     "name": "stdout",
     "output_type": "stream",
     "text": [
      "Epoch 1/10\n"
     ]
    },
    {
     "name": "stderr",
     "output_type": "stream",
     "text": [
      "2024-06-20 21:21:07.488040: I external/local_xla/xla/service/service.cc:168] XLA service 0x7fb840033140 initialized for platform CUDA (this does not guarantee that XLA will be used). Devices:\n",
      "2024-06-20 21:21:07.488117: I external/local_xla/xla/service/service.cc:176]   StreamExecutor device (0): NVIDIA GeForce RTX 3050 Laptop GPU, Compute Capability 8.6\n",
      "2024-06-20 21:21:07.518800: I tensorflow/compiler/mlir/tensorflow/utils/dump_mlir_util.cc:269] disabling MLIR crash reproducer, set env var `MLIR_CRASH_REPRODUCER_DIRECTORY` to enable.\n",
      "2024-06-20 21:21:07.575669: I external/local_xla/xla/stream_executor/cuda/cuda_dnn.cc:454] Loaded cuDNN version 8907\n",
      "WARNING: All log messages before absl::InitializeLog() is called are written to STDERR\n",
      "I0000 00:00:1718893267.670746   10201 device_compiler.h:186] Compiled cluster using XLA!  This line is logged at most once for the lifetime of the process.\n"
     ]
    },
    {
     "name": "stdout",
     "output_type": "stream",
     "text": [
      "13098/13098 [==============================] - 235s 18ms/step - loss: 9.3766 - accuracy: 2.2904e-04 - val_loss: 9.5019 - val_accuracy: 4.5816e-04\n",
      "Epoch 2/10\n",
      "13098/13098 [==============================] - 261s 20ms/step - loss: 8.2728 - accuracy: 0.0173 - val_loss: 9.7000 - val_accuracy: 0.0021\n",
      "Epoch 3/10\n",
      "13098/13098 [==============================] - 261s 20ms/step - loss: 6.9494 - accuracy: 0.0893 - val_loss: 10.0062 - val_accuracy: 0.0037\n",
      "Epoch 4/10\n",
      "13098/13098 [==============================] - 216s 16ms/step - loss: 6.1482 - accuracy: 0.1655 - val_loss: 10.5114 - val_accuracy: 0.0052\n",
      "Epoch 5/10\n",
      "13098/13098 [==============================] - 248s 19ms/step - loss: 5.7010 - accuracy: 0.2169 - val_loss: 11.0082 - val_accuracy: 0.0075\n",
      "Epoch 6/10\n",
      "13098/13098 [==============================] - 268s 20ms/step - loss: 5.4139 - accuracy: 0.2549 - val_loss: 11.5057 - val_accuracy: 0.0069\n",
      "Epoch 7/10\n",
      "13098/13098 [==============================] - 248s 19ms/step - loss: 5.2411 - accuracy: 0.2826 - val_loss: 12.1751 - val_accuracy: 0.0067\n",
      "Epoch 8/10\n",
      "13098/13098 [==============================] - 239s 18ms/step - loss: 5.1144 - accuracy: 0.3020 - val_loss: 12.6395 - val_accuracy: 0.0069\n",
      "Epoch 9/10\n",
      "13098/13098 [==============================] - 256s 20ms/step - loss: 5.0296 - accuracy: 0.3172 - val_loss: 13.4246 - val_accuracy: 0.0073\n",
      "Epoch 10/10\n",
      "13098/13098 [==============================] - 262s 20ms/step - loss: 4.9733 - accuracy: 0.3297 - val_loss: 13.7291 - val_accuracy: 0.0069\n"
     ]
    },
    {
     "data": {
      "text/plain": "<keras.src.callbacks.History at 0x7fb9a938eb50>"
     },
     "execution_count": 5,
     "metadata": {},
     "output_type": "execute_result"
    }
   ],
   "source": [
    "# Encode the place types and place ids\n",
    "type_encoder = LabelEncoder()\n",
    "df['types_encoded'] = type_encoder.fit_transform(df['types'])\n",
    "\n",
    "place_encoder = LabelEncoder()\n",
    "df['place_id_encoded'] = place_encoder.fit_transform(df['id'])\n",
    "\n",
    "# Prepare the dataset\n",
    "X = df[['types_encoded', 'review']].copy()\n",
    "y = df['place_id_encoded'].values\n",
    "\n",
    "# Split the data into training and testing sets\n",
    "X_train, X_test, y_train, y_test = train_test_split(X, y, test_size=0.2, random_state=42)\n",
    "\n",
    "# Build the model\n",
    "class RecommenderModel(tf.keras.Model):\n",
    "    def __init__(self, num_places, num_types, embedding_dim):\n",
    "        super().__init__()\n",
    "        self.type_embedding = tf.keras.layers.Embedding(num_types, embedding_dim)\n",
    "        self.review_vectorizer = tf.keras.layers.TextVectorization(max_tokens=10000, output_mode='tf_idf')\n",
    "        self.dense = tf.keras.layers.Dense(128, activation='relu')\n",
    "        self.output_layer = tf.keras.layers.Dense(num_places, activation='softmax')\n",
    "        self.review_vectorizer.adapt(X_train['review'])\n",
    "\n",
    "    def call(self, inputs):\n",
    "        type_embedding = self.type_embedding(inputs['types_encoded'])\n",
    "        review_embedding = self.review_vectorizer(inputs['review'])\n",
    "        x = tf.concat([type_embedding, review_embedding], axis=1)\n",
    "        x = self.dense(x)\n",
    "        return self.output_layer(x)\n",
    "\n",
    "# Initialize the model\n",
    "num_places = df['place_id_encoded'].nunique()\n",
    "num_types = df['types_encoded'].nunique()\n",
    "embedding_dim = 50\n",
    "\n",
    "model = RecommenderModel(num_places, num_types, embedding_dim)\n",
    "\n",
    "# Compile the model\n",
    "model.compile(optimizer='adam', loss='sparse_categorical_crossentropy', metrics=['accuracy'])\n",
    "\n",
    "# Create a custom data generator\n",
    "def data_generator(X, y, batch_size=2):\n",
    "    num_samples = len(X)\n",
    "    while True:\n",
    "        indices = np.arange(num_samples)\n",
    "        np.random.shuffle(indices)\n",
    "        for start in range(0, num_samples, batch_size):\n",
    "            end = min(start + batch_size, num_samples)\n",
    "            batch_indices = indices[start:end]\n",
    "            batch_X = {\n",
    "                'types_encoded': np.array(X.iloc[batch_indices]['types_encoded']),\n",
    "                'review': np.array(X.iloc[batch_indices]['review'])\n",
    "            }\n",
    "            batch_y = np.array(y[batch_indices])\n",
    "            yield batch_X, batch_y\n",
    "\n",
    "# Train the model\n",
    "train_gen = data_generator(X_train, y_train)\n",
    "test_gen = data_generator(X_test, y_test)\n",
    "\n",
    "model.fit(train_gen, steps_per_epoch=len(X_train) // 2, epochs=10, validation_data=test_gen, validation_steps=len(X_test) // 2)"
   ],
   "metadata": {
    "collapsed": false,
    "ExecuteTime": {
     "end_time": "2024-06-20T15:02:41.058627300Z",
     "start_time": "2024-06-20T14:20:20.584388200Z"
    }
   },
   "id": "f4a493fe072ebae6",
   "execution_count": 5
  },
  {
   "cell_type": "code",
   "outputs": [
    {
     "name": "stdout",
     "output_type": "stream",
     "text": [
      "1/1 [==============================] - 0s 76ms/step\n",
      "Recommended places for c0s9bsiw55816xsqzxh3pa02x:\n",
      "['Nice']\n",
      "['Batur Water Park']\n",
      "[]\n",
      "['X-ecutive Karaoke']\n",
      "[\"Jay's Villas Umalas\"]\n",
      "['Pepe Bocelli Family Karaoke']\n"
     ]
    }
   ],
   "source": [
    "\n",
    "# Make recommendations\n",
    "def recommend(user_cuid, model, df, place_encoder, type_encoder):\n",
    "    user_reviews = df[df['user_cuid'] == user_cuid]['review'].values\n",
    "    user_types = df[df['user_cuid'] == user_cuid]['types'].values\n",
    "    \n",
    "    recommendations = []\n",
    "    for review, place_type in zip(user_reviews, user_types):\n",
    "        type_encoded = type_encoder.transform([place_type])\n",
    "        user_input = {\n",
    "            'types_encoded': np.array(type_encoded),\n",
    "            'review': np.array([review])\n",
    "        }\n",
    "        predictions = model.predict(user_input)\n",
    "        recommended_place_ids = np.argsort(predictions[0])[-5:][::-1]\n",
    "        recommendations.extend(place_encoder.inverse_transform(recommended_place_ids))\n",
    "        # drop duplicates\n",
    "        recommendations = list(set(recommendations))\n",
    "    \n",
    "    return recommendations\n",
    "\n",
    "# Example of making recommendations\n",
    "selected_cuid = \"cdmnbu1268093imcrbhl9wsu9\"\n",
    "user_cuid = df.sample(1)['user_cuid'].values[0]\n",
    "\n",
    "df_place = pd.read_csv('final-dataset/main_dataset.csv')\n",
    "\n",
    "recommendations = recommend(user_cuid, model, df, place_encoder, type_encoder)\n",
    "print(f\"Recommended places for {user_cuid}:\")\n",
    "# print that user reviews\n",
    "print(df[df['user_cuid'] == user_cuid]['review'].values)\n",
    "# print name based on place_id\n",
    "for place_id in recommendations:\n",
    "    print(df_place[df_place['id'] == place_id]['name'].values)\n",
    "    \n",
    "    \n",
    "    "
   ],
   "metadata": {
    "collapsed": false,
    "ExecuteTime": {
     "end_time": "2024-06-20T15:41:47.770632700Z",
     "start_time": "2024-06-20T15:41:47.029504700Z"
    }
   },
   "id": "2705399b7c1b61aa",
   "execution_count": 184
  },
  {
   "cell_type": "code",
   "outputs": [],
   "source": [
    "model.save('collab_modelVwhatever.keras')"
   ],
   "metadata": {
    "collapsed": false,
    "ExecuteTime": {
     "end_time": "2024-06-20T15:43:14.493950900Z",
     "start_time": "2024-06-20T15:43:13.928048900Z"
    }
   },
   "id": "b7105468ff008c6c",
   "execution_count": 186
  },
  {
   "cell_type": "code",
   "outputs": [],
   "source": [],
   "metadata": {
    "collapsed": false
   },
   "id": "4791c4c92d856157"
  }
 ],
 "metadata": {
  "kernelspec": {
   "display_name": "Python 3",
   "language": "python",
   "name": "python3"
  },
  "language_info": {
   "codemirror_mode": {
    "name": "ipython",
    "version": 2
   },
   "file_extension": ".py",
   "mimetype": "text/x-python",
   "name": "python",
   "nbconvert_exporter": "python",
   "pygments_lexer": "ipython2",
   "version": "2.7.6"
  }
 },
 "nbformat": 4,
 "nbformat_minor": 5
}
