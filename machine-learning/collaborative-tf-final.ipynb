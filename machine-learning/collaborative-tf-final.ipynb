{
 "cells": [
  {
   "cell_type": "code",
   "execution_count": 1,
   "id": "initial_id",
   "metadata": {
    "collapsed": true,
    "ExecuteTime": {
     "end_time": "2024-06-17T19:13:20.165328300Z",
     "start_time": "2024-06-17T19:13:15.726946800Z"
    }
   },
   "outputs": [
    {
     "name": "stderr",
     "output_type": "stream",
     "text": [
      "2024-06-18 02:13:17.228078: I tensorflow/core/util/port.cc:113] oneDNN custom operations are on. You may see slightly different numerical results due to floating-point round-off errors from different computation orders. To turn them off, set the environment variable `TF_ENABLE_ONEDNN_OPTS=0`.\n",
      "2024-06-18 02:13:17.270776: E external/local_xla/xla/stream_executor/cuda/cuda_dnn.cc:9261] Unable to register cuDNN factory: Attempting to register factory for plugin cuDNN when one has already been registered\n",
      "2024-06-18 02:13:17.270816: E external/local_xla/xla/stream_executor/cuda/cuda_fft.cc:607] Unable to register cuFFT factory: Attempting to register factory for plugin cuFFT when one has already been registered\n",
      "2024-06-18 02:13:17.272721: E external/local_xla/xla/stream_executor/cuda/cuda_blas.cc:1515] Unable to register cuBLAS factory: Attempting to register factory for plugin cuBLAS when one has already been registered\n",
      "2024-06-18 02:13:17.282635: I tensorflow/core/platform/cpu_feature_guard.cc:182] This TensorFlow binary is optimized to use available CPU instructions in performance-critical operations.\n",
      "To enable the following instructions: AVX2 AVX_VNNI FMA, in other operations, rebuild TensorFlow with the appropriate compiler flags.\n",
      "2024-06-18 02:13:18.818158: W tensorflow/compiler/tf2tensorrt/utils/py_utils.cc:38] TF-TRT Warning: Could not find TensorRT\n"
     ]
    }
   ],
   "source": [
    "# Import libraries used for collaborative filtering\n",
    "\n",
    "import pandas as pd\n",
    "import numpy as np\n",
    "from sklearn.preprocessing import LabelEncoder\n",
    "import tensorflow as tf\n",
    "from tensorflow.keras.layers import Embedding, Flatten, Dense, Input, Concatenate\n",
    "from tensorflow.keras.models import Model\n"
   ]
  },
  {
   "cell_type": "code",
   "outputs": [
    {
     "name": "stdout",
     "output_type": "stream",
     "text": [
      "Number of users: 26496 and number of places: 6548\n"
     ]
    },
    {
     "data": {
      "text/plain": "                            id  \\\n0  ChIJYcGr7GSb0S0RckePBrCWikw   \n1  ChIJZbWX6Aia0S0R0tM3h1RZ1h8   \n2  ChIJYyHbhgia0S0RzdjNXLmcf54   \n3  ChIJ6zf9LJCb0S0RFv3BdLl61ZY   \n4  ChIJxaITmQia0S0RyrbukE8vsJU   \n5  ChIJ63FmGgaa0S0RWD5dfwhjGHQ   \n6  ChIJAQAA5Aia0S0RBL27x0I5sHk   \n7  ChIJA7v-3Qia0S0RdP8U7AQZBHE   \n8  ChIJnSg1VAia0S0R3r6ej3XRQ50   \n9  ChIJL_GkVA-a0S0R6UJc7dfTH4A   \n\n                                               types review_number  \\\n0                                     hotel, lodging      review 1   \n1            indonesian_restaurant, restaurant, food      review 1   \n2               tourist_attraction, restaurant, food      review 1   \n3                     coffee_shop, cafe, food, store      review 1   \n4               tourist_attraction, place_of_worship      review 1   \n5            indonesian_restaurant, restaurant, food      review 1   \n6            indonesian_restaurant, restaurant, food      review 1   \n7            indonesian_restaurant, restaurant, food      review 1   \n8  breakfast_restaurant, indonesian_restaurant, r...      review 1   \n9  restaurant, coffee_shop, cafe, bakery, wholesa...      review 1   \n\n                                              review     user_id  sentiment  \\\n0  It has quite small room, and the hallway is qu...   user_5061   0.012500   \n1  Surprisingly, a really good warung that’s hidd...  user_17031   0.212500   \n2  Only had a fleeting visit here, came by coach,...  user_13759  -0.016667   \n3  One word, underrated! How come place like this...   user_5570   0.344676   \n4  This temple is located in Singaraja, located i...  user_20325   0.139524   \n5  We came here for dinner, food was good, i like...   user_3693   0.186111   \n6  They have 3 menus. Chicken, beef, or mixed. Th...  user_38971  -0.132630   \n7  Did not meet my expectation...dirty table, not...  user_19070  -0.200000   \n8  Super yum rawon (beef stew with spices)!\\nDefi...  user_80954   0.470833   \n9  A Singaraga Gem...\\nHighly recommended...\\nA f...   user_7798   0.308378   \n\n   user_id_encoded  place_id_encoded  \n0            14590              3660  \n1             2528              3762  \n2             1350              3678  \n3            16428               829  \n4             3720              6310  \n5             9687               746  \n6            10440              1202  \n7             3262              1193  \n8            25537              5283  \n9            24462              2312  ",
      "text/html": "<div>\n<style scoped>\n    .dataframe tbody tr th:only-of-type {\n        vertical-align: middle;\n    }\n\n    .dataframe tbody tr th {\n        vertical-align: top;\n    }\n\n    .dataframe thead th {\n        text-align: right;\n    }\n</style>\n<table border=\"1\" class=\"dataframe\">\n  <thead>\n    <tr style=\"text-align: right;\">\n      <th></th>\n      <th>id</th>\n      <th>types</th>\n      <th>review_number</th>\n      <th>review</th>\n      <th>user_id</th>\n      <th>sentiment</th>\n      <th>user_id_encoded</th>\n      <th>place_id_encoded</th>\n    </tr>\n  </thead>\n  <tbody>\n    <tr>\n      <th>0</th>\n      <td>ChIJYcGr7GSb0S0RckePBrCWikw</td>\n      <td>hotel, lodging</td>\n      <td>review 1</td>\n      <td>It has quite small room, and the hallway is qu...</td>\n      <td>user_5061</td>\n      <td>0.012500</td>\n      <td>14590</td>\n      <td>3660</td>\n    </tr>\n    <tr>\n      <th>1</th>\n      <td>ChIJZbWX6Aia0S0R0tM3h1RZ1h8</td>\n      <td>indonesian_restaurant, restaurant, food</td>\n      <td>review 1</td>\n      <td>Surprisingly, a really good warung that’s hidd...</td>\n      <td>user_17031</td>\n      <td>0.212500</td>\n      <td>2528</td>\n      <td>3762</td>\n    </tr>\n    <tr>\n      <th>2</th>\n      <td>ChIJYyHbhgia0S0RzdjNXLmcf54</td>\n      <td>tourist_attraction, restaurant, food</td>\n      <td>review 1</td>\n      <td>Only had a fleeting visit here, came by coach,...</td>\n      <td>user_13759</td>\n      <td>-0.016667</td>\n      <td>1350</td>\n      <td>3678</td>\n    </tr>\n    <tr>\n      <th>3</th>\n      <td>ChIJ6zf9LJCb0S0RFv3BdLl61ZY</td>\n      <td>coffee_shop, cafe, food, store</td>\n      <td>review 1</td>\n      <td>One word, underrated! How come place like this...</td>\n      <td>user_5570</td>\n      <td>0.344676</td>\n      <td>16428</td>\n      <td>829</td>\n    </tr>\n    <tr>\n      <th>4</th>\n      <td>ChIJxaITmQia0S0RyrbukE8vsJU</td>\n      <td>tourist_attraction, place_of_worship</td>\n      <td>review 1</td>\n      <td>This temple is located in Singaraja, located i...</td>\n      <td>user_20325</td>\n      <td>0.139524</td>\n      <td>3720</td>\n      <td>6310</td>\n    </tr>\n    <tr>\n      <th>5</th>\n      <td>ChIJ63FmGgaa0S0RWD5dfwhjGHQ</td>\n      <td>indonesian_restaurant, restaurant, food</td>\n      <td>review 1</td>\n      <td>We came here for dinner, food was good, i like...</td>\n      <td>user_3693</td>\n      <td>0.186111</td>\n      <td>9687</td>\n      <td>746</td>\n    </tr>\n    <tr>\n      <th>6</th>\n      <td>ChIJAQAA5Aia0S0RBL27x0I5sHk</td>\n      <td>indonesian_restaurant, restaurant, food</td>\n      <td>review 1</td>\n      <td>They have 3 menus. Chicken, beef, or mixed. Th...</td>\n      <td>user_38971</td>\n      <td>-0.132630</td>\n      <td>10440</td>\n      <td>1202</td>\n    </tr>\n    <tr>\n      <th>7</th>\n      <td>ChIJA7v-3Qia0S0RdP8U7AQZBHE</td>\n      <td>indonesian_restaurant, restaurant, food</td>\n      <td>review 1</td>\n      <td>Did not meet my expectation...dirty table, not...</td>\n      <td>user_19070</td>\n      <td>-0.200000</td>\n      <td>3262</td>\n      <td>1193</td>\n    </tr>\n    <tr>\n      <th>8</th>\n      <td>ChIJnSg1VAia0S0R3r6ej3XRQ50</td>\n      <td>breakfast_restaurant, indonesian_restaurant, r...</td>\n      <td>review 1</td>\n      <td>Super yum rawon (beef stew with spices)!\\nDefi...</td>\n      <td>user_80954</td>\n      <td>0.470833</td>\n      <td>25537</td>\n      <td>5283</td>\n    </tr>\n    <tr>\n      <th>9</th>\n      <td>ChIJL_GkVA-a0S0R6UJc7dfTH4A</td>\n      <td>restaurant, coffee_shop, cafe, bakery, wholesa...</td>\n      <td>review 1</td>\n      <td>A Singaraga Gem...\\nHighly recommended...\\nA f...</td>\n      <td>user_7798</td>\n      <td>0.308378</td>\n      <td>24462</td>\n      <td>2312</td>\n    </tr>\n  </tbody>\n</table>\n</div>"
     },
     "execution_count": 2,
     "metadata": {},
     "output_type": "execute_result"
    }
   ],
   "source": [
    "# Load the data\n",
    "df = pd.read_csv('combined-dataset/final_reviews_dataV2.csv')\n",
    "\n",
    "# Encode id and user id\n",
    "user_enc = LabelEncoder()\n",
    "df['user_id_encoded'] = user_enc.fit_transform(df['user_id'].values)\n",
    "\n",
    "place_enc = LabelEncoder()\n",
    "df['place_id_encoded'] = place_enc.fit_transform(df['id'].values)\n",
    "\n",
    "n_users = df['user_id_encoded'].nunique()\n",
    "n_places = df['place_id_encoded'].nunique()\n",
    "\n",
    "print(f'Number of users: {n_users} and number of places: {n_places}')\n",
    "df.head(10)"
   ],
   "metadata": {
    "collapsed": false,
    "ExecuteTime": {
     "end_time": "2024-06-17T19:13:20.591159900Z",
     "start_time": "2024-06-17T19:13:20.170970300Z"
    }
   },
   "id": "d7c011b2ecc3ee49",
   "execution_count": 2
  },
  {
   "cell_type": "code",
   "outputs": [
    {
     "name": "stderr",
     "output_type": "stream",
     "text": [
      "2024-06-18 02:13:21.170263: I external/local_xla/xla/stream_executor/cuda/cuda_executor.cc:887] could not open file to read NUMA node: /sys/bus/pci/devices/0000:01:00.0/numa_node\n",
      "Your kernel may have been built without NUMA support.\n"
     ]
    },
    {
     "name": "stdout",
     "output_type": "stream",
     "text": [
      "Model: \"model\"\n",
      "__________________________________________________________________________________________________\n",
      " Layer (type)                Output Shape                 Param #   Connected to                  \n",
      "==================================================================================================\n",
      " user_input (InputLayer)     [(None, 1)]                  0         []                            \n",
      "                                                                                                  \n",
      " place_input (InputLayer)    [(None, 1)]                  0         []                            \n",
      "                                                                                                  \n",
      " user_embedding (Embedding)  (None, 1, 32)                847872    ['user_input[0][0]']          \n",
      "                                                                                                  \n",
      " place_embedding (Embedding  (None, 1, 32)                209536    ['place_input[0][0]']         \n",
      " )                                                                                                \n",
      "                                                                                                  \n",
      " user_flatten (Flatten)      (None, 32)                   0         ['user_embedding[0][0]']      \n",
      "                                                                                                  \n",
      " place_flatten (Flatten)     (None, 32)                   0         ['place_embedding[0][0]']     \n",
      "                                                                                                  \n",
      " concatenate (Concatenate)   (None, 64)                   0         ['user_flatten[0][0]',        \n",
      "                                                                     'place_flatten[0][0]']       \n",
      "                                                                                                  \n",
      " dense (Dense)               (None, 128)                  8320      ['concatenate[0][0]']         \n",
      "                                                                                                  \n",
      " dense_1 (Dense)             (None, 64)                   8256      ['dense[0][0]']               \n",
      "                                                                                                  \n",
      " dense_2 (Dense)             (None, 1)                    65        ['dense_1[0][0]']             \n",
      "                                                                                                  \n",
      "==================================================================================================\n",
      "Total params: 1074049 (4.10 MB)\n",
      "Trainable params: 1074049 (4.10 MB)\n",
      "Non-trainable params: 0 (0.00 Byte)\n",
      "__________________________________________________________________________________________________\n"
     ]
    },
    {
     "name": "stderr",
     "output_type": "stream",
     "text": [
      "2024-06-18 02:13:21.227521: I external/local_xla/xla/stream_executor/cuda/cuda_executor.cc:887] could not open file to read NUMA node: /sys/bus/pci/devices/0000:01:00.0/numa_node\n",
      "Your kernel may have been built without NUMA support.\n",
      "2024-06-18 02:13:21.227582: I external/local_xla/xla/stream_executor/cuda/cuda_executor.cc:887] could not open file to read NUMA node: /sys/bus/pci/devices/0000:01:00.0/numa_node\n",
      "Your kernel may have been built without NUMA support.\n",
      "2024-06-18 02:13:21.234415: I external/local_xla/xla/stream_executor/cuda/cuda_executor.cc:887] could not open file to read NUMA node: /sys/bus/pci/devices/0000:01:00.0/numa_node\n",
      "Your kernel may have been built without NUMA support.\n",
      "2024-06-18 02:13:21.234554: I external/local_xla/xla/stream_executor/cuda/cuda_executor.cc:887] could not open file to read NUMA node: /sys/bus/pci/devices/0000:01:00.0/numa_node\n",
      "Your kernel may have been built without NUMA support.\n",
      "2024-06-18 02:13:21.234592: I external/local_xla/xla/stream_executor/cuda/cuda_executor.cc:887] could not open file to read NUMA node: /sys/bus/pci/devices/0000:01:00.0/numa_node\n",
      "Your kernel may have been built without NUMA support.\n",
      "2024-06-18 02:13:21.473741: I external/local_xla/xla/stream_executor/cuda/cuda_executor.cc:887] could not open file to read NUMA node: /sys/bus/pci/devices/0000:01:00.0/numa_node\n",
      "Your kernel may have been built without NUMA support.\n",
      "2024-06-18 02:13:21.473822: I external/local_xla/xla/stream_executor/cuda/cuda_executor.cc:887] could not open file to read NUMA node: /sys/bus/pci/devices/0000:01:00.0/numa_node\n",
      "Your kernel may have been built without NUMA support.\n",
      "2024-06-18 02:13:21.473829: I tensorflow/core/common_runtime/gpu/gpu_device.cc:2022] Could not identify NUMA node of platform GPU id 0, defaulting to 0.  Your kernel may not have been built with NUMA support.\n",
      "2024-06-18 02:13:21.473863: I external/local_xla/xla/stream_executor/cuda/cuda_executor.cc:887] could not open file to read NUMA node: /sys/bus/pci/devices/0000:01:00.0/numa_node\n",
      "Your kernel may have been built without NUMA support.\n",
      "2024-06-18 02:13:21.473882: I tensorflow/core/common_runtime/gpu/gpu_device.cc:1929] Created device /job:localhost/replica:0/task:0/device:GPU:0 with 1767 MB memory:  -> device: 0, name: NVIDIA GeForce RTX 3050 Laptop GPU, pci bus id: 0000:01:00.0, compute capability: 8.6\n"
     ]
    }
   ],
   "source": [
    "# Adjust if neccessary\n",
    "embedding_size = 32\n",
    "\n",
    "# User input\n",
    "user_input = Input(shape=(1,), name='user_input')\n",
    "user_embedding = Embedding(n_users, embedding_size, name='user_embedding')(user_input)\n",
    "user_vec = Flatten(name='user_flatten')(user_embedding)\n",
    "\n",
    "# Place input\n",
    "place_input = Input(shape=(1,), name='place_input')\n",
    "place_embedding = Embedding(n_places, embedding_size, name='place_embedding')(place_input)\n",
    "place_vec = Flatten(name='place_flatten')(place_embedding)\n",
    "\n",
    "# Concatenate user and place vectors\n",
    "concat = Concatenate()([user_vec, place_vec])\n",
    "\n",
    "# Add dense layers\n",
    "dense_1 = Dense(128, activation='relu')(concat)\n",
    "dense_2 = Dense(64, activation='relu')(dense_1)\n",
    "output = Dense(1, activation='linear')(dense_2)\n",
    "\n",
    "# Build the model\n",
    "model = Model(inputs=[user_input, place_input], outputs=output)\n",
    "\n",
    "# Compile the model\n",
    "model.compile(optimizer='adam', loss='mean_squared_error')\n",
    "\n",
    "# Display the model summary\n",
    "model.summary()"
   ],
   "metadata": {
    "collapsed": false,
    "ExecuteTime": {
     "end_time": "2024-06-17T19:13:21.721959600Z",
     "start_time": "2024-06-17T19:13:20.601176800Z"
    }
   },
   "id": "8b7570d036d40589",
   "execution_count": 3
  },
  {
   "cell_type": "code",
   "outputs": [
    {
     "name": "stdout",
     "output_type": "stream",
     "text": [
      "Epoch 1/10\n"
     ]
    },
    {
     "name": "stderr",
     "output_type": "stream",
     "text": [
      "2024-06-18 02:13:23.090787: I external/local_tsl/tsl/platform/default/subprocess.cc:304] Start cannot spawn child process: No such file or directory\n",
      "2024-06-18 02:13:23.532143: I external/local_xla/xla/service/service.cc:168] XLA service 0x7f84ff292c40 initialized for platform CUDA (this does not guarantee that XLA will be used). Devices:\n",
      "2024-06-18 02:13:23.532193: I external/local_xla/xla/service/service.cc:176]   StreamExecutor device (0): NVIDIA GeForce RTX 3050 Laptop GPU, Compute Capability 8.6\n",
      "2024-06-18 02:13:23.538698: I tensorflow/compiler/mlir/tensorflow/utils/dump_mlir_util.cc:269] disabling MLIR crash reproducer, set env var `MLIR_CRASH_REPRODUCER_DIRECTORY` to enable.\n",
      "2024-06-18 02:13:23.559518: I external/local_xla/xla/stream_executor/cuda/cuda_dnn.cc:454] Loaded cuDNN version 8907\n",
      "WARNING: All log messages before absl::InitializeLog() is called are written to STDERR\n",
      "I0000 00:00:1718651603.625773  161753 device_compiler.h:186] Compiled cluster using XLA!  This line is logged at most once for the lifetime of the process.\n"
     ]
    },
    {
     "name": "stdout",
     "output_type": "stream",
     "text": [
      "16373/16373 - 152s - loss: 0.0560 - 152s/epoch - 9ms/step\n",
      "Epoch 2/10\n",
      "16373/16373 - 141s - loss: 0.0409 - 141s/epoch - 9ms/step\n",
      "Epoch 3/10\n",
      "16373/16373 - 134s - loss: 0.0284 - 134s/epoch - 8ms/step\n",
      "Epoch 4/10\n",
      "16373/16373 - 151s - loss: 0.0184 - 151s/epoch - 9ms/step\n",
      "Epoch 5/10\n"
     ]
    }
   ],
   "source": [
    "# Train the model\n",
    "history = model.fit(\n",
    "    [df['user_id_encoded'], df['place_id_encoded']],\n",
    "    df['sentiment'],\n",
    "    epochs=10,\n",
    "    batch_size=2,\n",
    "    verbose=2\n",
    ")\n"
   ],
   "metadata": {
    "collapsed": false,
    "is_executing": true,
    "ExecuteTime": {
     "start_time": "2024-06-17T19:13:21.726956400Z"
    }
   },
   "id": "f02bae39e1641035",
   "execution_count": null
  },
  {
   "cell_type": "code",
   "outputs": [],
   "source": [
    "loss = model.evaluate([df['user_id_encoded'], df['place_id_encoded']], df['sentiment'])\n",
    "print(f\"Model Loss: {loss}\")\n"
   ],
   "metadata": {
    "collapsed": false,
    "is_executing": true
   },
   "id": "b75d15d3ce7617b8"
  },
  {
   "cell_type": "code",
   "outputs": [],
   "source": [
    "# model.save('collab_model.keras')"
   ],
   "metadata": {
    "collapsed": false,
    "is_executing": true
   },
   "id": "b7105468ff008c6c"
  },
  {
   "cell_type": "code",
   "outputs": [],
   "source": [
    "# Test cell\n",
    "\n",
    "# Function to recommend places for a given user\n",
    "def recommend_places(user_id, model, df, user_encoder, place_encoder, top_n=5):\n",
    "    user_idx = user_encoder.transform([user_id])[0]\n",
    "    all_place_ids = df['place_id_encoded'].unique()\n",
    "    user_array = np.array([user_idx] * len(all_place_ids))\n",
    "    \n",
    "    predictions = model.predict([user_array, all_place_ids])\n",
    "    \n",
    "    place_indices = predictions.flatten().argsort()[-top_n:][::-1]\n",
    "    recommended_places = place_encoder.inverse_transform(place_indices)\n",
    "    \n",
    "    return recommended_places\n",
    "\n",
    "# Get recommendations for a specific user\n",
    "user_id = \"user_18425\"\n",
    "recommended_places = recommend_places(user_id, model, df, user_enc, place_enc, top_n=10)\n",
    "print(f\"Recommended places for user {user_id}: {recommended_places}\")\n",
    "\n",
    "places = pd.read_csv('combined-dataset/combined_datasetV2.csv')\n",
    "places = places[places['id'].isin(recommended_places)]  # Filter places\n",
    "places\n"
   ],
   "metadata": {
    "collapsed": false,
    "is_executing": true
   },
   "id": "cd3a5b9873fb302"
  }
 ],
 "metadata": {
  "kernelspec": {
   "display_name": "Python 3",
   "language": "python",
   "name": "python3"
  },
  "language_info": {
   "codemirror_mode": {
    "name": "ipython",
    "version": 2
   },
   "file_extension": ".py",
   "mimetype": "text/x-python",
   "name": "python",
   "nbconvert_exporter": "python",
   "pygments_lexer": "ipython2",
   "version": "2.7.6"
  }
 },
 "nbformat": 4,
 "nbformat_minor": 5
}
