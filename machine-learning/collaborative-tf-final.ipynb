{
 "cells": [
  {
   "cell_type": "code",
   "id": "initial_id",
   "metadata": {
    "collapsed": true,
    "ExecuteTime": {
     "end_time": "2024-06-19T19:37:02.233280Z",
     "start_time": "2024-06-19T19:36:58.811280Z"
    }
   },
   "source": [
    "# Import libraries used for collaborative filtering\n",
    "\n",
    "import pandas as pd\n",
    "import numpy as np\n",
    "from sklearn.preprocessing import LabelEncoder\n",
    "import tensorflow as tf\n",
    "from tensorflow.keras.layers import Embedding, Flatten, Dense, Input, Concatenate\n",
    "from tensorflow.keras.models import Model\n"
   ],
   "outputs": [
    {
     "name": "stderr",
     "output_type": "stream",
     "text": [
      "2024-06-20 02:37:00.265096: E external/local_xla/xla/stream_executor/cuda/cuda_dnn.cc:9261] Unable to register cuDNN factory: Attempting to register factory for plugin cuDNN when one has already been registered\n",
      "2024-06-20 02:37:00.265163: E external/local_xla/xla/stream_executor/cuda/cuda_fft.cc:607] Unable to register cuFFT factory: Attempting to register factory for plugin cuFFT when one has already been registered\n",
      "2024-06-20 02:37:00.302160: E external/local_xla/xla/stream_executor/cuda/cuda_blas.cc:1515] Unable to register cuBLAS factory: Attempting to register factory for plugin cuBLAS when one has already been registered\n",
      "2024-06-20 02:37:00.373813: I tensorflow/core/platform/cpu_feature_guard.cc:182] This TensorFlow binary is optimized to use available CPU instructions in performance-critical operations.\n",
      "To enable the following instructions: AVX2 FMA, in other operations, rebuild TensorFlow with the appropriate compiler flags.\n"
     ]
    }
   ],
   "execution_count": 1
  },
  {
   "cell_type": "code",
   "source": [
    "# Load the data\n",
    "df = pd.read_csv('final-dataset/review_dataset.csv')\n",
    "\n",
    "# Encode id and user id\n",
    "user_enc = LabelEncoder()\n",
    "df['user_id_encoded'] = user_enc.fit_transform(df['user_id'].values)\n",
    "\n",
    "place_enc = LabelEncoder()\n",
    "df['place_id_encoded'] = place_enc.fit_transform(df['id'].values)\n",
    "\n",
    "n_users = df['user_id_encoded'].nunique()\n",
    "n_places = df['place_id_encoded'].nunique()\n",
    "\n",
    "print(f'Number of users: {n_users} and number of places: {n_places}')\n",
    "df.head(10)"
   ],
   "metadata": {
    "collapsed": false,
    "ExecuteTime": {
     "end_time": "2024-06-19T19:37:02.444577Z",
     "start_time": "2024-06-19T19:37:02.235Z"
    }
   },
   "id": "d7c011b2ecc3ee49",
   "outputs": [
    {
     "name": "stdout",
     "output_type": "stream",
     "text": [
      "Number of users: 6103 and number of places: 6178\n"
     ]
    },
    {
     "data": {
      "text/plain": [
       "                            id  \\\n",
       "0  ChIJYcGr7GSb0S0RckePBrCWikw   \n",
       "1  ChIJZbWX6Aia0S0R0tM3h1RZ1h8   \n",
       "2  ChIJYyHbhgia0S0RzdjNXLmcf54   \n",
       "3  ChIJ6zf9LJCb0S0RFv3BdLl61ZY   \n",
       "4  ChIJxaITmQia0S0RyrbukE8vsJU   \n",
       "5  ChIJ63FmGgaa0S0RWD5dfwhjGHQ   \n",
       "6  ChIJAQAA5Aia0S0RBL27x0I5sHk   \n",
       "7  ChIJA7v-3Qia0S0RdP8U7AQZBHE   \n",
       "8  ChIJnSg1VAia0S0R3r6ej3XRQ50   \n",
       "9  ChIJL_GkVA-a0S0R6UJc7dfTH4A   \n",
       "\n",
       "                                               types review_number  \\\n",
       "0                                     hotel, lodging      review 1   \n",
       "1            indonesian_restaurant, restaurant, food      review 1   \n",
       "2               tourist_attraction, restaurant, food      review 1   \n",
       "3                     coffee_shop, cafe, food, store      review 1   \n",
       "4               tourist_attraction, place_of_worship      review 1   \n",
       "5            indonesian_restaurant, restaurant, food      review 1   \n",
       "6            indonesian_restaurant, restaurant, food      review 1   \n",
       "7            indonesian_restaurant, restaurant, food      review 1   \n",
       "8  breakfast_restaurant, indonesian_restaurant, r...      review 1   \n",
       "9  restaurant, coffee_shop, cafe, bakery, wholesa...      review 1   \n",
       "\n",
       "                                              review    user_id  \\\n",
       "0  It has quite small room, and the hallway is qu...  user_2573   \n",
       "1  Surprisingly, a really good warung that’s hidd...  user_2062   \n",
       "2  Only had a fleeting visit here, came by coach,...  user_2348   \n",
       "3  One word, underrated! How come place like this...  user_1448   \n",
       "4  This temple is located in Singaraja, located i...  user_4426   \n",
       "5  We came here for dinner, food was good, i like...  user_1786   \n",
       "6  They have 3 menus. Chicken, beef, or mixed. Th...  user_4604   \n",
       "7  Did not meet my expectation...dirty table, not...  user_2813   \n",
       "8  Super yum rawon (beef stew with spices)!\\r\\nDe...  user_4955   \n",
       "9  A Singaraga Gem...\\r\\nHighly recommended...\\r\\...  user_2987   \n",
       "\n",
       "   sentiment-score  user_id_encoded  place_id_encoded  \n",
       "0         0.506250             1732              3451  \n",
       "1         0.606250             1170              3546  \n",
       "2         0.491667             1484              3468  \n",
       "3         0.672338              494               791  \n",
       "4         0.569762             3759              5949  \n",
       "5         0.593056              867               713  \n",
       "6         0.433685             3955              1136  \n",
       "7         0.400000             1991              1127  \n",
       "8         0.735417             4339              4974  \n",
       "9         0.654189             2182              2175  "
      ],
      "text/html": [
       "<div>\n",
       "<style scoped>\n",
       "    .dataframe tbody tr th:only-of-type {\n",
       "        vertical-align: middle;\n",
       "    }\n",
       "\n",
       "    .dataframe tbody tr th {\n",
       "        vertical-align: top;\n",
       "    }\n",
       "\n",
       "    .dataframe thead th {\n",
       "        text-align: right;\n",
       "    }\n",
       "</style>\n",
       "<table border=\"1\" class=\"dataframe\">\n",
       "  <thead>\n",
       "    <tr style=\"text-align: right;\">\n",
       "      <th></th>\n",
       "      <th>id</th>\n",
       "      <th>types</th>\n",
       "      <th>review_number</th>\n",
       "      <th>review</th>\n",
       "      <th>user_id</th>\n",
       "      <th>sentiment-score</th>\n",
       "      <th>user_id_encoded</th>\n",
       "      <th>place_id_encoded</th>\n",
       "    </tr>\n",
       "  </thead>\n",
       "  <tbody>\n",
       "    <tr>\n",
       "      <th>0</th>\n",
       "      <td>ChIJYcGr7GSb0S0RckePBrCWikw</td>\n",
       "      <td>hotel, lodging</td>\n",
       "      <td>review 1</td>\n",
       "      <td>It has quite small room, and the hallway is qu...</td>\n",
       "      <td>user_2573</td>\n",
       "      <td>0.506250</td>\n",
       "      <td>1732</td>\n",
       "      <td>3451</td>\n",
       "    </tr>\n",
       "    <tr>\n",
       "      <th>1</th>\n",
       "      <td>ChIJZbWX6Aia0S0R0tM3h1RZ1h8</td>\n",
       "      <td>indonesian_restaurant, restaurant, food</td>\n",
       "      <td>review 1</td>\n",
       "      <td>Surprisingly, a really good warung that’s hidd...</td>\n",
       "      <td>user_2062</td>\n",
       "      <td>0.606250</td>\n",
       "      <td>1170</td>\n",
       "      <td>3546</td>\n",
       "    </tr>\n",
       "    <tr>\n",
       "      <th>2</th>\n",
       "      <td>ChIJYyHbhgia0S0RzdjNXLmcf54</td>\n",
       "      <td>tourist_attraction, restaurant, food</td>\n",
       "      <td>review 1</td>\n",
       "      <td>Only had a fleeting visit here, came by coach,...</td>\n",
       "      <td>user_2348</td>\n",
       "      <td>0.491667</td>\n",
       "      <td>1484</td>\n",
       "      <td>3468</td>\n",
       "    </tr>\n",
       "    <tr>\n",
       "      <th>3</th>\n",
       "      <td>ChIJ6zf9LJCb0S0RFv3BdLl61ZY</td>\n",
       "      <td>coffee_shop, cafe, food, store</td>\n",
       "      <td>review 1</td>\n",
       "      <td>One word, underrated! How come place like this...</td>\n",
       "      <td>user_1448</td>\n",
       "      <td>0.672338</td>\n",
       "      <td>494</td>\n",
       "      <td>791</td>\n",
       "    </tr>\n",
       "    <tr>\n",
       "      <th>4</th>\n",
       "      <td>ChIJxaITmQia0S0RyrbukE8vsJU</td>\n",
       "      <td>tourist_attraction, place_of_worship</td>\n",
       "      <td>review 1</td>\n",
       "      <td>This temple is located in Singaraja, located i...</td>\n",
       "      <td>user_4426</td>\n",
       "      <td>0.569762</td>\n",
       "      <td>3759</td>\n",
       "      <td>5949</td>\n",
       "    </tr>\n",
       "    <tr>\n",
       "      <th>5</th>\n",
       "      <td>ChIJ63FmGgaa0S0RWD5dfwhjGHQ</td>\n",
       "      <td>indonesian_restaurant, restaurant, food</td>\n",
       "      <td>review 1</td>\n",
       "      <td>We came here for dinner, food was good, i like...</td>\n",
       "      <td>user_1786</td>\n",
       "      <td>0.593056</td>\n",
       "      <td>867</td>\n",
       "      <td>713</td>\n",
       "    </tr>\n",
       "    <tr>\n",
       "      <th>6</th>\n",
       "      <td>ChIJAQAA5Aia0S0RBL27x0I5sHk</td>\n",
       "      <td>indonesian_restaurant, restaurant, food</td>\n",
       "      <td>review 1</td>\n",
       "      <td>They have 3 menus. Chicken, beef, or mixed. Th...</td>\n",
       "      <td>user_4604</td>\n",
       "      <td>0.433685</td>\n",
       "      <td>3955</td>\n",
       "      <td>1136</td>\n",
       "    </tr>\n",
       "    <tr>\n",
       "      <th>7</th>\n",
       "      <td>ChIJA7v-3Qia0S0RdP8U7AQZBHE</td>\n",
       "      <td>indonesian_restaurant, restaurant, food</td>\n",
       "      <td>review 1</td>\n",
       "      <td>Did not meet my expectation...dirty table, not...</td>\n",
       "      <td>user_2813</td>\n",
       "      <td>0.400000</td>\n",
       "      <td>1991</td>\n",
       "      <td>1127</td>\n",
       "    </tr>\n",
       "    <tr>\n",
       "      <th>8</th>\n",
       "      <td>ChIJnSg1VAia0S0R3r6ej3XRQ50</td>\n",
       "      <td>breakfast_restaurant, indonesian_restaurant, r...</td>\n",
       "      <td>review 1</td>\n",
       "      <td>Super yum rawon (beef stew with spices)!\\r\\nDe...</td>\n",
       "      <td>user_4955</td>\n",
       "      <td>0.735417</td>\n",
       "      <td>4339</td>\n",
       "      <td>4974</td>\n",
       "    </tr>\n",
       "    <tr>\n",
       "      <th>9</th>\n",
       "      <td>ChIJL_GkVA-a0S0R6UJc7dfTH4A</td>\n",
       "      <td>restaurant, coffee_shop, cafe, bakery, wholesa...</td>\n",
       "      <td>review 1</td>\n",
       "      <td>A Singaraga Gem...\\r\\nHighly recommended...\\r\\...</td>\n",
       "      <td>user_2987</td>\n",
       "      <td>0.654189</td>\n",
       "      <td>2182</td>\n",
       "      <td>2175</td>\n",
       "    </tr>\n",
       "  </tbody>\n",
       "</table>\n",
       "</div>"
      ]
     },
     "execution_count": 2,
     "metadata": {},
     "output_type": "execute_result"
    }
   ],
   "execution_count": 2
  },
  {
   "cell_type": "code",
   "source": [
    "# Adjust if neccessary\n",
    "embedding_size = 32\n",
    "\n",
    "# User input\n",
    "user_input = Input(shape=(1,), name='user_input')\n",
    "user_embedding = Embedding(n_users, embedding_size, name='user_embedding')(user_input)\n",
    "user_vec = Flatten(name='user_flatten')(user_embedding)\n",
    "\n",
    "# Place input\n",
    "place_input = Input(shape=(1,), name='place_input')\n",
    "place_embedding = Embedding(n_places, embedding_size, name='place_embedding')(place_input)\n",
    "place_vec = Flatten(name='place_flatten')(place_embedding)\n",
    "\n",
    "# Concatenate user and place vectors\n",
    "concat = Concatenate()([user_vec, place_vec])\n",
    "\n",
    "# Add dense layers\n",
    "dense_1 = Dense(128, activation='relu')(concat)\n",
    "dense_2 = Dense(64, activation='relu')(dense_1)\n",
    "output = Dense(1, activation='linear')(dense_2)\n",
    "\n",
    "# Build the model\n",
    "model = Model(inputs=[user_input, place_input], outputs=output)\n",
    "\n",
    "# Compile the model\n",
    "model.compile(optimizer='adam', loss='mean_squared_error')\n",
    "\n",
    "# Display the model summary\n",
    "model.summary()"
   ],
   "metadata": {
    "collapsed": false,
    "ExecuteTime": {
     "end_time": "2024-06-19T19:37:03.071272Z",
     "start_time": "2024-06-19T19:37:02.445973Z"
    }
   },
   "id": "8b7570d036d40589",
   "outputs": [
    {
     "name": "stderr",
     "output_type": "stream",
     "text": [
      "2024-06-20 02:37:02.677896: I external/local_xla/xla/stream_executor/cuda/cuda_executor.cc:887] could not open file to read NUMA node: /sys/bus/pci/devices/0000:01:00.0/numa_node\n",
      "Your kernel may have been built without NUMA support.\n"
     ]
    },
    {
     "name": "stdout",
     "output_type": "stream",
     "text": [
      "Model: \"model\"\n",
      "__________________________________________________________________________________________________\n",
      " Layer (type)                Output Shape                 Param #   Connected to                  \n",
      "==================================================================================================\n",
      " user_input (InputLayer)     [(None, 1)]                  0         []                            \n",
      "                                                                                                  \n",
      " place_input (InputLayer)    [(None, 1)]                  0         []                            \n",
      "                                                                                                  \n",
      " user_embedding (Embedding)  (None, 1, 32)                195296    ['user_input[0][0]']          \n",
      "                                                                                                  \n",
      " place_embedding (Embedding  (None, 1, 32)                197696    ['place_input[0][0]']         \n",
      " )                                                                                                \n",
      "                                                                                                  \n",
      " user_flatten (Flatten)      (None, 32)                   0         ['user_embedding[0][0]']      \n",
      "                                                                                                  \n",
      " place_flatten (Flatten)     (None, 32)                   0         ['place_embedding[0][0]']     \n",
      "                                                                                                  \n",
      " concatenate (Concatenate)   (None, 64)                   0         ['user_flatten[0][0]',        \n",
      "                                                                     'place_flatten[0][0]']       \n",
      "                                                                                                  \n",
      " dense (Dense)               (None, 128)                  8320      ['concatenate[0][0]']         \n",
      "                                                                                                  \n",
      " dense_1 (Dense)             (None, 64)                   8256      ['dense[0][0]']               \n",
      "                                                                                                  \n",
      " dense_2 (Dense)             (None, 1)                    65        ['dense_1[0][0]']             \n",
      "                                                                                                  \n",
      "==================================================================================================\n",
      "Total params: 409633 (1.56 MB)\n",
      "Trainable params: 409633 (1.56 MB)\n",
      "Non-trainable params: 0 (0.00 Byte)\n",
      "__________________________________________________________________________________________________\n"
     ]
    },
    {
     "name": "stderr",
     "output_type": "stream",
     "text": [
      "2024-06-20 02:37:02.724398: I external/local_xla/xla/stream_executor/cuda/cuda_executor.cc:887] could not open file to read NUMA node: /sys/bus/pci/devices/0000:01:00.0/numa_node\n",
      "Your kernel may have been built without NUMA support.\n",
      "2024-06-20 02:37:02.724467: I external/local_xla/xla/stream_executor/cuda/cuda_executor.cc:887] could not open file to read NUMA node: /sys/bus/pci/devices/0000:01:00.0/numa_node\n",
      "Your kernel may have been built without NUMA support.\n",
      "2024-06-20 02:37:02.727133: I external/local_xla/xla/stream_executor/cuda/cuda_executor.cc:887] could not open file to read NUMA node: /sys/bus/pci/devices/0000:01:00.0/numa_node\n",
      "Your kernel may have been built without NUMA support.\n",
      "2024-06-20 02:37:02.727175: I external/local_xla/xla/stream_executor/cuda/cuda_executor.cc:887] could not open file to read NUMA node: /sys/bus/pci/devices/0000:01:00.0/numa_node\n",
      "Your kernel may have been built without NUMA support.\n",
      "2024-06-20 02:37:02.727205: I external/local_xla/xla/stream_executor/cuda/cuda_executor.cc:887] could not open file to read NUMA node: /sys/bus/pci/devices/0000:01:00.0/numa_node\n",
      "Your kernel may have been built without NUMA support.\n",
      "2024-06-20 02:37:02.846623: I external/local_xla/xla/stream_executor/cuda/cuda_executor.cc:887] could not open file to read NUMA node: /sys/bus/pci/devices/0000:01:00.0/numa_node\n",
      "Your kernel may have been built without NUMA support.\n",
      "2024-06-20 02:37:02.846693: I external/local_xla/xla/stream_executor/cuda/cuda_executor.cc:887] could not open file to read NUMA node: /sys/bus/pci/devices/0000:01:00.0/numa_node\n",
      "Your kernel may have been built without NUMA support.\n",
      "2024-06-20 02:37:02.846703: I tensorflow/core/common_runtime/gpu/gpu_device.cc:2022] Could not identify NUMA node of platform GPU id 0, defaulting to 0.  Your kernel may not have been built with NUMA support.\n",
      "2024-06-20 02:37:02.846752: I external/local_xla/xla/stream_executor/cuda/cuda_executor.cc:887] could not open file to read NUMA node: /sys/bus/pci/devices/0000:01:00.0/numa_node\n",
      "Your kernel may have been built without NUMA support.\n",
      "2024-06-20 02:37:02.846771: I tensorflow/core/common_runtime/gpu/gpu_device.cc:1929] Created device /job:localhost/replica:0/task:0/device:GPU:0 with 3586 MB memory:  -> device: 0, name: NVIDIA GeForce RTX 3060 Laptop GPU, pci bus id: 0000:01:00.0, compute capability: 8.6\n"
     ]
    }
   ],
   "execution_count": 3
  },
  {
   "cell_type": "code",
   "source": [
    "# Train the model\n",
    "history = model.fit(\n",
    "    [df['user_id_encoded'], df['place_id_encoded']],\n",
    "    df['sentiment-score'],\n",
    "    epochs=10\n",
    ")\n"
   ],
   "metadata": {
    "collapsed": false,
    "is_executing": true,
    "ExecuteTime": {
     "end_time": "2024-06-19T19:37:56.339089Z",
     "start_time": "2024-06-19T19:37:03.073164Z"
    }
   },
   "id": "f02bae39e1641035",
   "outputs": [
    {
     "name": "stdout",
     "output_type": "stream",
     "text": [
      "Epoch 1/10\n"
     ]
    },
    {
     "name": "stderr",
     "output_type": "stream",
     "text": [
      "2024-06-20 02:37:03.701896: I external/local_tsl/tsl/platform/default/subprocess.cc:304] Start cannot spawn child process: No such file or directory\n",
      "2024-06-20 02:37:04.022978: I external/local_xla/xla/service/service.cc:168] XLA service 0x7f136fd63530 initialized for platform CUDA (this does not guarantee that XLA will be used). Devices:\n",
      "2024-06-20 02:37:04.023019: I external/local_xla/xla/service/service.cc:176]   StreamExecutor device (0): NVIDIA GeForce RTX 3060 Laptop GPU, Compute Capability 8.6\n",
      "2024-06-20 02:37:04.033592: I tensorflow/compiler/mlir/tensorflow/utils/dump_mlir_util.cc:269] disabling MLIR crash reproducer, set env var `MLIR_CRASH_REPRODUCER_DIRECTORY` to enable.\n",
      "2024-06-20 02:37:04.058821: I external/local_xla/xla/stream_executor/cuda/cuda_dnn.cc:454] Loaded cuDNN version 8904\n",
      "WARNING: All log messages before absl::InitializeLog() is called are written to STDERR\n",
      "I0000 00:00:1718825824.126933    2589 device_compiler.h:186] Compiled cluster using XLA!  This line is logged at most once for the lifetime of the process.\n"
     ]
    },
    {
     "name": "stdout",
     "output_type": "stream",
     "text": [
      "966/966 [==============================] - 7s 6ms/step - loss: 0.0209\n",
      "Epoch 2/10\n",
      "966/966 [==============================] - 5s 5ms/step - loss: 0.0117\n",
      "Epoch 3/10\n",
      "966/966 [==============================] - 5s 5ms/step - loss: 0.0078\n",
      "Epoch 4/10\n",
      "966/966 [==============================] - 5s 5ms/step - loss: 0.0042\n",
      "Epoch 5/10\n",
      "966/966 [==============================] - 5s 5ms/step - loss: 0.0026\n",
      "Epoch 6/10\n",
      "966/966 [==============================] - 5s 5ms/step - loss: 0.0019\n",
      "Epoch 7/10\n",
      "966/966 [==============================] - 5s 5ms/step - loss: 0.0016\n",
      "Epoch 8/10\n",
      "966/966 [==============================] - 5s 5ms/step - loss: 0.0015\n",
      "Epoch 9/10\n",
      "966/966 [==============================] - 5s 5ms/step - loss: 0.0014\n",
      "Epoch 10/10\n",
      "966/966 [==============================] - 5s 5ms/step - loss: 0.0012\n"
     ]
    }
   ],
   "execution_count": 4
  },
  {
   "cell_type": "code",
   "source": [
    "loss = model.evaluate([df['user_id_encoded'], df['place_id_encoded']], df['sentiment-score'])\n",
    "print(f\"Model Loss: {loss}\")\n"
   ],
   "metadata": {
    "collapsed": false,
    "is_executing": true,
    "ExecuteTime": {
     "end_time": "2024-06-19T19:37:58.305310Z",
     "start_time": "2024-06-19T19:37:56.341044Z"
    }
   },
   "id": "b75d15d3ce7617b8",
   "outputs": [
    {
     "name": "stdout",
     "output_type": "stream",
     "text": [
      "966/966 [==============================] - 2s 2ms/step - loss: 0.0012\n",
      "Model Loss: 0.00120551697909832\n"
     ]
    }
   ],
   "execution_count": 5
  },
  {
   "cell_type": "code",
   "source": "model.save('collab_model.keras')",
   "metadata": {
    "collapsed": false,
    "is_executing": true,
    "ExecuteTime": {
     "end_time": "2024-06-19T19:37:58.380238Z",
     "start_time": "2024-06-19T19:37:58.306598Z"
    }
   },
   "id": "b7105468ff008c6c",
   "outputs": [],
   "execution_count": 6
  },
  {
   "cell_type": "code",
   "source": [
    "# Test cell\n",
    "\n",
    "# Function to recommend places for a given user\n",
    "def recommend_places(user_id, model, df, user_encoder, place_encoder, top_n=5):\n",
    "    user_idx = user_encoder.transform([user_id])[0]\n",
    "    all_place_ids = df['place_id_encoded'].unique()\n",
    "    user_array = np.array([user_idx] * len(all_place_ids))\n",
    "    \n",
    "    predictions = model.predict([user_array, all_place_ids])\n",
    "    \n",
    "    place_indices = predictions.flatten().argsort()[-top_n:][::-1]\n",
    "    recommended_places = place_encoder.inverse_transform(place_indices)\n",
    "    \n",
    "    return recommended_places\n",
    "\n",
    "# Get recommendations for a specific user\n",
    "user_id = \"user_1069\"\n",
    "recommended_places = recommend_places(user_id, model, df, user_enc, place_enc, top_n=10)\n",
    "print(f\"Recommended places for user {user_id}: {recommended_places}\")\n",
    "\n",
    "places = pd.read_csv('combined-dataset/combined_datasetV2.csv')\n",
    "places = places[places['id'].isin(recommended_places)]  # Filter places\n",
    "places\n"
   ],
   "metadata": {
    "collapsed": false,
    "is_executing": true,
    "ExecuteTime": {
     "end_time": "2024-06-19T19:38:47.360644Z",
     "start_time": "2024-06-19T19:38:47.288700Z"
    }
   },
   "id": "cd3a5b9873fb302",
   "outputs": [
    {
     "ename": "ValueError",
     "evalue": "y contains previously unseen labels: '213214'",
     "output_type": "error",
     "traceback": [
      "\u001B[0;31m---------------------------------------------------------------------------\u001B[0m",
      "\u001B[0;31mKeyError\u001B[0m                                  Traceback (most recent call last)",
      "File \u001B[0;32m~/anaconda3/envs/capstone/lib/python3.11/site-packages/sklearn/utils/_encode.py:225\u001B[0m, in \u001B[0;36m_encode\u001B[0;34m(values, uniques, check_unknown)\u001B[0m\n\u001B[1;32m    224\u001B[0m \u001B[38;5;28;01mtry\u001B[39;00m:\n\u001B[0;32m--> 225\u001B[0m     \u001B[38;5;28;01mreturn\u001B[39;00m \u001B[43m_map_to_integer\u001B[49m\u001B[43m(\u001B[49m\u001B[43mvalues\u001B[49m\u001B[43m,\u001B[49m\u001B[43m \u001B[49m\u001B[43muniques\u001B[49m\u001B[43m)\u001B[49m\n\u001B[1;32m    226\u001B[0m \u001B[38;5;28;01mexcept\u001B[39;00m \u001B[38;5;167;01mKeyError\u001B[39;00m \u001B[38;5;28;01mas\u001B[39;00m e:\n",
      "File \u001B[0;32m~/anaconda3/envs/capstone/lib/python3.11/site-packages/sklearn/utils/_encode.py:165\u001B[0m, in \u001B[0;36m_map_to_integer\u001B[0;34m(values, uniques)\u001B[0m\n\u001B[1;32m    164\u001B[0m table \u001B[38;5;241m=\u001B[39m _nandict({val: i \u001B[38;5;28;01mfor\u001B[39;00m i, val \u001B[38;5;129;01min\u001B[39;00m \u001B[38;5;28menumerate\u001B[39m(uniques)})\n\u001B[0;32m--> 165\u001B[0m \u001B[38;5;28;01mreturn\u001B[39;00m np\u001B[38;5;241m.\u001B[39marray(\u001B[43m[\u001B[49m\u001B[43mtable\u001B[49m\u001B[43m[\u001B[49m\u001B[43mv\u001B[49m\u001B[43m]\u001B[49m\u001B[43m \u001B[49m\u001B[38;5;28;43;01mfor\u001B[39;49;00m\u001B[43m \u001B[49m\u001B[43mv\u001B[49m\u001B[43m \u001B[49m\u001B[38;5;129;43;01min\u001B[39;49;00m\u001B[43m \u001B[49m\u001B[43mvalues\u001B[49m\u001B[43m]\u001B[49m)\n",
      "File \u001B[0;32m~/anaconda3/envs/capstone/lib/python3.11/site-packages/sklearn/utils/_encode.py:165\u001B[0m, in \u001B[0;36m<listcomp>\u001B[0;34m(.0)\u001B[0m\n\u001B[1;32m    164\u001B[0m table \u001B[38;5;241m=\u001B[39m _nandict({val: i \u001B[38;5;28;01mfor\u001B[39;00m i, val \u001B[38;5;129;01min\u001B[39;00m \u001B[38;5;28menumerate\u001B[39m(uniques)})\n\u001B[0;32m--> 165\u001B[0m \u001B[38;5;28;01mreturn\u001B[39;00m np\u001B[38;5;241m.\u001B[39marray([\u001B[43mtable\u001B[49m\u001B[43m[\u001B[49m\u001B[43mv\u001B[49m\u001B[43m]\u001B[49m \u001B[38;5;28;01mfor\u001B[39;00m v \u001B[38;5;129;01min\u001B[39;00m values])\n",
      "File \u001B[0;32m~/anaconda3/envs/capstone/lib/python3.11/site-packages/sklearn/utils/_encode.py:159\u001B[0m, in \u001B[0;36m_nandict.__missing__\u001B[0;34m(self, key)\u001B[0m\n\u001B[1;32m    158\u001B[0m     \u001B[38;5;28;01mreturn\u001B[39;00m \u001B[38;5;28mself\u001B[39m\u001B[38;5;241m.\u001B[39mnan_value\n\u001B[0;32m--> 159\u001B[0m \u001B[38;5;28;01mraise\u001B[39;00m \u001B[38;5;167;01mKeyError\u001B[39;00m(key)\n",
      "\u001B[0;31mKeyError\u001B[0m: '213214'",
      "\nDuring handling of the above exception, another exception occurred:\n",
      "\u001B[0;31mValueError\u001B[0m                                Traceback (most recent call last)",
      "Cell \u001B[0;32mIn[8], line 18\u001B[0m\n\u001B[1;32m     16\u001B[0m \u001B[38;5;66;03m# Get recommendations for a specific user\u001B[39;00m\n\u001B[1;32m     17\u001B[0m user_id \u001B[38;5;241m=\u001B[39m \u001B[38;5;124m\"\u001B[39m\u001B[38;5;124m213214\u001B[39m\u001B[38;5;124m\"\u001B[39m\n\u001B[0;32m---> 18\u001B[0m recommended_places \u001B[38;5;241m=\u001B[39m \u001B[43mrecommend_places\u001B[49m\u001B[43m(\u001B[49m\u001B[43muser_id\u001B[49m\u001B[43m,\u001B[49m\u001B[43m \u001B[49m\u001B[43mmodel\u001B[49m\u001B[43m,\u001B[49m\u001B[43m \u001B[49m\u001B[43mdf\u001B[49m\u001B[43m,\u001B[49m\u001B[43m \u001B[49m\u001B[43muser_enc\u001B[49m\u001B[43m,\u001B[49m\u001B[43m \u001B[49m\u001B[43mplace_enc\u001B[49m\u001B[43m,\u001B[49m\u001B[43m \u001B[49m\u001B[43mtop_n\u001B[49m\u001B[38;5;241;43m=\u001B[39;49m\u001B[38;5;241;43m10\u001B[39;49m\u001B[43m)\u001B[49m\n\u001B[1;32m     19\u001B[0m \u001B[38;5;28mprint\u001B[39m(\u001B[38;5;124mf\u001B[39m\u001B[38;5;124m\"\u001B[39m\u001B[38;5;124mRecommended places for user \u001B[39m\u001B[38;5;132;01m{\u001B[39;00muser_id\u001B[38;5;132;01m}\u001B[39;00m\u001B[38;5;124m: \u001B[39m\u001B[38;5;132;01m{\u001B[39;00mrecommended_places\u001B[38;5;132;01m}\u001B[39;00m\u001B[38;5;124m\"\u001B[39m)\n\u001B[1;32m     21\u001B[0m places \u001B[38;5;241m=\u001B[39m pd\u001B[38;5;241m.\u001B[39mread_csv(\u001B[38;5;124m'\u001B[39m\u001B[38;5;124mcombined-dataset/combined_datasetV2.csv\u001B[39m\u001B[38;5;124m'\u001B[39m)\n",
      "Cell \u001B[0;32mIn[8], line 5\u001B[0m, in \u001B[0;36mrecommend_places\u001B[0;34m(user_id, model, df, user_encoder, place_encoder, top_n)\u001B[0m\n\u001B[1;32m      4\u001B[0m \u001B[38;5;28;01mdef\u001B[39;00m \u001B[38;5;21mrecommend_places\u001B[39m(user_id, model, df, user_encoder, place_encoder, top_n\u001B[38;5;241m=\u001B[39m\u001B[38;5;241m5\u001B[39m):\n\u001B[0;32m----> 5\u001B[0m     user_idx \u001B[38;5;241m=\u001B[39m \u001B[43muser_encoder\u001B[49m\u001B[38;5;241;43m.\u001B[39;49m\u001B[43mtransform\u001B[49m\u001B[43m(\u001B[49m\u001B[43m[\u001B[49m\u001B[43muser_id\u001B[49m\u001B[43m]\u001B[49m\u001B[43m)\u001B[49m[\u001B[38;5;241m0\u001B[39m]\n\u001B[1;32m      6\u001B[0m     all_place_ids \u001B[38;5;241m=\u001B[39m df[\u001B[38;5;124m'\u001B[39m\u001B[38;5;124mplace_id_encoded\u001B[39m\u001B[38;5;124m'\u001B[39m]\u001B[38;5;241m.\u001B[39munique()\n\u001B[1;32m      7\u001B[0m     user_array \u001B[38;5;241m=\u001B[39m np\u001B[38;5;241m.\u001B[39marray([user_idx] \u001B[38;5;241m*\u001B[39m \u001B[38;5;28mlen\u001B[39m(all_place_ids))\n",
      "File \u001B[0;32m~/anaconda3/envs/capstone/lib/python3.11/site-packages/sklearn/preprocessing/_label.py:137\u001B[0m, in \u001B[0;36mLabelEncoder.transform\u001B[0;34m(self, y)\u001B[0m\n\u001B[1;32m    134\u001B[0m \u001B[38;5;28;01mif\u001B[39;00m _num_samples(y) \u001B[38;5;241m==\u001B[39m \u001B[38;5;241m0\u001B[39m:\n\u001B[1;32m    135\u001B[0m     \u001B[38;5;28;01mreturn\u001B[39;00m np\u001B[38;5;241m.\u001B[39marray([])\n\u001B[0;32m--> 137\u001B[0m \u001B[38;5;28;01mreturn\u001B[39;00m \u001B[43m_encode\u001B[49m\u001B[43m(\u001B[49m\u001B[43my\u001B[49m\u001B[43m,\u001B[49m\u001B[43m \u001B[49m\u001B[43muniques\u001B[49m\u001B[38;5;241;43m=\u001B[39;49m\u001B[38;5;28;43mself\u001B[39;49m\u001B[38;5;241;43m.\u001B[39;49m\u001B[43mclasses_\u001B[49m\u001B[43m)\u001B[49m\n",
      "File \u001B[0;32m~/anaconda3/envs/capstone/lib/python3.11/site-packages/sklearn/utils/_encode.py:227\u001B[0m, in \u001B[0;36m_encode\u001B[0;34m(values, uniques, check_unknown)\u001B[0m\n\u001B[1;32m    225\u001B[0m         \u001B[38;5;28;01mreturn\u001B[39;00m _map_to_integer(values, uniques)\n\u001B[1;32m    226\u001B[0m     \u001B[38;5;28;01mexcept\u001B[39;00m \u001B[38;5;167;01mKeyError\u001B[39;00m \u001B[38;5;28;01mas\u001B[39;00m e:\n\u001B[0;32m--> 227\u001B[0m         \u001B[38;5;28;01mraise\u001B[39;00m \u001B[38;5;167;01mValueError\u001B[39;00m(\u001B[38;5;124mf\u001B[39m\u001B[38;5;124m\"\u001B[39m\u001B[38;5;124my contains previously unseen labels: \u001B[39m\u001B[38;5;132;01m{\u001B[39;00m\u001B[38;5;28mstr\u001B[39m(e)\u001B[38;5;132;01m}\u001B[39;00m\u001B[38;5;124m\"\u001B[39m)\n\u001B[1;32m    228\u001B[0m \u001B[38;5;28;01melse\u001B[39;00m:\n\u001B[1;32m    229\u001B[0m     \u001B[38;5;28;01mif\u001B[39;00m check_unknown:\n",
      "\u001B[0;31mValueError\u001B[0m: y contains previously unseen labels: '213214'"
     ]
    }
   ],
   "execution_count": 8
  },
  {
   "metadata": {
    "ExecuteTime": {
     "end_time": "2024-06-19T19:37:59.194205Z",
     "start_time": "2024-06-19T19:37:59.192579Z"
    }
   },
   "cell_type": "code",
   "source": "",
   "id": "aaa248eeaeaef34a",
   "outputs": [],
   "execution_count": 7
  }
 ],
 "metadata": {
  "kernelspec": {
   "display_name": "Python 3",
   "language": "python",
   "name": "python3"
  },
  "language_info": {
   "codemirror_mode": {
    "name": "ipython",
    "version": 2
   },
   "file_extension": ".py",
   "mimetype": "text/x-python",
   "name": "python",
   "nbconvert_exporter": "python",
   "pygments_lexer": "ipython2",
   "version": "2.7.6"
  }
 },
 "nbformat": 4,
 "nbformat_minor": 5
}
