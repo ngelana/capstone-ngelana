{
 "cells": [
  {
   "cell_type": "code",
   "execution_count": 1,
   "id": "initial_id",
   "metadata": {
    "collapsed": true,
    "ExecuteTime": {
     "end_time": "2024-06-19T18:41:35.894467200Z",
     "start_time": "2024-06-19T18:41:27.846009600Z"
    }
   },
   "outputs": [
    {
     "name": "stderr",
     "output_type": "stream",
     "text": [
      "2024-06-20 01:41:30.969703: I tensorflow/core/util/port.cc:113] oneDNN custom operations are on. You may see slightly different numerical results due to floating-point round-off errors from different computation orders. To turn them off, set the environment variable `TF_ENABLE_ONEDNN_OPTS=0`.\n",
      "2024-06-20 01:41:31.448559: E external/local_xla/xla/stream_executor/cuda/cuda_dnn.cc:9261] Unable to register cuDNN factory: Attempting to register factory for plugin cuDNN when one has already been registered\n",
      "2024-06-20 01:41:31.448613: E external/local_xla/xla/stream_executor/cuda/cuda_fft.cc:607] Unable to register cuFFT factory: Attempting to register factory for plugin cuFFT when one has already been registered\n",
      "2024-06-20 01:41:31.520200: E external/local_xla/xla/stream_executor/cuda/cuda_blas.cc:1515] Unable to register cuBLAS factory: Attempting to register factory for plugin cuBLAS when one has already been registered\n",
      "2024-06-20 01:41:31.673439: I tensorflow/core/platform/cpu_feature_guard.cc:182] This TensorFlow binary is optimized to use available CPU instructions in performance-critical operations.\n",
      "To enable the following instructions: AVX2 AVX_VNNI FMA, in other operations, rebuild TensorFlow with the appropriate compiler flags.\n",
      "2024-06-20 01:41:33.472915: W tensorflow/compiler/tf2tensorrt/utils/py_utils.cc:38] TF-TRT Warning: Could not find TensorRT\n"
     ]
    },
    {
     "data": {
      "text/plain": "                            id                                  types_x  \\\n0  ChIJYcGr7GSb0S0RckePBrCWikw                           hotel, lodging   \n1  ChIJZbWX6Aia0S0R0tM3h1RZ1h8  indonesian_restaurant, restaurant, food   \n2  ChIJYyHbhgia0S0RzdjNXLmcf54     tourist_attraction, restaurant, food   \n3  ChIJ6zf9LJCb0S0RFv3BdLl61ZY           coffee_shop, cafe, food, store   \n4  ChIJxaITmQia0S0RyrbukE8vsJU     tourist_attraction, place_of_worship   \n\n                                              review    user_id  \\\n0  It has quite small room, and the hallway is qu...  user_2573   \n1  Surprisingly, a really good warung that’s hidd...  user_2062   \n2  Only had a fleeting visit here, came by coach,...  user_2348   \n3  One word, underrated! How come place like this...  user_1448   \n4  This temple is located in Singaraja, located i...  user_4426   \n\n   sentiment-score                                               name  \\\n0         0.506250  Singaraja Hotel (ex- POP! Hotel Hardys Singara...   \n1         0.606250                                     Warung Bik Juk   \n2         0.491667                   Harbour Tourist Area of Buleleng   \n3         0.672338                                      Abuela Coffee   \n4         0.569762                           Klenteng Ling Gwan Kiong   \n\n            primary-type  rating  rating-count  \n0                  hotel     4.1        2581.0  \n1  indonesian_restaurant     4.5         648.0  \n2     tourist_attraction     4.3        2800.0  \n3            coffee_shop     4.9         164.0  \n4       place_of_worship     4.6         142.0  ",
      "text/html": "<div>\n<style scoped>\n    .dataframe tbody tr th:only-of-type {\n        vertical-align: middle;\n    }\n\n    .dataframe tbody tr th {\n        vertical-align: top;\n    }\n\n    .dataframe thead th {\n        text-align: right;\n    }\n</style>\n<table border=\"1\" class=\"dataframe\">\n  <thead>\n    <tr style=\"text-align: right;\">\n      <th></th>\n      <th>id</th>\n      <th>types_x</th>\n      <th>review</th>\n      <th>user_id</th>\n      <th>sentiment-score</th>\n      <th>name</th>\n      <th>primary-type</th>\n      <th>rating</th>\n      <th>rating-count</th>\n    </tr>\n  </thead>\n  <tbody>\n    <tr>\n      <th>0</th>\n      <td>ChIJYcGr7GSb0S0RckePBrCWikw</td>\n      <td>hotel, lodging</td>\n      <td>It has quite small room, and the hallway is qu...</td>\n      <td>user_2573</td>\n      <td>0.506250</td>\n      <td>Singaraja Hotel (ex- POP! Hotel Hardys Singara...</td>\n      <td>hotel</td>\n      <td>4.1</td>\n      <td>2581.0</td>\n    </tr>\n    <tr>\n      <th>1</th>\n      <td>ChIJZbWX6Aia0S0R0tM3h1RZ1h8</td>\n      <td>indonesian_restaurant, restaurant, food</td>\n      <td>Surprisingly, a really good warung that’s hidd...</td>\n      <td>user_2062</td>\n      <td>0.606250</td>\n      <td>Warung Bik Juk</td>\n      <td>indonesian_restaurant</td>\n      <td>4.5</td>\n      <td>648.0</td>\n    </tr>\n    <tr>\n      <th>2</th>\n      <td>ChIJYyHbhgia0S0RzdjNXLmcf54</td>\n      <td>tourist_attraction, restaurant, food</td>\n      <td>Only had a fleeting visit here, came by coach,...</td>\n      <td>user_2348</td>\n      <td>0.491667</td>\n      <td>Harbour Tourist Area of Buleleng</td>\n      <td>tourist_attraction</td>\n      <td>4.3</td>\n      <td>2800.0</td>\n    </tr>\n    <tr>\n      <th>3</th>\n      <td>ChIJ6zf9LJCb0S0RFv3BdLl61ZY</td>\n      <td>coffee_shop, cafe, food, store</td>\n      <td>One word, underrated! How come place like this...</td>\n      <td>user_1448</td>\n      <td>0.672338</td>\n      <td>Abuela Coffee</td>\n      <td>coffee_shop</td>\n      <td>4.9</td>\n      <td>164.0</td>\n    </tr>\n    <tr>\n      <th>4</th>\n      <td>ChIJxaITmQia0S0RyrbukE8vsJU</td>\n      <td>tourist_attraction, place_of_worship</td>\n      <td>This temple is located in Singaraja, located i...</td>\n      <td>user_4426</td>\n      <td>0.569762</td>\n      <td>Klenteng Ling Gwan Kiong</td>\n      <td>place_of_worship</td>\n      <td>4.6</td>\n      <td>142.0</td>\n    </tr>\n  </tbody>\n</table>\n</div>"
     },
     "execution_count": 1,
     "metadata": {},
     "output_type": "execute_result"
    }
   ],
   "source": [
    "import pandas as pd\n",
    "import numpy as np\n",
    "from sklearn.model_selection import train_test_split\n",
    "from sklearn.preprocessing import StandardScaler\n",
    "import tensorflow as tf\n",
    "from tensorflow.keras.models import Model\n",
    "from tensorflow.keras.layers import Input, Dense, Concatenate\n",
    "\n",
    "places_data = pd.read_csv(\"final-dataset/main_dataset.csv\") \n",
    "reviews_data = pd.read_csv(\"final-dataset/review_dataset.csv\")  \n",
    "\n",
    "user_place_reviews = pd.merge(reviews_data,places_data, on='id')\n",
    "\n",
    "# drop review_number, lat long, address, url,status, phone, types_y, price-level,review 1-5\n",
    "user_place_reviews = user_place_reviews.drop(columns=['review_number', 'latitude', 'longitude', 'address', 'url', 'status', 'phone', 'types_y', 'price-level', 'review 1', 'review 2', 'review 3', 'review 4', 'review 5'])\n",
    "user_place_reviews.head()"
   ]
  },
  {
   "cell_type": "code",
   "outputs": [
    {
     "data": {
      "text/plain": "                            id                                    types_x  \\\n0  ChIJYcGr7GSb0S0RckePBrCWikw                           [hotel, lodging]   \n1  ChIJZbWX6Aia0S0R0tM3h1RZ1h8  [indonesian_restaurant, restaurant, food]   \n2  ChIJYyHbhgia0S0RzdjNXLmcf54     [tourist_attraction, restaurant, food]   \n3  ChIJ6zf9LJCb0S0RFv3BdLl61ZY           [coffee_shop, cafe, food, store]   \n4  ChIJxaITmQia0S0RyrbukE8vsJU     [tourist_attraction, place_of_worship]   \n\n                                              review    user_id  \\\n0  It has quite small room, and the hallway is qu...  user_2573   \n1  Surprisingly, a really good warung that’s hidd...  user_2062   \n2  Only had a fleeting visit here, came by coach,...  user_2348   \n3  One word, underrated! How come place like this...  user_1448   \n4  This temple is located in Singaraja, located i...  user_4426   \n\n   sentiment-score                                               name  \\\n0         0.506250  Singaraja Hotel (ex- POP! Hotel Hardys Singara...   \n1         0.606250                                     Warung Bik Juk   \n2         0.491667                   Harbour Tourist Area of Buleleng   \n3         0.672338                                      Abuela Coffee   \n4         0.569762                           Klenteng Ling Gwan Kiong   \n\n            primary-type  rating  rating-count  airport  ...  \\\n0                  hotel     4.1        2581.0        0  ...   \n1  indonesian_restaurant     4.5         648.0        0  ...   \n2     tourist_attraction     4.3        2800.0        0  ...   \n3            coffee_shop     4.9         164.0        0  ...   \n4       place_of_worship     4.6         142.0        0  ...   \n\n   tourist_attraction  travel_agency  turkish_restaurant  university  \\\n0                   0              0                   0           0   \n1                   0              0                   0           0   \n2                   1              0                   0           0   \n3                   0              0                   0           0   \n4                   1              0                   0           0   \n\n   vegan_restaurant  vegetarian_restaurant  vietnamese_restaurant  \\\n0                 0                      0                      0   \n1                 0                      0                      0   \n2                 0                      0                      0   \n3                 0                      0                      0   \n4                 0                      0                      0   \n\n   wedding_venue  wholesaler  zoo  \n0              0           0    0  \n1              0           0    0  \n2              0           0    0  \n3              0           0    0  \n4              0           0    0  \n\n[5 rows x 135 columns]",
      "text/html": "<div>\n<style scoped>\n    .dataframe tbody tr th:only-of-type {\n        vertical-align: middle;\n    }\n\n    .dataframe tbody tr th {\n        vertical-align: top;\n    }\n\n    .dataframe thead th {\n        text-align: right;\n    }\n</style>\n<table border=\"1\" class=\"dataframe\">\n  <thead>\n    <tr style=\"text-align: right;\">\n      <th></th>\n      <th>id</th>\n      <th>types_x</th>\n      <th>review</th>\n      <th>user_id</th>\n      <th>sentiment-score</th>\n      <th>name</th>\n      <th>primary-type</th>\n      <th>rating</th>\n      <th>rating-count</th>\n      <th>airport</th>\n      <th>...</th>\n      <th>tourist_attraction</th>\n      <th>travel_agency</th>\n      <th>turkish_restaurant</th>\n      <th>university</th>\n      <th>vegan_restaurant</th>\n      <th>vegetarian_restaurant</th>\n      <th>vietnamese_restaurant</th>\n      <th>wedding_venue</th>\n      <th>wholesaler</th>\n      <th>zoo</th>\n    </tr>\n  </thead>\n  <tbody>\n    <tr>\n      <th>0</th>\n      <td>ChIJYcGr7GSb0S0RckePBrCWikw</td>\n      <td>[hotel, lodging]</td>\n      <td>It has quite small room, and the hallway is qu...</td>\n      <td>user_2573</td>\n      <td>0.506250</td>\n      <td>Singaraja Hotel (ex- POP! Hotel Hardys Singara...</td>\n      <td>hotel</td>\n      <td>4.1</td>\n      <td>2581.0</td>\n      <td>0</td>\n      <td>...</td>\n      <td>0</td>\n      <td>0</td>\n      <td>0</td>\n      <td>0</td>\n      <td>0</td>\n      <td>0</td>\n      <td>0</td>\n      <td>0</td>\n      <td>0</td>\n      <td>0</td>\n    </tr>\n    <tr>\n      <th>1</th>\n      <td>ChIJZbWX6Aia0S0R0tM3h1RZ1h8</td>\n      <td>[indonesian_restaurant, restaurant, food]</td>\n      <td>Surprisingly, a really good warung that’s hidd...</td>\n      <td>user_2062</td>\n      <td>0.606250</td>\n      <td>Warung Bik Juk</td>\n      <td>indonesian_restaurant</td>\n      <td>4.5</td>\n      <td>648.0</td>\n      <td>0</td>\n      <td>...</td>\n      <td>0</td>\n      <td>0</td>\n      <td>0</td>\n      <td>0</td>\n      <td>0</td>\n      <td>0</td>\n      <td>0</td>\n      <td>0</td>\n      <td>0</td>\n      <td>0</td>\n    </tr>\n    <tr>\n      <th>2</th>\n      <td>ChIJYyHbhgia0S0RzdjNXLmcf54</td>\n      <td>[tourist_attraction, restaurant, food]</td>\n      <td>Only had a fleeting visit here, came by coach,...</td>\n      <td>user_2348</td>\n      <td>0.491667</td>\n      <td>Harbour Tourist Area of Buleleng</td>\n      <td>tourist_attraction</td>\n      <td>4.3</td>\n      <td>2800.0</td>\n      <td>0</td>\n      <td>...</td>\n      <td>1</td>\n      <td>0</td>\n      <td>0</td>\n      <td>0</td>\n      <td>0</td>\n      <td>0</td>\n      <td>0</td>\n      <td>0</td>\n      <td>0</td>\n      <td>0</td>\n    </tr>\n    <tr>\n      <th>3</th>\n      <td>ChIJ6zf9LJCb0S0RFv3BdLl61ZY</td>\n      <td>[coffee_shop, cafe, food, store]</td>\n      <td>One word, underrated! How come place like this...</td>\n      <td>user_1448</td>\n      <td>0.672338</td>\n      <td>Abuela Coffee</td>\n      <td>coffee_shop</td>\n      <td>4.9</td>\n      <td>164.0</td>\n      <td>0</td>\n      <td>...</td>\n      <td>0</td>\n      <td>0</td>\n      <td>0</td>\n      <td>0</td>\n      <td>0</td>\n      <td>0</td>\n      <td>0</td>\n      <td>0</td>\n      <td>0</td>\n      <td>0</td>\n    </tr>\n    <tr>\n      <th>4</th>\n      <td>ChIJxaITmQia0S0RyrbukE8vsJU</td>\n      <td>[tourist_attraction, place_of_worship]</td>\n      <td>This temple is located in Singaraja, located i...</td>\n      <td>user_4426</td>\n      <td>0.569762</td>\n      <td>Klenteng Ling Gwan Kiong</td>\n      <td>place_of_worship</td>\n      <td>4.6</td>\n      <td>142.0</td>\n      <td>0</td>\n      <td>...</td>\n      <td>1</td>\n      <td>0</td>\n      <td>0</td>\n      <td>0</td>\n      <td>0</td>\n      <td>0</td>\n      <td>0</td>\n      <td>0</td>\n      <td>0</td>\n      <td>0</td>\n    </tr>\n  </tbody>\n</table>\n<p>5 rows × 135 columns</p>\n</div>"
     },
     "execution_count": 2,
     "metadata": {},
     "output_type": "execute_result"
    }
   ],
   "source": [
    "from sklearn.preprocessing import MultiLabelBinarizer\n",
    "\n",
    "user_place_reviews['types_x'] = user_place_reviews['types_x'].str.split(', ')\n",
    "\n",
    "mlb = MultiLabelBinarizer()\n",
    "one_hot = mlb.fit_transform(user_place_reviews['types_x'])\n",
    "\n",
    "one_hot_df = pd.DataFrame(one_hot, columns=mlb.classes_)\n",
    "\n",
    "user_place_reviews = pd.concat([user_place_reviews, one_hot_df], axis=1)\n",
    "\n",
    "user_place_reviews = user_place_reviews.drop_duplicates(subset=['user_id', 'id'])\n",
    "\n",
    "# user_place_reviews = user_place_reviews.drop(columns=['types_x'])\n",
    "\n",
    "user_place_reviews.head()"
   ],
   "metadata": {
    "collapsed": false,
    "ExecuteTime": {
     "end_time": "2024-06-19T18:42:04.492531700Z",
     "start_time": "2024-06-19T18:42:04.343694Z"
    }
   },
   "id": "376410d70607aea8",
   "execution_count": 2
  },
  {
   "cell_type": "code",
   "outputs": [
    {
     "name": "stderr",
     "output_type": "stream",
     "text": [
      "/tmp/ipykernel_1340/3015403221.py:57: FutureWarning: DataFrame.applymap has been deprecated. Use DataFrame.map instead.\n",
      "  user_preferences[place_types] = user_preferences[place_types].applymap(lambda x: 1 if x > 0 else 0)\n"
     ]
    },
    {
     "data": {
      "text/plain": "  user_id  car_rental  art_gallery  museum  performing_arts_theater  \\\n0  user_1           0            0       0                        0   \n\n   hiking_area  national_park  night_club  park  tourist_attraction  ...  \\\n0            0              0           0     0                   0  ...   \n\n   turkish_restaurant  vietnamese_restaurant  cottage  guest_house  hostel  \\\n0                   0                      0        0            0       0   \n\n   hotel  lodging  motel  private_guest_room  resort_hotel  \n0      1        1      0                   0             1  \n\n[1 rows x 45 columns]",
      "text/html": "<div>\n<style scoped>\n    .dataframe tbody tr th:only-of-type {\n        vertical-align: middle;\n    }\n\n    .dataframe tbody tr th {\n        vertical-align: top;\n    }\n\n    .dataframe thead th {\n        text-align: right;\n    }\n</style>\n<table border=\"1\" class=\"dataframe\">\n  <thead>\n    <tr style=\"text-align: right;\">\n      <th></th>\n      <th>user_id</th>\n      <th>car_rental</th>\n      <th>art_gallery</th>\n      <th>museum</th>\n      <th>performing_arts_theater</th>\n      <th>hiking_area</th>\n      <th>national_park</th>\n      <th>night_club</th>\n      <th>park</th>\n      <th>tourist_attraction</th>\n      <th>...</th>\n      <th>turkish_restaurant</th>\n      <th>vietnamese_restaurant</th>\n      <th>cottage</th>\n      <th>guest_house</th>\n      <th>hostel</th>\n      <th>hotel</th>\n      <th>lodging</th>\n      <th>motel</th>\n      <th>private_guest_room</th>\n      <th>resort_hotel</th>\n    </tr>\n  </thead>\n  <tbody>\n    <tr>\n      <th>0</th>\n      <td>user_1</td>\n      <td>0</td>\n      <td>0</td>\n      <td>0</td>\n      <td>0</td>\n      <td>0</td>\n      <td>0</td>\n      <td>0</td>\n      <td>0</td>\n      <td>0</td>\n      <td>...</td>\n      <td>0</td>\n      <td>0</td>\n      <td>0</td>\n      <td>0</td>\n      <td>0</td>\n      <td>1</td>\n      <td>1</td>\n      <td>0</td>\n      <td>0</td>\n      <td>1</td>\n    </tr>\n  </tbody>\n</table>\n<p>1 rows × 45 columns</p>\n</div>"
     },
     "execution_count": 3,
     "metadata": {},
     "output_type": "execute_result"
    }
   ],
   "source": [
    "# List of place type columns\n",
    "place_types = [\n",
    "    \"car_rental\",\n",
    "    \"art_gallery\",\n",
    "    \"museum\",\n",
    "    \"performing_arts_theater\",\n",
    "    \"hiking_area\",\n",
    "    \"national_park\",\n",
    "    \"night_club\",\n",
    "    \"park\",\n",
    "    \"tourist_attraction\",\n",
    "    \"zoo\",\n",
    "    \"american_restaurant\",\n",
    "    \"bar\",\n",
    "    \"barbecue_restaurant\",\n",
    "    \"cafe\",\n",
    "    \"chinese_restaurant\",\n",
    "    \"coffee_shop\",\n",
    "    \"fast_food_restaurant\",\n",
    "    \"french_restaurant\",\n",
    "    \"greek_restaurant\",\n",
    "    \"indian_restaurant\",\n",
    "    \"indonesian_restaurant\",\n",
    "    \"italian_restaurant\",\n",
    "    \"japanese_restaurant\",\n",
    "    \"korean_restaurant\",\n",
    "    \"lebanese_restaurant\",\n",
    "    \"mediterranean_restaurant\",\n",
    "    \"mexican_restaurant\",\n",
    "    \"middle_eastern_restaurant\",\n",
    "    \"restaurant\",\n",
    "    \"seafood_restaurant\",\n",
    "    \"spanish_restaurant\",\n",
    "    \"steak_house\",\n",
    "    \"sushi_restaurant\",\n",
    "    \"thai_restaurant\",\n",
    "    \"turkish_restaurant\",\n",
    "    \"vietnamese_restaurant\",\n",
    "    \"cottage\",\n",
    "    \"guest_house\",\n",
    "    \"hostel\",\n",
    "    \"hotel\",\n",
    "    \"lodging\",\n",
    "    \"motel\",\n",
    "    \"private_guest_room\",\n",
    "    \"resort_hotel\"\n",
    "]\n",
    "\n",
    "\n",
    "# Sum the place type columns for each user to get their preferences\n",
    "user_preferences = user_place_reviews.groupby('user_id')[place_types].sum().reset_index()\n",
    "\n",
    "# Normalize the preferences\n",
    "user_preferences[place_types] = user_preferences[place_types].div(user_preferences[place_types].sum(axis=1), axis=0)\n",
    "\n",
    "# Replace non zero values with 1\n",
    "user_preferences[place_types] = user_preferences[place_types].applymap(lambda x: 1 if x > 0 else 0)\n",
    "\n",
    "user_preferences.head(1)\n"
   ],
   "metadata": {
    "collapsed": false,
    "ExecuteTime": {
     "end_time": "2024-06-19T18:42:07.595271200Z",
     "start_time": "2024-06-19T18:42:07.412698100Z"
    }
   },
   "id": "d12d4ae82385ac4d",
   "execution_count": 3
  },
  {
   "cell_type": "code",
   "outputs": [
    {
     "name": "stderr",
     "output_type": "stream",
     "text": [
      "/tmp/ipykernel_1340/2755793207.py:5: FutureWarning: DataFrame.applymap has been deprecated. Use DataFrame.map instead.\n",
      "  user_preferences[place_types] = user_preferences[place_types].applymap(lambda x: 1 if x > 0 else 0)\n",
      "2024-06-20 01:42:11.593988: I external/local_xla/xla/stream_executor/cuda/cuda_executor.cc:887] could not open file to read NUMA node: /sys/bus/pci/devices/0000:01:00.0/numa_node\n",
      "Your kernel may have been built without NUMA support.\n"
     ]
    },
    {
     "name": "stdout",
     "output_type": "stream",
     "text": [
      "Model: \"model\"\n",
      "__________________________________________________________________________________________________\n",
      " Layer (type)                Output Shape                 Param #   Connected to                  \n",
      "==================================================================================================\n",
      " user_input (InputLayer)     [(None, 44)]                 0         []                            \n",
      "                                                                                                  \n",
      " place_input (InputLayer)    [(None, 44)]                 0         []                            \n",
      "                                                                                                  \n",
      " dense (Dense)               (None, 50)                   2250      ['user_input[0][0]']          \n",
      "                                                                                                  \n",
      " dense_1 (Dense)             (None, 50)                   2250      ['place_input[0][0]']         \n",
      "                                                                                                  \n",
      " concatenate (Concatenate)   (None, 100)                  0         ['dense[0][0]',               \n",
      "                                                                     'dense_1[0][0]']             \n",
      "                                                                                                  \n",
      " dense_2 (Dense)             (None, 128)                  12928     ['concatenate[0][0]']         \n",
      "                                                                                                  \n",
      " dense_3 (Dense)             (None, 64)                   8256      ['dense_2[0][0]']             \n",
      "                                                                                                  \n",
      " dense_4 (Dense)             (None, 1)                    65        ['dense_3[0][0]']             \n",
      "                                                                                                  \n",
      "==================================================================================================\n",
      "Total params: 25749 (100.58 KB)\n",
      "Trainable params: 25749 (100.58 KB)\n",
      "Non-trainable params: 0 (0.00 Byte)\n",
      "__________________________________________________________________________________________________\n"
     ]
    },
    {
     "name": "stderr",
     "output_type": "stream",
     "text": [
      "2024-06-20 01:42:11.864657: I external/local_xla/xla/stream_executor/cuda/cuda_executor.cc:887] could not open file to read NUMA node: /sys/bus/pci/devices/0000:01:00.0/numa_node\n",
      "Your kernel may have been built without NUMA support.\n",
      "2024-06-20 01:42:11.864727: I external/local_xla/xla/stream_executor/cuda/cuda_executor.cc:887] could not open file to read NUMA node: /sys/bus/pci/devices/0000:01:00.0/numa_node\n",
      "Your kernel may have been built without NUMA support.\n",
      "2024-06-20 01:42:11.878399: I external/local_xla/xla/stream_executor/cuda/cuda_executor.cc:887] could not open file to read NUMA node: /sys/bus/pci/devices/0000:01:00.0/numa_node\n",
      "Your kernel may have been built without NUMA support.\n",
      "2024-06-20 01:42:11.878616: I external/local_xla/xla/stream_executor/cuda/cuda_executor.cc:887] could not open file to read NUMA node: /sys/bus/pci/devices/0000:01:00.0/numa_node\n",
      "Your kernel may have been built without NUMA support.\n",
      "2024-06-20 01:42:11.878685: I external/local_xla/xla/stream_executor/cuda/cuda_executor.cc:887] could not open file to read NUMA node: /sys/bus/pci/devices/0000:01:00.0/numa_node\n",
      "Your kernel may have been built without NUMA support.\n",
      "2024-06-20 01:42:12.322682: I external/local_xla/xla/stream_executor/cuda/cuda_executor.cc:887] could not open file to read NUMA node: /sys/bus/pci/devices/0000:01:00.0/numa_node\n",
      "Your kernel may have been built without NUMA support.\n",
      "2024-06-20 01:42:12.322760: I external/local_xla/xla/stream_executor/cuda/cuda_executor.cc:887] could not open file to read NUMA node: /sys/bus/pci/devices/0000:01:00.0/numa_node\n",
      "Your kernel may have been built without NUMA support.\n",
      "2024-06-20 01:42:12.322767: I tensorflow/core/common_runtime/gpu/gpu_device.cc:2022] Could not identify NUMA node of platform GPU id 0, defaulting to 0.  Your kernel may not have been built with NUMA support.\n",
      "2024-06-20 01:42:12.322802: I external/local_xla/xla/stream_executor/cuda/cuda_executor.cc:887] could not open file to read NUMA node: /sys/bus/pci/devices/0000:01:00.0/numa_node\n",
      "Your kernel may have been built without NUMA support.\n",
      "2024-06-20 01:42:12.322820: I tensorflow/core/common_runtime/gpu/gpu_device.cc:1929] Created device /job:localhost/replica:0/task:0/device:GPU:0 with 1767 MB memory:  -> device: 0, name: NVIDIA GeForce RTX 3050 Laptop GPU, pci bus id: 0000:01:00.0, compute capability: 8.6\n"
     ]
    },
    {
     "name": "stdout",
     "output_type": "stream",
     "text": [
      "None\n",
      "Epoch 1/15\n"
     ]
    },
    {
     "name": "stderr",
     "output_type": "stream",
     "text": [
      "2024-06-20 01:42:14.186875: I external/local_tsl/tsl/platform/default/subprocess.cc:304] Start cannot spawn child process: No such file or directory\n",
      "2024-06-20 01:42:14.853378: I external/local_xla/xla/service/service.cc:168] XLA service 0x7f496432d430 initialized for platform CUDA (this does not guarantee that XLA will be used). Devices:\n",
      "2024-06-20 01:42:14.853441: I external/local_xla/xla/service/service.cc:176]   StreamExecutor device (0): NVIDIA GeForce RTX 3050 Laptop GPU, Compute Capability 8.6\n",
      "2024-06-20 01:42:14.899688: I external/local_xla/xla/stream_executor/cuda/cuda_dnn.cc:454] Loaded cuDNN version 8907\n",
      "WARNING: All log messages before absl::InitializeLog() is called are written to STDERR\n",
      "I0000 00:00:1718822534.943205    1608 device_compiler.h:186] Compiled cluster using XLA!  This line is logged at most once for the lifetime of the process.\n"
     ]
    },
    {
     "name": "stdout",
     "output_type": "stream",
     "text": [
      "676/676 [==============================] - 12s 14ms/step - loss: 0.7006 - accuracy: 0.4943 - val_loss: 0.6982 - val_accuracy: 0.4994\n",
      "Epoch 2/15\n",
      "676/676 [==============================] - 8s 13ms/step - loss: 0.6948 - accuracy: 0.5066 - val_loss: 0.6977 - val_accuracy: 0.4974\n",
      "Epoch 3/15\n",
      "676/676 [==============================] - 8s 12ms/step - loss: 0.6927 - accuracy: 0.5173 - val_loss: 0.6971 - val_accuracy: 0.4971\n",
      "Epoch 4/15\n",
      "676/676 [==============================] - 8s 11ms/step - loss: 0.6915 - accuracy: 0.5179 - val_loss: 0.6972 - val_accuracy: 0.4956\n",
      "Epoch 5/15\n",
      "676/676 [==============================] - 8s 12ms/step - loss: 0.6904 - accuracy: 0.5267 - val_loss: 0.6967 - val_accuracy: 0.4973\n",
      "Epoch 6/15\n",
      "676/676 [==============================] - 8s 12ms/step - loss: 0.6892 - accuracy: 0.5314 - val_loss: 0.6984 - val_accuracy: 0.5004\n",
      "Epoch 7/15\n",
      "676/676 [==============================] - 8s 12ms/step - loss: 0.6884 - accuracy: 0.5371 - val_loss: 0.6973 - val_accuracy: 0.4992\n",
      "Epoch 8/15\n",
      "676/676 [==============================] - 8s 12ms/step - loss: 0.6873 - accuracy: 0.5429 - val_loss: 0.6967 - val_accuracy: 0.5009\n",
      "Epoch 9/15\n",
      "676/676 [==============================] - 10s 15ms/step - loss: 0.6866 - accuracy: 0.5410 - val_loss: 0.6968 - val_accuracy: 0.5016\n",
      "Epoch 10/15\n",
      "676/676 [==============================] - 10s 14ms/step - loss: 0.6858 - accuracy: 0.5492 - val_loss: 0.6972 - val_accuracy: 0.5024\n",
      "Epoch 11/15\n",
      "676/676 [==============================] - 10s 14ms/step - loss: 0.6852 - accuracy: 0.5538 - val_loss: 0.6973 - val_accuracy: 0.5052\n",
      "Epoch 12/15\n",
      "676/676 [==============================] - 11s 16ms/step - loss: 0.6842 - accuracy: 0.5522 - val_loss: 0.6976 - val_accuracy: 0.5019\n",
      "Epoch 13/15\n",
      "676/676 [==============================] - 11s 16ms/step - loss: 0.6836 - accuracy: 0.5527 - val_loss: 0.6977 - val_accuracy: 0.4992\n",
      "Epoch 14/15\n",
      "676/676 [==============================] - 9s 14ms/step - loss: 0.6827 - accuracy: 0.5581 - val_loss: 0.6980 - val_accuracy: 0.5023\n",
      "Epoch 15/15\n",
      "676/676 [==============================] - 10s 15ms/step - loss: 0.6817 - accuracy: 0.5609 - val_loss: 0.6998 - val_accuracy: 0.4996\n"
     ]
    }
   ],
   "source": [
    "\n",
    "\n",
    "# Normalize the preferences\n",
    "user_preferences[place_types] = user_preferences[place_types].div(user_preferences[place_types].sum(axis=1), axis=0)\n",
    "\n",
    "# Replace non-zero values with 1\n",
    "user_preferences[place_types] = user_preferences[place_types].applymap(lambda x: 1 if x > 0 else 0)\n",
    "\n",
    "# Merge data with user preferences to align place features with user preferences\n",
    "merged_data = user_place_reviews.merge(user_preferences, on='user_id', suffixes=('', '_user'))\n",
    "\n",
    "# Prepare user features and place features for each review\n",
    "user_features = merged_data[[f'{ptype}_user' for ptype in place_types]].values\n",
    "place_features = merged_data[place_types].values\n",
    "\n",
    "# Normalize features\n",
    "scaler = StandardScaler()\n",
    "user_features_scaled = scaler.fit_transform(user_features)\n",
    "place_features_scaled = scaler.fit_transform(place_features)\n",
    "\n",
    "# Generate labels (assuming binary relevance for simplicity)\n",
    "labels = np.random.randint(2, size=(len(user_features),))\n",
    "\n",
    "# Split into train and test sets\n",
    "user_train, user_test, place_train, place_test, y_train, y_test = train_test_split(\n",
    "    user_features_scaled, place_features_scaled, labels, test_size=0.3, random_state=42\n",
    ")\n",
    "\n",
    "# Hyperparameters\n",
    "embedding_dim = 50\n",
    "\n",
    "# User model\n",
    "user_input = Input(shape=(len(place_types),), name='user_input')\n",
    "user_embedding = Dense(embedding_dim, activation='relu')(user_input)\n",
    "\n",
    "# Place model\n",
    "place_input = Input(shape=(len(place_types),), name='place_input')\n",
    "place_embedding = Dense(embedding_dim, activation='relu')(place_input)\n",
    "\n",
    "# Concatenate user and place embeddings\n",
    "merged = Concatenate()([user_embedding, place_embedding])\n",
    "dense_1 = Dense(128, activation='relu')(merged)\n",
    "dense_2 = Dense(64, activation='relu')(dense_1)\n",
    "output = Dense(1, activation='sigmoid')(dense_2)\n",
    "\n",
    "# Create and compile the model\n",
    "model = Model(inputs=[user_input, place_input], outputs=output)\n",
    "model.compile(optimizer=tf.keras.optimizers.SGD(learning_rate=0.01), loss='binary_crossentropy', metrics=['accuracy'])\n",
    "\n",
    "print(model.summary())\n",
    "\n",
    "# Fit the model\n",
    "history = model.fit(\n",
    "    [user_train, place_train],\n",
    "    y_train,\n",
    "    epochs=15,\n",
    "    batch_size=32,\n",
    "    validation_data=([user_test, place_test], y_test)\n",
    ")\n",
    "\n",
    "# Save the model\n",
    "model.save('user_pref_modelV5.keras')\n"
   ],
   "metadata": {
    "collapsed": false,
    "ExecuteTime": {
     "end_time": "2024-06-19T18:44:31.175695600Z",
     "start_time": "2024-06-19T18:42:10.750929Z"
    }
   },
   "id": "8f13e8d3fee5915",
   "execution_count": 4
  },
  {
   "cell_type": "code",
   "outputs": [
    {
     "name": "stdout",
     "output_type": "stream",
     "text": [
      "3/3 [==============================] - 0s 11ms/step\n",
      "Top Recommendations for user_2702 with types ['bar']:\n",
      "---------------------------------\n",
      "Name: SUGAR DADDY TABANAN ( BAR & KARAOKE)\n",
      "Type: bar\n",
      "Rating: 5.0\n",
      "---------------------------------\n",
      "Name: The Grill at LUXE\n",
      "Type: steak_house\n",
      "Rating: 4.8\n",
      "---------------------------------\n",
      "Name: Uma Cucina\n",
      "Type: italian_restaurant\n",
      "Rating: 4.7\n",
      "---------------------------------\n",
      "Name: Lazy Cats Cafe\n",
      "Type: vegetarian_restaurant\n",
      "Rating: 4.4\n",
      "---------------------------------\n",
      "Name: STAR KTV & BAR\n",
      "Type: bar\n",
      "Rating: 3.8\n",
      "---------------------------------\n"
     ]
    }
   ],
   "source": [
    "def recommend_places(selected_types, user_id=None, top_n=20):\n",
    "    # Get user preferences\n",
    "    if user_id:\n",
    "        user_pref = user_preferences[user_preferences['user_id'] == user_id][place_types].values\n",
    "    else:\n",
    "        user_pref = np.random.randint(2, size=(1, len(place_types)))\n",
    "\n",
    "    filtered_places = user_place_reviews[user_place_reviews[selected_types].any(axis=1)]\n",
    "\n",
    "    place_features = filtered_places[place_types].drop_duplicates().values\n",
    "    place_ids = filtered_places['id'].drop_duplicates().values\n",
    "\n",
    "    place_features_scaled = scaler.transform(place_features)\n",
    "    user_pref_scaled = scaler.transform(np.repeat(user_pref, len(place_features), axis=0))\n",
    "\n",
    "    predictions = model.predict([user_pref_scaled, place_features_scaled])\n",
    "\n",
    "    top_indices = np.argsort(predictions[:, 0])[-top_n:][::-1]\n",
    "    recommended_place_ids = place_ids[top_indices]\n",
    "\n",
    "    unique_recommendations = set(recommended_place_ids)\n",
    "    recommended_places = filtered_places[filtered_places['id'].isin(unique_recommendations)]\n",
    "    sorted_recommendations = recommended_places.sort_values(by='rating', ascending=False)\n",
    "    sorted_recommendations = sorted_recommendations.drop_duplicates(subset=['name'])\n",
    "\n",
    "    return sorted_recommendations[['name', 'primary-type', 'rating']]\n",
    "\n",
    "# Select a random user and type\n",
    "random_user = user_place_reviews['user_id'].sample(1).values[0]\n",
    "random_type = user_place_reviews['types_x'].sample(1).values[0]\n",
    "\n",
    "selected_user = 'user_1'\n",
    "selected_types = ['hotel', 'lodging']\n",
    "\n",
    "recommendations = recommend_places(random_type, top_n=5, user_id=random_user)\n",
    "\n",
    "print(f\"Top Recommendations for {random_user} with types {random_type}:\")\n",
    "print(\"---------------------------------\")\n",
    "for index, row in recommendations.iterrows():\n",
    "    print(f\"Name: {row['name']}\")\n",
    "    print(f\"Type: {row['primary-type']}\")\n",
    "    print(f\"Rating: {row['rating']}\")\n",
    "    print(\"---------------------------------\")\n"
   ],
   "metadata": {
    "collapsed": false,
    "ExecuteTime": {
     "end_time": "2024-06-19T18:49:21.367867400Z",
     "start_time": "2024-06-19T18:49:21.165136Z"
    }
   },
   "id": "74ca2533959c48cb",
   "execution_count": 11
  },
  {
   "cell_type": "code",
   "outputs": [],
   "source": [],
   "metadata": {
    "collapsed": false
   },
   "id": "f5caabe14488d647"
  }
 ],
 "metadata": {
  "kernelspec": {
   "display_name": "Python 3",
   "language": "python",
   "name": "python3"
  },
  "language_info": {
   "codemirror_mode": {
    "name": "ipython",
    "version": 2
   },
   "file_extension": ".py",
   "mimetype": "text/x-python",
   "name": "python",
   "nbconvert_exporter": "python",
   "pygments_lexer": "ipython2",
   "version": "2.7.6"
  }
 },
 "nbformat": 4,
 "nbformat_minor": 5
}
