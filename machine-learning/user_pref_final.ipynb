{
 "cells": [
  {
   "cell_type": "code",
   "id": "initial_id",
   "metadata": {
    "collapsed": true,
    "ExecuteTime": {
     "end_time": "2024-06-21T14:09:44.830382Z",
     "start_time": "2024-06-21T14:09:41.121491Z"
    }
   },
   "source": [
    "# Import necessary libraries\n",
    "import pandas as pd\n",
    "import numpy as np\n",
    "from sklearn.model_selection import train_test_split\n",
    "from sklearn.preprocessing import StandardScaler, MultiLabelBinarizer\n",
    "import tensorflow as tf\n",
    "from tensorflow.keras import Model\n",
    "from tensorflow.keras.layers import Input, Dense, Concatenate"
   ],
   "outputs": [],
   "execution_count": 1
  },
  {
   "metadata": {
    "ExecuteTime": {
     "end_time": "2024-06-21T14:09:44.835390Z",
     "start_time": "2024-06-21T14:09:44.831389Z"
    }
   },
   "cell_type": "code",
   "source": [
    "# Constants\n",
    "PLACE_TYPES = [\n",
    "    \"car_rental\", \"art_gallery\", \"museum\", \"performing_arts_theater\", \"hiking_area\",\n",
    "    \"national_park\", \"night_club\", \"park\", \"tourist_attraction\", \"zoo\",\n",
    "    \"american_restaurant\", \"bar\", \"barbecue_restaurant\", \"cafe\", \"chinese_restaurant\",\n",
    "    \"coffee_shop\", \"fast_food_restaurant\", \"french_restaurant\", \"greek_restaurant\",\n",
    "    \"indian_restaurant\", \"indonesian_restaurant\", \"italian_restaurant\",\n",
    "    \"japanese_restaurant\", \"korean_restaurant\", \"lebanese_restaurant\",\n",
    "    \"mediterranean_restaurant\", \"mexican_restaurant\", \"middle_eastern_restaurant\",\n",
    "    \"restaurant\", \"seafood_restaurant\", \"spanish_restaurant\", \"steak_house\",\n",
    "    \"sushi_restaurant\", \"thai_restaurant\", \"turkish_restaurant\", \"vietnamese_restaurant\",\n",
    "    \"cottage\", \"guest_house\", \"hostel\", \"hotel\", \"lodging\", \"motel\", \"private_guest_room\",\n",
    "    \"resort_hotel\"\n",
    "]"
   ],
   "id": "86674b69bcdc71aa",
   "outputs": [],
   "execution_count": 2
  },
  {
   "metadata": {
    "ExecuteTime": {
     "end_time": "2024-06-21T14:09:44.857619Z",
     "start_time": "2024-06-21T14:09:44.836407Z"
    }
   },
   "cell_type": "code",
   "source": [
    "# Function to load and preprocess data\n",
    "def load_and_preprocess_data():\n",
    "    places_data = pd.read_csv(\"final-dataset/dataset_main.csv\")\n",
    "    reviews_data = pd.read_csv(\"final-dataset/dataset_reviews.csv\")\n",
    "\n",
    "    # Merge datasets on 'id'\n",
    "    user_place_reviews = pd.merge(reviews_data, places_data, on='id')\n",
    "\n",
    "    # Drop irrelevant columns\n",
    "    user_place_reviews = user_place_reviews.drop(columns=[\n",
    "        'review_number', 'latitude', 'longitude', 'address', 'url', 'status', 'phone',\n",
    "        'types_y', 'price-level', 'review 1', 'review 2', 'review 3', 'review 4', 'review 5'\n",
    "    ])\n",
    "\n",
    "    # Split 'types_x' into multiple types\n",
    "    user_place_reviews['types_x'] = user_place_reviews['types_x'].str.split(', ')\n",
    "\n",
    "    # One-hot encode 'types_x'\n",
    "    mlb = MultiLabelBinarizer()\n",
    "    one_hot = mlb.fit_transform(user_place_reviews['types_x'])\n",
    "    one_hot_df = pd.DataFrame(one_hot, columns=mlb.classes_)\n",
    "    user_place_reviews = pd.concat([user_place_reviews, one_hot_df], axis=1)\n",
    "\n",
    "    # Remove duplicates\n",
    "    user_place_reviews = user_place_reviews.drop_duplicates(subset=['user_id', 'id'])\n",
    "\n",
    "    # Compute user preferences\n",
    "    user_preferences = user_place_reviews.groupby('user_id')[PLACE_TYPES].sum().reset_index()\n",
    "    user_preferences[PLACE_TYPES] = user_preferences[PLACE_TYPES].div(\n",
    "        user_preferences[PLACE_TYPES].sum(axis=1), axis=0\n",
    "    )\n",
    "    user_preferences[PLACE_TYPES] = user_preferences[PLACE_TYPES].applymap(lambda x: 1 if x > 0 else 0)\n",
    "    \n",
    "    user_place_reviews.to_csv('other-dataset/place_reviews.csv', index=False)\n",
    "    user_preferences.to_csv('other-dataset/user_preferences.csv', index=False)\n",
    "\n",
    "    return user_place_reviews, user_preferences"
   ],
   "id": "662e1ee6b7d03084",
   "outputs": [],
   "execution_count": 3
  },
  {
   "metadata": {
    "ExecuteTime": {
     "end_time": "2024-06-21T14:09:44.862343Z",
     "start_time": "2024-06-21T14:09:44.859706Z"
    }
   },
   "cell_type": "code",
   "source": "",
   "id": "e9e4814a7d51ebc9",
   "outputs": [],
   "execution_count": 3
  },
  {
   "metadata": {
    "ExecuteTime": {
     "end_time": "2024-06-21T14:09:44.868174Z",
     "start_time": "2024-06-21T14:09:44.863359Z"
    }
   },
   "cell_type": "code",
   "source": [
    "def create_model(input_dim, embedding_dim=50):\n",
    "    # User model\n",
    "    user_input = Input(shape=(input_dim,), name='user_input')\n",
    "    user_embedding = Dense(embedding_dim, activation='relu')(user_input)\n",
    "\n",
    "    # Place model\n",
    "    place_input = Input(shape=(input_dim,), name='place_input')\n",
    "    place_embedding = Dense(embedding_dim, activation='relu')(place_input)\n",
    "\n",
    "    # Concatenate embeddings\n",
    "    merged = Concatenate()([user_embedding, place_embedding])\n",
    "    dense_1 = Dense(128, activation='relu')(merged)\n",
    "    dense_2 = Dense(64, activation='relu')(dense_1)\n",
    "    output = Dense(1, activation='sigmoid')(dense_2)\n",
    "\n",
    "    # Create model\n",
    "    model = Model(inputs=[user_input, place_input], outputs=output)\n",
    "    model.compile(optimizer=tf.keras.optimizers.SGD(learning_rate=0.01), loss='binary_crossentropy', metrics=['accuracy'])\n",
    "    \n",
    "    return model"
   ],
   "id": "7107de4e5144ebb2",
   "outputs": [],
   "execution_count": 4
  },
  {
   "metadata": {
    "ExecuteTime": {
     "end_time": "2024-06-21T14:09:44.875719Z",
     "start_time": "2024-06-21T14:09:44.869182Z"
    }
   },
   "cell_type": "code",
   "source": [
    "# Function to recommend places\n",
    "def recommend_places(model, user_preferences, user_place_reviews, selected_types, scaler, user_id=None, top_n=20):\n",
    "    # Get user preferences\n",
    "    if user_id:\n",
    "        user_pref = user_preferences[user_preferences['user_id'] == user_id][PLACE_TYPES].values\n",
    "    else:\n",
    "        user_pref = np.random.randint(2, size=(1, len(PLACE_TYPES)))\n",
    "\n",
    "    # Filter places by selected types\n",
    "    filtered_places = user_place_reviews[user_place_reviews[selected_types].any(axis=1)]\n",
    "\n",
    "    place_features = filtered_places[PLACE_TYPES].drop_duplicates().values\n",
    "    place_ids = filtered_places['id'].drop_duplicates().values\n",
    "\n",
    "    place_features_scaled = scaler.transform(place_features)\n",
    "    user_pref_scaled = scaler.transform(np.repeat(user_pref, len(place_features), axis=0))\n",
    "\n",
    "    predictions = model.predict([user_pref_scaled, place_features_scaled])\n",
    "\n",
    "    top_indices = np.argsort(predictions[:, 0])[-top_n:][::-1]\n",
    "    recommended_place_ids = place_ids[top_indices]\n",
    "\n",
    "    unique_recommendations = set(recommended_place_ids)\n",
    "    recommended_places = filtered_places[filtered_places['id'].isin(unique_recommendations)]\n",
    "    sorted_recommendations = recommended_places.sort_values(by='rating', ascending=False)\n",
    "    sorted_recommendations = sorted_recommendations.drop_duplicates(subset=['name'])\n",
    "\n",
    "    return sorted_recommendations[['name', 'primary-type', 'rating']]"
   ],
   "id": "c440dbb560460f6e",
   "outputs": [],
   "execution_count": 5
  },
  {
   "metadata": {
    "ExecuteTime": {
     "end_time": "2024-06-21T14:09:44.883425Z",
     "start_time": "2024-06-21T14:09:44.876736Z"
    }
   },
   "cell_type": "code",
   "source": [
    "# Main execution\n",
    "def main():\n",
    "    np.random.seed(42)\n",
    "    tf.random.set_seed(42)\n",
    "\n",
    "    # Load and preprocess data\n",
    "    user_place_reviews, user_preferences = load_and_preprocess_data()\n",
    "\n",
    "    # Merge data with user preferences\n",
    "    merged_data = user_place_reviews.merge(user_preferences, on='user_id', suffixes=('', '_user'))\n",
    "    \n",
    "    merged_data.to_csv('other-dataset/merged_data.csv', index=False)\n",
    "\n",
    "    # Prepare features\n",
    "    user_features = merged_data[[f'{ptype}_user' for ptype in PLACE_TYPES]].values\n",
    "    place_features = merged_data[PLACE_TYPES].values\n",
    "\n",
    "    # Normalize features\n",
    "    scaler = StandardScaler()\n",
    "    user_features_scaled = scaler.fit_transform(user_features)\n",
    "    place_features_scaled = scaler.fit_transform(place_features)\n",
    "\n",
    "    # Generate labels\n",
    "    labels = np.random.randint(2, size=(len(user_features),))\n",
    "\n",
    "    # Split data into train and test sets\n",
    "    user_train, user_test, place_train, place_test, y_train, y_test = train_test_split(\n",
    "        user_features_scaled, place_features_scaled, labels, test_size=0.3, random_state=42\n",
    "    )\n",
    "\n",
    "    # Create and train the model\n",
    "    model = create_model(input_dim=len(PLACE_TYPES))\n",
    "    model.summary()\n",
    "\n",
    "    history = model.fit(\n",
    "        [user_train, place_train], y_train,\n",
    "        epochs=15, batch_size=32,\n",
    "        validation_data=([user_test, place_test], y_test)\n",
    "    )\n",
    "\n",
    "    # Save the model\n",
    "    # model.save('user_pref_model.keras')\n",
    "\n",
    "    # Make recommendations\n",
    "    random_user = user_place_reviews['user_id'].sample(1).values[0]\n",
    "    selected_types = ['hotel', 'lodging']\n",
    "\n",
    "    recommendations = recommend_places(model, user_preferences, user_place_reviews, selected_types, scaler, user_id=random_user, top_n=5)\n",
    "    model.save('other-dataset/user_pref.keras')\n",
    "\n",
    "    print(f\"Top Recommendations for user {random_user}:\")\n",
    "    print(recommendations)"
   ],
   "id": "8df3024aaf3bdced",
   "outputs": [],
   "execution_count": 6
  },
  {
   "metadata": {
    "ExecuteTime": {
     "end_time": "2024-06-21T14:09:59.989278Z",
     "start_time": "2024-06-21T14:09:44.884434Z"
    }
   },
   "cell_type": "code",
   "source": [
    "if __name__ == \"__main__\":\n",
    "    main()"
   ],
   "id": "e5eb7dad2b77a59f",
   "outputs": [
    {
     "name": "stderr",
     "output_type": "stream",
     "text": [
      "C:\\Users\\angger\\AppData\\Local\\Temp\\ipykernel_21640\\2941620544.py:32: FutureWarning: DataFrame.applymap has been deprecated. Use DataFrame.map instead.\n",
      "  user_preferences[PLACE_TYPES] = user_preferences[PLACE_TYPES].applymap(lambda x: 1 if x > 0 else 0)\n"
     ]
    },
    {
     "data": {
      "text/plain": [
       "\u001B[1mModel: \"functional_1\"\u001B[0m\n"
      ],
      "text/html": [
       "<pre style=\"white-space:pre;overflow-x:auto;line-height:normal;font-family:Menlo,'DejaVu Sans Mono',consolas,'Courier New',monospace\"><span style=\"font-weight: bold\">Model: \"functional_1\"</span>\n",
       "</pre>\n"
      ]
     },
     "metadata": {},
     "output_type": "display_data"
    },
    {
     "data": {
      "text/plain": [
       "┏━━━━━━━━━━━━━━━━━━━━━┳━━━━━━━━━━━━━━━━━━━┳━━━━━━━━━━━━┳━━━━━━━━━━━━━━━━━━━┓\n",
       "┃\u001B[1m \u001B[0m\u001B[1mLayer (type)       \u001B[0m\u001B[1m \u001B[0m┃\u001B[1m \u001B[0m\u001B[1mOutput Shape     \u001B[0m\u001B[1m \u001B[0m┃\u001B[1m \u001B[0m\u001B[1m   Param #\u001B[0m\u001B[1m \u001B[0m┃\u001B[1m \u001B[0m\u001B[1mConnected to     \u001B[0m\u001B[1m \u001B[0m┃\n",
       "┡━━━━━━━━━━━━━━━━━━━━━╇━━━━━━━━━━━━━━━━━━━╇━━━━━━━━━━━━╇━━━━━━━━━━━━━━━━━━━┩\n",
       "│ user_input          │ (\u001B[38;5;45mNone\u001B[0m, \u001B[38;5;34m44\u001B[0m)        │          \u001B[38;5;34m0\u001B[0m │ -                 │\n",
       "│ (\u001B[38;5;33mInputLayer\u001B[0m)        │                   │            │                   │\n",
       "├─────────────────────┼───────────────────┼────────────┼───────────────────┤\n",
       "│ place_input         │ (\u001B[38;5;45mNone\u001B[0m, \u001B[38;5;34m44\u001B[0m)        │          \u001B[38;5;34m0\u001B[0m │ -                 │\n",
       "│ (\u001B[38;5;33mInputLayer\u001B[0m)        │                   │            │                   │\n",
       "├─────────────────────┼───────────────────┼────────────┼───────────────────┤\n",
       "│ dense (\u001B[38;5;33mDense\u001B[0m)       │ (\u001B[38;5;45mNone\u001B[0m, \u001B[38;5;34m50\u001B[0m)        │      \u001B[38;5;34m2,250\u001B[0m │ user_input[\u001B[38;5;34m0\u001B[0m][\u001B[38;5;34m0\u001B[0m]  │\n",
       "├─────────────────────┼───────────────────┼────────────┼───────────────────┤\n",
       "│ dense_1 (\u001B[38;5;33mDense\u001B[0m)     │ (\u001B[38;5;45mNone\u001B[0m, \u001B[38;5;34m50\u001B[0m)        │      \u001B[38;5;34m2,250\u001B[0m │ place_input[\u001B[38;5;34m0\u001B[0m][\u001B[38;5;34m0\u001B[0m] │\n",
       "├─────────────────────┼───────────────────┼────────────┼───────────────────┤\n",
       "│ concatenate         │ (\u001B[38;5;45mNone\u001B[0m, \u001B[38;5;34m100\u001B[0m)       │          \u001B[38;5;34m0\u001B[0m │ dense[\u001B[38;5;34m0\u001B[0m][\u001B[38;5;34m0\u001B[0m],      │\n",
       "│ (\u001B[38;5;33mConcatenate\u001B[0m)       │                   │            │ dense_1[\u001B[38;5;34m0\u001B[0m][\u001B[38;5;34m0\u001B[0m]     │\n",
       "├─────────────────────┼───────────────────┼────────────┼───────────────────┤\n",
       "│ dense_2 (\u001B[38;5;33mDense\u001B[0m)     │ (\u001B[38;5;45mNone\u001B[0m, \u001B[38;5;34m128\u001B[0m)       │     \u001B[38;5;34m12,928\u001B[0m │ concatenate[\u001B[38;5;34m0\u001B[0m][\u001B[38;5;34m0\u001B[0m] │\n",
       "├─────────────────────┼───────────────────┼────────────┼───────────────────┤\n",
       "│ dense_3 (\u001B[38;5;33mDense\u001B[0m)     │ (\u001B[38;5;45mNone\u001B[0m, \u001B[38;5;34m64\u001B[0m)        │      \u001B[38;5;34m8,256\u001B[0m │ dense_2[\u001B[38;5;34m0\u001B[0m][\u001B[38;5;34m0\u001B[0m]     │\n",
       "├─────────────────────┼───────────────────┼────────────┼───────────────────┤\n",
       "│ dense_4 (\u001B[38;5;33mDense\u001B[0m)     │ (\u001B[38;5;45mNone\u001B[0m, \u001B[38;5;34m1\u001B[0m)         │         \u001B[38;5;34m65\u001B[0m │ dense_3[\u001B[38;5;34m0\u001B[0m][\u001B[38;5;34m0\u001B[0m]     │\n",
       "└─────────────────────┴───────────────────┴────────────┴───────────────────┘\n"
      ],
      "text/html": [
       "<pre style=\"white-space:pre;overflow-x:auto;line-height:normal;font-family:Menlo,'DejaVu Sans Mono',consolas,'Courier New',monospace\">┏━━━━━━━━━━━━━━━━━━━━━┳━━━━━━━━━━━━━━━━━━━┳━━━━━━━━━━━━┳━━━━━━━━━━━━━━━━━━━┓\n",
       "┃<span style=\"font-weight: bold\"> Layer (type)        </span>┃<span style=\"font-weight: bold\"> Output Shape      </span>┃<span style=\"font-weight: bold\">    Param # </span>┃<span style=\"font-weight: bold\"> Connected to      </span>┃\n",
       "┡━━━━━━━━━━━━━━━━━━━━━╇━━━━━━━━━━━━━━━━━━━╇━━━━━━━━━━━━╇━━━━━━━━━━━━━━━━━━━┩\n",
       "│ user_input          │ (<span style=\"color: #00d7ff; text-decoration-color: #00d7ff\">None</span>, <span style=\"color: #00af00; text-decoration-color: #00af00\">44</span>)        │          <span style=\"color: #00af00; text-decoration-color: #00af00\">0</span> │ -                 │\n",
       "│ (<span style=\"color: #0087ff; text-decoration-color: #0087ff\">InputLayer</span>)        │                   │            │                   │\n",
       "├─────────────────────┼───────────────────┼────────────┼───────────────────┤\n",
       "│ place_input         │ (<span style=\"color: #00d7ff; text-decoration-color: #00d7ff\">None</span>, <span style=\"color: #00af00; text-decoration-color: #00af00\">44</span>)        │          <span style=\"color: #00af00; text-decoration-color: #00af00\">0</span> │ -                 │\n",
       "│ (<span style=\"color: #0087ff; text-decoration-color: #0087ff\">InputLayer</span>)        │                   │            │                   │\n",
       "├─────────────────────┼───────────────────┼────────────┼───────────────────┤\n",
       "│ dense (<span style=\"color: #0087ff; text-decoration-color: #0087ff\">Dense</span>)       │ (<span style=\"color: #00d7ff; text-decoration-color: #00d7ff\">None</span>, <span style=\"color: #00af00; text-decoration-color: #00af00\">50</span>)        │      <span style=\"color: #00af00; text-decoration-color: #00af00\">2,250</span> │ user_input[<span style=\"color: #00af00; text-decoration-color: #00af00\">0</span>][<span style=\"color: #00af00; text-decoration-color: #00af00\">0</span>]  │\n",
       "├─────────────────────┼───────────────────┼────────────┼───────────────────┤\n",
       "│ dense_1 (<span style=\"color: #0087ff; text-decoration-color: #0087ff\">Dense</span>)     │ (<span style=\"color: #00d7ff; text-decoration-color: #00d7ff\">None</span>, <span style=\"color: #00af00; text-decoration-color: #00af00\">50</span>)        │      <span style=\"color: #00af00; text-decoration-color: #00af00\">2,250</span> │ place_input[<span style=\"color: #00af00; text-decoration-color: #00af00\">0</span>][<span style=\"color: #00af00; text-decoration-color: #00af00\">0</span>] │\n",
       "├─────────────────────┼───────────────────┼────────────┼───────────────────┤\n",
       "│ concatenate         │ (<span style=\"color: #00d7ff; text-decoration-color: #00d7ff\">None</span>, <span style=\"color: #00af00; text-decoration-color: #00af00\">100</span>)       │          <span style=\"color: #00af00; text-decoration-color: #00af00\">0</span> │ dense[<span style=\"color: #00af00; text-decoration-color: #00af00\">0</span>][<span style=\"color: #00af00; text-decoration-color: #00af00\">0</span>],      │\n",
       "│ (<span style=\"color: #0087ff; text-decoration-color: #0087ff\">Concatenate</span>)       │                   │            │ dense_1[<span style=\"color: #00af00; text-decoration-color: #00af00\">0</span>][<span style=\"color: #00af00; text-decoration-color: #00af00\">0</span>]     │\n",
       "├─────────────────────┼───────────────────┼────────────┼───────────────────┤\n",
       "│ dense_2 (<span style=\"color: #0087ff; text-decoration-color: #0087ff\">Dense</span>)     │ (<span style=\"color: #00d7ff; text-decoration-color: #00d7ff\">None</span>, <span style=\"color: #00af00; text-decoration-color: #00af00\">128</span>)       │     <span style=\"color: #00af00; text-decoration-color: #00af00\">12,928</span> │ concatenate[<span style=\"color: #00af00; text-decoration-color: #00af00\">0</span>][<span style=\"color: #00af00; text-decoration-color: #00af00\">0</span>] │\n",
       "├─────────────────────┼───────────────────┼────────────┼───────────────────┤\n",
       "│ dense_3 (<span style=\"color: #0087ff; text-decoration-color: #0087ff\">Dense</span>)     │ (<span style=\"color: #00d7ff; text-decoration-color: #00d7ff\">None</span>, <span style=\"color: #00af00; text-decoration-color: #00af00\">64</span>)        │      <span style=\"color: #00af00; text-decoration-color: #00af00\">8,256</span> │ dense_2[<span style=\"color: #00af00; text-decoration-color: #00af00\">0</span>][<span style=\"color: #00af00; text-decoration-color: #00af00\">0</span>]     │\n",
       "├─────────────────────┼───────────────────┼────────────┼───────────────────┤\n",
       "│ dense_4 (<span style=\"color: #0087ff; text-decoration-color: #0087ff\">Dense</span>)     │ (<span style=\"color: #00d7ff; text-decoration-color: #00d7ff\">None</span>, <span style=\"color: #00af00; text-decoration-color: #00af00\">1</span>)         │         <span style=\"color: #00af00; text-decoration-color: #00af00\">65</span> │ dense_3[<span style=\"color: #00af00; text-decoration-color: #00af00\">0</span>][<span style=\"color: #00af00; text-decoration-color: #00af00\">0</span>]     │\n",
       "└─────────────────────┴───────────────────┴────────────┴───────────────────┘\n",
       "</pre>\n"
      ]
     },
     "metadata": {},
     "output_type": "display_data"
    },
    {
     "data": {
      "text/plain": [
       "\u001B[1m Total params: \u001B[0m\u001B[38;5;34m25,749\u001B[0m (100.58 KB)\n"
      ],
      "text/html": [
       "<pre style=\"white-space:pre;overflow-x:auto;line-height:normal;font-family:Menlo,'DejaVu Sans Mono',consolas,'Courier New',monospace\"><span style=\"font-weight: bold\"> Total params: </span><span style=\"color: #00af00; text-decoration-color: #00af00\">25,749</span> (100.58 KB)\n",
       "</pre>\n"
      ]
     },
     "metadata": {},
     "output_type": "display_data"
    },
    {
     "data": {
      "text/plain": [
       "\u001B[1m Trainable params: \u001B[0m\u001B[38;5;34m25,749\u001B[0m (100.58 KB)\n"
      ],
      "text/html": [
       "<pre style=\"white-space:pre;overflow-x:auto;line-height:normal;font-family:Menlo,'DejaVu Sans Mono',consolas,'Courier New',monospace\"><span style=\"font-weight: bold\"> Trainable params: </span><span style=\"color: #00af00; text-decoration-color: #00af00\">25,749</span> (100.58 KB)\n",
       "</pre>\n"
      ]
     },
     "metadata": {},
     "output_type": "display_data"
    },
    {
     "data": {
      "text/plain": [
       "\u001B[1m Non-trainable params: \u001B[0m\u001B[38;5;34m0\u001B[0m (0.00 B)\n"
      ],
      "text/html": [
       "<pre style=\"white-space:pre;overflow-x:auto;line-height:normal;font-family:Menlo,'DejaVu Sans Mono',consolas,'Courier New',monospace\"><span style=\"font-weight: bold\"> Non-trainable params: </span><span style=\"color: #00af00; text-decoration-color: #00af00\">0</span> (0.00 B)\n",
       "</pre>\n"
      ]
     },
     "metadata": {},
     "output_type": "display_data"
    },
    {
     "name": "stdout",
     "output_type": "stream",
     "text": [
      "Epoch 1/15\n",
      "\u001B[1m676/676\u001B[0m \u001B[32m━━━━━━━━━━━━━━━━━━━━\u001B[0m\u001B[37m\u001B[0m \u001B[1m2s\u001B[0m 2ms/step - accuracy: 0.4980 - loss: 0.7010 - val_accuracy: 0.4933 - val_loss: 0.6972\n",
      "Epoch 2/15\n",
      "\u001B[1m676/676\u001B[0m \u001B[32m━━━━━━━━━━━━━━━━━━━━\u001B[0m\u001B[37m\u001B[0m \u001B[1m1s\u001B[0m 1ms/step - accuracy: 0.5080 - loss: 0.6946 - val_accuracy: 0.5004 - val_loss: 0.6960\n",
      "Epoch 3/15\n",
      "\u001B[1m676/676\u001B[0m \u001B[32m━━━━━━━━━━━━━━━━━━━━\u001B[0m\u001B[37m\u001B[0m \u001B[1m1s\u001B[0m 1ms/step - accuracy: 0.5160 - loss: 0.6927 - val_accuracy: 0.4994 - val_loss: 0.6958\n",
      "Epoch 4/15\n",
      "\u001B[1m676/676\u001B[0m \u001B[32m━━━━━━━━━━━━━━━━━━━━\u001B[0m\u001B[37m\u001B[0m \u001B[1m1s\u001B[0m 992us/step - accuracy: 0.5204 - loss: 0.6914 - val_accuracy: 0.5027 - val_loss: 0.6957\n",
      "Epoch 5/15\n",
      "\u001B[1m676/676\u001B[0m \u001B[32m━━━━━━━━━━━━━━━━━━━━\u001B[0m\u001B[37m\u001B[0m \u001B[1m1s\u001B[0m 1ms/step - accuracy: 0.5272 - loss: 0.6905 - val_accuracy: 0.5044 - val_loss: 0.6958\n",
      "Epoch 6/15\n",
      "\u001B[1m676/676\u001B[0m \u001B[32m━━━━━━━━━━━━━━━━━━━━\u001B[0m\u001B[37m\u001B[0m \u001B[1m1s\u001B[0m 1ms/step - accuracy: 0.5318 - loss: 0.6896 - val_accuracy: 0.5023 - val_loss: 0.6960\n",
      "Epoch 7/15\n",
      "\u001B[1m676/676\u001B[0m \u001B[32m━━━━━━━━━━━━━━━━━━━━\u001B[0m\u001B[37m\u001B[0m \u001B[1m1s\u001B[0m 1ms/step - accuracy: 0.5349 - loss: 0.6889 - val_accuracy: 0.5036 - val_loss: 0.6961\n",
      "Epoch 8/15\n",
      "\u001B[1m676/676\u001B[0m \u001B[32m━━━━━━━━━━━━━━━━━━━━\u001B[0m\u001B[37m\u001B[0m \u001B[1m1s\u001B[0m 1ms/step - accuracy: 0.5418 - loss: 0.6882 - val_accuracy: 0.5030 - val_loss: 0.6963\n",
      "Epoch 9/15\n",
      "\u001B[1m676/676\u001B[0m \u001B[32m━━━━━━━━━━━━━━━━━━━━\u001B[0m\u001B[37m\u001B[0m \u001B[1m1s\u001B[0m 1ms/step - accuracy: 0.5440 - loss: 0.6875 - val_accuracy: 0.5026 - val_loss: 0.6965\n",
      "Epoch 10/15\n",
      "\u001B[1m676/676\u001B[0m \u001B[32m━━━━━━━━━━━━━━━━━━━━\u001B[0m\u001B[37m\u001B[0m \u001B[1m1s\u001B[0m 1ms/step - accuracy: 0.5471 - loss: 0.6868 - val_accuracy: 0.4997 - val_loss: 0.6967\n",
      "Epoch 11/15\n",
      "\u001B[1m676/676\u001B[0m \u001B[32m━━━━━━━━━━━━━━━━━━━━\u001B[0m\u001B[37m\u001B[0m \u001B[1m1s\u001B[0m 1ms/step - accuracy: 0.5495 - loss: 0.6861 - val_accuracy: 0.4985 - val_loss: 0.6970\n",
      "Epoch 12/15\n",
      "\u001B[1m676/676\u001B[0m \u001B[32m━━━━━━━━━━━━━━━━━━━━\u001B[0m\u001B[37m\u001B[0m \u001B[1m1s\u001B[0m 1ms/step - accuracy: 0.5522 - loss: 0.6854 - val_accuracy: 0.4990 - val_loss: 0.6972\n",
      "Epoch 13/15\n",
      "\u001B[1m676/676\u001B[0m \u001B[32m━━━━━━━━━━━━━━━━━━━━\u001B[0m\u001B[37m\u001B[0m \u001B[1m1s\u001B[0m 1ms/step - accuracy: 0.5563 - loss: 0.6847 - val_accuracy: 0.4995 - val_loss: 0.6975\n",
      "Epoch 14/15\n",
      "\u001B[1m676/676\u001B[0m \u001B[32m━━━━━━━━━━━━━━━━━━━━\u001B[0m\u001B[37m\u001B[0m \u001B[1m1s\u001B[0m 998us/step - accuracy: 0.5582 - loss: 0.6840 - val_accuracy: 0.4991 - val_loss: 0.6978\n",
      "Epoch 15/15\n",
      "\u001B[1m676/676\u001B[0m \u001B[32m━━━━━━━━━━━━━━━━━━━━\u001B[0m\u001B[37m\u001B[0m \u001B[1m1s\u001B[0m 1000us/step - accuracy: 0.5599 - loss: 0.6832 - val_accuracy: 0.4998 - val_loss: 0.6980\n",
      "\u001B[1m3/3\u001B[0m \u001B[32m━━━━━━━━━━━━━━━━━━━━\u001B[0m\u001B[37m\u001B[0m \u001B[1m0s\u001B[0m 18ms/step\n",
      "Top Recommendations for user user_2246:\n",
      "                                      name        primary-type  rating\n",
      "132                    Umma Bali Menjangan               hotel     4.9\n",
      "12530         Doubleyou Homestay Pemuteran  private_guest_room     4.7\n",
      "24835           NAYA GAWANA Resort and Spa        resort_hotel     4.6\n",
      "12586      Spa Village Resort Tembok, Bali               hotel     4.5\n",
      "12541  Banyualit Spa 'n Resort Lovina Bali        resort_hotel     4.4\n"
     ]
    }
   ],
   "execution_count": 7
  },
  {
   "metadata": {
    "ExecuteTime": {
     "end_time": "2024-06-21T14:09:59.992681Z",
     "start_time": "2024-06-21T14:09:59.990289Z"
    }
   },
   "cell_type": "code",
   "source": "",
   "id": "d47684026ae9129c",
   "outputs": [],
   "execution_count": 7
  }
 ],
 "metadata": {
  "kernelspec": {
   "display_name": "Python 3",
   "language": "python",
   "name": "python3"
  },
  "language_info": {
   "codemirror_mode": {
    "name": "ipython",
    "version": 2
   },
   "file_extension": ".py",
   "mimetype": "text/x-python",
   "name": "python",
   "nbconvert_exporter": "python",
   "pygments_lexer": "ipython2",
   "version": "2.7.6"
  }
 },
 "nbformat": 4,
 "nbformat_minor": 5
}
