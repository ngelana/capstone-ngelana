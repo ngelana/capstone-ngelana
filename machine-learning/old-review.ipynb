{
 "cells": [
  {
   "cell_type": "code",
   "id": "initial_id",
   "metadata": {
    "collapsed": true
   },
   "source": [
    "import pandas as pd"
   ],
   "outputs": [],
   "execution_count": null
  },
  {
   "metadata": {},
   "cell_type": "code",
   "source": [
    "df = pd.read_csv('combined-dataset/combined_datasetV2.csv')\n",
    "df.dropna(subset=['rating', 'review 1', 'review 2', 'review 3', 'review 4', 'review 5'], inplace=True)"
   ],
   "id": "5ada291734004159",
   "outputs": [],
   "execution_count": null
  },
  {
   "metadata": {},
   "cell_type": "code",
   "source": [
    "filtered = df[df['rating-count'] >= 50]\n",
    "filtered.reset_index(drop=True, inplace=True)\n",
    "filtered = filtered[filtered['rating'] >= 3.5]\n",
    "filtered"
   ],
   "id": "24f83ff4336c8380",
   "outputs": [],
   "execution_count": null
  },
  {
   "metadata": {},
   "cell_type": "code",
   "source": [
    "review_columns = ['review 1', 'review 2', 'review 3', 'review 4', 'review 5']\n",
    "reviews_df = filtered.melt(id_vars=['id', 'types'], value_vars=review_columns, var_name='review_number', value_name='review')\n",
    "reviews_df.dropna(subset=['review'], inplace=True)\n",
    "reviews_df.reset_index(drop=True, inplace=True)"
   ],
   "id": "89dc713793cf43a1",
   "outputs": [],
   "execution_count": null
  },
  {
   "metadata": {},
   "cell_type": "code",
   "source": [
    "reviews_df"
   ],
   "id": "7f617b65270c22ee",
   "outputs": [],
   "execution_count": null
  },
  {
   "metadata": {},
   "cell_type": "code",
   "source": [
    "reviews_df.to_csv('combined-dataset/reviews_data.csv', index=False)"
   ],
   "id": "b6a87039c24dea71",
   "outputs": [],
   "execution_count": null
  },
  {
   "metadata": {},
   "cell_type": "code",
   "source": [
    "import random\n",
    "total_reviews = len(reviews_df)"
   ],
   "id": "8076f1b435dc8fb7",
   "outputs": [],
   "execution_count": null
  },
  {
   "metadata": {},
   "cell_type": "code",
   "source": [
    "unique_ratio = 0.5\n",
    "num_unique_users = int(total_reviews * unique_ratio)\n",
    "total_users = int(total_reviews / unique_ratio)"
   ],
   "id": "45eb8c35711391ce",
   "outputs": [],
   "execution_count": null
  },
  {
   "metadata": {},
   "cell_type": "code",
   "source": [
    "users_id = [f'user_{i + 1}' for i in range(total_users)]"
   ],
   "id": "8f262f675f3220d",
   "outputs": [],
   "execution_count": null
  },
  {
   "metadata": {},
   "cell_type": "code",
   "source": [
    "reviews_df['user_id'] = [random.choice(users_id) for _ in range(total_reviews)]"
   ],
   "id": "cf95f1856bdf2052",
   "outputs": [],
   "execution_count": null
  },
  {
   "metadata": {},
   "cell_type": "code",
   "source": [
    "user_review_counts = reviews_df['user_id'].value_counts()\n",
    "print(user_review_counts.describe())"
   ],
   "id": "860271318f445b8",
   "outputs": [],
   "execution_count": null
  },
  {
   "metadata": {},
   "cell_type": "code",
   "source": [
    "reviews_df"
   ],
   "id": "5e4eb7ffbf017b20",
   "outputs": [],
   "execution_count": null
  },
  {
   "metadata": {},
   "cell_type": "code",
   "source": [
    "from textblob import TextBlob\n",
    "from sklearn.preprocessing import MinMaxScaler\n",
    "reviews_df['sentiment'] = reviews_df['review'].apply(lambda review: TextBlob(review).sentiment.polarity)\n",
    "reviews_df['sentiment'] = MinMaxScaler().fit_transform(reviews_df[['sentiment']])"
   ],
   "id": "32ff3c16c9b80b9b",
   "outputs": [],
   "execution_count": null
  },
  {
   "metadata": {},
   "cell_type": "code",
   "source": [
    "reviews_df"
   ],
   "id": "2634a964cfb9fafc",
   "outputs": [],
   "execution_count": null
  },
  {
   "metadata": {},
   "cell_type": "code",
   "source": [
    "reviews_df['sentiment'] = ((reviews_df['sentiment'] - 0) / (1 - 0)) * (5 - 1) + 1"
   ],
   "id": "aca48c2f05b57e5b",
   "outputs": [],
   "execution_count": null
  },
  {
   "metadata": {},
   "cell_type": "code",
   "source": [
    "reviews_df"
   ],
   "id": "50691efbaddc1da7",
   "outputs": [],
   "execution_count": null
  },
  {
   "metadata": {},
   "cell_type": "code",
   "source": [
    "reviews_df.to_csv('combined-dataset/final_reviews_data.csv', index=False)"
   ],
   "id": "e414de18a1f62b82",
   "outputs": [],
   "execution_count": null
  },
  {
   "metadata": {},
   "cell_type": "code",
   "source": [
    "import pandas as pd\n",
    "import random\n",
    "from textblob import TextBlob\n",
    "import matplotlib.pyplot as plt\n",
    "\n",
    "# Load the reviews data\n",
    "reviews_df = pd.read_csv('combined-dataset/reviews_data.csv')\n",
    "\n",
    "# Calculate total number of reviews\n",
    "total_reviews = len(reviews_df)\n",
    "\n",
    "# Desired unique-to-multiple review ratio\n",
    "unique_ratio = 0.70\n",
    "\n",
    "# Number of unique users\n",
    "num_unique_users = int(total_reviews * unique_ratio)\n",
    "\n",
    "# Number of total users, including those with multiple reviews\n",
    "total_users = int(total_reviews / unique_ratio)  # Rough estimate\n",
    "\n",
    "# Generate synthetic user IDs\n",
    "user_ids = [f\"user_{i+1}\" for i in range(total_users)]\n",
    "\n",
    "# Determine reviews per user randomly\n",
    "min_reviews_per_user = 1\n",
    "max_reviews_per_user = 5  # Adjust as needed\n",
    "\n",
    "# Create a mapping of user_id to the number of reviews they will have\n",
    "user_review_map = {user_id: random.randint(min_reviews_per_user, max_reviews_per_user) for user_id in user_ids}\n",
    "\n",
    "# Flatten the user review assignment\n",
    "assigned_users = []\n",
    "for user_id, count in user_review_map.items():\n",
    "    assigned_users.extend([user_id] * count)\n",
    "\n",
    "# If there are more reviews than assigned users, extend the list randomly\n",
    "if len(assigned_users) < total_reviews:\n",
    "    extra_users = [random.choice(user_ids) for _ in range(total_reviews - len(assigned_users))]\n",
    "    assigned_users.extend(extra_users)\n",
    "\n",
    "# Shuffle to ensure randomness\n",
    "random.shuffle(assigned_users)\n",
    "\n",
    "# Assign the shuffled list to the DataFrame\n",
    "reviews_df['user_id'] = assigned_users[:total_reviews]\n",
    "\n",
    "# Check the distribution of reviews per user\n",
    "user_review_counts = reviews_df['user_id'].value_counts()\n",
    "print(user_review_counts.describe())\n",
    "\n",
    "# Perform sentiment analysis\n",
    "reviews_df['sentiment'] = reviews_df['review'].apply(lambda review: TextBlob(review).sentiment.polarity)\n",
    "\n",
    "# Visualize sentiment distribution\n",
    "plt.hist(reviews_df['sentiment'], bins=50, edgecolor='k', alpha=0.7)\n",
    "plt.title('Sentiment Distribution')\n",
    "plt.xlabel('Sentiment Score')\n",
    "plt.ylabel('Frequency')\n",
    "plt.show()\n",
    "\n",
    "# Save the final DataFrame\n",
    "reviews_df.to_csv('combined-dataset/final_reviews_data.csv', index=False)\n"
   ],
   "id": "abb2164be97338b3",
   "outputs": [],
   "execution_count": null
  },
  {
   "metadata": {},
   "cell_type": "code",
   "source": [
    "reviews_df"
   ],
   "id": "532d60b49bd3df6e",
   "outputs": [],
   "execution_count": null
  },
  {
   "metadata": {},
   "cell_type": "code",
   "source": [
    "# get unique primary types"
   ],
   "id": "632a3f65806d8e97",
   "outputs": [],
   "execution_count": null
  }
 ],
 "metadata": {
  "kernelspec": {
   "display_name": "Python 3",
   "language": "python",
   "name": "python3"
  },
  "language_info": {
   "codemirror_mode": {
    "name": "ipython",
    "version": 2
   },
   "file_extension": ".py",
   "mimetype": "text/x-python",
   "name": "python",
   "nbconvert_exporter": "python",
   "pygments_lexer": "ipython2",
   "version": "2.7.6"
  }
 },
 "nbformat": 4,
 "nbformat_minor": 5
}
