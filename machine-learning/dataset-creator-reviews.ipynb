{
 "cells": [
  {
   "cell_type": "code",
   "outputs": [],
   "source": [
    "import pandas as pd\n",
    "import numpy as np\n",
    "\n",
    "from textblob import TextBlob\n",
    "from sklearn.preprocessing import MinMaxScaler"
   ],
   "metadata": {
    "collapsed": false,
    "ExecuteTime": {
     "end_time": "2024-06-17T21:38:08.441993800Z",
     "start_time": "2024-06-17T21:38:08.431885500Z"
    }
   },
   "id": "8bca4eef907d6ae7",
   "execution_count": 21
  },
  {
   "cell_type": "code",
   "outputs": [],
   "source": "main_df = pd.read_csv('final-dataset/dataset_main.csv')",
   "metadata": {
    "collapsed": false,
    "ExecuteTime": {
     "end_time": "2024-06-17T21:38:08.752373600Z",
     "start_time": "2024-06-17T21:38:08.450393Z"
    }
   },
   "id": "b62be5d449188180",
   "execution_count": 22
  },
  {
   "cell_type": "code",
   "outputs": [],
   "source": [
    "review_column = ['review 1', 'review 2', 'review 3', 'review 4', 'review 5']\n",
    "review_df = main_df.melt(id_vars=['id', 'types'], value_vars=review_column, var_name='review_number', value_name='review').dropna()"
   ],
   "metadata": {
    "collapsed": false,
    "ExecuteTime": {
     "end_time": "2024-06-17T21:38:08.770241100Z",
     "start_time": "2024-06-17T21:38:08.752373600Z"
    }
   },
   "id": "bda9781878d3cc24",
   "execution_count": 23
  },
  {
   "cell_type": "code",
   "outputs": [],
   "source": [
    "unique_ratio = 0.2\n",
    "total_review_count = len(review_df)\n",
    "unique_user_count = int(total_review_count * unique_ratio)\n",
    "\n",
    "mean_reviews_per_user = total_review_count / unique_user_count"
   ],
   "metadata": {
    "collapsed": false,
    "ExecuteTime": {
     "end_time": "2024-06-17T21:38:08.779357700Z",
     "start_time": "2024-06-17T21:38:08.770241100Z"
    }
   },
   "id": "3c05dd312cfdc495",
   "execution_count": 24
  },
  {
   "cell_type": "code",
   "outputs": [],
   "source": [
    "review_counts = np.random.poisson(mean_reviews_per_user, unique_user_count)\n",
    "\n",
    "adjustment_factor = total_review_count / review_counts.sum()\n",
    "adjusted_review_counts = np.floor(review_counts * adjustment_factor).astype(int)\n",
    "\n",
    "if adjusted_review_counts.sum() < total_review_count:\n",
    "    deficit = total_review_count - adjusted_review_counts.sum()\n",
    "    additional_indices = np.random.choice(range(unique_user_count), deficit, replace=True)\n",
    "    for idx in additional_indices:\n",
    "        adjusted_review_counts[idx] += 1"
   ],
   "metadata": {
    "collapsed": false,
    "ExecuteTime": {
     "end_time": "2024-06-17T21:38:08.792490500Z",
     "start_time": "2024-06-17T21:38:08.778361300Z"
    }
   },
   "id": "cc2ce3dea788b3f",
   "execution_count": 25
  },
  {
   "cell_type": "code",
   "outputs": [],
   "source": [
    "user_ids = [f'user_{i + 1}' for i in range(unique_user_count)]\n",
    "assigned_users = np.repeat(user_ids, adjusted_review_counts)\n",
    "np.random.shuffle(assigned_users)\n",
    "review_df['user_id'] = assigned_users[:total_review_count]"
   ],
   "metadata": {
    "collapsed": false,
    "ExecuteTime": {
     "end_time": "2024-06-17T21:38:08.801550Z",
     "start_time": "2024-06-17T21:38:08.788252700Z"
    }
   },
   "id": "eaaeee271c881478",
   "execution_count": 26
  },
  {
   "cell_type": "code",
   "outputs": [
    {
     "name": "stdout",
     "output_type": "stream",
     "text": [
      "count    6103.000000\n",
      "mean        5.062264\n",
      "std         2.352023\n",
      "min         1.000000\n",
      "25%         3.000000\n",
      "50%         5.000000\n",
      "75%         7.000000\n",
      "max        16.000000\n",
      "Name: count, dtype: float64\n"
     ]
    }
   ],
   "source": [
    "user_distribution = review_df['user_id'].value_counts()\n",
    "print(user_distribution.describe())"
   ],
   "metadata": {
    "collapsed": false,
    "ExecuteTime": {
     "end_time": "2024-06-17T21:38:08.840948500Z",
     "start_time": "2024-06-17T21:38:08.800550600Z"
    }
   },
   "id": "164ea4d86aca078",
   "execution_count": 27
  },
  {
   "cell_type": "code",
   "outputs": [],
   "source": [
    "review_df['sentiment-score'] = review_df['review'].apply(lambda review: TextBlob(review).sentiment.polarity)\n",
    "\n",
    "scaler = MinMaxScaler()\n",
    "scaler.fit(review_df[['sentiment-score']])\n",
    "\n",
    "review_df['sentiment-score'] = scaler.transform(review_df[['sentiment-score']])"
   ],
   "metadata": {
    "collapsed": false,
    "ExecuteTime": {
     "end_time": "2024-06-17T21:38:19.707846700Z",
     "start_time": "2024-06-17T21:38:08.840948500Z"
    }
   },
   "id": "272d7986babb8a1",
   "execution_count": 28
  },
  {
   "cell_type": "code",
   "outputs": [
    {
     "data": {
      "text/plain": "                                id  \\\n0      ChIJYcGr7GSb0S0RckePBrCWikw   \n1      ChIJZbWX6Aia0S0R0tM3h1RZ1h8   \n2      ChIJYyHbhgia0S0RzdjNXLmcf54   \n3      ChIJ6zf9LJCb0S0RFv3BdLl61ZY   \n4      ChIJxaITmQia0S0RyrbukE8vsJU   \n...                            ...   \n30890  ChIJf6d0f5Nb0i0Rq_tEZeZB_Nc   \n30891  ChIJk41ld9Fb0i0RStb1NFpDAno   \n30892  ChIJO30FJJdd0i0RCOyG8WcyJBk   \n30893  ChIJvazdGXtb0i0RA-4XopPth7A   \n30894  ChIJqZTwKr5b0i0Rw1O4htYbMgg   \n\n                                                   types review_number  \\\n0                                         hotel, lodging      review 1   \n1                indonesian_restaurant, restaurant, food      review 1   \n2                   tourist_attraction, restaurant, food      review 1   \n3                         coffee_shop, cafe, food, store      review 1   \n4                   tourist_attraction, place_of_worship      review 1   \n...                                                  ...           ...   \n30890                                 tourist_attraction      review 5   \n30891                              restaurant, bar, food      review 5   \n30892                                 tourist_attraction      review 5   \n30893                              bar, restaurant, food      review 5   \n30894  performing_arts_theater, tourist_attraction, e...      review 5   \n\n                                                  review    user_id  \\\n0      It has quite small room, and the hallway is qu...  user_2573   \n1      Surprisingly, a really good warung that’s hidd...  user_2062   \n2      Only had a fleeting visit here, came by coach,...  user_2348   \n3      One word, underrated! How come place like this...  user_1448   \n4      This temple is located in Singaraja, located i...  user_4426   \n...                                                  ...        ...   \n30890  🚶 I walked down to the beach, but it’s quite s...  user_3426   \n30891  Tropical Temptation is a beach club gem! 💎 The...   user_816   \n30892  it was really hot when we went here but its a ...    user_26   \n30893  I went to this beach a few days ago, the food ...  user_2840   \n30894  Good performance, but there was only one guy w...  user_1736   \n\n       sentiment-score  \n0             0.506250  \n1             0.606250  \n2             0.491667  \n3             0.672338  \n4             0.569762  \n...                ...  \n30890         0.582200  \n30891         0.808929  \n30892         0.641667  \n30893         0.823344  \n30894         0.765278  \n\n[30895 rows x 6 columns]",
      "text/html": "<div>\n<style scoped>\n    .dataframe tbody tr th:only-of-type {\n        vertical-align: middle;\n    }\n\n    .dataframe tbody tr th {\n        vertical-align: top;\n    }\n\n    .dataframe thead th {\n        text-align: right;\n    }\n</style>\n<table border=\"1\" class=\"dataframe\">\n  <thead>\n    <tr style=\"text-align: right;\">\n      <th></th>\n      <th>id</th>\n      <th>types</th>\n      <th>review_number</th>\n      <th>review</th>\n      <th>user_id</th>\n      <th>sentiment-score</th>\n    </tr>\n  </thead>\n  <tbody>\n    <tr>\n      <th>0</th>\n      <td>ChIJYcGr7GSb0S0RckePBrCWikw</td>\n      <td>hotel, lodging</td>\n      <td>review 1</td>\n      <td>It has quite small room, and the hallway is qu...</td>\n      <td>user_2573</td>\n      <td>0.506250</td>\n    </tr>\n    <tr>\n      <th>1</th>\n      <td>ChIJZbWX6Aia0S0R0tM3h1RZ1h8</td>\n      <td>indonesian_restaurant, restaurant, food</td>\n      <td>review 1</td>\n      <td>Surprisingly, a really good warung that’s hidd...</td>\n      <td>user_2062</td>\n      <td>0.606250</td>\n    </tr>\n    <tr>\n      <th>2</th>\n      <td>ChIJYyHbhgia0S0RzdjNXLmcf54</td>\n      <td>tourist_attraction, restaurant, food</td>\n      <td>review 1</td>\n      <td>Only had a fleeting visit here, came by coach,...</td>\n      <td>user_2348</td>\n      <td>0.491667</td>\n    </tr>\n    <tr>\n      <th>3</th>\n      <td>ChIJ6zf9LJCb0S0RFv3BdLl61ZY</td>\n      <td>coffee_shop, cafe, food, store</td>\n      <td>review 1</td>\n      <td>One word, underrated! How come place like this...</td>\n      <td>user_1448</td>\n      <td>0.672338</td>\n    </tr>\n    <tr>\n      <th>4</th>\n      <td>ChIJxaITmQia0S0RyrbukE8vsJU</td>\n      <td>tourist_attraction, place_of_worship</td>\n      <td>review 1</td>\n      <td>This temple is located in Singaraja, located i...</td>\n      <td>user_4426</td>\n      <td>0.569762</td>\n    </tr>\n    <tr>\n      <th>...</th>\n      <td>...</td>\n      <td>...</td>\n      <td>...</td>\n      <td>...</td>\n      <td>...</td>\n      <td>...</td>\n    </tr>\n    <tr>\n      <th>30890</th>\n      <td>ChIJf6d0f5Nb0i0Rq_tEZeZB_Nc</td>\n      <td>tourist_attraction</td>\n      <td>review 5</td>\n      <td>🚶 I walked down to the beach, but it’s quite s...</td>\n      <td>user_3426</td>\n      <td>0.582200</td>\n    </tr>\n    <tr>\n      <th>30891</th>\n      <td>ChIJk41ld9Fb0i0RStb1NFpDAno</td>\n      <td>restaurant, bar, food</td>\n      <td>review 5</td>\n      <td>Tropical Temptation is a beach club gem! 💎 The...</td>\n      <td>user_816</td>\n      <td>0.808929</td>\n    </tr>\n    <tr>\n      <th>30892</th>\n      <td>ChIJO30FJJdd0i0RCOyG8WcyJBk</td>\n      <td>tourist_attraction</td>\n      <td>review 5</td>\n      <td>it was really hot when we went here but its a ...</td>\n      <td>user_26</td>\n      <td>0.641667</td>\n    </tr>\n    <tr>\n      <th>30893</th>\n      <td>ChIJvazdGXtb0i0RA-4XopPth7A</td>\n      <td>bar, restaurant, food</td>\n      <td>review 5</td>\n      <td>I went to this beach a few days ago, the food ...</td>\n      <td>user_2840</td>\n      <td>0.823344</td>\n    </tr>\n    <tr>\n      <th>30894</th>\n      <td>ChIJqZTwKr5b0i0Rw1O4htYbMgg</td>\n      <td>performing_arts_theater, tourist_attraction, e...</td>\n      <td>review 5</td>\n      <td>Good performance, but there was only one guy w...</td>\n      <td>user_1736</td>\n      <td>0.765278</td>\n    </tr>\n  </tbody>\n</table>\n<p>30895 rows × 6 columns</p>\n</div>"
     },
     "execution_count": 29,
     "metadata": {},
     "output_type": "execute_result"
    }
   ],
   "source": [
    "review_df"
   ],
   "metadata": {
    "collapsed": false,
    "ExecuteTime": {
     "end_time": "2024-06-17T21:38:19.731986300Z",
     "start_time": "2024-06-17T21:38:19.718563200Z"
    }
   },
   "id": "cf438c3334ca30db",
   "execution_count": 29
  },
  {
   "cell_type": "code",
   "outputs": [],
   "source": "review_df.to_csv('final-dataset/dataset_reviews.csv', index=False)",
   "metadata": {
    "collapsed": false,
    "ExecuteTime": {
     "end_time": "2024-06-17T21:38:20.580182400Z",
     "start_time": "2024-06-17T21:38:19.729988100Z"
    }
   },
   "id": "231681dd909df3b4",
   "execution_count": 30
  }
 ],
 "metadata": {
  "kernelspec": {
   "display_name": "Python 3",
   "language": "python",
   "name": "python3"
  },
  "language_info": {
   "codemirror_mode": {
    "name": "ipython",
    "version": 2
   },
   "file_extension": ".py",
   "mimetype": "text/x-python",
   "name": "python",
   "nbconvert_exporter": "python",
   "pygments_lexer": "ipython2",
   "version": "2.7.6"
  }
 },
 "nbformat": 4,
 "nbformat_minor": 5
}
