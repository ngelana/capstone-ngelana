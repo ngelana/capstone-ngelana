{
 "cells": [
  {
   "cell_type": "code",
   "id": "initial_id",
   "metadata": {
    "collapsed": true,
    "ExecuteTime": {
     "end_time": "2024-06-17T21:13:15.327776Z",
     "start_time": "2024-06-17T21:13:14.012737Z"
    }
   },
   "source": [
    "import pandas as pd\n",
    "import numpy as np\n",
    "\n",
    "from textblob import TextBlob\n",
    "from sklearn.preprocessing import MinMaxScaler"
   ],
   "outputs": [],
   "execution_count": 1
  },
  {
   "metadata": {
    "ExecuteTime": {
     "end_time": "2024-06-17T21:13:15.496918Z",
     "start_time": "2024-06-17T21:13:15.329359Z"
    }
   },
   "cell_type": "code",
   "source": "main_df = pd.read_csv('final-dataset/main_dataset.csv')",
   "id": "c189efbe53dcd48e",
   "outputs": [],
   "execution_count": 2
  },
  {
   "metadata": {
    "ExecuteTime": {
     "end_time": "2024-06-17T21:13:15.518115Z",
     "start_time": "2024-06-17T21:13:15.498349Z"
    }
   },
   "cell_type": "code",
   "source": [
    "review_column = ['review 1', 'review 2', 'review 3', 'review 4', 'review 5']\n",
    "review_df = main_df.melt(id_vars=['id', 'types'], value_vars=review_column, var_name='review_number', value_name='review').dropna()"
   ],
   "id": "c808bb3bd2b834ef",
   "outputs": [],
   "execution_count": 3
  },
  {
   "metadata": {
    "ExecuteTime": {
     "end_time": "2024-06-17T21:13:15.522602Z",
     "start_time": "2024-06-17T21:13:15.520056Z"
    }
   },
   "cell_type": "code",
   "source": [
    "unique_ratio = 0.5\n",
    "total_review_count = len(review_df)\n",
    "unique_user_count = int(total_review_count * unique_ratio)\n",
    "\n",
    "mean_reviews_per_user = total_review_count / unique_user_count"
   ],
   "id": "d955fb39bac45a30",
   "outputs": [],
   "execution_count": 4
  },
  {
   "metadata": {
    "ExecuteTime": {
     "end_time": "2024-06-17T21:13:15.537086Z",
     "start_time": "2024-06-17T21:13:15.523634Z"
    }
   },
   "cell_type": "code",
   "source": [
    "review_counts = np.random.poisson(mean_reviews_per_user, unique_user_count)\n",
    "\n",
    "adjustment_factor = total_review_count / review_counts.sum()\n",
    "adjusted_review_counts = np.floor(review_counts * adjustment_factor).astype(int)\n",
    "\n",
    "if adjusted_review_counts.sum() < total_review_count:\n",
    "    deficit = total_review_count - adjusted_review_counts.sum()\n",
    "    additional_indices = np.random.choice(range(unique_user_count), deficit, replace=True)\n",
    "    for idx in additional_indices:\n",
    "        adjusted_review_counts[idx] += 1"
   ],
   "id": "53d8ce8f6dfadbe9",
   "outputs": [],
   "execution_count": 5
  },
  {
   "metadata": {
    "ExecuteTime": {
     "end_time": "2024-06-17T21:13:15.548939Z",
     "start_time": "2024-06-17T21:13:15.538530Z"
    }
   },
   "cell_type": "code",
   "source": [
    "user_ids = [f'user_{i + 1}' for i in range(unique_user_count)]\n",
    "assigned_users = np.repeat(user_ids, adjusted_review_counts)\n",
    "np.random.shuffle(assigned_users)\n",
    "review_df['user_id'] = assigned_users[:total_review_count]"
   ],
   "id": "be3dfbfd580619d8",
   "outputs": [],
   "execution_count": 6
  },
  {
   "metadata": {
    "ExecuteTime": {
     "end_time": "2024-06-17T21:13:15.564181Z",
     "start_time": "2024-06-17T21:13:15.550279Z"
    }
   },
   "cell_type": "code",
   "source": [
    "user_distribution = review_df['user_id'].value_counts()\n",
    "print(user_distribution.describe())"
   ],
   "id": "8d948288f9aba815",
   "outputs": [
    {
     "name": "stdout",
     "output_type": "stream",
     "text": [
      "count    11114.000000\n",
      "mean         2.414972\n",
      "std          1.387561\n",
      "min          1.000000\n",
      "25%          1.000000\n",
      "50%          2.000000\n",
      "75%          3.000000\n",
      "max         12.000000\n",
      "Name: count, dtype: float64\n"
     ]
    }
   ],
   "execution_count": 7
  },
  {
   "metadata": {
    "ExecuteTime": {
     "end_time": "2024-06-17T21:13:21.467581Z",
     "start_time": "2024-06-17T21:13:15.565328Z"
    }
   },
   "cell_type": "code",
   "source": [
    "review_df['sentiment-score'] = review_df['review'].apply(lambda review: TextBlob(review).sentiment.polarity)\n",
    "\n",
    "scaler = MinMaxScaler()\n",
    "scaler.fit(review_df[['sentiment-score']])\n",
    "\n",
    "review_df['sentiment-score'] = scaler.transform(review_df[['sentiment-score']])"
   ],
   "id": "36194d2d79273211",
   "outputs": [],
   "execution_count": 8
  },
  {
   "metadata": {
    "ExecuteTime": {
     "end_time": "2024-06-17T21:13:21.482007Z",
     "start_time": "2024-06-17T21:13:21.469149Z"
    }
   },
   "cell_type": "code",
   "source": "review_df",
   "id": "8f138c3b53a24a7b",
   "outputs": [
    {
     "data": {
      "text/plain": [
       "                                id                                    types  \\\n",
       "0      ChIJYcGr7GSb0S0RckePBrCWikw                           hotel, lodging   \n",
       "1      ChIJZbWX6Aia0S0R0tM3h1RZ1h8  indonesian_restaurant, restaurant, food   \n",
       "2      ChIJYyHbhgia0S0RzdjNXLmcf54     tourist_attraction, restaurant, food   \n",
       "3      ChIJ6zf9LJCb0S0RFv3BdLl61ZY           coffee_shop, cafe, food, store   \n",
       "4      ChIJ63FmGgaa0S0RWD5dfwhjGHQ  indonesian_restaurant, restaurant, food   \n",
       "...                            ...                                      ...   \n",
       "26835  ChIJoW-FX3tb0i0RswZrEuxU3dg                                  lodging   \n",
       "26836  ChIJHcVJyNhd0i0Rtif8ZHzZBr0                       tourist_attraction   \n",
       "26837  ChIJQ_u4aFhd0i0RcsyvWJ9Sk50                         restaurant, food   \n",
       "26838  ChIJk41ld9Fb0i0RStb1NFpDAno                    restaurant, bar, food   \n",
       "26839  ChIJvazdGXtb0i0RA-4XopPth7A                    bar, restaurant, food   \n",
       "\n",
       "      review_number                                             review  \\\n",
       "0          review 1  It has quite small room, and the hallway is qu...   \n",
       "1          review 1  Surprisingly, a really good warung that’s hidd...   \n",
       "2          review 1  Only had a fleeting visit here, came by coach,...   \n",
       "3          review 1  One word, underrated! How come place like this...   \n",
       "4          review 1  We came here for dinner, food was good, i like...   \n",
       "...             ...                                                ...   \n",
       "26835      review 5  A nice Villa with a view to the Pandawa beach....   \n",
       "26836      review 5  Goes there at around 3PM and it looks so good ...   \n",
       "26837      review 5  beautiful place, delicious food, the atmospher...   \n",
       "26838      review 5  Tropical Temptation is a beach club gem! 💎 The...   \n",
       "26839      review 5  I went to this beach a few days ago, the food ...   \n",
       "\n",
       "         user_id  sentiment-score  \n",
       "0      user_5227         0.506250  \n",
       "1       user_892         0.606250  \n",
       "2      user_3832         0.491667  \n",
       "3      user_7720         0.672338  \n",
       "4      user_2293         0.593056  \n",
       "...          ...              ...  \n",
       "26835    user_78         0.800000  \n",
       "26836  user_6797         0.875000  \n",
       "26837   user_254         0.745833  \n",
       "26838  user_4987         0.808929  \n",
       "26839  user_1712         0.823344  \n",
       "\n",
       "[26840 rows x 6 columns]"
      ],
      "text/html": [
       "<div>\n",
       "<style scoped>\n",
       "    .dataframe tbody tr th:only-of-type {\n",
       "        vertical-align: middle;\n",
       "    }\n",
       "\n",
       "    .dataframe tbody tr th {\n",
       "        vertical-align: top;\n",
       "    }\n",
       "\n",
       "    .dataframe thead th {\n",
       "        text-align: right;\n",
       "    }\n",
       "</style>\n",
       "<table border=\"1\" class=\"dataframe\">\n",
       "  <thead>\n",
       "    <tr style=\"text-align: right;\">\n",
       "      <th></th>\n",
       "      <th>id</th>\n",
       "      <th>types</th>\n",
       "      <th>review_number</th>\n",
       "      <th>review</th>\n",
       "      <th>user_id</th>\n",
       "      <th>sentiment-score</th>\n",
       "    </tr>\n",
       "  </thead>\n",
       "  <tbody>\n",
       "    <tr>\n",
       "      <th>0</th>\n",
       "      <td>ChIJYcGr7GSb0S0RckePBrCWikw</td>\n",
       "      <td>hotel, lodging</td>\n",
       "      <td>review 1</td>\n",
       "      <td>It has quite small room, and the hallway is qu...</td>\n",
       "      <td>user_5227</td>\n",
       "      <td>0.506250</td>\n",
       "    </tr>\n",
       "    <tr>\n",
       "      <th>1</th>\n",
       "      <td>ChIJZbWX6Aia0S0R0tM3h1RZ1h8</td>\n",
       "      <td>indonesian_restaurant, restaurant, food</td>\n",
       "      <td>review 1</td>\n",
       "      <td>Surprisingly, a really good warung that’s hidd...</td>\n",
       "      <td>user_892</td>\n",
       "      <td>0.606250</td>\n",
       "    </tr>\n",
       "    <tr>\n",
       "      <th>2</th>\n",
       "      <td>ChIJYyHbhgia0S0RzdjNXLmcf54</td>\n",
       "      <td>tourist_attraction, restaurant, food</td>\n",
       "      <td>review 1</td>\n",
       "      <td>Only had a fleeting visit here, came by coach,...</td>\n",
       "      <td>user_3832</td>\n",
       "      <td>0.491667</td>\n",
       "    </tr>\n",
       "    <tr>\n",
       "      <th>3</th>\n",
       "      <td>ChIJ6zf9LJCb0S0RFv3BdLl61ZY</td>\n",
       "      <td>coffee_shop, cafe, food, store</td>\n",
       "      <td>review 1</td>\n",
       "      <td>One word, underrated! How come place like this...</td>\n",
       "      <td>user_7720</td>\n",
       "      <td>0.672338</td>\n",
       "    </tr>\n",
       "    <tr>\n",
       "      <th>4</th>\n",
       "      <td>ChIJ63FmGgaa0S0RWD5dfwhjGHQ</td>\n",
       "      <td>indonesian_restaurant, restaurant, food</td>\n",
       "      <td>review 1</td>\n",
       "      <td>We came here for dinner, food was good, i like...</td>\n",
       "      <td>user_2293</td>\n",
       "      <td>0.593056</td>\n",
       "    </tr>\n",
       "    <tr>\n",
       "      <th>...</th>\n",
       "      <td>...</td>\n",
       "      <td>...</td>\n",
       "      <td>...</td>\n",
       "      <td>...</td>\n",
       "      <td>...</td>\n",
       "      <td>...</td>\n",
       "    </tr>\n",
       "    <tr>\n",
       "      <th>26835</th>\n",
       "      <td>ChIJoW-FX3tb0i0RswZrEuxU3dg</td>\n",
       "      <td>lodging</td>\n",
       "      <td>review 5</td>\n",
       "      <td>A nice Villa with a view to the Pandawa beach....</td>\n",
       "      <td>user_78</td>\n",
       "      <td>0.800000</td>\n",
       "    </tr>\n",
       "    <tr>\n",
       "      <th>26836</th>\n",
       "      <td>ChIJHcVJyNhd0i0Rtif8ZHzZBr0</td>\n",
       "      <td>tourist_attraction</td>\n",
       "      <td>review 5</td>\n",
       "      <td>Goes there at around 3PM and it looks so good ...</td>\n",
       "      <td>user_6797</td>\n",
       "      <td>0.875000</td>\n",
       "    </tr>\n",
       "    <tr>\n",
       "      <th>26837</th>\n",
       "      <td>ChIJQ_u4aFhd0i0RcsyvWJ9Sk50</td>\n",
       "      <td>restaurant, food</td>\n",
       "      <td>review 5</td>\n",
       "      <td>beautiful place, delicious food, the atmospher...</td>\n",
       "      <td>user_254</td>\n",
       "      <td>0.745833</td>\n",
       "    </tr>\n",
       "    <tr>\n",
       "      <th>26838</th>\n",
       "      <td>ChIJk41ld9Fb0i0RStb1NFpDAno</td>\n",
       "      <td>restaurant, bar, food</td>\n",
       "      <td>review 5</td>\n",
       "      <td>Tropical Temptation is a beach club gem! 💎 The...</td>\n",
       "      <td>user_4987</td>\n",
       "      <td>0.808929</td>\n",
       "    </tr>\n",
       "    <tr>\n",
       "      <th>26839</th>\n",
       "      <td>ChIJvazdGXtb0i0RA-4XopPth7A</td>\n",
       "      <td>bar, restaurant, food</td>\n",
       "      <td>review 5</td>\n",
       "      <td>I went to this beach a few days ago, the food ...</td>\n",
       "      <td>user_1712</td>\n",
       "      <td>0.823344</td>\n",
       "    </tr>\n",
       "  </tbody>\n",
       "</table>\n",
       "<p>26840 rows × 6 columns</p>\n",
       "</div>"
      ]
     },
     "execution_count": 9,
     "metadata": {},
     "output_type": "execute_result"
    }
   ],
   "execution_count": 9
  },
  {
   "metadata": {
    "ExecuteTime": {
     "end_time": "2024-06-17T21:13:21.833766Z",
     "start_time": "2024-06-17T21:13:21.484129Z"
    }
   },
   "cell_type": "code",
   "source": "review_df.to_csv('final-dataset/review_dataset.csv', index=False)",
   "id": "973a25796190578f",
   "outputs": [],
   "execution_count": 10
  }
 ],
 "metadata": {
  "kernelspec": {
   "display_name": "Python 3",
   "language": "python",
   "name": "python3"
  },
  "language_info": {
   "codemirror_mode": {
    "name": "ipython",
    "version": 2
   },
   "file_extension": ".py",
   "mimetype": "text/x-python",
   "name": "python",
   "nbconvert_exporter": "python",
   "pygments_lexer": "ipython2",
   "version": "2.7.6"
  }
 },
 "nbformat": 4,
 "nbformat_minor": 5
}
