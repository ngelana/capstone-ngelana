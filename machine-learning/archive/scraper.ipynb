{
 "cells": [
  {
   "cell_type": "code",
   "id": "initial_id",
   "metadata": {
    "collapsed": true,
    "ExecuteTime": {
     "end_time": "2024-06-07T11:09:33.879876300Z",
     "start_time": "2024-06-07T11:09:32.692098500Z"
    }
   },
   "source": [
    "import requests\n",
    "import csv\n",
    "import time\n",
    "import pandas as pd\n",
    "import numpy as np\n",
    "\n",
    "from datetime import datetime\n",
    "from google.auth import default\n",
    "from google.auth.transport.requests import Request"
   ],
   "outputs": [],
   "execution_count": 1
  },
  {
   "metadata": {
    "ExecuteTime": {
     "end_time": "2024-06-07T11:09:33.886406500Z",
     "start_time": "2024-06-07T11:09:33.882887500Z"
    }
   },
   "cell_type": "code",
   "source": [
    "def get_gcloud_credential():\n",
    "    credentials, project = default()\n",
    "    if not credentials.valid:\n",
    "        if credentials.expired and credentials.refresh_token:\n",
    "            credentials.refresh(Request())\n",
    "    return credentials"
   ],
   "id": "134f80dce1bc421b",
   "outputs": [],
   "execution_count": 2
  },
  {
   "metadata": {
    "ExecuteTime": {
     "end_time": "2024-06-07T11:09:33.895735500Z",
     "start_time": "2024-06-07T11:09:33.888405800Z"
    }
   },
   "cell_type": "code",
   "source": [
    "def circle_search(credentials, lat, long, radius, types):\n",
    "    api_url = 'https://places.googleapis.com/v1/places:searchNearby'\n",
    "    # lat, long = [float(element) for element in coordinate.strip('()').split(',')]\n",
    "    # lat, long = coordinate[0], coordinate[1]\n",
    "    field = ('places.displayName,'\n",
    "             'places.location,'\n",
    "             'places.googleMapsUri,'\n",
    "             'places.businessStatus,'\n",
    "             'places.types,'\n",
    "             'places.rating,'\n",
    "             'places.userRatingCount,'\n",
    "             'places.priceLevel,'\n",
    "             'places.photos'\n",
    "             )\n",
    "    \n",
    "    header = {\n",
    "        'Content-Type': 'application/json',\n",
    "        'Authorization': f'Bearer {credentials.token}',\n",
    "        'X-Goog-FieldMask': field,\n",
    "        'X-Goog-User-Project': credentials.quota_project_id\n",
    "    }\n",
    "    \n",
    "    payload = {\n",
    "        'locationRestriction': {\n",
    "            'circle': {\n",
    "                'center': {\n",
    "                    'latitude': lat,\n",
    "                    'longitude': long\n",
    "                },\n",
    "                'radius': radius\n",
    "            }\n",
    "        },\n",
    "        'includedTypes': types\n",
    "    }\n",
    "    \n",
    "    response = requests.post(api_url, headers=header, json=payload)\n",
    "    if response.status_code == 200:\n",
    "        result = response.json()\n",
    "        return result\n",
    "    else:\n",
    "        print(f'Error: {response.status_code}')\n",
    "        print(response.json())\n",
    "        return None"
   ],
   "id": "9ae580cac5ccd510",
   "outputs": [],
   "execution_count": 3
  },
  {
   "metadata": {
    "ExecuteTime": {
     "end_time": "2024-06-07T11:11:41.576499600Z",
     "start_time": "2024-06-07T11:11:41.571413400Z"
    }
   },
   "cell_type": "code",
   "source": [
    "def dataset_maker(data):\n",
    "    now = datetime.now().strftime('%d-%m-%y_%H%M%S')\n",
    "    banned_types = ['point_of_interest', 'establishment']\n",
    "    file_path = f'dataset-output/export_{now}.csv'\n",
    "    dataset = []\n",
    "    \n",
    "    for item in data.get('places', []):\n",
    "        types = [t for t in item.get('types', []) if t not in banned_types]\n",
    "        row = {\n",
    "            'Name': item.get('displayName', {}).get('text', ),\n",
    "            'Latitude': item.get('location', {}).get('latitude', ),\n",
    "            'Longitude': item.get('location', {}).get('longitude', ),\n",
    "            'Google Maps URI': item.get('googleMapsUri', ),\n",
    "            'Business Status': item.get('businessStatus', ),\n",
    "            'Types': ', '.join(types),\n",
    "            'Rating': item.get('rating', ),\n",
    "            'User Rating Count': item.get('userRatingCount', ),\n",
    "            'Price Level': item.get('priceLevel', ),\n",
    "            'Photos': item.get('photos', )\n",
    "        }\n",
    "        dataset.append(row)\n",
    "    \n",
    "    with open(file_path, mode='w', newline='', encoding='utf-8') as file:\n",
    "        writer = csv.DictWriter(file, fieldnames=dataset[0].keys())\n",
    "        writer.writeheader()\n",
    "        writer.writerows(dataset)\n",
    "    \n",
    "    print(f'Dataset saved to {file_path}')"
   ],
   "id": "d61fc24f9cfdb05a",
   "outputs": [],
   "execution_count": 10
  },
  {
   "metadata": {
    "ExecuteTime": {
     "end_time": "2024-06-07T11:09:34.220939900Z",
     "start_time": "2024-06-07T11:09:34.213880600Z"
    }
   },
   "cell_type": "code",
   "source": [
    "# coordination = '-8.67039555301166, 115.21251859347734'\n",
    "# credential = get_gcloud_credential()\n",
    "# circle_radius = 500\n",
    "# \n",
    "# places = circle_search(credential, coordination, circle_radius)\n",
    "# \n",
    "# if places:\n",
    "#     for place in places.get('places', []):\n",
    "#         display_name = place.get('displayName', 'no displayname found')\n",
    "#         print(f'Name        : {display_name.get(\"text\", \"name not found\")}')\n",
    "#         print(f'Types       : {place.get(\"types\", \"types not found\")}')\n",
    "#         print(f'Price Level : {place.get(\"priceLevel\", \"no price level found\")}')\n",
    "#         print(f'Rating      : {place.get(\"rating\", \"rating not found\")}')\n",
    "#         print('---------------------------------------------------------')\n",
    "# else:\n",
    "#     print('No places found')\n",
    "# \n",
    "# dataset_maker(places)"
   ],
   "id": "f9a08db1fb86b06f",
   "outputs": [],
   "execution_count": 5
  },
  {
   "metadata": {
    "ExecuteTime": {
     "end_time": "2024-06-07T11:09:34.511527700Z",
     "start_time": "2024-06-07T11:09:34.508002200Z"
    }
   },
   "cell_type": "code",
   "source": [
    "# print(coord['coordinate'][0])"
   ],
   "id": "970185d013a4b69b",
   "outputs": [],
   "execution_count": 6
  },
  {
   "metadata": {
    "ExecuteTime": {
     "end_time": "2024-06-07T11:09:34.770043800Z",
     "start_time": "2024-06-07T11:09:34.766030400Z"
    }
   },
   "cell_type": "code",
   "source": [
    "# print(np.array(coord['coordinate'][0][1]))"
   ],
   "id": "90f65d2cd7eda3e4",
   "outputs": [],
   "execution_count": 7
  },
  {
   "metadata": {
    "ExecuteTime": {
     "end_time": "2024-06-07T11:09:35.004810100Z",
     "start_time": "2024-06-07T11:09:34.999096500Z"
    }
   },
   "cell_type": "code",
   "source": [
    "place_types = [\n",
    "    'car_rental', 'art_gallery', 'museum', 'performing_arts_theater', 'amusement_park', 'cultural_center',\n",
    "    'hiking_area', 'historical_landmark', 'national_park', 'night_club', 'park', 'tourist_attraction', 'zoo',\n",
    "    'american_restaurant', 'bar', 'barbecue_restaurant', 'brazilian_restaurant', 'cafe', 'chinese_restaurant',\n",
    "    'coffee_shop', 'fast_food_restaurant',\n",
    "    'french_restaurant', 'greek_restaurant', 'indian_restaurant',\n",
    "    'indonesian_restaurant', 'italian_restaurant', 'japanese_restaurant', 'korean_restaurant', 'lebanese_restaurant',\n",
    "    'mediterranean_restaurant', 'mexican_restaurant', 'middle_eastern_restaurant', 'restaurant', 'seafood_restaurant',\n",
    "    'spanish_restaurant',\n",
    "    'steak_house', 'sushi_restaurant', 'thai_restaurant', 'turkish_restaurant',\n",
    "    'vietnamese_restaurant', 'camping_cabin', 'cottage', 'guest_house', 'hostel', 'hotel', 'lodging', 'motel',\n",
    "    'private_guest_room', 'resort_hotel'\n",
    "]\n",
    "\n",
    "print(len(place_types))"
   ],
   "id": "6815cd2d2f90430c",
   "outputs": [
    {
     "name": "stdout",
     "output_type": "stream",
     "text": [
      "49\n"
     ]
    }
   ],
   "execution_count": 8
  },
  {
   "metadata": {
    "ExecuteTime": {
     "end_time": "2024-06-07T11:11:46.665841800Z",
     "start_time": "2024-06-07T11:11:44.238221400Z"
    }
   },
   "cell_type": "code",
   "source": [
    "coord = pd.read_csv('coordinates/filtered_land_points.csv')\n",
    "radius = 500\n",
    "credential = get_gcloud_credential()\n",
    "\n",
    "\n",
    "for i in range(1):\n",
    "    places = circle_search(credential, coord['lat'][i], coord['lon'][i], radius, place_types)\n",
    "    dataset_maker(places)\n",
    "    time.sleep(1)"
   ],
   "id": "22f96d425ae04908",
   "outputs": [
    {
     "name": "stdout",
     "output_type": "stream",
     "text": [
      "Dataset saved to dataset-output/export_07-06-24_181145.csv\n"
     ]
    }
   ],
   "execution_count": 11
  },
  {
   "metadata": {
    "ExecuteTime": {
     "end_time": "2024-06-05T15:42:26.041718Z",
     "start_time": "2024-06-05T15:42:26.038549Z"
    }
   },
   "cell_type": "code",
   "source": [
    "print(len(coord))"
   ],
   "id": "674ad664821d8681",
   "outputs": [
    {
     "name": "stdout",
     "output_type": "stream",
     "text": [
      "6406\n"
     ]
    }
   ],
   "execution_count": 17
  },
  {
   "metadata": {
    "ExecuteTime": {
     "end_time": "2024-06-05T15:39:29.449310Z",
     "start_time": "2024-06-05T15:39:29.446311Z"
    }
   },
   "cell_type": "code",
   "source": [
    "print(f\"({coord['lat'][0]}, {coord['lon'][0]})\")"
   ],
   "id": "8c9b3ea7822423ba",
   "outputs": [
    {
     "name": "stdout",
     "output_type": "stream",
     "text": [
      "(-8.848271756339026, 115.12836912186044)\n"
     ]
    }
   ],
   "execution_count": 10
  },
  {
   "metadata": {
    "ExecuteTime": {
     "end_time": "2024-06-05T15:39:29.464444Z",
     "start_time": "2024-06-05T15:39:29.450355Z"
    }
   },
   "cell_type": "code",
   "source": [
    "# credential = get_gcloud_credential()\n",
    "# coord = '(-8.026006999300794, 114.42196422294008)'\n",
    "# radius = 500\n",
    "# \n",
    "# places = circle_search(credential, coord, radius, place_types)"
   ],
   "id": "df29e4559fbad0cd",
   "outputs": [],
   "execution_count": 11
  },
  {
   "metadata": {
    "ExecuteTime": {
     "end_time": "2024-06-05T15:39:29.475883Z",
     "start_time": "2024-06-05T15:39:29.464444Z"
    }
   },
   "cell_type": "code",
   "source": [
    "# dataset_maker(places)"
   ],
   "id": "1ccedff3d1624081",
   "outputs": [],
   "execution_count": 12
  },
  {
   "metadata": {
    "ExecuteTime": {
     "end_time": "2024-06-05T18:51:07.138817Z",
     "start_time": "2024-06-05T18:51:06.395989Z"
    }
   },
   "cell_type": "code",
   "source": [
    "import os\n",
    "import pandas as pd\n",
    "from pandas.errors import EmptyDataError\n",
    "\n",
    "# Path to the folder containing the CSV files\n",
    "folder_path = 'dataset-output'\n",
    "\n",
    "# List to hold dataframes\n",
    "dataframes = []\n",
    "\n",
    "# Iterate over all files in the folder\n",
    "for filename in os.listdir(folder_path):\n",
    "    # Check if the file is a CSV\n",
    "    if filename.endswith('.csv'):\n",
    "        # Construct full file path\n",
    "        file_path = os.path.join(folder_path, filename)\n",
    "        try:\n",
    "            # Read the CSV file\n",
    "            df = pd.read_csv(file_path)\n",
    "            # Append the dataframe to the list if it's not empty\n",
    "            if not df.empty:\n",
    "                dataframes.append(df)\n",
    "        except EmptyDataError:\n",
    "            print(f\"Warning: {file_path} is empty and will be skipped.\")\n",
    "\n",
    "# Optionally, concatenate all dataframes into a single dataframe if the list is not empty\n",
    "if dataframes:\n",
    "    all_data = pd.concat(dataframes, ignore_index=True)\n",
    "    # Display the concatenated dataframe\n",
    "    print(all_data)\n",
    "else:\n",
    "    print(\"No dataframes to concatenate.\")\n"
   ],
   "id": "4fff2d423f4e5e13",
   "outputs": [
    {
     "name": "stdout",
     "output_type": "stream",
     "text": [
      "                                        Name  \\\n",
      "0                   Six Senses Uluwatu, Bali   \n",
      "1                          Oneeighty Dayclub   \n",
      "2    The cave by Chef Ryan Clift at The edge   \n",
      "3      Cliff Bar at Six Senses Uluwatu, Bali   \n",
      "4                              Samsara beach   \n",
      "..                                       ...   \n",
      "134             Villa Anasera by Bukit Vista   \n",
      "135                   Majestic Water Village   \n",
      "136                         Bale Taru Pecatu   \n",
      "137                        D’kubu rujakhouse   \n",
      "138                          Villa Sunseeker   \n",
      "\n",
      "                                                 Types  \\\n",
      "0                         resort_hotel, hotel, lodging   \n",
      "1    restaurant, swimming_pool, bar, sports_complex...   \n",
      "2                                     restaurant, food   \n",
      "3                                                  bar   \n",
      "4                                   tourist_attraction   \n",
      "..                                                 ...   \n",
      "134                                     hotel, lodging   \n",
      "135                                            lodging   \n",
      "136                                     hotel, lodging   \n",
      "137                                   restaurant, food   \n",
      "138                                            lodging   \n",
      "\n",
      "                    Price Level  Rating  \\\n",
      "0                           NaN     4.6   \n",
      "1                           NaN     4.6   \n",
      "2    PRICE_LEVEL_VERY_EXPENSIVE     4.3   \n",
      "3                           NaN     4.6   \n",
      "4                           NaN     3.7   \n",
      "..                          ...     ...   \n",
      "134                         NaN     4.9   \n",
      "135                         NaN     4.4   \n",
      "136                         NaN     5.0   \n",
      "137                         NaN     5.0   \n",
      "138                         NaN     NaN   \n",
      "\n",
      "                                                Photos  \n",
      "0    [{'name': 'places/ChIJhWw69uVa0i0RyDeb1FFs6Lo/...  \n",
      "1    [{'name': 'places/ChIJ3Tq7gu5a0i0RwfmpF7w_jfk/...  \n",
      "2    [{'name': 'places/ChIJz3aiexxb0i0RxiMiyHGceqo/...  \n",
      "3    [{'name': 'places/ChIJ8ZOmGRVb0i0R_8BTh60a1g8/...  \n",
      "4    [{'name': 'places/ChIJ3Zz7D8hb0i0RjgeiNWFB4IM/...  \n",
      "..                                                 ...  \n",
      "134  [{'name': 'places/ChIJNYVUtcdb0i0RQH6Syz6Sj2w/...  \n",
      "135  [{'name': 'places/ChIJbdWq2eBa0i0RGfr745BteSE/...  \n",
      "136  [{'name': 'places/ChIJ83JuYc5b0i0Ry_zv0wcgwiY/...  \n",
      "137  [{'name': 'places/ChIJLwX66J1b0i0RswUQBtZH0wU/...  \n",
      "138  [{'name': 'places/ChIJlxClejJb0i0R7Mugelz6xc4/...  \n",
      "\n",
      "[139 rows x 5 columns]\n"
     ]
    }
   ],
   "execution_count": 1
  },
  {
   "metadata": {
    "ExecuteTime": {
     "end_time": "2024-06-05T18:51:07.153033Z",
     "start_time": "2024-06-05T18:51:07.140244Z"
    }
   },
   "cell_type": "code",
   "source": [
    "all_data"
   ],
   "id": "c16ae10ecd637c5",
   "outputs": [
    {
     "data": {
      "text/plain": [
       "                                        Name  \\\n",
       "0                   Six Senses Uluwatu, Bali   \n",
       "1                          Oneeighty Dayclub   \n",
       "2    The cave by Chef Ryan Clift at The edge   \n",
       "3      Cliff Bar at Six Senses Uluwatu, Bali   \n",
       "4                              Samsara beach   \n",
       "..                                       ...   \n",
       "134             Villa Anasera by Bukit Vista   \n",
       "135                   Majestic Water Village   \n",
       "136                         Bale Taru Pecatu   \n",
       "137                        D’kubu rujakhouse   \n",
       "138                          Villa Sunseeker   \n",
       "\n",
       "                                                 Types  \\\n",
       "0                         resort_hotel, hotel, lodging   \n",
       "1    restaurant, swimming_pool, bar, sports_complex...   \n",
       "2                                     restaurant, food   \n",
       "3                                                  bar   \n",
       "4                                   tourist_attraction   \n",
       "..                                                 ...   \n",
       "134                                     hotel, lodging   \n",
       "135                                            lodging   \n",
       "136                                     hotel, lodging   \n",
       "137                                   restaurant, food   \n",
       "138                                            lodging   \n",
       "\n",
       "                    Price Level  Rating  \\\n",
       "0                           NaN     4.6   \n",
       "1                           NaN     4.6   \n",
       "2    PRICE_LEVEL_VERY_EXPENSIVE     4.3   \n",
       "3                           NaN     4.6   \n",
       "4                           NaN     3.7   \n",
       "..                          ...     ...   \n",
       "134                         NaN     4.9   \n",
       "135                         NaN     4.4   \n",
       "136                         NaN     5.0   \n",
       "137                         NaN     5.0   \n",
       "138                         NaN     NaN   \n",
       "\n",
       "                                                Photos  \n",
       "0    [{'name': 'places/ChIJhWw69uVa0i0RyDeb1FFs6Lo/...  \n",
       "1    [{'name': 'places/ChIJ3Tq7gu5a0i0RwfmpF7w_jfk/...  \n",
       "2    [{'name': 'places/ChIJz3aiexxb0i0RxiMiyHGceqo/...  \n",
       "3    [{'name': 'places/ChIJ8ZOmGRVb0i0R_8BTh60a1g8/...  \n",
       "4    [{'name': 'places/ChIJ3Zz7D8hb0i0RjgeiNWFB4IM/...  \n",
       "..                                                 ...  \n",
       "134  [{'name': 'places/ChIJNYVUtcdb0i0RQH6Syz6Sj2w/...  \n",
       "135  [{'name': 'places/ChIJbdWq2eBa0i0RGfr745BteSE/...  \n",
       "136  [{'name': 'places/ChIJ83JuYc5b0i0Ry_zv0wcgwiY/...  \n",
       "137  [{'name': 'places/ChIJLwX66J1b0i0RswUQBtZH0wU/...  \n",
       "138  [{'name': 'places/ChIJlxClejJb0i0R7Mugelz6xc4/...  \n",
       "\n",
       "[139 rows x 5 columns]"
      ],
      "text/html": [
       "<div>\n",
       "<style scoped>\n",
       "    .dataframe tbody tr th:only-of-type {\n",
       "        vertical-align: middle;\n",
       "    }\n",
       "\n",
       "    .dataframe tbody tr th {\n",
       "        vertical-align: top;\n",
       "    }\n",
       "\n",
       "    .dataframe thead th {\n",
       "        text-align: right;\n",
       "    }\n",
       "</style>\n",
       "<table border=\"1\" class=\"dataframe\">\n",
       "  <thead>\n",
       "    <tr style=\"text-align: right;\">\n",
       "      <th></th>\n",
       "      <th>Name</th>\n",
       "      <th>Types</th>\n",
       "      <th>Price Level</th>\n",
       "      <th>Rating</th>\n",
       "      <th>Photos</th>\n",
       "    </tr>\n",
       "  </thead>\n",
       "  <tbody>\n",
       "    <tr>\n",
       "      <th>0</th>\n",
       "      <td>Six Senses Uluwatu, Bali</td>\n",
       "      <td>resort_hotel, hotel, lodging</td>\n",
       "      <td>NaN</td>\n",
       "      <td>4.6</td>\n",
       "      <td>[{'name': 'places/ChIJhWw69uVa0i0RyDeb1FFs6Lo/...</td>\n",
       "    </tr>\n",
       "    <tr>\n",
       "      <th>1</th>\n",
       "      <td>Oneeighty Dayclub</td>\n",
       "      <td>restaurant, swimming_pool, bar, sports_complex...</td>\n",
       "      <td>NaN</td>\n",
       "      <td>4.6</td>\n",
       "      <td>[{'name': 'places/ChIJ3Tq7gu5a0i0RwfmpF7w_jfk/...</td>\n",
       "    </tr>\n",
       "    <tr>\n",
       "      <th>2</th>\n",
       "      <td>The cave by Chef Ryan Clift at The edge</td>\n",
       "      <td>restaurant, food</td>\n",
       "      <td>PRICE_LEVEL_VERY_EXPENSIVE</td>\n",
       "      <td>4.3</td>\n",
       "      <td>[{'name': 'places/ChIJz3aiexxb0i0RxiMiyHGceqo/...</td>\n",
       "    </tr>\n",
       "    <tr>\n",
       "      <th>3</th>\n",
       "      <td>Cliff Bar at Six Senses Uluwatu, Bali</td>\n",
       "      <td>bar</td>\n",
       "      <td>NaN</td>\n",
       "      <td>4.6</td>\n",
       "      <td>[{'name': 'places/ChIJ8ZOmGRVb0i0R_8BTh60a1g8/...</td>\n",
       "    </tr>\n",
       "    <tr>\n",
       "      <th>4</th>\n",
       "      <td>Samsara beach</td>\n",
       "      <td>tourist_attraction</td>\n",
       "      <td>NaN</td>\n",
       "      <td>3.7</td>\n",
       "      <td>[{'name': 'places/ChIJ3Zz7D8hb0i0RjgeiNWFB4IM/...</td>\n",
       "    </tr>\n",
       "    <tr>\n",
       "      <th>...</th>\n",
       "      <td>...</td>\n",
       "      <td>...</td>\n",
       "      <td>...</td>\n",
       "      <td>...</td>\n",
       "      <td>...</td>\n",
       "    </tr>\n",
       "    <tr>\n",
       "      <th>134</th>\n",
       "      <td>Villa Anasera by Bukit Vista</td>\n",
       "      <td>hotel, lodging</td>\n",
       "      <td>NaN</td>\n",
       "      <td>4.9</td>\n",
       "      <td>[{'name': 'places/ChIJNYVUtcdb0i0RQH6Syz6Sj2w/...</td>\n",
       "    </tr>\n",
       "    <tr>\n",
       "      <th>135</th>\n",
       "      <td>Majestic Water Village</td>\n",
       "      <td>lodging</td>\n",
       "      <td>NaN</td>\n",
       "      <td>4.4</td>\n",
       "      <td>[{'name': 'places/ChIJbdWq2eBa0i0RGfr745BteSE/...</td>\n",
       "    </tr>\n",
       "    <tr>\n",
       "      <th>136</th>\n",
       "      <td>Bale Taru Pecatu</td>\n",
       "      <td>hotel, lodging</td>\n",
       "      <td>NaN</td>\n",
       "      <td>5.0</td>\n",
       "      <td>[{'name': 'places/ChIJ83JuYc5b0i0Ry_zv0wcgwiY/...</td>\n",
       "    </tr>\n",
       "    <tr>\n",
       "      <th>137</th>\n",
       "      <td>D’kubu rujakhouse</td>\n",
       "      <td>restaurant, food</td>\n",
       "      <td>NaN</td>\n",
       "      <td>5.0</td>\n",
       "      <td>[{'name': 'places/ChIJLwX66J1b0i0RswUQBtZH0wU/...</td>\n",
       "    </tr>\n",
       "    <tr>\n",
       "      <th>138</th>\n",
       "      <td>Villa Sunseeker</td>\n",
       "      <td>lodging</td>\n",
       "      <td>NaN</td>\n",
       "      <td>NaN</td>\n",
       "      <td>[{'name': 'places/ChIJlxClejJb0i0R7Mugelz6xc4/...</td>\n",
       "    </tr>\n",
       "  </tbody>\n",
       "</table>\n",
       "<p>139 rows × 5 columns</p>\n",
       "</div>"
      ]
     },
     "execution_count": 2,
     "metadata": {},
     "output_type": "execute_result"
    }
   ],
   "execution_count": 2
  },
  {
   "metadata": {},
   "cell_type": "code",
   "source": [],
   "id": "ddabb99e708e4f1e",
   "outputs": [],
   "execution_count": null
  }
 ],
 "metadata": {
  "kernelspec": {
   "display_name": "Python 3",
   "language": "python",
   "name": "python3"
  },
  "language_info": {
   "codemirror_mode": {
    "name": "ipython",
    "version": 2
   },
   "file_extension": ".py",
   "mimetype": "text/x-python",
   "name": "python",
   "nbconvert_exporter": "python",
   "pygments_lexer": "ipython2",
   "version": "2.7.6"
  }
 },
 "nbformat": 4,
 "nbformat_minor": 5
}
