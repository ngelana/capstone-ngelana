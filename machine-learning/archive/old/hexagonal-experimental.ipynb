{
 "cells": [
  {
   "cell_type": "code",
   "id": "initial_id",
   "metadata": {
    "collapsed": true,
    "ExecuteTime": {
     "end_time": "2024-06-06T23:40:53.366912Z",
     "start_time": "2024-06-06T23:40:52.540487Z"
    }
   },
   "source": [
    "import math\n",
    "import csv\n",
    "\n",
    "from geopy.distance import geodesic"
   ],
   "outputs": [],
   "execution_count": 1
  },
  {
   "metadata": {
    "ExecuteTime": {
     "end_time": "2024-06-06T23:40:53.372814Z",
     "start_time": "2024-06-06T23:40:53.367426Z"
    }
   },
   "cell_type": "code",
   "source": [
    "def get_hexagon_row_exp(start_coord, radius, count):\n",
    "    coord_data = []\n",
    "    for _ in range(count):\n",
    "        next_coord = geodesic(meters=radius * 2).destination(start_coord, 90)\n",
    "        coord_data.append([next_coord.latitude, next_coord.longitude])\n",
    "        start_coord = next_coord\n",
    "    return coord_data\n",
    "\n",
    "def row_mapper_exp(start_coord, radius, row_count, height_count):\n",
    "    coord_data = []\n",
    "    height = radius * math.sqrt(3)\n",
    "    for _ in range(height_count):\n",
    "        direction = 90 if _ % 2 != 0 else 270\n",
    "        next_coord = geodesic(meters=radius).destination(\n",
    "            geodesic(meters=height).destination(start_coord, 180), direction\n",
    "        )\n",
    "        coord_data.extend(get_hexagon_row_exp(next_coord, radius, row_count))\n",
    "        start_coord = next_coord\n",
    "    return coord_data\n",
    "\n",
    "def data_to_csv(data):\n",
    "    file_path = 'archive/coordinates/hexagonal-packing-v3.csv'\n",
    "    with open(file_path, mode='w', newline='', encoding='utf-8') as file:\n",
    "        writer = csv.writer(file)\n",
    "        writer.writerow(['lat', 'lon'])\n",
    "        writer.writerows(data)\n",
    "        print(f\"Coordinates saved to {file_path}\")"
   ],
   "id": "3e407388eeef8954",
   "outputs": [],
   "execution_count": 2
  },
  {
   "metadata": {
    "ExecuteTime": {
     "end_time": "2024-06-06T23:40:54.156737Z",
     "start_time": "2024-06-06T23:40:53.373821Z"
    }
   },
   "cell_type": "code",
   "source": [
    "r = 500\n",
    "start_point = (-8.096568, 114.437477)\n",
    "row_count = 140\n",
    "height_count = 100\n",
    "coordinates = row_mapper_exp(start_point, r, row_count, height_count)"
   ],
   "id": "886503f51d0dfea5",
   "outputs": [],
   "execution_count": 3
  },
  {
   "metadata": {
    "ExecuteTime": {
     "end_time": "2024-06-06T23:40:54.160284Z",
     "start_time": "2024-06-06T23:40:54.157250Z"
    }
   },
   "cell_type": "code",
   "source": "print(len(coordinates))",
   "id": "17c12d076574ee1",
   "outputs": [
    {
     "name": "stdout",
     "output_type": "stream",
     "text": [
      "14000\n"
     ]
    }
   ],
   "execution_count": 4
  }
 ],
 "metadata": {
  "kernelspec": {
   "display_name": "Python 3",
   "language": "python",
   "name": "python3"
  },
  "language_info": {
   "codemirror_mode": {
    "name": "ipython",
    "version": 2
   },
   "file_extension": ".py",
   "mimetype": "text/x-python",
   "name": "python",
   "nbconvert_exporter": "python",
   "pygments_lexer": "ipython2",
   "version": "2.7.6"
  }
 },
 "nbformat": 4,
 "nbformat_minor": 5
}
