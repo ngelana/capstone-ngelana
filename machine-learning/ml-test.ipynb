{
 "cells": [
  {
   "cell_type": "code",
   "id": "initial_id",
   "metadata": {
    "collapsed": true,
    "ExecuteTime": {
     "end_time": "2024-06-11T14:00:05.730361Z",
     "start_time": "2024-06-11T14:00:04.852284Z"
    }
   },
   "source": [
    "import pandas as pd\n",
    "\n",
    "# Load the reviews data\n",
    "reviews_df = pd.read_csv('combined-dataset/final_reviews_data.csv')\n",
    "\n",
    "# Example preprocessing function\n",
    "def preprocess_text(text):\n",
    "    return text.lower().strip()\n",
    "\n",
    "# Apply preprocessing\n",
    "reviews_df['review'] = reviews_df['review'].apply(preprocess_text)\n"
   ],
   "outputs": [],
   "execution_count": 1
  },
  {
   "metadata": {},
   "cell_type": "code",
   "source": [
    "from sklearn.feature_extraction.text import TfidfVectorizer\n",
    "\n",
    "# Initialize TF-IDF Vectorizer\n",
    "tfidf = TfidfVectorizer(max_features=5000)\n",
    "\n",
    "# Transform the review text\n",
    "tfidf_matrix = tfidf.fit_transform(reviews_df['review'])\n",
    "\n",
    "# Convert to DataFrame\n",
    "tfidf_df = pd.DataFrame(tfidf_matrix.toarray(), columns=tfidf.get_feature_names_out())\n"
   ],
   "id": "4b36df051eea6960",
   "outputs": [],
   "execution_count": null
  },
  {
   "metadata": {},
   "cell_type": "code",
   "source": [
    "from textblob import TextBlob\n",
    "\n",
    "# Function to get sentiment\n",
    "def get_sentiment(review):\n",
    "    analysis = TextBlob(review)\n",
    "    return analysis.sentiment.polarity\n",
    "\n",
    "# Apply sentiment analysis\n",
    "reviews_df['sentiment'] = reviews_df['review'].apply(get_sentiment)\n"
   ],
   "id": "2cb59f70ef4a9275",
   "outputs": [],
   "execution_count": null
  },
  {
   "metadata": {},
   "cell_type": "code",
   "source": [
    "# Combine TF-IDF with sentiment\n",
    "combined_features = tfidf_df\n",
    "combined_features['sentiment'] = reviews_df['sentiment']"
   ],
   "id": "5c4f21848347c47e",
   "outputs": [],
   "execution_count": null
  },
  {
   "metadata": {},
   "cell_type": "code",
   "source": [
    "import tensorflow as tf\n",
    "from tensorflow.keras import Sequential\n",
    "from tensorflow.keras.layers import Dense, Dropout, Input\n",
    "\n",
    "# Define the model\n",
    "model = Sequential([\n",
    "    Input(shape=(combined_features.shape[1],)),\n",
    "    Dense(256, activation='relu'),\n",
    "    Dropout(0.5),\n",
    "    Dense(128, activation='relu'),\n",
    "    Dropout(0.5),\n",
    "    Dense(1, activation='linear')  # Output layer for regression\n",
    "])\n",
    "\n",
    "model.compile(optimizer='adam', loss='mean_squared_error', metrics=['mae'])\n",
    "model.summary()\n"
   ],
   "id": "6a5afbbb1e7250a9",
   "outputs": [],
   "execution_count": null
  },
  {
   "metadata": {},
   "cell_type": "code",
   "source": [
    "# Prepare training data\n",
    "X = combined_features.values\n",
    "y = reviews_df['sentiment'].values\n",
    "\n",
    "# Train/test split\n",
    "from sklearn.model_selection import train_test_split\n",
    "X_train, X_test, y_train, y_test = train_test_split(X, y, test_size=0.2, random_state=42)\n",
    "\n",
    "# Train the model\n",
    "model.fit(X_train, y_train, epochs=150, batch_size=32, validation_split=0.2)\n"
   ],
   "id": "9e6afe5a48823f04",
   "outputs": [],
   "execution_count": null
  },
  {
   "metadata": {},
   "cell_type": "code",
   "source": [
    "from sklearn.metrics import mean_squared_error, mean_absolute_error\n",
    "\n",
    "# Predict on the test set\n",
    "y_pred = model.predict(X_test)\n",
    "\n",
    "# Calculate metrics\n",
    "mse = mean_squared_error(y_test, y_pred)\n",
    "mae = mean_absolute_error(y_test, y_pred)\n",
    "\n",
    "print(f'Mean Squared Error: {mse:.2f}, Mean Absolute Error: {mae:.2f}')\n"
   ],
   "id": "33297d04ed6c50c1",
   "outputs": [],
   "execution_count": null
  },
  {
   "metadata": {},
   "cell_type": "code",
   "source": [
    "# New reviews to be analyzed (example)\n",
    "new_reviews = [\n",
    "    \"Great product, very satisfied!\",\n",
    "    \"The service was terrible.\",\n",
    "    \"Average experience, nothing special.\",\n",
    "    \"Fantastic! Exceeded expectations.\",\n",
    "    \"Not what I expected, quite disappointing.\"\n",
    "]\n",
    "\n",
    "# Preprocess new reviews\n",
    "new_reviews = [preprocess_text(review) for review in new_reviews]\n",
    "\n",
    "# Transform new reviews using the same TF-IDF vectorizer\n",
    "new_tfidf_matrix = tfidf.transform(new_reviews)\n",
    "new_tfidf_df = pd.DataFrame(new_tfidf_matrix.toarray(), columns=tfidf.get_feature_names_out())\n",
    "\n",
    "# If you have other features, combine them similarly\n",
    "# Example: Assuming we have a sentiment column (not usual in new items)\n",
    "# new_combined_features = new_tfidf_df.assign(sentiment=0)  # Add dummy sentiment if not available\n",
    "new_combined_features = new_tfidf_df  # Use only TF-IDF for simplicity here\n"
   ],
   "id": "c99f244fd3da1e33",
   "outputs": [],
   "execution_count": null
  },
  {
   "metadata": {},
   "cell_type": "code",
   "source": [
    "# Predict sentiments\n",
    "predicted_sentiments = model.predict(new_combined_features)"
   ],
   "id": "41f88918596fabaa",
   "outputs": [],
   "execution_count": null
  },
  {
   "metadata": {},
   "cell_type": "code",
   "source": "",
   "id": "d8038f2e37430da",
   "outputs": [],
   "execution_count": null
  }
 ],
 "metadata": {
  "kernelspec": {
   "display_name": "Python 3",
   "language": "python",
   "name": "python3"
  },
  "language_info": {
   "codemirror_mode": {
    "name": "ipython",
    "version": 2
   },
   "file_extension": ".py",
   "mimetype": "text/x-python",
   "name": "python",
   "nbconvert_exporter": "python",
   "pygments_lexer": "ipython2",
   "version": "2.7.6"
  }
 },
 "nbformat": 4,
 "nbformat_minor": 5
}
