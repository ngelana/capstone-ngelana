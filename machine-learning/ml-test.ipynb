{
 "cells": [
  {
   "cell_type": "code",
   "id": "initial_id",
   "metadata": {
    "collapsed": true,
    "ExecuteTime": {
     "end_time": "2024-06-10T22:48:04.451098Z",
     "start_time": "2024-06-10T22:48:04.017698Z"
    }
   },
   "source": [
    "import pandas as pd\n",
    "\n",
    "# Load the reviews data\n",
    "reviews_df = pd.read_csv('combined-dataset/final_reviews_data.csv')\n",
    "\n",
    "# Example preprocessing function\n",
    "def preprocess_text(text):\n",
    "    return text.lower().strip()\n",
    "\n",
    "# Apply preprocessing\n",
    "reviews_df['review'] = reviews_df['review'].apply(preprocess_text)\n"
   ],
   "outputs": [],
   "execution_count": 1
  },
  {
   "metadata": {
    "ExecuteTime": {
     "end_time": "2024-06-10T22:48:12.376309Z",
     "start_time": "2024-06-10T22:48:11.068860Z"
    }
   },
   "cell_type": "code",
   "source": [
    "from sklearn.feature_extraction.text import TfidfVectorizer\n",
    "\n",
    "# Initialize TF-IDF Vectorizer\n",
    "tfidf = TfidfVectorizer(max_features=5000)\n",
    "\n",
    "# Transform the review text\n",
    "tfidf_matrix = tfidf.fit_transform(reviews_df['review'])\n",
    "\n",
    "# Convert to DataFrame\n",
    "tfidf_df = pd.DataFrame(tfidf_matrix.toarray(), columns=tfidf.get_feature_names_out())\n"
   ],
   "id": "4b36df051eea6960",
   "outputs": [],
   "execution_count": 2
  },
  {
   "metadata": {
    "ExecuteTime": {
     "end_time": "2024-06-10T22:48:27.964050Z",
     "start_time": "2024-06-10T22:48:21.545731Z"
    }
   },
   "cell_type": "code",
   "source": [
    "from textblob import TextBlob\n",
    "\n",
    "# Function to get sentiment\n",
    "def get_sentiment(review):\n",
    "    analysis = TextBlob(review)\n",
    "    return analysis.sentiment.polarity\n",
    "\n",
    "# Apply sentiment analysis\n",
    "reviews_df['sentiment'] = reviews_df['review'].apply(get_sentiment)\n"
   ],
   "id": "2cb59f70ef4a9275",
   "outputs": [],
   "execution_count": 3
  },
  {
   "metadata": {
    "ExecuteTime": {
     "end_time": "2024-06-10T22:48:38.470218Z",
     "start_time": "2024-06-10T22:48:38.466165Z"
    }
   },
   "cell_type": "code",
   "source": [
    "# Combine TF-IDF with sentiment\n",
    "combined_features = tfidf_df\n",
    "combined_features['sentiment'] = reviews_df['sentiment']"
   ],
   "id": "5c4f21848347c47e",
   "outputs": [],
   "execution_count": 4
  },
  {
   "metadata": {
    "ExecuteTime": {
     "end_time": "2024-06-10T22:48:53.068797Z",
     "start_time": "2024-06-10T22:48:51.027195Z"
    }
   },
   "cell_type": "code",
   "source": [
    "import tensorflow as tf\n",
    "from tensorflow.keras import Sequential\n",
    "from tensorflow.keras.layers import Dense, Dropout, Input\n",
    "\n",
    "# Define the model\n",
    "model = Sequential([\n",
    "    Input(shape=(combined_features.shape[1],)),\n",
    "    Dense(256, activation='relu'),\n",
    "    Dropout(0.5),\n",
    "    Dense(128, activation='relu'),\n",
    "    Dropout(0.5),\n",
    "    Dense(1, activation='linear')  # Output layer for regression\n",
    "])\n",
    "\n",
    "model.compile(optimizer='adam', loss='mean_squared_error', metrics=['mae'])\n",
    "model.summary()\n"
   ],
   "id": "6a5afbbb1e7250a9",
   "outputs": [
    {
     "data": {
      "text/plain": [
       "\u001B[1mModel: \"sequential\"\u001B[0m\n"
      ],
      "text/html": [
       "<pre style=\"white-space:pre;overflow-x:auto;line-height:normal;font-family:Menlo,'DejaVu Sans Mono',consolas,'Courier New',monospace\"><span style=\"font-weight: bold\">Model: \"sequential\"</span>\n",
       "</pre>\n"
      ]
     },
     "metadata": {},
     "output_type": "display_data"
    },
    {
     "data": {
      "text/plain": [
       "┏━━━━━━━━━━━━━━━━━━━━━━━━━━━━━━━━━┳━━━━━━━━━━━━━━━━━━━━━━━━┳━━━━━━━━━━━━━━━┓\n",
       "┃\u001B[1m \u001B[0m\u001B[1mLayer (type)                   \u001B[0m\u001B[1m \u001B[0m┃\u001B[1m \u001B[0m\u001B[1mOutput Shape          \u001B[0m\u001B[1m \u001B[0m┃\u001B[1m \u001B[0m\u001B[1m      Param #\u001B[0m\u001B[1m \u001B[0m┃\n",
       "┡━━━━━━━━━━━━━━━━━━━━━━━━━━━━━━━━━╇━━━━━━━━━━━━━━━━━━━━━━━━╇━━━━━━━━━━━━━━━┩\n",
       "│ dense (\u001B[38;5;33mDense\u001B[0m)                   │ (\u001B[38;5;45mNone\u001B[0m, \u001B[38;5;34m256\u001B[0m)            │     \u001B[38;5;34m1,280,512\u001B[0m │\n",
       "├─────────────────────────────────┼────────────────────────┼───────────────┤\n",
       "│ dropout (\u001B[38;5;33mDropout\u001B[0m)               │ (\u001B[38;5;45mNone\u001B[0m, \u001B[38;5;34m256\u001B[0m)            │             \u001B[38;5;34m0\u001B[0m │\n",
       "├─────────────────────────────────┼────────────────────────┼───────────────┤\n",
       "│ dense_1 (\u001B[38;5;33mDense\u001B[0m)                 │ (\u001B[38;5;45mNone\u001B[0m, \u001B[38;5;34m128\u001B[0m)            │        \u001B[38;5;34m32,896\u001B[0m │\n",
       "├─────────────────────────────────┼────────────────────────┼───────────────┤\n",
       "│ dropout_1 (\u001B[38;5;33mDropout\u001B[0m)             │ (\u001B[38;5;45mNone\u001B[0m, \u001B[38;5;34m128\u001B[0m)            │             \u001B[38;5;34m0\u001B[0m │\n",
       "├─────────────────────────────────┼────────────────────────┼───────────────┤\n",
       "│ dense_2 (\u001B[38;5;33mDense\u001B[0m)                 │ (\u001B[38;5;45mNone\u001B[0m, \u001B[38;5;34m1\u001B[0m)              │           \u001B[38;5;34m129\u001B[0m │\n",
       "└─────────────────────────────────┴────────────────────────┴───────────────┘\n"
      ],
      "text/html": [
       "<pre style=\"white-space:pre;overflow-x:auto;line-height:normal;font-family:Menlo,'DejaVu Sans Mono',consolas,'Courier New',monospace\">┏━━━━━━━━━━━━━━━━━━━━━━━━━━━━━━━━━┳━━━━━━━━━━━━━━━━━━━━━━━━┳━━━━━━━━━━━━━━━┓\n",
       "┃<span style=\"font-weight: bold\"> Layer (type)                    </span>┃<span style=\"font-weight: bold\"> Output Shape           </span>┃<span style=\"font-weight: bold\">       Param # </span>┃\n",
       "┡━━━━━━━━━━━━━━━━━━━━━━━━━━━━━━━━━╇━━━━━━━━━━━━━━━━━━━━━━━━╇━━━━━━━━━━━━━━━┩\n",
       "│ dense (<span style=\"color: #0087ff; text-decoration-color: #0087ff\">Dense</span>)                   │ (<span style=\"color: #00d7ff; text-decoration-color: #00d7ff\">None</span>, <span style=\"color: #00af00; text-decoration-color: #00af00\">256</span>)            │     <span style=\"color: #00af00; text-decoration-color: #00af00\">1,280,512</span> │\n",
       "├─────────────────────────────────┼────────────────────────┼───────────────┤\n",
       "│ dropout (<span style=\"color: #0087ff; text-decoration-color: #0087ff\">Dropout</span>)               │ (<span style=\"color: #00d7ff; text-decoration-color: #00d7ff\">None</span>, <span style=\"color: #00af00; text-decoration-color: #00af00\">256</span>)            │             <span style=\"color: #00af00; text-decoration-color: #00af00\">0</span> │\n",
       "├─────────────────────────────────┼────────────────────────┼───────────────┤\n",
       "│ dense_1 (<span style=\"color: #0087ff; text-decoration-color: #0087ff\">Dense</span>)                 │ (<span style=\"color: #00d7ff; text-decoration-color: #00d7ff\">None</span>, <span style=\"color: #00af00; text-decoration-color: #00af00\">128</span>)            │        <span style=\"color: #00af00; text-decoration-color: #00af00\">32,896</span> │\n",
       "├─────────────────────────────────┼────────────────────────┼───────────────┤\n",
       "│ dropout_1 (<span style=\"color: #0087ff; text-decoration-color: #0087ff\">Dropout</span>)             │ (<span style=\"color: #00d7ff; text-decoration-color: #00d7ff\">None</span>, <span style=\"color: #00af00; text-decoration-color: #00af00\">128</span>)            │             <span style=\"color: #00af00; text-decoration-color: #00af00\">0</span> │\n",
       "├─────────────────────────────────┼────────────────────────┼───────────────┤\n",
       "│ dense_2 (<span style=\"color: #0087ff; text-decoration-color: #0087ff\">Dense</span>)                 │ (<span style=\"color: #00d7ff; text-decoration-color: #00d7ff\">None</span>, <span style=\"color: #00af00; text-decoration-color: #00af00\">1</span>)              │           <span style=\"color: #00af00; text-decoration-color: #00af00\">129</span> │\n",
       "└─────────────────────────────────┴────────────────────────┴───────────────┘\n",
       "</pre>\n"
      ]
     },
     "metadata": {},
     "output_type": "display_data"
    },
    {
     "data": {
      "text/plain": [
       "\u001B[1m Total params: \u001B[0m\u001B[38;5;34m1,313,537\u001B[0m (5.01 MB)\n"
      ],
      "text/html": [
       "<pre style=\"white-space:pre;overflow-x:auto;line-height:normal;font-family:Menlo,'DejaVu Sans Mono',consolas,'Courier New',monospace\"><span style=\"font-weight: bold\"> Total params: </span><span style=\"color: #00af00; text-decoration-color: #00af00\">1,313,537</span> (5.01 MB)\n",
       "</pre>\n"
      ]
     },
     "metadata": {},
     "output_type": "display_data"
    },
    {
     "data": {
      "text/plain": [
       "\u001B[1m Trainable params: \u001B[0m\u001B[38;5;34m1,313,537\u001B[0m (5.01 MB)\n"
      ],
      "text/html": [
       "<pre style=\"white-space:pre;overflow-x:auto;line-height:normal;font-family:Menlo,'DejaVu Sans Mono',consolas,'Courier New',monospace\"><span style=\"font-weight: bold\"> Trainable params: </span><span style=\"color: #00af00; text-decoration-color: #00af00\">1,313,537</span> (5.01 MB)\n",
       "</pre>\n"
      ]
     },
     "metadata": {},
     "output_type": "display_data"
    },
    {
     "data": {
      "text/plain": [
       "\u001B[1m Non-trainable params: \u001B[0m\u001B[38;5;34m0\u001B[0m (0.00 B)\n"
      ],
      "text/html": [
       "<pre style=\"white-space:pre;overflow-x:auto;line-height:normal;font-family:Menlo,'DejaVu Sans Mono',consolas,'Courier New',monospace\"><span style=\"font-weight: bold\"> Non-trainable params: </span><span style=\"color: #00af00; text-decoration-color: #00af00\">0</span> (0.00 B)\n",
       "</pre>\n"
      ]
     },
     "metadata": {},
     "output_type": "display_data"
    }
   ],
   "execution_count": 5
  },
  {
   "metadata": {
    "ExecuteTime": {
     "end_time": "2024-06-10T23:04:09.790726Z",
     "start_time": "2024-06-10T22:51:39.332882Z"
    }
   },
   "cell_type": "code",
   "source": [
    "# Prepare training data\n",
    "X = combined_features.values\n",
    "y = reviews_df['sentiment'].values\n",
    "\n",
    "# Train/test split\n",
    "from sklearn.model_selection import train_test_split\n",
    "X_train, X_test, y_train, y_test = train_test_split(X, y, test_size=0.2, random_state=42)\n",
    "\n",
    "# Train the model\n",
    "model.fit(X_train, y_train, epochs=150, batch_size=32, validation_split=0.2)\n"
   ],
   "id": "9e6afe5a48823f04",
   "outputs": [
    {
     "name": "stdout",
     "output_type": "stream",
     "text": [
      "Epoch 1/150\n",
      "\u001B[1m484/484\u001B[0m \u001B[32m━━━━━━━━━━━━━━━━━━━━\u001B[0m\u001B[37m\u001B[0m \u001B[1m5s\u001B[0m 11ms/step - loss: 0.0026 - mae: 0.0357 - val_loss: 0.0014 - val_mae: 0.0275\n",
      "Epoch 2/150\n",
      "\u001B[1m484/484\u001B[0m \u001B[32m━━━━━━━━━━━━━━━━━━━━\u001B[0m\u001B[37m\u001B[0m \u001B[1m5s\u001B[0m 11ms/step - loss: 0.0025 - mae: 0.0349 - val_loss: 0.0010 - val_mae: 0.0237\n",
      "Epoch 3/150\n",
      "\u001B[1m484/484\u001B[0m \u001B[32m━━━━━━━━━━━━━━━━━━━━\u001B[0m\u001B[37m\u001B[0m \u001B[1m5s\u001B[0m 11ms/step - loss: 0.0025 - mae: 0.0354 - val_loss: 8.5949e-04 - val_mae: 0.0216\n",
      "Epoch 4/150\n",
      "\u001B[1m484/484\u001B[0m \u001B[32m━━━━━━━━━━━━━━━━━━━━\u001B[0m\u001B[37m\u001B[0m \u001B[1m5s\u001B[0m 11ms/step - loss: 0.0024 - mae: 0.0342 - val_loss: 0.0010 - val_mae: 0.0245\n",
      "Epoch 5/150\n",
      "\u001B[1m484/484\u001B[0m \u001B[32m━━━━━━━━━━━━━━━━━━━━\u001B[0m\u001B[37m\u001B[0m \u001B[1m5s\u001B[0m 11ms/step - loss: 0.0024 - mae: 0.0342 - val_loss: 0.0010 - val_mae: 0.0233\n",
      "Epoch 6/150\n",
      "\u001B[1m484/484\u001B[0m \u001B[32m━━━━━━━━━━━━━━━━━━━━\u001B[0m\u001B[37m\u001B[0m \u001B[1m5s\u001B[0m 10ms/step - loss: 0.0024 - mae: 0.0348 - val_loss: 0.0013 - val_mae: 0.0261\n",
      "Epoch 7/150\n",
      "\u001B[1m484/484\u001B[0m \u001B[32m━━━━━━━━━━━━━━━━━━━━\u001B[0m\u001B[37m\u001B[0m \u001B[1m5s\u001B[0m 10ms/step - loss: 0.0025 - mae: 0.0341 - val_loss: 9.2780e-04 - val_mae: 0.0224\n",
      "Epoch 8/150\n",
      "\u001B[1m484/484\u001B[0m \u001B[32m━━━━━━━━━━━━━━━━━━━━\u001B[0m\u001B[37m\u001B[0m \u001B[1m5s\u001B[0m 10ms/step - loss: 0.0023 - mae: 0.0337 - val_loss: 6.9654e-04 - val_mae: 0.0203\n",
      "Epoch 9/150\n",
      "\u001B[1m484/484\u001B[0m \u001B[32m━━━━━━━━━━━━━━━━━━━━\u001B[0m\u001B[37m\u001B[0m \u001B[1m5s\u001B[0m 10ms/step - loss: 0.0022 - mae: 0.0335 - val_loss: 6.5789e-04 - val_mae: 0.0200\n",
      "Epoch 10/150\n",
      "\u001B[1m484/484\u001B[0m \u001B[32m━━━━━━━━━━━━━━━━━━━━\u001B[0m\u001B[37m\u001B[0m \u001B[1m5s\u001B[0m 10ms/step - loss: 0.0022 - mae: 0.0333 - val_loss: 8.2777e-04 - val_mae: 0.0221\n",
      "Epoch 11/150\n",
      "\u001B[1m484/484\u001B[0m \u001B[32m━━━━━━━━━━━━━━━━━━━━\u001B[0m\u001B[37m\u001B[0m \u001B[1m5s\u001B[0m 10ms/step - loss: 0.0022 - mae: 0.0331 - val_loss: 6.5045e-04 - val_mae: 0.0193\n",
      "Epoch 12/150\n",
      "\u001B[1m484/484\u001B[0m \u001B[32m━━━━━━━━━━━━━━━━━━━━\u001B[0m\u001B[37m\u001B[0m \u001B[1m5s\u001B[0m 10ms/step - loss: 0.0022 - mae: 0.0329 - val_loss: 7.7303e-04 - val_mae: 0.0208\n",
      "Epoch 13/150\n",
      "\u001B[1m484/484\u001B[0m \u001B[32m━━━━━━━━━━━━━━━━━━━━\u001B[0m\u001B[37m\u001B[0m \u001B[1m5s\u001B[0m 11ms/step - loss: 0.0024 - mae: 0.0336 - val_loss: 0.0012 - val_mae: 0.0256\n",
      "Epoch 14/150\n",
      "\u001B[1m484/484\u001B[0m \u001B[32m━━━━━━━━━━━━━━━━━━━━\u001B[0m\u001B[37m\u001B[0m \u001B[1m5s\u001B[0m 11ms/step - loss: 0.0024 - mae: 0.0334 - val_loss: 7.7271e-04 - val_mae: 0.0210\n",
      "Epoch 15/150\n",
      "\u001B[1m484/484\u001B[0m \u001B[32m━━━━━━━━━━━━━━━━━━━━\u001B[0m\u001B[37m\u001B[0m \u001B[1m5s\u001B[0m 10ms/step - loss: 0.0023 - mae: 0.0337 - val_loss: 9.5362e-04 - val_mae: 0.0232\n",
      "Epoch 16/150\n",
      "\u001B[1m484/484\u001B[0m \u001B[32m━━━━━━━━━━━━━━━━━━━━\u001B[0m\u001B[37m\u001B[0m \u001B[1m5s\u001B[0m 10ms/step - loss: 0.0024 - mae: 0.0337 - val_loss: 0.0010 - val_mae: 0.0243\n",
      "Epoch 17/150\n",
      "\u001B[1m484/484\u001B[0m \u001B[32m━━━━━━━━━━━━━━━━━━━━\u001B[0m\u001B[37m\u001B[0m \u001B[1m5s\u001B[0m 10ms/step - loss: 0.0023 - mae: 0.0331 - val_loss: 7.6852e-04 - val_mae: 0.0205\n",
      "Epoch 18/150\n",
      "\u001B[1m484/484\u001B[0m \u001B[32m━━━━━━━━━━━━━━━━━━━━\u001B[0m\u001B[37m\u001B[0m \u001B[1m5s\u001B[0m 10ms/step - loss: 0.0022 - mae: 0.0325 - val_loss: 0.0013 - val_mae: 0.0247\n",
      "Epoch 19/150\n",
      "\u001B[1m484/484\u001B[0m \u001B[32m━━━━━━━━━━━━━━━━━━━━\u001B[0m\u001B[37m\u001B[0m \u001B[1m5s\u001B[0m 10ms/step - loss: 0.0023 - mae: 0.0334 - val_loss: 6.1634e-04 - val_mae: 0.0191\n",
      "Epoch 20/150\n",
      "\u001B[1m484/484\u001B[0m \u001B[32m━━━━━━━━━━━━━━━━━━━━\u001B[0m\u001B[37m\u001B[0m \u001B[1m5s\u001B[0m 10ms/step - loss: 0.0022 - mae: 0.0325 - val_loss: 9.5753e-04 - val_mae: 0.0230\n",
      "Epoch 21/150\n",
      "\u001B[1m484/484\u001B[0m \u001B[32m━━━━━━━━━━━━━━━━━━━━\u001B[0m\u001B[37m\u001B[0m \u001B[1m5s\u001B[0m 10ms/step - loss: 0.0022 - mae: 0.0327 - val_loss: 7.8604e-04 - val_mae: 0.0219\n",
      "Epoch 22/150\n",
      "\u001B[1m484/484\u001B[0m \u001B[32m━━━━━━━━━━━━━━━━━━━━\u001B[0m\u001B[37m\u001B[0m \u001B[1m5s\u001B[0m 10ms/step - loss: 0.0022 - mae: 0.0329 - val_loss: 6.7526e-04 - val_mae: 0.0196\n",
      "Epoch 23/150\n",
      "\u001B[1m484/484\u001B[0m \u001B[32m━━━━━━━━━━━━━━━━━━━━\u001B[0m\u001B[37m\u001B[0m \u001B[1m5s\u001B[0m 10ms/step - loss: 0.0021 - mae: 0.0320 - val_loss: 9.0627e-04 - val_mae: 0.0220\n",
      "Epoch 24/150\n",
      "\u001B[1m484/484\u001B[0m \u001B[32m━━━━━━━━━━━━━━━━━━━━\u001B[0m\u001B[37m\u001B[0m \u001B[1m5s\u001B[0m 10ms/step - loss: 0.0022 - mae: 0.0330 - val_loss: 0.0017 - val_mae: 0.0305\n",
      "Epoch 25/150\n",
      "\u001B[1m484/484\u001B[0m \u001B[32m━━━━━━━━━━━━━━━━━━━━\u001B[0m\u001B[37m\u001B[0m \u001B[1m5s\u001B[0m 10ms/step - loss: 0.0022 - mae: 0.0323 - val_loss: 9.2555e-04 - val_mae: 0.0233\n",
      "Epoch 26/150\n",
      "\u001B[1m484/484\u001B[0m \u001B[32m━━━━━━━━━━━━━━━━━━━━\u001B[0m\u001B[37m\u001B[0m \u001B[1m5s\u001B[0m 10ms/step - loss: 0.0022 - mae: 0.0324 - val_loss: 6.4614e-04 - val_mae: 0.0192\n",
      "Epoch 27/150\n",
      "\u001B[1m484/484\u001B[0m \u001B[32m━━━━━━━━━━━━━━━━━━━━\u001B[0m\u001B[37m\u001B[0m \u001B[1m5s\u001B[0m 11ms/step - loss: 0.0024 - mae: 0.0334 - val_loss: 8.3955e-04 - val_mae: 0.0213\n",
      "Epoch 28/150\n",
      "\u001B[1m484/484\u001B[0m \u001B[32m━━━━━━━━━━━━━━━━━━━━\u001B[0m\u001B[37m\u001B[0m \u001B[1m5s\u001B[0m 10ms/step - loss: 0.0020 - mae: 0.0314 - val_loss: 8.9201e-04 - val_mae: 0.0220\n",
      "Epoch 29/150\n",
      "\u001B[1m484/484\u001B[0m \u001B[32m━━━━━━━━━━━━━━━━━━━━\u001B[0m\u001B[37m\u001B[0m \u001B[1m5s\u001B[0m 11ms/step - loss: 0.0023 - mae: 0.0329 - val_loss: 0.0016 - val_mae: 0.0292\n",
      "Epoch 30/150\n",
      "\u001B[1m484/484\u001B[0m \u001B[32m━━━━━━━━━━━━━━━━━━━━\u001B[0m\u001B[37m\u001B[0m \u001B[1m5s\u001B[0m 11ms/step - loss: 0.0024 - mae: 0.0335 - val_loss: 6.2093e-04 - val_mae: 0.0190\n",
      "Epoch 31/150\n",
      "\u001B[1m484/484\u001B[0m \u001B[32m━━━━━━━━━━━━━━━━━━━━\u001B[0m\u001B[37m\u001B[0m \u001B[1m5s\u001B[0m 11ms/step - loss: 0.0022 - mae: 0.0322 - val_loss: 5.9761e-04 - val_mae: 0.0187\n",
      "Epoch 32/150\n",
      "\u001B[1m484/484\u001B[0m \u001B[32m━━━━━━━━━━━━━━━━━━━━\u001B[0m\u001B[37m\u001B[0m \u001B[1m5s\u001B[0m 11ms/step - loss: 0.0023 - mae: 0.0328 - val_loss: 6.5454e-04 - val_mae: 0.0195\n",
      "Epoch 33/150\n",
      "\u001B[1m484/484\u001B[0m \u001B[32m━━━━━━━━━━━━━━━━━━━━\u001B[0m\u001B[37m\u001B[0m \u001B[1m5s\u001B[0m 11ms/step - loss: 0.0024 - mae: 0.0333 - val_loss: 0.0011 - val_mae: 0.0238\n",
      "Epoch 34/150\n",
      "\u001B[1m484/484\u001B[0m \u001B[32m━━━━━━━━━━━━━━━━━━━━\u001B[0m\u001B[37m\u001B[0m \u001B[1m5s\u001B[0m 11ms/step - loss: 0.0022 - mae: 0.0327 - val_loss: 9.8136e-04 - val_mae: 0.0233\n",
      "Epoch 35/150\n",
      "\u001B[1m484/484\u001B[0m \u001B[32m━━━━━━━━━━━━━━━━━━━━\u001B[0m\u001B[37m\u001B[0m \u001B[1m5s\u001B[0m 11ms/step - loss: 0.0022 - mae: 0.0328 - val_loss: 0.0011 - val_mae: 0.0253\n",
      "Epoch 36/150\n",
      "\u001B[1m484/484\u001B[0m \u001B[32m━━━━━━━━━━━━━━━━━━━━\u001B[0m\u001B[37m\u001B[0m \u001B[1m5s\u001B[0m 10ms/step - loss: 0.0021 - mae: 0.0318 - val_loss: 9.3863e-04 - val_mae: 0.0224\n",
      "Epoch 37/150\n",
      "\u001B[1m484/484\u001B[0m \u001B[32m━━━━━━━━━━━━━━━━━━━━\u001B[0m\u001B[37m\u001B[0m \u001B[1m5s\u001B[0m 10ms/step - loss: 0.0021 - mae: 0.0319 - val_loss: 8.7910e-04 - val_mae: 0.0212\n",
      "Epoch 38/150\n",
      "\u001B[1m484/484\u001B[0m \u001B[32m━━━━━━━━━━━━━━━━━━━━\u001B[0m\u001B[37m\u001B[0m \u001B[1m5s\u001B[0m 10ms/step - loss: 0.0022 - mae: 0.0319 - val_loss: 0.0015 - val_mae: 0.0284\n",
      "Epoch 39/150\n",
      "\u001B[1m484/484\u001B[0m \u001B[32m━━━━━━━━━━━━━━━━━━━━\u001B[0m\u001B[37m\u001B[0m \u001B[1m5s\u001B[0m 10ms/step - loss: 0.0022 - mae: 0.0323 - val_loss: 6.0958e-04 - val_mae: 0.0193\n",
      "Epoch 40/150\n",
      "\u001B[1m484/484\u001B[0m \u001B[32m━━━━━━━━━━━━━━━━━━━━\u001B[0m\u001B[37m\u001B[0m \u001B[1m5s\u001B[0m 10ms/step - loss: 0.0023 - mae: 0.0332 - val_loss: 7.2972e-04 - val_mae: 0.0202\n",
      "Epoch 41/150\n",
      "\u001B[1m484/484\u001B[0m \u001B[32m━━━━━━━━━━━━━━━━━━━━\u001B[0m\u001B[37m\u001B[0m \u001B[1m5s\u001B[0m 10ms/step - loss: 0.0020 - mae: 0.0315 - val_loss: 0.0011 - val_mae: 0.0254\n",
      "Epoch 42/150\n",
      "\u001B[1m484/484\u001B[0m \u001B[32m━━━━━━━━━━━━━━━━━━━━\u001B[0m\u001B[37m\u001B[0m \u001B[1m5s\u001B[0m 10ms/step - loss: 0.0025 - mae: 0.0342 - val_loss: 7.2371e-04 - val_mae: 0.0203\n",
      "Epoch 43/150\n",
      "\u001B[1m484/484\u001B[0m \u001B[32m━━━━━━━━━━━━━━━━━━━━\u001B[0m\u001B[37m\u001B[0m \u001B[1m5s\u001B[0m 10ms/step - loss: 0.0022 - mae: 0.0319 - val_loss: 8.5820e-04 - val_mae: 0.0222\n",
      "Epoch 44/150\n",
      "\u001B[1m484/484\u001B[0m \u001B[32m━━━━━━━━━━━━━━━━━━━━\u001B[0m\u001B[37m\u001B[0m \u001B[1m5s\u001B[0m 10ms/step - loss: 0.0020 - mae: 0.0310 - val_loss: 0.0012 - val_mae: 0.0258\n",
      "Epoch 45/150\n",
      "\u001B[1m484/484\u001B[0m \u001B[32m━━━━━━━━━━━━━━━━━━━━\u001B[0m\u001B[37m\u001B[0m \u001B[1m5s\u001B[0m 10ms/step - loss: 0.0022 - mae: 0.0323 - val_loss: 8.8812e-04 - val_mae: 0.0217\n",
      "Epoch 46/150\n",
      "\u001B[1m484/484\u001B[0m \u001B[32m━━━━━━━━━━━━━━━━━━━━\u001B[0m\u001B[37m\u001B[0m \u001B[1m5s\u001B[0m 10ms/step - loss: 0.0024 - mae: 0.0329 - val_loss: 0.0019 - val_mae: 0.0314\n",
      "Epoch 47/150\n",
      "\u001B[1m484/484\u001B[0m \u001B[32m━━━━━━━━━━━━━━━━━━━━\u001B[0m\u001B[37m\u001B[0m \u001B[1m5s\u001B[0m 10ms/step - loss: 0.0023 - mae: 0.0323 - val_loss: 0.0010 - val_mae: 0.0228\n",
      "Epoch 48/150\n",
      "\u001B[1m484/484\u001B[0m \u001B[32m━━━━━━━━━━━━━━━━━━━━\u001B[0m\u001B[37m\u001B[0m \u001B[1m5s\u001B[0m 10ms/step - loss: 0.0022 - mae: 0.0317 - val_loss: 0.0011 - val_mae: 0.0246\n",
      "Epoch 49/150\n",
      "\u001B[1m484/484\u001B[0m \u001B[32m━━━━━━━━━━━━━━━━━━━━\u001B[0m\u001B[37m\u001B[0m \u001B[1m5s\u001B[0m 10ms/step - loss: 0.0022 - mae: 0.0328 - val_loss: 7.7333e-04 - val_mae: 0.0208\n",
      "Epoch 50/150\n",
      "\u001B[1m484/484\u001B[0m \u001B[32m━━━━━━━━━━━━━━━━━━━━\u001B[0m\u001B[37m\u001B[0m \u001B[1m5s\u001B[0m 10ms/step - loss: 0.0021 - mae: 0.0320 - val_loss: 0.0012 - val_mae: 0.0258\n",
      "Epoch 51/150\n",
      "\u001B[1m484/484\u001B[0m \u001B[32m━━━━━━━━━━━━━━━━━━━━\u001B[0m\u001B[37m\u001B[0m \u001B[1m5s\u001B[0m 10ms/step - loss: 0.0022 - mae: 0.0319 - val_loss: 0.0018 - val_mae: 0.0308\n",
      "Epoch 52/150\n",
      "\u001B[1m484/484\u001B[0m \u001B[32m━━━━━━━━━━━━━━━━━━━━\u001B[0m\u001B[37m\u001B[0m \u001B[1m5s\u001B[0m 10ms/step - loss: 0.0021 - mae: 0.0314 - val_loss: 0.0018 - val_mae: 0.0318\n",
      "Epoch 53/150\n",
      "\u001B[1m484/484\u001B[0m \u001B[32m━━━━━━━━━━━━━━━━━━━━\u001B[0m\u001B[37m\u001B[0m \u001B[1m5s\u001B[0m 10ms/step - loss: 0.0021 - mae: 0.0321 - val_loss: 6.3584e-04 - val_mae: 0.0196\n",
      "Epoch 54/150\n",
      "\u001B[1m484/484\u001B[0m \u001B[32m━━━━━━━━━━━━━━━━━━━━\u001B[0m\u001B[37m\u001B[0m \u001B[1m5s\u001B[0m 10ms/step - loss: 0.0023 - mae: 0.0328 - val_loss: 0.0012 - val_mae: 0.0265\n",
      "Epoch 55/150\n",
      "\u001B[1m484/484\u001B[0m \u001B[32m━━━━━━━━━━━━━━━━━━━━\u001B[0m\u001B[37m\u001B[0m \u001B[1m5s\u001B[0m 10ms/step - loss: 0.0022 - mae: 0.0324 - val_loss: 0.0010 - val_mae: 0.0242\n",
      "Epoch 56/150\n",
      "\u001B[1m484/484\u001B[0m \u001B[32m━━━━━━━━━━━━━━━━━━━━\u001B[0m\u001B[37m\u001B[0m \u001B[1m5s\u001B[0m 10ms/step - loss: 0.0021 - mae: 0.0318 - val_loss: 0.0011 - val_mae: 0.0249\n",
      "Epoch 57/150\n",
      "\u001B[1m484/484\u001B[0m \u001B[32m━━━━━━━━━━━━━━━━━━━━\u001B[0m\u001B[37m\u001B[0m \u001B[1m5s\u001B[0m 10ms/step - loss: 0.0022 - mae: 0.0322 - val_loss: 0.0015 - val_mae: 0.0293\n",
      "Epoch 58/150\n",
      "\u001B[1m484/484\u001B[0m \u001B[32m━━━━━━━━━━━━━━━━━━━━\u001B[0m\u001B[37m\u001B[0m \u001B[1m5s\u001B[0m 10ms/step - loss: 0.0020 - mae: 0.0311 - val_loss: 7.9010e-04 - val_mae: 0.0212\n",
      "Epoch 59/150\n",
      "\u001B[1m484/484\u001B[0m \u001B[32m━━━━━━━━━━━━━━━━━━━━\u001B[0m\u001B[37m\u001B[0m \u001B[1m5s\u001B[0m 10ms/step - loss: 0.0022 - mae: 0.0325 - val_loss: 9.0754e-04 - val_mae: 0.0223\n",
      "Epoch 60/150\n",
      "\u001B[1m484/484\u001B[0m \u001B[32m━━━━━━━━━━━━━━━━━━━━\u001B[0m\u001B[37m\u001B[0m \u001B[1m5s\u001B[0m 10ms/step - loss: 0.0022 - mae: 0.0322 - val_loss: 0.0011 - val_mae: 0.0251\n",
      "Epoch 61/150\n",
      "\u001B[1m484/484\u001B[0m \u001B[32m━━━━━━━━━━━━━━━━━━━━\u001B[0m\u001B[37m\u001B[0m \u001B[1m5s\u001B[0m 10ms/step - loss: 0.0022 - mae: 0.0319 - val_loss: 0.0012 - val_mae: 0.0263\n",
      "Epoch 62/150\n",
      "\u001B[1m484/484\u001B[0m \u001B[32m━━━━━━━━━━━━━━━━━━━━\u001B[0m\u001B[37m\u001B[0m \u001B[1m5s\u001B[0m 10ms/step - loss: 0.0022 - mae: 0.0320 - val_loss: 6.8217e-04 - val_mae: 0.0201\n",
      "Epoch 63/150\n",
      "\u001B[1m484/484\u001B[0m \u001B[32m━━━━━━━━━━━━━━━━━━━━\u001B[0m\u001B[37m\u001B[0m \u001B[1m5s\u001B[0m 10ms/step - loss: 0.0020 - mae: 0.0314 - val_loss: 0.0013 - val_mae: 0.0258\n",
      "Epoch 64/150\n",
      "\u001B[1m484/484\u001B[0m \u001B[32m━━━━━━━━━━━━━━━━━━━━\u001B[0m\u001B[37m\u001B[0m \u001B[1m5s\u001B[0m 10ms/step - loss: 0.0023 - mae: 0.0326 - val_loss: 0.0014 - val_mae: 0.0277\n",
      "Epoch 65/150\n",
      "\u001B[1m484/484\u001B[0m \u001B[32m━━━━━━━━━━━━━━━━━━━━\u001B[0m\u001B[37m\u001B[0m \u001B[1m5s\u001B[0m 10ms/step - loss: 0.0022 - mae: 0.0324 - val_loss: 0.0014 - val_mae: 0.0281\n",
      "Epoch 66/150\n",
      "\u001B[1m484/484\u001B[0m \u001B[32m━━━━━━━━━━━━━━━━━━━━\u001B[0m\u001B[37m\u001B[0m \u001B[1m5s\u001B[0m 10ms/step - loss: 0.0023 - mae: 0.0326 - val_loss: 9.5850e-04 - val_mae: 0.0236\n",
      "Epoch 67/150\n",
      "\u001B[1m484/484\u001B[0m \u001B[32m━━━━━━━━━━━━━━━━━━━━\u001B[0m\u001B[37m\u001B[0m \u001B[1m5s\u001B[0m 10ms/step - loss: 0.0024 - mae: 0.0324 - val_loss: 0.0016 - val_mae: 0.0306\n",
      "Epoch 68/150\n",
      "\u001B[1m484/484\u001B[0m \u001B[32m━━━━━━━━━━━━━━━━━━━━\u001B[0m\u001B[37m\u001B[0m \u001B[1m5s\u001B[0m 10ms/step - loss: 0.0021 - mae: 0.0314 - val_loss: 0.0012 - val_mae: 0.0268\n",
      "Epoch 69/150\n",
      "\u001B[1m484/484\u001B[0m \u001B[32m━━━━━━━━━━━━━━━━━━━━\u001B[0m\u001B[37m\u001B[0m \u001B[1m5s\u001B[0m 10ms/step - loss: 0.0022 - mae: 0.0320 - val_loss: 0.0022 - val_mae: 0.0346\n",
      "Epoch 70/150\n",
      "\u001B[1m484/484\u001B[0m \u001B[32m━━━━━━━━━━━━━━━━━━━━\u001B[0m\u001B[37m\u001B[0m \u001B[1m5s\u001B[0m 10ms/step - loss: 0.0021 - mae: 0.0318 - val_loss: 9.1692e-04 - val_mae: 0.0228\n",
      "Epoch 71/150\n",
      "\u001B[1m484/484\u001B[0m \u001B[32m━━━━━━━━━━━━━━━━━━━━\u001B[0m\u001B[37m\u001B[0m \u001B[1m5s\u001B[0m 10ms/step - loss: 0.0020 - mae: 0.0308 - val_loss: 9.2484e-04 - val_mae: 0.0226\n",
      "Epoch 72/150\n",
      "\u001B[1m484/484\u001B[0m \u001B[32m━━━━━━━━━━━━━━━━━━━━\u001B[0m\u001B[37m\u001B[0m \u001B[1m5s\u001B[0m 10ms/step - loss: 0.0022 - mae: 0.0320 - val_loss: 0.0011 - val_mae: 0.0243\n",
      "Epoch 73/150\n",
      "\u001B[1m484/484\u001B[0m \u001B[32m━━━━━━━━━━━━━━━━━━━━\u001B[0m\u001B[37m\u001B[0m \u001B[1m5s\u001B[0m 10ms/step - loss: 0.0021 - mae: 0.0318 - val_loss: 7.7851e-04 - val_mae: 0.0213\n",
      "Epoch 74/150\n",
      "\u001B[1m484/484\u001B[0m \u001B[32m━━━━━━━━━━━━━━━━━━━━\u001B[0m\u001B[37m\u001B[0m \u001B[1m5s\u001B[0m 10ms/step - loss: 0.0021 - mae: 0.0312 - val_loss: 0.0013 - val_mae: 0.0265\n",
      "Epoch 75/150\n",
      "\u001B[1m484/484\u001B[0m \u001B[32m━━━━━━━━━━━━━━━━━━━━\u001B[0m\u001B[37m\u001B[0m \u001B[1m5s\u001B[0m 10ms/step - loss: 0.0022 - mae: 0.0318 - val_loss: 0.0017 - val_mae: 0.0306\n",
      "Epoch 76/150\n",
      "\u001B[1m484/484\u001B[0m \u001B[32m━━━━━━━━━━━━━━━━━━━━\u001B[0m\u001B[37m\u001B[0m \u001B[1m5s\u001B[0m 10ms/step - loss: 0.0024 - mae: 0.0325 - val_loss: 0.0014 - val_mae: 0.0278\n",
      "Epoch 77/150\n",
      "\u001B[1m484/484\u001B[0m \u001B[32m━━━━━━━━━━━━━━━━━━━━\u001B[0m\u001B[37m\u001B[0m \u001B[1m5s\u001B[0m 10ms/step - loss: 0.0023 - mae: 0.0326 - val_loss: 9.8813e-04 - val_mae: 0.0240\n",
      "Epoch 78/150\n",
      "\u001B[1m484/484\u001B[0m \u001B[32m━━━━━━━━━━━━━━━━━━━━\u001B[0m\u001B[37m\u001B[0m \u001B[1m5s\u001B[0m 10ms/step - loss: 0.0024 - mae: 0.0329 - val_loss: 8.4246e-04 - val_mae: 0.0219\n",
      "Epoch 79/150\n",
      "\u001B[1m484/484\u001B[0m \u001B[32m━━━━━━━━━━━━━━━━━━━━\u001B[0m\u001B[37m\u001B[0m \u001B[1m5s\u001B[0m 10ms/step - loss: 0.0022 - mae: 0.0322 - val_loss: 8.3015e-04 - val_mae: 0.0220\n",
      "Epoch 80/150\n",
      "\u001B[1m484/484\u001B[0m \u001B[32m━━━━━━━━━━━━━━━━━━━━\u001B[0m\u001B[37m\u001B[0m \u001B[1m5s\u001B[0m 10ms/step - loss: 0.0020 - mae: 0.0315 - val_loss: 0.0014 - val_mae: 0.0282\n",
      "Epoch 81/150\n",
      "\u001B[1m484/484\u001B[0m \u001B[32m━━━━━━━━━━━━━━━━━━━━\u001B[0m\u001B[37m\u001B[0m \u001B[1m5s\u001B[0m 10ms/step - loss: 0.0024 - mae: 0.0331 - val_loss: 0.0010 - val_mae: 0.0242\n",
      "Epoch 82/150\n",
      "\u001B[1m484/484\u001B[0m \u001B[32m━━━━━━━━━━━━━━━━━━━━\u001B[0m\u001B[37m\u001B[0m \u001B[1m5s\u001B[0m 10ms/step - loss: 0.0023 - mae: 0.0327 - val_loss: 8.7596e-04 - val_mae: 0.0224\n",
      "Epoch 83/150\n",
      "\u001B[1m484/484\u001B[0m \u001B[32m━━━━━━━━━━━━━━━━━━━━\u001B[0m\u001B[37m\u001B[0m \u001B[1m5s\u001B[0m 10ms/step - loss: 0.0021 - mae: 0.0315 - val_loss: 7.5608e-04 - val_mae: 0.0209\n",
      "Epoch 84/150\n",
      "\u001B[1m484/484\u001B[0m \u001B[32m━━━━━━━━━━━━━━━━━━━━\u001B[0m\u001B[37m\u001B[0m \u001B[1m5s\u001B[0m 10ms/step - loss: 0.0022 - mae: 0.0317 - val_loss: 0.0013 - val_mae: 0.0275\n",
      "Epoch 85/150\n",
      "\u001B[1m484/484\u001B[0m \u001B[32m━━━━━━━━━━━━━━━━━━━━\u001B[0m\u001B[37m\u001B[0m \u001B[1m5s\u001B[0m 10ms/step - loss: 0.0020 - mae: 0.0308 - val_loss: 8.5060e-04 - val_mae: 0.0222\n",
      "Epoch 86/150\n",
      "\u001B[1m484/484\u001B[0m \u001B[32m━━━━━━━━━━━━━━━━━━━━\u001B[0m\u001B[37m\u001B[0m \u001B[1m5s\u001B[0m 10ms/step - loss: 0.0022 - mae: 0.0320 - val_loss: 0.0016 - val_mae: 0.0294\n",
      "Epoch 87/150\n",
      "\u001B[1m484/484\u001B[0m \u001B[32m━━━━━━━━━━━━━━━━━━━━\u001B[0m\u001B[37m\u001B[0m \u001B[1m5s\u001B[0m 10ms/step - loss: 0.0021 - mae: 0.0309 - val_loss: 9.6316e-04 - val_mae: 0.0235\n",
      "Epoch 88/150\n",
      "\u001B[1m484/484\u001B[0m \u001B[32m━━━━━━━━━━━━━━━━━━━━\u001B[0m\u001B[37m\u001B[0m \u001B[1m5s\u001B[0m 11ms/step - loss: 0.0023 - mae: 0.0325 - val_loss: 8.7107e-04 - val_mae: 0.0227\n",
      "Epoch 89/150\n",
      "\u001B[1m484/484\u001B[0m \u001B[32m━━━━━━━━━━━━━━━━━━━━\u001B[0m\u001B[37m\u001B[0m \u001B[1m5s\u001B[0m 11ms/step - loss: 0.0020 - mae: 0.0309 - val_loss: 0.0012 - val_mae: 0.0257\n",
      "Epoch 90/150\n",
      "\u001B[1m484/484\u001B[0m \u001B[32m━━━━━━━━━━━━━━━━━━━━\u001B[0m\u001B[37m\u001B[0m \u001B[1m5s\u001B[0m 11ms/step - loss: 0.0023 - mae: 0.0319 - val_loss: 0.0016 - val_mae: 0.0285\n",
      "Epoch 91/150\n",
      "\u001B[1m484/484\u001B[0m \u001B[32m━━━━━━━━━━━━━━━━━━━━\u001B[0m\u001B[37m\u001B[0m \u001B[1m5s\u001B[0m 11ms/step - loss: 0.0023 - mae: 0.0322 - val_loss: 9.1224e-04 - val_mae: 0.0230\n",
      "Epoch 92/150\n",
      "\u001B[1m484/484\u001B[0m \u001B[32m━━━━━━━━━━━━━━━━━━━━\u001B[0m\u001B[37m\u001B[0m \u001B[1m5s\u001B[0m 11ms/step - loss: 0.0022 - mae: 0.0316 - val_loss: 0.0011 - val_mae: 0.0247\n",
      "Epoch 93/150\n",
      "\u001B[1m484/484\u001B[0m \u001B[32m━━━━━━━━━━━━━━━━━━━━\u001B[0m\u001B[37m\u001B[0m \u001B[1m5s\u001B[0m 11ms/step - loss: 0.0021 - mae: 0.0316 - val_loss: 0.0019 - val_mae: 0.0324\n",
      "Epoch 94/150\n",
      "\u001B[1m484/484\u001B[0m \u001B[32m━━━━━━━━━━━━━━━━━━━━\u001B[0m\u001B[37m\u001B[0m \u001B[1m5s\u001B[0m 11ms/step - loss: 0.0022 - mae: 0.0318 - val_loss: 0.0012 - val_mae: 0.0270\n",
      "Epoch 95/150\n",
      "\u001B[1m484/484\u001B[0m \u001B[32m━━━━━━━━━━━━━━━━━━━━\u001B[0m\u001B[37m\u001B[0m \u001B[1m5s\u001B[0m 11ms/step - loss: 0.0024 - mae: 0.0327 - val_loss: 8.4788e-04 - val_mae: 0.0220\n",
      "Epoch 96/150\n",
      "\u001B[1m484/484\u001B[0m \u001B[32m━━━━━━━━━━━━━━━━━━━━\u001B[0m\u001B[37m\u001B[0m \u001B[1m5s\u001B[0m 11ms/step - loss: 0.0022 - mae: 0.0319 - val_loss: 7.6446e-04 - val_mae: 0.0211\n",
      "Epoch 97/150\n",
      "\u001B[1m484/484\u001B[0m \u001B[32m━━━━━━━━━━━━━━━━━━━━\u001B[0m\u001B[37m\u001B[0m \u001B[1m5s\u001B[0m 11ms/step - loss: 0.0022 - mae: 0.0317 - val_loss: 0.0013 - val_mae: 0.0269\n",
      "Epoch 98/150\n",
      "\u001B[1m484/484\u001B[0m \u001B[32m━━━━━━━━━━━━━━━━━━━━\u001B[0m\u001B[37m\u001B[0m \u001B[1m5s\u001B[0m 11ms/step - loss: 0.0023 - mae: 0.0320 - val_loss: 0.0017 - val_mae: 0.0315\n",
      "Epoch 99/150\n",
      "\u001B[1m484/484\u001B[0m \u001B[32m━━━━━━━━━━━━━━━━━━━━\u001B[0m\u001B[37m\u001B[0m \u001B[1m5s\u001B[0m 11ms/step - loss: 0.0022 - mae: 0.0318 - val_loss: 0.0013 - val_mae: 0.0272\n",
      "Epoch 100/150\n",
      "\u001B[1m484/484\u001B[0m \u001B[32m━━━━━━━━━━━━━━━━━━━━\u001B[0m\u001B[37m\u001B[0m \u001B[1m5s\u001B[0m 11ms/step - loss: 0.0023 - mae: 0.0323 - val_loss: 0.0012 - val_mae: 0.0258\n",
      "Epoch 101/150\n",
      "\u001B[1m484/484\u001B[0m \u001B[32m━━━━━━━━━━━━━━━━━━━━\u001B[0m\u001B[37m\u001B[0m \u001B[1m5s\u001B[0m 11ms/step - loss: 0.0022 - mae: 0.0323 - val_loss: 0.0010 - val_mae: 0.0244\n",
      "Epoch 102/150\n",
      "\u001B[1m484/484\u001B[0m \u001B[32m━━━━━━━━━━━━━━━━━━━━\u001B[0m\u001B[37m\u001B[0m \u001B[1m5s\u001B[0m 11ms/step - loss: 0.0022 - mae: 0.0315 - val_loss: 0.0017 - val_mae: 0.0310\n",
      "Epoch 103/150\n",
      "\u001B[1m484/484\u001B[0m \u001B[32m━━━━━━━━━━━━━━━━━━━━\u001B[0m\u001B[37m\u001B[0m \u001B[1m5s\u001B[0m 11ms/step - loss: 0.0021 - mae: 0.0311 - val_loss: 0.0018 - val_mae: 0.0309\n",
      "Epoch 104/150\n",
      "\u001B[1m484/484\u001B[0m \u001B[32m━━━━━━━━━━━━━━━━━━━━\u001B[0m\u001B[37m\u001B[0m \u001B[1m5s\u001B[0m 10ms/step - loss: 0.0022 - mae: 0.0316 - val_loss: 0.0014 - val_mae: 0.0288\n",
      "Epoch 105/150\n",
      "\u001B[1m484/484\u001B[0m \u001B[32m━━━━━━━━━━━━━━━━━━━━\u001B[0m\u001B[37m\u001B[0m \u001B[1m5s\u001B[0m 10ms/step - loss: 0.0025 - mae: 0.0334 - val_loss: 0.0011 - val_mae: 0.0248\n",
      "Epoch 106/150\n",
      "\u001B[1m484/484\u001B[0m \u001B[32m━━━━━━━━━━━━━━━━━━━━\u001B[0m\u001B[37m\u001B[0m \u001B[1m5s\u001B[0m 10ms/step - loss: 0.0022 - mae: 0.0318 - val_loss: 0.0015 - val_mae: 0.0287\n",
      "Epoch 107/150\n",
      "\u001B[1m484/484\u001B[0m \u001B[32m━━━━━━━━━━━━━━━━━━━━\u001B[0m\u001B[37m\u001B[0m \u001B[1m5s\u001B[0m 10ms/step - loss: 0.0023 - mae: 0.0324 - val_loss: 0.0011 - val_mae: 0.0248\n",
      "Epoch 108/150\n",
      "\u001B[1m484/484\u001B[0m \u001B[32m━━━━━━━━━━━━━━━━━━━━\u001B[0m\u001B[37m\u001B[0m \u001B[1m5s\u001B[0m 10ms/step - loss: 0.0021 - mae: 0.0314 - val_loss: 0.0012 - val_mae: 0.0267\n",
      "Epoch 109/150\n",
      "\u001B[1m484/484\u001B[0m \u001B[32m━━━━━━━━━━━━━━━━━━━━\u001B[0m\u001B[37m\u001B[0m \u001B[1m5s\u001B[0m 10ms/step - loss: 0.0023 - mae: 0.0321 - val_loss: 0.0011 - val_mae: 0.0248\n",
      "Epoch 110/150\n",
      "\u001B[1m484/484\u001B[0m \u001B[32m━━━━━━━━━━━━━━━━━━━━\u001B[0m\u001B[37m\u001B[0m \u001B[1m5s\u001B[0m 10ms/step - loss: 0.0023 - mae: 0.0321 - val_loss: 0.0016 - val_mae: 0.0301\n",
      "Epoch 111/150\n",
      "\u001B[1m484/484\u001B[0m \u001B[32m━━━━━━━━━━━━━━━━━━━━\u001B[0m\u001B[37m\u001B[0m \u001B[1m5s\u001B[0m 10ms/step - loss: 0.0022 - mae: 0.0318 - val_loss: 0.0012 - val_mae: 0.0264\n",
      "Epoch 112/150\n",
      "\u001B[1m484/484\u001B[0m \u001B[32m━━━━━━━━━━━━━━━━━━━━\u001B[0m\u001B[37m\u001B[0m \u001B[1m5s\u001B[0m 10ms/step - loss: 0.0023 - mae: 0.0324 - val_loss: 0.0017 - val_mae: 0.0302\n",
      "Epoch 113/150\n",
      "\u001B[1m484/484\u001B[0m \u001B[32m━━━━━━━━━━━━━━━━━━━━\u001B[0m\u001B[37m\u001B[0m \u001B[1m5s\u001B[0m 10ms/step - loss: 0.0022 - mae: 0.0321 - val_loss: 0.0019 - val_mae: 0.0324\n",
      "Epoch 114/150\n",
      "\u001B[1m484/484\u001B[0m \u001B[32m━━━━━━━━━━━━━━━━━━━━\u001B[0m\u001B[37m\u001B[0m \u001B[1m5s\u001B[0m 10ms/step - loss: 0.0024 - mae: 0.0327 - val_loss: 0.0017 - val_mae: 0.0303\n",
      "Epoch 115/150\n",
      "\u001B[1m484/484\u001B[0m \u001B[32m━━━━━━━━━━━━━━━━━━━━\u001B[0m\u001B[37m\u001B[0m \u001B[1m5s\u001B[0m 10ms/step - loss: 0.0021 - mae: 0.0312 - val_loss: 0.0016 - val_mae: 0.0294\n",
      "Epoch 116/150\n",
      "\u001B[1m484/484\u001B[0m \u001B[32m━━━━━━━━━━━━━━━━━━━━\u001B[0m\u001B[37m\u001B[0m \u001B[1m5s\u001B[0m 10ms/step - loss: 0.0023 - mae: 0.0323 - val_loss: 0.0015 - val_mae: 0.0292\n",
      "Epoch 117/150\n",
      "\u001B[1m484/484\u001B[0m \u001B[32m━━━━━━━━━━━━━━━━━━━━\u001B[0m\u001B[37m\u001B[0m \u001B[1m5s\u001B[0m 10ms/step - loss: 0.0022 - mae: 0.0319 - val_loss: 0.0012 - val_mae: 0.0262\n",
      "Epoch 118/150\n",
      "\u001B[1m484/484\u001B[0m \u001B[32m━━━━━━━━━━━━━━━━━━━━\u001B[0m\u001B[37m\u001B[0m \u001B[1m5s\u001B[0m 10ms/step - loss: 0.0023 - mae: 0.0322 - val_loss: 0.0013 - val_mae: 0.0266\n",
      "Epoch 119/150\n",
      "\u001B[1m484/484\u001B[0m \u001B[32m━━━━━━━━━━━━━━━━━━━━\u001B[0m\u001B[37m\u001B[0m \u001B[1m5s\u001B[0m 10ms/step - loss: 0.0020 - mae: 0.0312 - val_loss: 0.0011 - val_mae: 0.0248\n",
      "Epoch 120/150\n",
      "\u001B[1m484/484\u001B[0m \u001B[32m━━━━━━━━━━━━━━━━━━━━\u001B[0m\u001B[37m\u001B[0m \u001B[1m5s\u001B[0m 10ms/step - loss: 0.0022 - mae: 0.0315 - val_loss: 0.0014 - val_mae: 0.0281\n",
      "Epoch 121/150\n",
      "\u001B[1m484/484\u001B[0m \u001B[32m━━━━━━━━━━━━━━━━━━━━\u001B[0m\u001B[37m\u001B[0m \u001B[1m5s\u001B[0m 10ms/step - loss: 0.0022 - mae: 0.0313 - val_loss: 0.0015 - val_mae: 0.0290\n",
      "Epoch 122/150\n",
      "\u001B[1m484/484\u001B[0m \u001B[32m━━━━━━━━━━━━━━━━━━━━\u001B[0m\u001B[37m\u001B[0m \u001B[1m5s\u001B[0m 10ms/step - loss: 0.0022 - mae: 0.0316 - val_loss: 0.0021 - val_mae: 0.0339\n",
      "Epoch 123/150\n",
      "\u001B[1m484/484\u001B[0m \u001B[32m━━━━━━━━━━━━━━━━━━━━\u001B[0m\u001B[37m\u001B[0m \u001B[1m5s\u001B[0m 10ms/step - loss: 0.0022 - mae: 0.0320 - val_loss: 0.0020 - val_mae: 0.0338\n",
      "Epoch 124/150\n",
      "\u001B[1m484/484\u001B[0m \u001B[32m━━━━━━━━━━━━━━━━━━━━\u001B[0m\u001B[37m\u001B[0m \u001B[1m5s\u001B[0m 10ms/step - loss: 0.0021 - mae: 0.0313 - val_loss: 0.0013 - val_mae: 0.0272\n",
      "Epoch 125/150\n",
      "\u001B[1m484/484\u001B[0m \u001B[32m━━━━━━━━━━━━━━━━━━━━\u001B[0m\u001B[37m\u001B[0m \u001B[1m5s\u001B[0m 10ms/step - loss: 0.0023 - mae: 0.0323 - val_loss: 0.0013 - val_mae: 0.0273\n",
      "Epoch 126/150\n",
      "\u001B[1m484/484\u001B[0m \u001B[32m━━━━━━━━━━━━━━━━━━━━\u001B[0m\u001B[37m\u001B[0m \u001B[1m5s\u001B[0m 10ms/step - loss: 0.0021 - mae: 0.0313 - val_loss: 0.0010 - val_mae: 0.0240\n",
      "Epoch 127/150\n",
      "\u001B[1m484/484\u001B[0m \u001B[32m━━━━━━━━━━━━━━━━━━━━\u001B[0m\u001B[37m\u001B[0m \u001B[1m5s\u001B[0m 10ms/step - loss: 0.0022 - mae: 0.0320 - val_loss: 0.0011 - val_mae: 0.0245\n",
      "Epoch 128/150\n",
      "\u001B[1m484/484\u001B[0m \u001B[32m━━━━━━━━━━━━━━━━━━━━\u001B[0m\u001B[37m\u001B[0m \u001B[1m5s\u001B[0m 10ms/step - loss: 0.0021 - mae: 0.0313 - val_loss: 0.0016 - val_mae: 0.0298\n",
      "Epoch 129/150\n",
      "\u001B[1m484/484\u001B[0m \u001B[32m━━━━━━━━━━━━━━━━━━━━\u001B[0m\u001B[37m\u001B[0m \u001B[1m5s\u001B[0m 10ms/step - loss: 0.0021 - mae: 0.0311 - val_loss: 0.0013 - val_mae: 0.0268\n",
      "Epoch 130/150\n",
      "\u001B[1m484/484\u001B[0m \u001B[32m━━━━━━━━━━━━━━━━━━━━\u001B[0m\u001B[37m\u001B[0m \u001B[1m5s\u001B[0m 10ms/step - loss: 0.0024 - mae: 0.0328 - val_loss: 0.0017 - val_mae: 0.0306\n",
      "Epoch 131/150\n",
      "\u001B[1m484/484\u001B[0m \u001B[32m━━━━━━━━━━━━━━━━━━━━\u001B[0m\u001B[37m\u001B[0m \u001B[1m5s\u001B[0m 10ms/step - loss: 0.0022 - mae: 0.0319 - val_loss: 0.0023 - val_mae: 0.0349\n",
      "Epoch 132/150\n",
      "\u001B[1m484/484\u001B[0m \u001B[32m━━━━━━━━━━━━━━━━━━━━\u001B[0m\u001B[37m\u001B[0m \u001B[1m5s\u001B[0m 10ms/step - loss: 0.0022 - mae: 0.0317 - val_loss: 0.0014 - val_mae: 0.0283\n",
      "Epoch 133/150\n",
      "\u001B[1m484/484\u001B[0m \u001B[32m━━━━━━━━━━━━━━━━━━━━\u001B[0m\u001B[37m\u001B[0m \u001B[1m5s\u001B[0m 10ms/step - loss: 0.0020 - mae: 0.0310 - val_loss: 0.0013 - val_mae: 0.0272\n",
      "Epoch 134/150\n",
      "\u001B[1m484/484\u001B[0m \u001B[32m━━━━━━━━━━━━━━━━━━━━\u001B[0m\u001B[37m\u001B[0m \u001B[1m5s\u001B[0m 10ms/step - loss: 0.0021 - mae: 0.0316 - val_loss: 0.0013 - val_mae: 0.0272\n",
      "Epoch 135/150\n",
      "\u001B[1m484/484\u001B[0m \u001B[32m━━━━━━━━━━━━━━━━━━━━\u001B[0m\u001B[37m\u001B[0m \u001B[1m5s\u001B[0m 10ms/step - loss: 0.0021 - mae: 0.0311 - val_loss: 0.0011 - val_mae: 0.0248\n",
      "Epoch 136/150\n",
      "\u001B[1m484/484\u001B[0m \u001B[32m━━━━━━━━━━━━━━━━━━━━\u001B[0m\u001B[37m\u001B[0m \u001B[1m5s\u001B[0m 10ms/step - loss: 0.0024 - mae: 0.0326 - val_loss: 0.0017 - val_mae: 0.0315\n",
      "Epoch 137/150\n",
      "\u001B[1m484/484\u001B[0m \u001B[32m━━━━━━━━━━━━━━━━━━━━\u001B[0m\u001B[37m\u001B[0m \u001B[1m5s\u001B[0m 10ms/step - loss: 0.0024 - mae: 0.0325 - val_loss: 0.0012 - val_mae: 0.0266\n",
      "Epoch 138/150\n",
      "\u001B[1m484/484\u001B[0m \u001B[32m━━━━━━━━━━━━━━━━━━━━\u001B[0m\u001B[37m\u001B[0m \u001B[1m5s\u001B[0m 10ms/step - loss: 0.0023 - mae: 0.0324 - val_loss: 0.0015 - val_mae: 0.0290\n",
      "Epoch 139/150\n",
      "\u001B[1m484/484\u001B[0m \u001B[32m━━━━━━━━━━━━━━━━━━━━\u001B[0m\u001B[37m\u001B[0m \u001B[1m5s\u001B[0m 10ms/step - loss: 0.0023 - mae: 0.0324 - val_loss: 0.0014 - val_mae: 0.0273\n",
      "Epoch 140/150\n",
      "\u001B[1m484/484\u001B[0m \u001B[32m━━━━━━━━━━━━━━━━━━━━\u001B[0m\u001B[37m\u001B[0m \u001B[1m5s\u001B[0m 10ms/step - loss: 0.0022 - mae: 0.0315 - val_loss: 0.0010 - val_mae: 0.0242\n",
      "Epoch 141/150\n",
      "\u001B[1m484/484\u001B[0m \u001B[32m━━━━━━━━━━━━━━━━━━━━\u001B[0m\u001B[37m\u001B[0m \u001B[1m5s\u001B[0m 10ms/step - loss: 0.0021 - mae: 0.0311 - val_loss: 0.0019 - val_mae: 0.0328\n",
      "Epoch 142/150\n",
      "\u001B[1m484/484\u001B[0m \u001B[32m━━━━━━━━━━━━━━━━━━━━\u001B[0m\u001B[37m\u001B[0m \u001B[1m5s\u001B[0m 10ms/step - loss: 0.0023 - mae: 0.0323 - val_loss: 0.0014 - val_mae: 0.0278\n",
      "Epoch 143/150\n",
      "\u001B[1m484/484\u001B[0m \u001B[32m━━━━━━━━━━━━━━━━━━━━\u001B[0m\u001B[37m\u001B[0m \u001B[1m5s\u001B[0m 10ms/step - loss: 0.0021 - mae: 0.0309 - val_loss: 0.0017 - val_mae: 0.0310\n",
      "Epoch 144/150\n",
      "\u001B[1m484/484\u001B[0m \u001B[32m━━━━━━━━━━━━━━━━━━━━\u001B[0m\u001B[37m\u001B[0m \u001B[1m5s\u001B[0m 10ms/step - loss: 0.0023 - mae: 0.0323 - val_loss: 0.0017 - val_mae: 0.0304\n",
      "Epoch 145/150\n",
      "\u001B[1m484/484\u001B[0m \u001B[32m━━━━━━━━━━━━━━━━━━━━\u001B[0m\u001B[37m\u001B[0m \u001B[1m5s\u001B[0m 10ms/step - loss: 0.0020 - mae: 0.0310 - val_loss: 0.0013 - val_mae: 0.0278\n",
      "Epoch 146/150\n",
      "\u001B[1m484/484\u001B[0m \u001B[32m━━━━━━━━━━━━━━━━━━━━\u001B[0m\u001B[37m\u001B[0m \u001B[1m5s\u001B[0m 10ms/step - loss: 0.0022 - mae: 0.0321 - val_loss: 0.0019 - val_mae: 0.0321\n",
      "Epoch 147/150\n",
      "\u001B[1m484/484\u001B[0m \u001B[32m━━━━━━━━━━━━━━━━━━━━\u001B[0m\u001B[37m\u001B[0m \u001B[1m5s\u001B[0m 10ms/step - loss: 0.0021 - mae: 0.0310 - val_loss: 0.0016 - val_mae: 0.0293\n",
      "Epoch 148/150\n",
      "\u001B[1m484/484\u001B[0m \u001B[32m━━━━━━━━━━━━━━━━━━━━\u001B[0m\u001B[37m\u001B[0m \u001B[1m5s\u001B[0m 10ms/step - loss: 0.0024 - mae: 0.0327 - val_loss: 0.0011 - val_mae: 0.0253\n",
      "Epoch 149/150\n",
      "\u001B[1m484/484\u001B[0m \u001B[32m━━━━━━━━━━━━━━━━━━━━\u001B[0m\u001B[37m\u001B[0m \u001B[1m5s\u001B[0m 10ms/step - loss: 0.0025 - mae: 0.0329 - val_loss: 0.0027 - val_mae: 0.0366\n",
      "Epoch 150/150\n",
      "\u001B[1m484/484\u001B[0m \u001B[32m━━━━━━━━━━━━━━━━━━━━\u001B[0m\u001B[37m\u001B[0m \u001B[1m5s\u001B[0m 10ms/step - loss: 0.0024 - mae: 0.0326 - val_loss: 0.0030 - val_mae: 0.0417\n"
     ]
    },
    {
     "data": {
      "text/plain": [
       "<keras.src.callbacks.history.History at 0x16ed9587850>"
      ]
     },
     "execution_count": 7,
     "metadata": {},
     "output_type": "execute_result"
    }
   ],
   "execution_count": 7
  },
  {
   "metadata": {},
   "cell_type": "code",
   "outputs": [],
   "execution_count": null,
   "source": "",
   "id": "33297d04ed6c50c1"
  }
 ],
 "metadata": {
  "kernelspec": {
   "display_name": "Python 3",
   "language": "python",
   "name": "python3"
  },
  "language_info": {
   "codemirror_mode": {
    "name": "ipython",
    "version": 2
   },
   "file_extension": ".py",
   "mimetype": "text/x-python",
   "name": "python",
   "nbconvert_exporter": "python",
   "pygments_lexer": "ipython2",
   "version": "2.7.6"
  }
 },
 "nbformat": 4,
 "nbformat_minor": 5
}
