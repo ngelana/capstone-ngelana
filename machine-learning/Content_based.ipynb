{
 "cells": [
  {
   "cell_type": "code",
   "execution_count": 1,
   "id": "initial_id",
   "metadata": {
    "collapsed": true,
    "ExecuteTime": {
     "end_time": "2024-06-09T09:33:08.266736300Z",
     "start_time": "2024-06-09T09:33:07.240488700Z"
    }
   },
   "outputs": [],
   "source": [
    "import pandas as pd"
   ]
  },
  {
   "cell_type": "code",
   "outputs": [
    {
     "data": {
      "text/plain": "                            id                   name  latitude   longitude  \\\n0  ChIJ8dL0DQSR0S0R-GtmF6jlGgw            WARUNG ARSI -8.107884  115.129893   \n1  ChIJ_9syK2GR0S0RoO3H6DqZcOo       Warung KUBU APTA -8.107673  115.130198   \n2  ChIJWRK2AcGR0S0R0fGk67PGKAs              Wr Bu Ayu -8.104777  115.130114   \n3  ChIJ4RqrJCiR0S0RFYPT2Q8nKtk  Warung Makan Bu Ketut -8.105772  115.131091   \n4  ChIJyQCItemR0S0REWMrhK4BfL8         Kubuku Sinabun -8.107456  115.133688   \n\n                                             address  \\\n0  V4RH+RXR, Sinabun, Sawan, Buleleng Regency, Ba...   \n1  V4RJ+W3P, Sinabun, Sawan, Buleleng Regency, Ba...   \n2  V4WJ+32Q, Sinabun, Sawan, Buleleng Regency, Ba...   \n3  V4VJ+MCW, Jl. Raya Keloncing, Kerobokan, Kec. ...   \n4  Sinabun, Sawan, Buleleng Regency, Bali, Indonesia   \n\n                                                 url       status  \\\n0    https://maps.google.com/?cid=872261987959467000  OPERATIONAL   \n1  https://maps.google.com/?cid=16893170680559300000  OPERATIONAL   \n2    https://maps.google.com/?cid=804111009540534737  OPERATIONAL   \n3  https://maps.google.com/?cid=15648362804284719893  OPERATIONAL   \n4  https://maps.google.com/?cid=13797905207409730321  OPERATIONAL   \n\n               phone           primary-type  \\\n0  +62 812-3939-8038             restaurant   \n1                NaN             restaurant   \n2  +62 877-6243-1221            coffee_shop   \n3  +62 838-5485-7197  indonesian_restaurant   \n4                NaN                   park   \n\n                                     types  rating  rating-count price-level  \n0                         restaurant, food     5.0           2.0         NaN  \n1                         restaurant, food     5.0           6.0         NaN  \n2           coffee_shop, cafe, food, store     5.0           2.0         NaN  \n3  indonesian_restaurant, restaurant, food     4.3           3.0         NaN  \n4                                     park     NaN           NaN         NaN  ",
      "text/html": "<div>\n<style scoped>\n    .dataframe tbody tr th:only-of-type {\n        vertical-align: middle;\n    }\n\n    .dataframe tbody tr th {\n        vertical-align: top;\n    }\n\n    .dataframe thead th {\n        text-align: right;\n    }\n</style>\n<table border=\"1\" class=\"dataframe\">\n  <thead>\n    <tr style=\"text-align: right;\">\n      <th></th>\n      <th>id</th>\n      <th>name</th>\n      <th>latitude</th>\n      <th>longitude</th>\n      <th>address</th>\n      <th>url</th>\n      <th>status</th>\n      <th>phone</th>\n      <th>primary-type</th>\n      <th>types</th>\n      <th>rating</th>\n      <th>rating-count</th>\n      <th>price-level</th>\n    </tr>\n  </thead>\n  <tbody>\n    <tr>\n      <th>0</th>\n      <td>ChIJ8dL0DQSR0S0R-GtmF6jlGgw</td>\n      <td>WARUNG ARSI</td>\n      <td>-8.107884</td>\n      <td>115.129893</td>\n      <td>V4RH+RXR, Sinabun, Sawan, Buleleng Regency, Ba...</td>\n      <td>https://maps.google.com/?cid=872261987959467000</td>\n      <td>OPERATIONAL</td>\n      <td>+62 812-3939-8038</td>\n      <td>restaurant</td>\n      <td>restaurant, food</td>\n      <td>5.0</td>\n      <td>2.0</td>\n      <td>NaN</td>\n    </tr>\n    <tr>\n      <th>1</th>\n      <td>ChIJ_9syK2GR0S0RoO3H6DqZcOo</td>\n      <td>Warung KUBU APTA</td>\n      <td>-8.107673</td>\n      <td>115.130198</td>\n      <td>V4RJ+W3P, Sinabun, Sawan, Buleleng Regency, Ba...</td>\n      <td>https://maps.google.com/?cid=16893170680559300000</td>\n      <td>OPERATIONAL</td>\n      <td>NaN</td>\n      <td>restaurant</td>\n      <td>restaurant, food</td>\n      <td>5.0</td>\n      <td>6.0</td>\n      <td>NaN</td>\n    </tr>\n    <tr>\n      <th>2</th>\n      <td>ChIJWRK2AcGR0S0R0fGk67PGKAs</td>\n      <td>Wr Bu Ayu</td>\n      <td>-8.104777</td>\n      <td>115.130114</td>\n      <td>V4WJ+32Q, Sinabun, Sawan, Buleleng Regency, Ba...</td>\n      <td>https://maps.google.com/?cid=804111009540534737</td>\n      <td>OPERATIONAL</td>\n      <td>+62 877-6243-1221</td>\n      <td>coffee_shop</td>\n      <td>coffee_shop, cafe, food, store</td>\n      <td>5.0</td>\n      <td>2.0</td>\n      <td>NaN</td>\n    </tr>\n    <tr>\n      <th>3</th>\n      <td>ChIJ4RqrJCiR0S0RFYPT2Q8nKtk</td>\n      <td>Warung Makan Bu Ketut</td>\n      <td>-8.105772</td>\n      <td>115.131091</td>\n      <td>V4VJ+MCW, Jl. Raya Keloncing, Kerobokan, Kec. ...</td>\n      <td>https://maps.google.com/?cid=15648362804284719893</td>\n      <td>OPERATIONAL</td>\n      <td>+62 838-5485-7197</td>\n      <td>indonesian_restaurant</td>\n      <td>indonesian_restaurant, restaurant, food</td>\n      <td>4.3</td>\n      <td>3.0</td>\n      <td>NaN</td>\n    </tr>\n    <tr>\n      <th>4</th>\n      <td>ChIJyQCItemR0S0REWMrhK4BfL8</td>\n      <td>Kubuku Sinabun</td>\n      <td>-8.107456</td>\n      <td>115.133688</td>\n      <td>Sinabun, Sawan, Buleleng Regency, Bali, Indonesia</td>\n      <td>https://maps.google.com/?cid=13797905207409730321</td>\n      <td>OPERATIONAL</td>\n      <td>NaN</td>\n      <td>park</td>\n      <td>park</td>\n      <td>NaN</td>\n      <td>NaN</td>\n      <td>NaN</td>\n    </tr>\n  </tbody>\n</table>\n</div>"
     },
     "execution_count": 2,
     "metadata": {},
     "output_type": "execute_result"
    }
   ],
   "source": [
    "df = pd.read_csv('combined-dataset/combined_dataset.csv')\n",
    "df.head()"
   ],
   "metadata": {
    "collapsed": false,
    "ExecuteTime": {
     "end_time": "2024-06-09T09:33:40.801113600Z",
     "start_time": "2024-06-09T09:33:40.424088600Z"
    }
   },
   "id": "cdeefb07326dd577",
   "execution_count": 2
  },
  {
   "cell_type": "code",
   "outputs": [],
   "source": [
    "content_data = df[['name', 'types','rating','rating-count']]"
   ],
   "metadata": {
    "collapsed": false
   },
   "id": "8883ba83f6951eb1"
  }
 ],
 "metadata": {
  "kernelspec": {
   "display_name": "Python 3",
   "language": "python",
   "name": "python3"
  },
  "language_info": {
   "codemirror_mode": {
    "name": "ipython",
    "version": 2
   },
   "file_extension": ".py",
   "mimetype": "text/x-python",
   "name": "python",
   "nbconvert_exporter": "python",
   "pygments_lexer": "ipython2",
   "version": "2.7.6"
  }
 },
 "nbformat": 4,
 "nbformat_minor": 5
}
