{
 "cells": [
  {
   "cell_type": "code",
   "execution_count": 1,
   "id": "initial_id",
   "metadata": {
    "collapsed": true,
    "ExecuteTime": {
     "end_time": "2024-06-10T13:44:39.958946Z",
     "start_time": "2024-06-10T13:44:39.278913Z"
    }
   },
   "outputs": [],
   "source": [
    "import pandas as pd"
   ]
  },
  {
   "cell_type": "code",
   "outputs": [
    {
     "data": {
      "text/plain": "                            id  \\\n0  ChIJYcGr7GSb0S0RckePBrCWikw   \n1  ChIJZbWX6Aia0S0R0tM3h1RZ1h8   \n2  ChIJYyHbhgia0S0RzdjNXLmcf54   \n3  ChIJ6zf9LJCb0S0RFv3BdLl61ZY   \n4  ChIJxaITmQia0S0RyrbukE8vsJU   \n\n                                                name  latitude   longitude  \\\n0  Singaraja Hotel (ex- POP! Hotel Hardys Singara... -8.103137  115.090514   \n1                                     Warung Bik Juk -8.106189  115.089961   \n2                   Harbour Tourist Area of Buleleng -8.103931  115.090031   \n3                                      Abuela Coffee -8.104751  115.087919   \n4                           Klenteng Ling Gwan Kiong -8.103899  115.089833   \n\n                                             address  \\\n0  Jl. Surapati No.12 14, Kp. Baru, Kec. Buleleng...   \n1  Kampung Kajanan, Buleleng, Buleleng Regency, B...   \n2  Jl. Pelabuhan Buleleng, Kp. Bugis, Kec. Bulele...   \n3  Jl. Erlangga No.1, Kp. Bugis, Kec. Buleleng, K...   \n4  Jl. Erlangga No.65, Kp. Bugis, Kec. Buleleng, ...   \n\n                                                 url       status  \\\n0   https://maps.google.com/?cid=5515386376437057394  OPERATIONAL   \n1   https://maps.google.com/?cid=2294119279772554194  OPERATIONAL   \n2  https://maps.google.com/?cid=11421019499974744269  OPERATIONAL   \n3  https://maps.google.com/?cid=10868728212674968854  OPERATIONAL   \n4  https://maps.google.com/?cid=10786173126332823242  OPERATIONAL   \n\n               phone           primary-type  \\\n0    +62 362 3301500                  hotel   \n1  +62 819-1566-2913  indonesian_restaurant   \n2      +62 362 21342     tourist_attraction   \n3  +62 858-5878-5361            coffee_shop   \n4                NaN       place_of_worship   \n\n                                     types  rating  rating-count  \\\n0                           hotel, lodging     4.1        2581.0   \n1  indonesian_restaurant, restaurant, food     4.5         648.0   \n2     tourist_attraction, restaurant, food     4.3        2800.0   \n3           coffee_shop, cafe, food, store     4.9         164.0   \n4     tourist_attraction, place_of_worship     4.6         142.0   \n\n            price-level                                           review 1  \\\n0                   NaN  It has quite small room, and the hallway is qu...   \n1  PRICE_LEVEL_MODERATE  Surprisingly, a really good warung that’s hidd...   \n2                   NaN  Only had a fleeting visit here, came by coach,...   \n3                   NaN  One word, underrated! How come place like this...   \n4                   NaN  This temple is located in Singaraja, located i...   \n\n                                            review 2  \\\n0  Few days ago My wife and me stayed 2 night at ...   \n1  So in love with the food, very simple but tast...   \n2  The Harbour Tourist Area in Buleleng offers a ...   \n3  Coffee shop with good food and coffee. Very ni...   \n4  Taoist temple with beautiful old-chinese archi...   \n\n                                            review 3  \\\n0  Because its cheap, cant complaint too much. Th...   \n1  A hidden treasure in the heart of Singaraja Ci...   \n2  Its ine of nice place you must visit when you ...   \n3  Small cafe, the coffee is good, the dimsum is ...   \n4  Ling Gwan Kiong is an old Chinese temple popul...   \n\n                                            review 4  \\\n0  Stayed here for 1 night, the room is small wit...   \n1  Nice warung on the side street. They were out ...   \n2  A historical place for the Balinese people, es...   \n3  Love this place 🫶\\nGreat coffee ☕️\\nLumpia is ...   \n4  The Tri Dharma Temple, very unique, historic a...   \n\n                                            review 5  \n0  Good place to short stay located next Historic...  \n1  Nostalgic place at singaraja.. good and friend...  \n2  It's a good place to relax with you friends an...  \n3  Best coffee in Singaraja. Cappuccino was 20k a...  \n4  Quiet, clean and peaceful. Visited this place ...  ",
      "text/html": "<div>\n<style scoped>\n    .dataframe tbody tr th:only-of-type {\n        vertical-align: middle;\n    }\n\n    .dataframe tbody tr th {\n        vertical-align: top;\n    }\n\n    .dataframe thead th {\n        text-align: right;\n    }\n</style>\n<table border=\"1\" class=\"dataframe\">\n  <thead>\n    <tr style=\"text-align: right;\">\n      <th></th>\n      <th>id</th>\n      <th>name</th>\n      <th>latitude</th>\n      <th>longitude</th>\n      <th>address</th>\n      <th>url</th>\n      <th>status</th>\n      <th>phone</th>\n      <th>primary-type</th>\n      <th>types</th>\n      <th>rating</th>\n      <th>rating-count</th>\n      <th>price-level</th>\n      <th>review 1</th>\n      <th>review 2</th>\n      <th>review 3</th>\n      <th>review 4</th>\n      <th>review 5</th>\n    </tr>\n  </thead>\n  <tbody>\n    <tr>\n      <th>0</th>\n      <td>ChIJYcGr7GSb0S0RckePBrCWikw</td>\n      <td>Singaraja Hotel (ex- POP! Hotel Hardys Singara...</td>\n      <td>-8.103137</td>\n      <td>115.090514</td>\n      <td>Jl. Surapati No.12 14, Kp. Baru, Kec. Buleleng...</td>\n      <td>https://maps.google.com/?cid=5515386376437057394</td>\n      <td>OPERATIONAL</td>\n      <td>+62 362 3301500</td>\n      <td>hotel</td>\n      <td>hotel, lodging</td>\n      <td>4.1</td>\n      <td>2581.0</td>\n      <td>NaN</td>\n      <td>It has quite small room, and the hallway is qu...</td>\n      <td>Few days ago My wife and me stayed 2 night at ...</td>\n      <td>Because its cheap, cant complaint too much. Th...</td>\n      <td>Stayed here for 1 night, the room is small wit...</td>\n      <td>Good place to short stay located next Historic...</td>\n    </tr>\n    <tr>\n      <th>1</th>\n      <td>ChIJZbWX6Aia0S0R0tM3h1RZ1h8</td>\n      <td>Warung Bik Juk</td>\n      <td>-8.106189</td>\n      <td>115.089961</td>\n      <td>Kampung Kajanan, Buleleng, Buleleng Regency, B...</td>\n      <td>https://maps.google.com/?cid=2294119279772554194</td>\n      <td>OPERATIONAL</td>\n      <td>+62 819-1566-2913</td>\n      <td>indonesian_restaurant</td>\n      <td>indonesian_restaurant, restaurant, food</td>\n      <td>4.5</td>\n      <td>648.0</td>\n      <td>PRICE_LEVEL_MODERATE</td>\n      <td>Surprisingly, a really good warung that’s hidd...</td>\n      <td>So in love with the food, very simple but tast...</td>\n      <td>A hidden treasure in the heart of Singaraja Ci...</td>\n      <td>Nice warung on the side street. They were out ...</td>\n      <td>Nostalgic place at singaraja.. good and friend...</td>\n    </tr>\n    <tr>\n      <th>2</th>\n      <td>ChIJYyHbhgia0S0RzdjNXLmcf54</td>\n      <td>Harbour Tourist Area of Buleleng</td>\n      <td>-8.103931</td>\n      <td>115.090031</td>\n      <td>Jl. Pelabuhan Buleleng, Kp. Bugis, Kec. Bulele...</td>\n      <td>https://maps.google.com/?cid=11421019499974744269</td>\n      <td>OPERATIONAL</td>\n      <td>+62 362 21342</td>\n      <td>tourist_attraction</td>\n      <td>tourist_attraction, restaurant, food</td>\n      <td>4.3</td>\n      <td>2800.0</td>\n      <td>NaN</td>\n      <td>Only had a fleeting visit here, came by coach,...</td>\n      <td>The Harbour Tourist Area in Buleleng offers a ...</td>\n      <td>Its ine of nice place you must visit when you ...</td>\n      <td>A historical place for the Balinese people, es...</td>\n      <td>It's a good place to relax with you friends an...</td>\n    </tr>\n    <tr>\n      <th>3</th>\n      <td>ChIJ6zf9LJCb0S0RFv3BdLl61ZY</td>\n      <td>Abuela Coffee</td>\n      <td>-8.104751</td>\n      <td>115.087919</td>\n      <td>Jl. Erlangga No.1, Kp. Bugis, Kec. Buleleng, K...</td>\n      <td>https://maps.google.com/?cid=10868728212674968854</td>\n      <td>OPERATIONAL</td>\n      <td>+62 858-5878-5361</td>\n      <td>coffee_shop</td>\n      <td>coffee_shop, cafe, food, store</td>\n      <td>4.9</td>\n      <td>164.0</td>\n      <td>NaN</td>\n      <td>One word, underrated! How come place like this...</td>\n      <td>Coffee shop with good food and coffee. Very ni...</td>\n      <td>Small cafe, the coffee is good, the dimsum is ...</td>\n      <td>Love this place 🫶\\nGreat coffee ☕️\\nLumpia is ...</td>\n      <td>Best coffee in Singaraja. Cappuccino was 20k a...</td>\n    </tr>\n    <tr>\n      <th>4</th>\n      <td>ChIJxaITmQia0S0RyrbukE8vsJU</td>\n      <td>Klenteng Ling Gwan Kiong</td>\n      <td>-8.103899</td>\n      <td>115.089833</td>\n      <td>Jl. Erlangga No.65, Kp. Bugis, Kec. Buleleng, ...</td>\n      <td>https://maps.google.com/?cid=10786173126332823242</td>\n      <td>OPERATIONAL</td>\n      <td>NaN</td>\n      <td>place_of_worship</td>\n      <td>tourist_attraction, place_of_worship</td>\n      <td>4.6</td>\n      <td>142.0</td>\n      <td>NaN</td>\n      <td>This temple is located in Singaraja, located i...</td>\n      <td>Taoist temple with beautiful old-chinese archi...</td>\n      <td>Ling Gwan Kiong is an old Chinese temple popul...</td>\n      <td>The Tri Dharma Temple, very unique, historic a...</td>\n      <td>Quiet, clean and peaceful. Visited this place ...</td>\n    </tr>\n  </tbody>\n</table>\n</div>"
     },
     "execution_count": 2,
     "metadata": {},
     "output_type": "execute_result"
    }
   ],
   "source": [
    "data = pd.read_csv('combined-dataset/combined_datasetV2.csv')\n",
    "data.head()"
   ],
   "metadata": {
    "collapsed": false,
    "ExecuteTime": {
     "end_time": "2024-06-10T13:44:40.461355800Z",
     "start_time": "2024-06-10T13:44:39.957946400Z"
    }
   },
   "id": "cdeefb07326dd577",
   "execution_count": 2
  },
  {
   "cell_type": "code",
   "outputs": [],
   "source": [
    "review_columns = ['review 1', 'review 2', 'review 3', 'review 4', 'review 5']\n",
    "data[review_columns] = data[review_columns].fillna('')\n"
   ],
   "metadata": {
    "collapsed": false,
    "ExecuteTime": {
     "end_time": "2024-06-10T13:44:40.514754700Z",
     "start_time": "2024-06-10T13:44:40.474600700Z"
    }
   },
   "id": "584f3edd477521b7",
   "execution_count": 3
  },
  {
   "cell_type": "code",
   "outputs": [
    {
     "data": {
      "text/plain": "                                                name  \\\n0  Singaraja Hotel (ex- POP! Hotel Hardys Singara...   \n1                                     Warung Bik Juk   \n2                   Harbour Tourist Area of Buleleng   \n3                                      Abuela Coffee   \n4                           Klenteng Ling Gwan Kiong   \n\n                                       combined_text  \n0  hotel, lodging It has quite small room, and th...  \n1  indonesian_restaurant, restaurant, food Surpri...  \n2  tourist_attraction, restaurant, food Only had ...  \n3  coffee_shop, cafe, food, store One word, under...  \n4  tourist_attraction, place_of_worship This temp...  ",
      "text/html": "<div>\n<style scoped>\n    .dataframe tbody tr th:only-of-type {\n        vertical-align: middle;\n    }\n\n    .dataframe tbody tr th {\n        vertical-align: top;\n    }\n\n    .dataframe thead th {\n        text-align: right;\n    }\n</style>\n<table border=\"1\" class=\"dataframe\">\n  <thead>\n    <tr style=\"text-align: right;\">\n      <th></th>\n      <th>name</th>\n      <th>combined_text</th>\n    </tr>\n  </thead>\n  <tbody>\n    <tr>\n      <th>0</th>\n      <td>Singaraja Hotel (ex- POP! Hotel Hardys Singara...</td>\n      <td>hotel, lodging It has quite small room, and th...</td>\n    </tr>\n    <tr>\n      <th>1</th>\n      <td>Warung Bik Juk</td>\n      <td>indonesian_restaurant, restaurant, food Surpri...</td>\n    </tr>\n    <tr>\n      <th>2</th>\n      <td>Harbour Tourist Area of Buleleng</td>\n      <td>tourist_attraction, restaurant, food Only had ...</td>\n    </tr>\n    <tr>\n      <th>3</th>\n      <td>Abuela Coffee</td>\n      <td>coffee_shop, cafe, food, store One word, under...</td>\n    </tr>\n    <tr>\n      <th>4</th>\n      <td>Klenteng Ling Gwan Kiong</td>\n      <td>tourist_attraction, place_of_worship This temp...</td>\n    </tr>\n  </tbody>\n</table>\n</div>"
     },
     "execution_count": 4,
     "metadata": {},
     "output_type": "execute_result"
    }
   ],
   "source": [
    "data['combined_text'] = data['types'] + ' ' + data['review 1'] + ' ' + data['review 2'] + ' ' + data['review 3'] + ' ' + data['review 4'] + ' ' + data['review 5'] \n",
    "\n",
    "data[['name', 'combined_text']].head()\n"
   ],
   "metadata": {
    "collapsed": false,
    "ExecuteTime": {
     "end_time": "2024-06-10T13:44:40.678322700Z",
     "start_time": "2024-06-10T13:44:40.494763900Z"
    }
   },
   "id": "f2d58e4f9cb5e734",
   "execution_count": 4
  },
  {
   "cell_type": "code",
   "outputs": [
    {
     "name": "stdout",
     "output_type": "stream",
     "text": [
      "Recommendations for Lanting Paras Resto And Pool... More than just a pool!:\n"
     ]
    },
    {
     "data": {
      "text/plain": "[\"Warung D'Tangkup\",\n '54 Ari Resort',\n 'Wasurf Bali - 와서프발리',\n 'Bucuku 18',\n 'Warung Makan Taman Tirta']"
     },
     "execution_count": 8,
     "metadata": {},
     "output_type": "execute_result"
    }
   ],
   "source": [
    "from sklearn.feature_extraction.text import TfidfVectorizer\n",
    "from sklearn.metrics.pairwise import cosine_similarity\n",
    "\n",
    "tfidf_vectorizer = TfidfVectorizer(stop_words='english')\n",
    "tfidf_matrix = tfidf_vectorizer.fit_transform(data['combined_text'])\n",
    "\n",
    "cosine_similarities = cosine_similarity(tfidf_matrix, tfidf_matrix)\n",
    "\n",
    "def get_recommendations(name, cosine_similarities, data, top_n=5):\n",
    "    idx = data[data['name'] == name].index[0]\n",
    "    \n",
    "    sim_scores = list(enumerate(cosine_similarities[idx]))\n",
    "    \n",
    "    sim_scores = sorted(sim_scores, key=lambda x: x[1], reverse=True)\n",
    "    \n",
    "    sim_scores = sim_scores[1:top_n+1]\n",
    "    \n",
    "    item_indices = [i[0] for i in sim_scores]\n",
    "    \n",
    "    return data['name'].iloc[item_indices]\n",
    "\n",
    "selected_item = data['name'].sample(10).values[0]\n",
    "# selected_item = ''\n",
    "\n",
    "print(f\"Recommendations for {selected_item}:\")\n",
    "recommended_items = get_recommendations(selected_item, cosine_similarities, data)\n",
    "recommended_items.tolist()\n"
   ],
   "metadata": {
    "collapsed": false,
    "ExecuteTime": {
     "end_time": "2024-06-10T13:57:16.010991400Z",
     "start_time": "2024-06-10T13:55:42.466771800Z"
    }
   },
   "id": "5853566bce4d3d70",
   "execution_count": 8
  },
  {
   "cell_type": "code",
   "outputs": [],
   "source": [],
   "metadata": {
    "collapsed": false,
    "ExecuteTime": {
     "end_time": "2024-06-10T13:45:54.927691Z",
     "start_time": "2024-06-10T13:45:54.863132Z"
    }
   },
   "id": "39197a6273134cd6",
   "execution_count": 5
  }
 ],
 "metadata": {
  "kernelspec": {
   "display_name": "Python 3",
   "language": "python",
   "name": "python3"
  },
  "language_info": {
   "codemirror_mode": {
    "name": "ipython",
    "version": 2
   },
   "file_extension": ".py",
   "mimetype": "text/x-python",
   "name": "python",
   "nbconvert_exporter": "python",
   "pygments_lexer": "ipython2",
   "version": "2.7.6"
  }
 },
 "nbformat": 4,
 "nbformat_minor": 5
}
