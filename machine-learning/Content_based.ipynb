{
 "cells": [
  {
   "cell_type": "code",
   "execution_count": 38,
   "id": "initial_id",
   "metadata": {
    "collapsed": true,
    "ExecuteTime": {
     "end_time": "2024-06-10T16:37:22.654528500Z",
     "start_time": "2024-06-10T16:37:22.634900400Z"
    }
   },
   "outputs": [],
   "source": [
    "import pandas as pd"
   ]
  },
  {
   "cell_type": "code",
   "outputs": [
    {
     "data": {
      "text/plain": "33373"
     },
     "execution_count": 39,
     "metadata": {},
     "output_type": "execute_result"
    }
   ],
   "source": [
    "data = pd.read_csv('combined-dataset/combined_datasetV2.csv')\n",
    "len(data)"
   ],
   "metadata": {
    "collapsed": false,
    "ExecuteTime": {
     "end_time": "2024-06-10T16:37:23.104286300Z",
     "start_time": "2024-06-10T16:37:22.659516700Z"
    }
   },
   "id": "cdeefb07326dd577",
   "execution_count": 39
  },
  {
   "cell_type": "code",
   "outputs": [],
   "source": [
    "review_columns = ['review 1', 'review 2', 'review 3', 'review 4', 'review 5']\n",
    "data[review_columns] = data[review_columns].fillna('')\n"
   ],
   "metadata": {
    "collapsed": false,
    "ExecuteTime": {
     "end_time": "2024-06-10T16:37:23.174188600Z",
     "start_time": "2024-06-10T16:37:23.110293200Z"
    }
   },
   "id": "584f3edd477521b7",
   "execution_count": 40
  },
  {
   "cell_type": "code",
   "outputs": [
    {
     "data": {
      "text/plain": "                                id           name  latitude   longitude  \\\n33368  ChIJuSsSGMdb0i0RXpxpetd-reo   Magus Warung -8.848274  115.161537   \n33369  ChIJkUBrbUNb0i0RNnykigLvsi8    バリ・クリフ リゾート -8.847215  115.168313   \n33370  ChIJJSzYawBb0i0Rzo1t0dwisFc    TITIK AKHIR -8.848180  115.163519   \n33371  ChIJxUN4WgBb0i0RCXAMVL8Upa0        Ketewel -8.847742  115.160670   \n33372  ChIJI39jMQBb0i0RtLObKd2DIy4  warung windhi -8.847742  115.160670   \n\n                                                 address  \\\n33368  Pantai Melasti, Ungasan, Kec. Kuta Sel., Kabup...   \n33369  5539+488, Ungasan, South Kuta, Badung Regency,...   \n33370  5527+PCC, Ungasan, South Kuta, Badung Regency,...   \n33371  Pantai melasti, Ungasan, Kec. Kuta Sel., Kabup...   \n33372  5526+W73, pantai melasti, Ungasan, Kec. Kuta S...   \n\n                                                     url       status phone  \\\n33368  https://maps.google.com/?cid=16910311639782890590  OPERATIONAL   NaN   \n33369   https://maps.google.com/?cid=3437072259832118326  OPERATIONAL   NaN   \n33370   https://maps.google.com/?cid=6318588609002573262  OPERATIONAL   NaN   \n33371  https://maps.google.com/?cid=12512429951700201481  OPERATIONAL   NaN   \n33372   https://maps.google.com/?cid=3324645935838639028  OPERATIONAL   NaN   \n\n            primary-type                                types  rating  \\\n33368         restaurant                restaurant, bar, food     5.0   \n33369              hotel                       hotel, lodging     NaN   \n33370               park                                 park     NaN   \n33371               park                                 park     NaN   \n33372  brunch_restaurant  brunch_restaurant, restaurant, food     5.0   \n\n       rating-count price-level  \\\n33368           8.0         NaN   \n33369           NaN         NaN   \n33370           NaN         NaN   \n33371           NaN         NaN   \n33372           1.0         NaN   \n\n                                                review 1  \\\n33368  One of beautiful places in bali, outside of ch...   \n33369                                                      \n33370                                                      \n33371                                                      \n33372                                                      \n\n                                      review 2 review 3 review 4 review 5  \\\n33368  Such an amazing place at melasti beach!                              \n33369                                                                       \n33370                                                                       \n33371                                                                       \n33372                                                                       \n\n                                           combined_text  \n33368  restaurant, bar, food One of beautiful places ...  \n33369                                hotel, lodging       \n33370                                          park       \n33371                                          park       \n33372           brunch_restaurant, restaurant, food       ",
      "text/html": "<div>\n<style scoped>\n    .dataframe tbody tr th:only-of-type {\n        vertical-align: middle;\n    }\n\n    .dataframe tbody tr th {\n        vertical-align: top;\n    }\n\n    .dataframe thead th {\n        text-align: right;\n    }\n</style>\n<table border=\"1\" class=\"dataframe\">\n  <thead>\n    <tr style=\"text-align: right;\">\n      <th></th>\n      <th>id</th>\n      <th>name</th>\n      <th>latitude</th>\n      <th>longitude</th>\n      <th>address</th>\n      <th>url</th>\n      <th>status</th>\n      <th>phone</th>\n      <th>primary-type</th>\n      <th>types</th>\n      <th>rating</th>\n      <th>rating-count</th>\n      <th>price-level</th>\n      <th>review 1</th>\n      <th>review 2</th>\n      <th>review 3</th>\n      <th>review 4</th>\n      <th>review 5</th>\n      <th>combined_text</th>\n    </tr>\n  </thead>\n  <tbody>\n    <tr>\n      <th>33368</th>\n      <td>ChIJuSsSGMdb0i0RXpxpetd-reo</td>\n      <td>Magus Warung</td>\n      <td>-8.848274</td>\n      <td>115.161537</td>\n      <td>Pantai Melasti, Ungasan, Kec. Kuta Sel., Kabup...</td>\n      <td>https://maps.google.com/?cid=16910311639782890590</td>\n      <td>OPERATIONAL</td>\n      <td>NaN</td>\n      <td>restaurant</td>\n      <td>restaurant, bar, food</td>\n      <td>5.0</td>\n      <td>8.0</td>\n      <td>NaN</td>\n      <td>One of beautiful places in bali, outside of ch...</td>\n      <td>Such an amazing place at melasti beach!</td>\n      <td></td>\n      <td></td>\n      <td></td>\n      <td>restaurant, bar, food One of beautiful places ...</td>\n    </tr>\n    <tr>\n      <th>33369</th>\n      <td>ChIJkUBrbUNb0i0RNnykigLvsi8</td>\n      <td>バリ・クリフ リゾート</td>\n      <td>-8.847215</td>\n      <td>115.168313</td>\n      <td>5539+488, Ungasan, South Kuta, Badung Regency,...</td>\n      <td>https://maps.google.com/?cid=3437072259832118326</td>\n      <td>OPERATIONAL</td>\n      <td>NaN</td>\n      <td>hotel</td>\n      <td>hotel, lodging</td>\n      <td>NaN</td>\n      <td>NaN</td>\n      <td>NaN</td>\n      <td></td>\n      <td></td>\n      <td></td>\n      <td></td>\n      <td></td>\n      <td>hotel, lodging</td>\n    </tr>\n    <tr>\n      <th>33370</th>\n      <td>ChIJJSzYawBb0i0Rzo1t0dwisFc</td>\n      <td>TITIK AKHIR</td>\n      <td>-8.848180</td>\n      <td>115.163519</td>\n      <td>5527+PCC, Ungasan, South Kuta, Badung Regency,...</td>\n      <td>https://maps.google.com/?cid=6318588609002573262</td>\n      <td>OPERATIONAL</td>\n      <td>NaN</td>\n      <td>park</td>\n      <td>park</td>\n      <td>NaN</td>\n      <td>NaN</td>\n      <td>NaN</td>\n      <td></td>\n      <td></td>\n      <td></td>\n      <td></td>\n      <td></td>\n      <td>park</td>\n    </tr>\n    <tr>\n      <th>33371</th>\n      <td>ChIJxUN4WgBb0i0RCXAMVL8Upa0</td>\n      <td>Ketewel</td>\n      <td>-8.847742</td>\n      <td>115.160670</td>\n      <td>Pantai melasti, Ungasan, Kec. Kuta Sel., Kabup...</td>\n      <td>https://maps.google.com/?cid=12512429951700201481</td>\n      <td>OPERATIONAL</td>\n      <td>NaN</td>\n      <td>park</td>\n      <td>park</td>\n      <td>NaN</td>\n      <td>NaN</td>\n      <td>NaN</td>\n      <td></td>\n      <td></td>\n      <td></td>\n      <td></td>\n      <td></td>\n      <td>park</td>\n    </tr>\n    <tr>\n      <th>33372</th>\n      <td>ChIJI39jMQBb0i0RtLObKd2DIy4</td>\n      <td>warung windhi</td>\n      <td>-8.847742</td>\n      <td>115.160670</td>\n      <td>5526+W73, pantai melasti, Ungasan, Kec. Kuta S...</td>\n      <td>https://maps.google.com/?cid=3324645935838639028</td>\n      <td>OPERATIONAL</td>\n      <td>NaN</td>\n      <td>brunch_restaurant</td>\n      <td>brunch_restaurant, restaurant, food</td>\n      <td>5.0</td>\n      <td>1.0</td>\n      <td>NaN</td>\n      <td></td>\n      <td></td>\n      <td></td>\n      <td></td>\n      <td></td>\n      <td>brunch_restaurant, restaurant, food</td>\n    </tr>\n  </tbody>\n</table>\n</div>"
     },
     "execution_count": 41,
     "metadata": {},
     "output_type": "execute_result"
    }
   ],
   "source": [
    "data['combined_text'] = data['types'] + ' ' + data['review 1'] + ' ' + data['review 2'] + ' ' + data['review 3'] + ' ' + data['review 4'] + ' ' + data['review 5'] \n"
   ],
   "metadata": {
    "collapsed": false,
    "ExecuteTime": {
     "end_time": "2024-06-10T16:37:23.243673900Z",
     "start_time": "2024-06-10T16:37:23.128996900Z"
    }
   },
   "id": "f2d58e4f9cb5e734",
   "execution_count": 41
  },
  {
   "cell_type": "code",
   "outputs": [
    {
     "data": {
      "text/plain": "4986"
     },
     "execution_count": 42,
     "metadata": {},
     "output_type": "execute_result"
    }
   ],
   "source": [
    "# Remove items with less than 100 rating counts\n",
    "data = data[data['rating-count'] > 100]\n",
    "data = data[data['rating'] > 3.5]\n",
    "data.reset_index(drop=True, inplace=True)\n",
    "len(data)"
   ],
   "metadata": {
    "collapsed": false,
    "ExecuteTime": {
     "end_time": "2024-06-10T16:37:23.257714400Z",
     "start_time": "2024-06-10T16:37:23.246194800Z"
    }
   },
   "id": "47f49cd1da191a74",
   "execution_count": 42
  },
  {
   "cell_type": "code",
   "outputs": [
    {
     "data": {
      "text/plain": "                               id  \\\n4981  ChIJHcVJyNhd0i0Rtif8ZHzZBr0   \n4982  ChIJf6d0f5Nb0i0Rq_tEZeZB_Nc   \n4983  ChIJk41ld9Fb0i0RStb1NFpDAno   \n4984  ChIJvazdGXtb0i0RA-4XopPth7A   \n4985  ChIJqZTwKr5b0i0Rw1O4htYbMgg   \n\n                                                   name  latitude   longitude  \\\n4981                                Gunung Payung Beach -8.840777  115.199836   \n4982                              Melasti Beach Ungasan -8.847742  115.160670   \n4983  Tropical Temptation Beach Club by Ini Vie Hosp... -8.848187  115.160380   \n4984                                   Mïnoo Beach Club -8.848279  115.161177   \n4985                       Kecak Dance at Melasti Beach -8.848176  115.162956   \n\n                                                address  \\\n4981  Pantai Gunung Payung, Kutuh, Kec. Kuta Sel., K...   \n4982  Indonesia, Bali, Badung Regency, South Kuta, U...   \n4983  Melasti Beach 88, Ungasan, Kec. Kuta Sel., Kab...   \n4984  Jl. Pengayutan. Pantai Melasti, Ungasan, Kec. ...   \n4985  5527+P5G, Jl. Melasti, Ungasan, Kec. Kuta Sel....   \n\n                                                    url       status  \\\n4981  https://maps.google.com/?cid=13620813251322062774  OPERATIONAL   \n4982  https://maps.google.com/?cid=15563386870082894763  OPERATIONAL   \n4983   https://maps.google.com/?cid=8791663477295273546  OPERATIONAL   \n4984  https://maps.google.com/?cid=12720396890866707971  OPERATIONAL   \n4985    https://maps.google.com/?cid=590565109336134595  OPERATIONAL   \n\n                  phone             primary-type  \\\n4981   +62 811-3834-388       tourist_attraction   \n4982                NaN       tourist_attraction   \n4983  +62 812-3776-3903               restaurant   \n4984   +62 811-3898-902                      bar   \n4985                NaN  performing_arts_theater   \n\n                                                  types  rating  rating-count  \\\n4981                                 tourist_attraction     4.8         745.0   \n4982                                 tourist_attraction     4.8       19752.0   \n4983                              restaurant, bar, food     4.6        2990.0   \n4984                              bar, restaurant, food     4.5         725.0   \n4985  performing_arts_theater, tourist_attraction, e...     4.8         617.0   \n\n               price-level                                           review 1  \\\n4981                   NaN  The stairs are manageable or you can pay about...   \n4982                   NaN  the location is not far and not too crowded. t...   \n4983                   NaN  First off, the staff is incredible.  Like, rid...   \n4984  PRICE_LEVEL_MODERATE  It was a great place to chill for the day. The...   \n4985                   NaN  Witnessing the Kecak Dance at Melasti Beach wa...   \n\n                                               review 2  \\\n4981  One of the best beaches in Uluwatu area. It’s ...   \n4982  Nicely made beach with parking right in front ...   \n4983  We ended up paying 1.5mil for two here while s...   \n4984  Nice beach club, really love the foods and dri...   \n4985  One of the best experience to watch this dance...   \n\n                                               review 3  \\\n4981  You have two options for getting to the beach....   \n4982  Melasti Beach Ungasan is a stunning beach in B...   \n4983  Had an awesome day at Tropical Temptation!  Th...   \n4984  Good place, good food and good staff!\\n\\nNo en...   \n4985  Wow! Amazing experience! Recommend this one ov...   \n\n                                               review 4  \\\n4981  Private beach with access through Gunung Payun...   \n4982  The approach road to this beach is amazing spe...   \n4983  Beautiful area, can not fault how breath takin...   \n4984  Good place to bring your family & friends, kid...   \n4985  Really enjoyed the Kecak Dance here! A beautif...   \n\n                                               review 5  \\\n4981  Goes there at around 3PM and it looks so good ...   \n4982  🚶 I walked down to the beach, but it’s quite s...   \n4983  Tropical Temptation is a beach club gem! 💎 The...   \n4984  I went to this beach a few days ago, the food ...   \n4985  Good performance, but there was only one guy w...   \n\n                                          combined_text  \n4981  tourist_attraction The stairs are manageable o...  \n4982  tourist_attraction the location is not far and...  \n4983  restaurant, bar, food First off, the staff is ...  \n4984  bar, restaurant, food It was a great place to ...  \n4985  performing_arts_theater, tourist_attraction, e...  ",
      "text/html": "<div>\n<style scoped>\n    .dataframe tbody tr th:only-of-type {\n        vertical-align: middle;\n    }\n\n    .dataframe tbody tr th {\n        vertical-align: top;\n    }\n\n    .dataframe thead th {\n        text-align: right;\n    }\n</style>\n<table border=\"1\" class=\"dataframe\">\n  <thead>\n    <tr style=\"text-align: right;\">\n      <th></th>\n      <th>id</th>\n      <th>name</th>\n      <th>latitude</th>\n      <th>longitude</th>\n      <th>address</th>\n      <th>url</th>\n      <th>status</th>\n      <th>phone</th>\n      <th>primary-type</th>\n      <th>types</th>\n      <th>rating</th>\n      <th>rating-count</th>\n      <th>price-level</th>\n      <th>review 1</th>\n      <th>review 2</th>\n      <th>review 3</th>\n      <th>review 4</th>\n      <th>review 5</th>\n      <th>combined_text</th>\n    </tr>\n  </thead>\n  <tbody>\n    <tr>\n      <th>4981</th>\n      <td>ChIJHcVJyNhd0i0Rtif8ZHzZBr0</td>\n      <td>Gunung Payung Beach</td>\n      <td>-8.840777</td>\n      <td>115.199836</td>\n      <td>Pantai Gunung Payung, Kutuh, Kec. Kuta Sel., K...</td>\n      <td>https://maps.google.com/?cid=13620813251322062774</td>\n      <td>OPERATIONAL</td>\n      <td>+62 811-3834-388</td>\n      <td>tourist_attraction</td>\n      <td>tourist_attraction</td>\n      <td>4.8</td>\n      <td>745.0</td>\n      <td>NaN</td>\n      <td>The stairs are manageable or you can pay about...</td>\n      <td>One of the best beaches in Uluwatu area. It’s ...</td>\n      <td>You have two options for getting to the beach....</td>\n      <td>Private beach with access through Gunung Payun...</td>\n      <td>Goes there at around 3PM and it looks so good ...</td>\n      <td>tourist_attraction The stairs are manageable o...</td>\n    </tr>\n    <tr>\n      <th>4982</th>\n      <td>ChIJf6d0f5Nb0i0Rq_tEZeZB_Nc</td>\n      <td>Melasti Beach Ungasan</td>\n      <td>-8.847742</td>\n      <td>115.160670</td>\n      <td>Indonesia, Bali, Badung Regency, South Kuta, U...</td>\n      <td>https://maps.google.com/?cid=15563386870082894763</td>\n      <td>OPERATIONAL</td>\n      <td>NaN</td>\n      <td>tourist_attraction</td>\n      <td>tourist_attraction</td>\n      <td>4.8</td>\n      <td>19752.0</td>\n      <td>NaN</td>\n      <td>the location is not far and not too crowded. t...</td>\n      <td>Nicely made beach with parking right in front ...</td>\n      <td>Melasti Beach Ungasan is a stunning beach in B...</td>\n      <td>The approach road to this beach is amazing spe...</td>\n      <td>🚶 I walked down to the beach, but it’s quite s...</td>\n      <td>tourist_attraction the location is not far and...</td>\n    </tr>\n    <tr>\n      <th>4983</th>\n      <td>ChIJk41ld9Fb0i0RStb1NFpDAno</td>\n      <td>Tropical Temptation Beach Club by Ini Vie Hosp...</td>\n      <td>-8.848187</td>\n      <td>115.160380</td>\n      <td>Melasti Beach 88, Ungasan, Kec. Kuta Sel., Kab...</td>\n      <td>https://maps.google.com/?cid=8791663477295273546</td>\n      <td>OPERATIONAL</td>\n      <td>+62 812-3776-3903</td>\n      <td>restaurant</td>\n      <td>restaurant, bar, food</td>\n      <td>4.6</td>\n      <td>2990.0</td>\n      <td>NaN</td>\n      <td>First off, the staff is incredible.  Like, rid...</td>\n      <td>We ended up paying 1.5mil for two here while s...</td>\n      <td>Had an awesome day at Tropical Temptation!  Th...</td>\n      <td>Beautiful area, can not fault how breath takin...</td>\n      <td>Tropical Temptation is a beach club gem! 💎 The...</td>\n      <td>restaurant, bar, food First off, the staff is ...</td>\n    </tr>\n    <tr>\n      <th>4984</th>\n      <td>ChIJvazdGXtb0i0RA-4XopPth7A</td>\n      <td>Mïnoo Beach Club</td>\n      <td>-8.848279</td>\n      <td>115.161177</td>\n      <td>Jl. Pengayutan. Pantai Melasti, Ungasan, Kec. ...</td>\n      <td>https://maps.google.com/?cid=12720396890866707971</td>\n      <td>OPERATIONAL</td>\n      <td>+62 811-3898-902</td>\n      <td>bar</td>\n      <td>bar, restaurant, food</td>\n      <td>4.5</td>\n      <td>725.0</td>\n      <td>PRICE_LEVEL_MODERATE</td>\n      <td>It was a great place to chill for the day. The...</td>\n      <td>Nice beach club, really love the foods and dri...</td>\n      <td>Good place, good food and good staff!\\n\\nNo en...</td>\n      <td>Good place to bring your family &amp; friends, kid...</td>\n      <td>I went to this beach a few days ago, the food ...</td>\n      <td>bar, restaurant, food It was a great place to ...</td>\n    </tr>\n    <tr>\n      <th>4985</th>\n      <td>ChIJqZTwKr5b0i0Rw1O4htYbMgg</td>\n      <td>Kecak Dance at Melasti Beach</td>\n      <td>-8.848176</td>\n      <td>115.162956</td>\n      <td>5527+P5G, Jl. Melasti, Ungasan, Kec. Kuta Sel....</td>\n      <td>https://maps.google.com/?cid=590565109336134595</td>\n      <td>OPERATIONAL</td>\n      <td>NaN</td>\n      <td>performing_arts_theater</td>\n      <td>performing_arts_theater, tourist_attraction, e...</td>\n      <td>4.8</td>\n      <td>617.0</td>\n      <td>NaN</td>\n      <td>Witnessing the Kecak Dance at Melasti Beach wa...</td>\n      <td>One of the best experience to watch this dance...</td>\n      <td>Wow! Amazing experience! Recommend this one ov...</td>\n      <td>Really enjoyed the Kecak Dance here! A beautif...</td>\n      <td>Good performance, but there was only one guy w...</td>\n      <td>performing_arts_theater, tourist_attraction, e...</td>\n    </tr>\n  </tbody>\n</table>\n</div>"
     },
     "execution_count": 44,
     "metadata": {},
     "output_type": "execute_result"
    }
   ],
   "source": [
    "data.tail()"
   ],
   "metadata": {
    "collapsed": false,
    "ExecuteTime": {
     "end_time": "2024-06-10T16:37:59.494808500Z",
     "start_time": "2024-06-10T16:37:59.485456Z"
    }
   },
   "id": "9e195f0ec69ced30",
   "execution_count": 44
  },
  {
   "cell_type": "code",
   "outputs": [
    {
     "name": "stdout",
     "output_type": "stream",
     "text": [
      "Recommendations for Kuta Beach:\n",
      "                                       name  rating  rating-count  distance_km\n",
      "4982                  Melasti Beach Ungasan     4.8       19752.0    13.872230\n",
      "4174                      Mercure Kuta Bali     4.7        5150.0     0.210146\n",
      "4603                        Cemongkak Beach     4.7         101.0    10.656043\n",
      "3771                           Karang Beach     4.6        5680.0    11.088608\n",
      "4519                             Kubu Beach     4.6        1410.0     8.468217\n",
      "4267                          Pantai Jerman     4.6         226.0     1.499007\n",
      "3038                          Naked Coconut     4.6         180.0     6.792545\n",
      "4159  Truntum Kuta Formerly Grand Inna Kuta     4.5        5329.0     0.125045\n",
      "4505                         Balangan Beach     4.5        1864.0     9.059425\n",
      "4175                             Kuta Beach     4.5        1756.0     0.223162\n",
      "3032                          Pantai Berawa     4.5         327.0     6.953113\n",
      "4366                         Jimbaran Beach     4.5         149.0     5.979147\n",
      "4601                        Dreamland Beach     4.4        4459.0    10.216991\n",
      "4081                       Kuta Beach Hotel     4.2        2240.0     1.095295\n"
     ]
    }
   ],
   "source": [
    "import pandas as pd\n",
    "from sklearn.feature_extraction.text import TfidfVectorizer\n",
    "from sklearn.metrics.pairwise import cosine_similarity\n",
    "from sklearn.metrics.pairwise import linear_kernel\n",
    "from geopy.distance import geodesic\n",
    "\n",
    "tfidf_vectorizer = TfidfVectorizer(stop_words='english')\n",
    "tfidf_matrix = tfidf_vectorizer.fit_transform(data['combined_text'])\n",
    "\n",
    "## Enable one of the following lines to use either cosine_similarity or linear_kernel\n",
    "\n",
    "# cosine_similarities = cosine_similarity(tfidf_matrix, tfidf_matrix)\n",
    "cosine_similarities = linear_kernel(tfidf_matrix, tfidf_matrix)\n",
    "\n",
    "def get_recommendations(name, cosine_similarities=cosine_similarities, data=data, top_n=10, threshold=0.1):\n",
    "    if name not in data['name'].values:\n",
    "        print(f\"Name '{name}' not found in data.\")\n",
    "        return pd.Series()\n",
    "\n",
    "    idx = data[data['name'] == name].index[0]\n",
    "    item_lat = data.loc[idx, 'latitude']\n",
    "    item_lon = data.loc[idx, 'longitude']\n",
    "    \n",
    "    sim_scores = list(enumerate(cosine_similarities[idx]))\n",
    "    sim_scores = [(i, score) for i, score in sim_scores if score > threshold]\n",
    "    sim_scores = sorted(sim_scores, key=lambda x: x[1], reverse=True)\n",
    "    sim_scores = sim_scores[1:top_n+1]\n",
    "    \n",
    "    item_indices = [i[0] for i in sim_scores]\n",
    "\n",
    "    if len(item_indices) == 0:\n",
    "        print(\"No recommendations found.\")\n",
    "        return pd.Series()\n",
    "\n",
    "    recommendations = data[['name', 'rating', 'rating-count', 'latitude', 'longitude']].iloc[item_indices]\n",
    "    \n",
    "    # Calculate distances \n",
    "    recommendations['distance_km'] = recommendations.apply(\n",
    "        lambda row: geodesic((item_lat, item_lon), (row['latitude'], row['longitude'])).kilometers, axis=1\n",
    "    )\n",
    "    \n",
    "    # Remove if distance is above 30 km\n",
    "    recommendations = recommendations[recommendations['distance_km'] < 30]\n",
    "    \n",
    "    # Sort by rating, rating-count, and distance\n",
    "    sorted_recommendations = recommendations.sort_values(by=['rating', 'rating-count', 'distance_km'], ascending=[False, False, True])\n",
    "    sorted_recommendations = sorted_recommendations[['name', 'rating', 'rating-count', 'distance_km']]\n",
    "    \n",
    "    return sorted_recommendations\n",
    "\n",
    "## Select a random item or use a specific item name\n",
    "# selected_item = data['name'].sample(1).values[0]\n",
    "selected_item = 'Kuta Beach'\n",
    "\n",
    "print(f\"Recommendations for {selected_item}:\")\n",
    "recommended_items = get_recommendations(selected_item, cosine_similarities, data,top_n=20, threshold=0.1) # adjust threshold if neccessary \n",
    "print(recommended_items)\n"
   ],
   "metadata": {
    "collapsed": false,
    "ExecuteTime": {
     "end_time": "2024-06-10T17:19:17.638210900Z",
     "start_time": "2024-06-10T17:19:15.356060200Z"
    }
   },
   "id": "5853566bce4d3d70",
   "execution_count": 70
  },
  {
   "cell_type": "code",
   "outputs": [],
   "source": [],
   "metadata": {
    "collapsed": false,
    "ExecuteTime": {
     "end_time": "2024-06-10T16:59:33.399327300Z",
     "start_time": "2024-06-10T16:59:33.396303200Z"
    }
   },
   "id": "39197a6273134cd6",
   "execution_count": 58
  },
  {
   "cell_type": "code",
   "outputs": [],
   "source": [],
   "metadata": {
    "collapsed": false,
    "ExecuteTime": {
     "end_time": "2024-06-10T16:55:43.673629600Z",
     "start_time": "2024-06-10T16:55:43.670620500Z"
    }
   },
   "id": "2146b03d72732561",
   "execution_count": 54
  },
  {
   "cell_type": "code",
   "outputs": [],
   "source": [],
   "metadata": {
    "collapsed": false
   },
   "id": "643415ec1ae68746",
   "execution_count": null
  }
 ],
 "metadata": {
  "kernelspec": {
   "display_name": "Python 3",
   "language": "python",
   "name": "python3"
  },
  "language_info": {
   "codemirror_mode": {
    "name": "ipython",
    "version": 2
   },
   "file_extension": ".py",
   "mimetype": "text/x-python",
   "name": "python",
   "nbconvert_exporter": "python",
   "pygments_lexer": "ipython2",
   "version": "2.7.6"
  }
 },
 "nbformat": 4,
 "nbformat_minor": 5
}
