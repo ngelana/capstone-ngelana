{
 "cells": [
  {
   "cell_type": "code",
   "id": "initial_id",
   "metadata": {
    "collapsed": true,
    "ExecuteTime": {
     "end_time": "2024-06-12T23:18:27.165700Z",
     "start_time": "2024-06-12T23:18:27.163038Z"
    }
   },
   "source": [
    "import tensorflow as tf\n",
    "\n",
    "from tensorflow.python.compiler.tensorrt import trt_convert as trt"
   ],
   "outputs": [],
   "execution_count": 5
  },
  {
   "metadata": {
    "ExecuteTime": {
     "end_time": "2024-06-12T23:17:24.196604Z",
     "start_time": "2024-06-12T23:17:17.601688Z"
    }
   },
   "cell_type": "code",
   "source": [
    "model = tf.keras.models.load_model('best_sentiment_model.keras')\n",
    "model.save('saved-model')"
   ],
   "id": "a5fc4ee631a57501",
   "outputs": [
    {
     "name": "stderr",
     "output_type": "stream",
     "text": [
      "2024-06-13 06:17:17.717747: I external/local_xla/xla/stream_executor/cuda/cuda_executor.cc:887] could not open file to read NUMA node: /sys/bus/pci/devices/0000:01:00.0/numa_node\n",
      "Your kernel may have been built without NUMA support.\n",
      "2024-06-13 06:17:17.773307: I external/local_xla/xla/stream_executor/cuda/cuda_executor.cc:887] could not open file to read NUMA node: /sys/bus/pci/devices/0000:01:00.0/numa_node\n",
      "Your kernel may have been built without NUMA support.\n",
      "2024-06-13 06:17:17.773350: I external/local_xla/xla/stream_executor/cuda/cuda_executor.cc:887] could not open file to read NUMA node: /sys/bus/pci/devices/0000:01:00.0/numa_node\n",
      "Your kernel may have been built without NUMA support.\n",
      "2024-06-13 06:17:17.775637: I external/local_xla/xla/stream_executor/cuda/cuda_executor.cc:887] could not open file to read NUMA node: /sys/bus/pci/devices/0000:01:00.0/numa_node\n",
      "Your kernel may have been built without NUMA support.\n",
      "2024-06-13 06:17:17.775679: I external/local_xla/xla/stream_executor/cuda/cuda_executor.cc:887] could not open file to read NUMA node: /sys/bus/pci/devices/0000:01:00.0/numa_node\n",
      "Your kernel may have been built without NUMA support.\n",
      "2024-06-13 06:17:17.775702: I external/local_xla/xla/stream_executor/cuda/cuda_executor.cc:887] could not open file to read NUMA node: /sys/bus/pci/devices/0000:01:00.0/numa_node\n",
      "Your kernel may have been built without NUMA support.\n",
      "2024-06-13 06:17:17.852015: I external/local_xla/xla/stream_executor/cuda/cuda_executor.cc:887] could not open file to read NUMA node: /sys/bus/pci/devices/0000:01:00.0/numa_node\n",
      "Your kernel may have been built without NUMA support.\n",
      "2024-06-13 06:17:17.852074: I external/local_xla/xla/stream_executor/cuda/cuda_executor.cc:887] could not open file to read NUMA node: /sys/bus/pci/devices/0000:01:00.0/numa_node\n",
      "Your kernel may have been built without NUMA support.\n",
      "2024-06-13 06:17:17.852082: I tensorflow/core/common_runtime/gpu/gpu_device.cc:2022] Could not identify NUMA node of platform GPU id 0, defaulting to 0.  Your kernel may not have been built with NUMA support.\n",
      "2024-06-13 06:17:17.852122: I external/local_xla/xla/stream_executor/cuda/cuda_executor.cc:887] could not open file to read NUMA node: /sys/bus/pci/devices/0000:01:00.0/numa_node\n",
      "Your kernel may have been built without NUMA support.\n",
      "2024-06-13 06:17:17.852144: I tensorflow/core/common_runtime/gpu/gpu_device.cc:1929] Created device /job:localhost/replica:0/task:0/device:GPU:0 with 3431 MB memory:  -> device: 0, name: NVIDIA GeForce RTX 3060 Laptop GPU, pci bus id: 0000:01:00.0, compute capability: 8.6\n",
      "2024-06-13 06:17:19.717871: I external/local_tsl/tsl/platform/default/subprocess.cc:304] Start cannot spawn child process: No such file or directory\n"
     ]
    },
    {
     "name": "stdout",
     "output_type": "stream",
     "text": [
      "INFO:tensorflow:Assets written to: saved-model/assets\n"
     ]
    },
    {
     "name": "stderr",
     "output_type": "stream",
     "text": [
      "INFO:tensorflow:Assets written to: saved-model/assets\n"
     ]
    }
   ],
   "execution_count": 2
  },
  {
   "metadata": {
    "ExecuteTime": {
     "end_time": "2024-06-12T23:18:29.178419Z",
     "start_time": "2024-06-12T23:18:28.910288Z"
    }
   },
   "cell_type": "code",
   "source": [
    "converter = trt.TrtGraphConverterV2(input_saved_model_dir='saved-model')\n",
    "converter.convert()"
   ],
   "id": "c6707cd25d85d0e6",
   "outputs": [
    {
     "name": "stdout",
     "output_type": "stream",
     "text": [
      "ERROR:tensorflow:Tensorflow needs to be built with TensorRT support enabled to allow TF-TRT to operate.\n"
     ]
    },
    {
     "name": "stderr",
     "output_type": "stream",
     "text": [
      "2024-06-13 06:18:28.911700: W tensorflow/compiler/tf2tensorrt/utils/py_utils.cc:38] TF-TRT Warning: Could not find TensorRT\n",
      "ERROR:tensorflow:Tensorflow needs to be built with TensorRT support enabled to allow TF-TRT to operate.\n"
     ]
    },
    {
     "ename": "RuntimeError",
     "evalue": "Tensorflow has not been built with TensorRT support.",
     "output_type": "error",
     "traceback": [
      "\u001B[0;31m---------------------------------------------------------------------------\u001B[0m",
      "\u001B[0;31mRuntimeError\u001B[0m                              Traceback (most recent call last)",
      "Cell \u001B[0;32mIn[6], line 1\u001B[0m\n\u001B[0;32m----> 1\u001B[0m converter \u001B[38;5;241m=\u001B[39m \u001B[43mtrt\u001B[49m\u001B[38;5;241;43m.\u001B[39;49m\u001B[43mTrtGraphConverterV2\u001B[49m\u001B[43m(\u001B[49m\u001B[43minput_saved_model_dir\u001B[49m\u001B[38;5;241;43m=\u001B[39;49m\u001B[38;5;124;43m'\u001B[39;49m\u001B[38;5;124;43msaved-model\u001B[39;49m\u001B[38;5;124;43m'\u001B[39;49m\u001B[43m)\u001B[49m\n\u001B[1;32m      2\u001B[0m converter\u001B[38;5;241m.\u001B[39mconvert()\n",
      "File \u001B[0;32m~/anaconda3/envs/capstone/lib/python3.11/site-packages/tensorflow/python/util/deprecation.py:588\u001B[0m, in \u001B[0;36mdeprecated_args.<locals>.deprecated_wrapper.<locals>.new_func\u001B[0;34m(*args, **kwargs)\u001B[0m\n\u001B[1;32m    580\u001B[0m         _PRINTED_WARNING[(func, arg_name)] \u001B[38;5;241m=\u001B[39m \u001B[38;5;28;01mTrue\u001B[39;00m\n\u001B[1;32m    581\u001B[0m       _log_deprecation(\n\u001B[1;32m    582\u001B[0m           \u001B[38;5;124m'\u001B[39m\u001B[38;5;124mFrom \u001B[39m\u001B[38;5;132;01m%s\u001B[39;00m\u001B[38;5;124m: calling \u001B[39m\u001B[38;5;132;01m%s\u001B[39;00m\u001B[38;5;124m (from \u001B[39m\u001B[38;5;132;01m%s\u001B[39;00m\u001B[38;5;124m) with \u001B[39m\u001B[38;5;132;01m%s\u001B[39;00m\u001B[38;5;124m is deprecated and will \u001B[39m\u001B[38;5;124m'\u001B[39m\n\u001B[1;32m    583\u001B[0m           \u001B[38;5;124m'\u001B[39m\u001B[38;5;124mbe removed \u001B[39m\u001B[38;5;132;01m%s\u001B[39;00m\u001B[38;5;124m.\u001B[39m\u001B[38;5;130;01m\\n\u001B[39;00m\u001B[38;5;124mInstructions for updating:\u001B[39m\u001B[38;5;130;01m\\n\u001B[39;00m\u001B[38;5;132;01m%s\u001B[39;00m\u001B[38;5;124m'\u001B[39m,\n\u001B[0;32m   (...)\u001B[0m\n\u001B[1;32m    586\u001B[0m           \u001B[38;5;124m'\u001B[39m\u001B[38;5;124min a future version\u001B[39m\u001B[38;5;124m'\u001B[39m \u001B[38;5;28;01mif\u001B[39;00m date \u001B[38;5;129;01mis\u001B[39;00m \u001B[38;5;28;01mNone\u001B[39;00m \u001B[38;5;28;01melse\u001B[39;00m (\u001B[38;5;124m'\u001B[39m\u001B[38;5;124mafter \u001B[39m\u001B[38;5;132;01m%s\u001B[39;00m\u001B[38;5;124m'\u001B[39m \u001B[38;5;241m%\u001B[39m date),\n\u001B[1;32m    587\u001B[0m           instructions)\n\u001B[0;32m--> 588\u001B[0m \u001B[38;5;28;01mreturn\u001B[39;00m \u001B[43mfunc\u001B[49m\u001B[43m(\u001B[49m\u001B[38;5;241;43m*\u001B[39;49m\u001B[43margs\u001B[49m\u001B[43m,\u001B[49m\u001B[43m \u001B[49m\u001B[38;5;241;43m*\u001B[39;49m\u001B[38;5;241;43m*\u001B[39;49m\u001B[43mkwargs\u001B[49m\u001B[43m)\u001B[49m\n",
      "File \u001B[0;32m~/anaconda3/envs/capstone/lib/python3.11/site-packages/tensorflow/python/compiler/tensorrt/trt_convert.py:1261\u001B[0m, in \u001B[0;36mTrtGraphConverterV2.__init__\u001B[0;34m(self, input_saved_model_dir, input_saved_model_tags, input_saved_model_signature_key, use_dynamic_shape, dynamic_shape_profile_strategy, max_workspace_size_bytes, precision_mode, minimum_segment_size, maximum_cached_engines, use_calibration, allow_build_at_runtime, conversion_params)\u001B[0m\n\u001B[1;32m   1252\u001B[0m \u001B[38;5;28;01mif\u001B[39;00m conversion_params \u001B[38;5;129;01mis\u001B[39;00m \u001B[38;5;28;01mNone\u001B[39;00m:\n\u001B[1;32m   1253\u001B[0m   conversion_params \u001B[38;5;241m=\u001B[39m TrtConversionParams(\n\u001B[1;32m   1254\u001B[0m       max_workspace_size_bytes\u001B[38;5;241m=\u001B[39mmax_workspace_size_bytes,\n\u001B[1;32m   1255\u001B[0m       precision_mode\u001B[38;5;241m=\u001B[39mprecision_mode,\n\u001B[0;32m   (...)\u001B[0m\n\u001B[1;32m   1258\u001B[0m       use_calibration\u001B[38;5;241m=\u001B[39muse_calibration,\n\u001B[1;32m   1259\u001B[0m       allow_build_at_runtime\u001B[38;5;241m=\u001B[39mallow_build_at_runtime)\n\u001B[0;32m-> 1261\u001B[0m \u001B[43m_check_trt_version_compatibility\u001B[49m\u001B[43m(\u001B[49m\u001B[43m)\u001B[49m\n\u001B[1;32m   1262\u001B[0m _check_conversion_params(conversion_params, is_v2\u001B[38;5;241m=\u001B[39m\u001B[38;5;28;01mTrue\u001B[39;00m)\n\u001B[1;32m   1264\u001B[0m \u001B[38;5;28mself\u001B[39m\u001B[38;5;241m.\u001B[39m_conversion_params \u001B[38;5;241m=\u001B[39m conversion_params\n",
      "File \u001B[0;32m~/anaconda3/envs/capstone/lib/python3.11/site-packages/tensorflow/python/compiler/tensorrt/trt_convert.py:224\u001B[0m, in \u001B[0;36m_check_trt_version_compatibility\u001B[0;34m()\u001B[0m\n\u001B[1;32m    219\u001B[0m \u001B[38;5;28;01mif\u001B[39;00m \u001B[38;5;129;01mnot\u001B[39;00m _pywrap_py_utils\u001B[38;5;241m.\u001B[39mis_tensorrt_enabled():\n\u001B[1;32m    220\u001B[0m   logging\u001B[38;5;241m.\u001B[39merror(\n\u001B[1;32m    221\u001B[0m       \u001B[38;5;124m\"\u001B[39m\u001B[38;5;124mTensorflow needs to be built with TensorRT support enabled to allow \u001B[39m\u001B[38;5;124m\"\u001B[39m\n\u001B[1;32m    222\u001B[0m       \u001B[38;5;124m\"\u001B[39m\u001B[38;5;124mTF-TRT to operate.\u001B[39m\u001B[38;5;124m\"\u001B[39m)\n\u001B[0;32m--> 224\u001B[0m   \u001B[38;5;28;01mraise\u001B[39;00m \u001B[38;5;167;01mRuntimeError\u001B[39;00m(\u001B[38;5;124m\"\u001B[39m\u001B[38;5;124mTensorflow has not been built with TensorRT support.\u001B[39m\u001B[38;5;124m\"\u001B[39m)\n\u001B[1;32m    226\u001B[0m \u001B[38;5;28;01mif\u001B[39;00m platform\u001B[38;5;241m.\u001B[39msystem() \u001B[38;5;241m==\u001B[39m \u001B[38;5;124m\"\u001B[39m\u001B[38;5;124mWindows\u001B[39m\u001B[38;5;124m\"\u001B[39m:\n\u001B[1;32m    227\u001B[0m   logging\u001B[38;5;241m.\u001B[39mwarn(\n\u001B[1;32m    228\u001B[0m       \u001B[38;5;124m\"\u001B[39m\u001B[38;5;124mWindows support is provided experimentally. No guarantee is made \u001B[39m\u001B[38;5;124m\"\u001B[39m\n\u001B[1;32m    229\u001B[0m       \u001B[38;5;124m\"\u001B[39m\u001B[38;5;124mregarding functionality or engineering support. Use at your own risk.\u001B[39m\u001B[38;5;124m\"\u001B[39m)\n",
      "\u001B[0;31mRuntimeError\u001B[0m: Tensorflow has not been built with TensorRT support."
     ]
    }
   ],
   "execution_count": 6
  },
  {
   "metadata": {},
   "cell_type": "code",
   "outputs": [],
   "execution_count": null,
   "source": "",
   "id": "11a3bb55d083f5b2"
  }
 ],
 "metadata": {
  "kernelspec": {
   "display_name": "Python 3",
   "language": "python",
   "name": "python3"
  },
  "language_info": {
   "codemirror_mode": {
    "name": "ipython",
    "version": 2
   },
   "file_extension": ".py",
   "mimetype": "text/x-python",
   "name": "python",
   "nbconvert_exporter": "python",
   "pygments_lexer": "ipython2",
   "version": "2.7.6"
  }
 },
 "nbformat": 4,
 "nbformat_minor": 5
}
