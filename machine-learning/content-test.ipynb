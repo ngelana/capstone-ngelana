{
 "cells": [
  {
   "metadata": {
    "ExecuteTime": {
     "end_time": "2024-06-17T00:41:21.684092Z",
     "start_time": "2024-06-17T00:41:21.679617Z"
    }
   },
   "cell_type": "code",
   "source": [
    "# Import os and disable tensorflow warnings\n",
    "import os\n",
    "os.environ['TF_CPP_MIN_LOG_LEVEL'] = '3'\n",
    "os.environ['PYCARET_CUSTOM_LOGGING_LEVEL'] = 'CRITICAL'"
   ],
   "id": "6ebcabf4035e585e",
   "outputs": [],
   "execution_count": 1
  },
  {
   "metadata": {
    "ExecuteTime": {
     "end_time": "2024-06-17T00:41:24.271490Z",
     "start_time": "2024-06-17T00:41:21.685646Z"
    }
   },
   "cell_type": "code",
   "source": [
    "# Import libraries\n",
    "import pandas as pd\n",
    "import tensorflow as tf\n",
    "\n",
    "from sklearn.preprocessing import LabelEncoder\n",
    "from tensorflow.keras.models import Model\n",
    "from tensorflow.keras.preprocessing.text import Tokenizer\n",
    "from tensorflow.keras.preprocessing.sequence import pad_sequences\n",
    "from tensorflow.keras.layers import Input, Embedding, LSTM, Dense, Concatenate, Flatten, BatchNormalization, Dropout"
   ],
   "id": "initial_id",
   "outputs": [],
   "execution_count": 2
  },
  {
   "metadata": {
    "ExecuteTime": {
     "end_time": "2024-06-17T00:41:24.505455Z",
     "start_time": "2024-06-17T00:41:24.272955Z"
    }
   },
   "cell_type": "code",
   "source": [
    "# Load reviews dataset\n",
    "reviews_path = 'combined-dataset/final_reviews_data.csv'\n",
    "data = pd.read_csv(reviews_path)"
   ],
   "id": "f7b038c9cb41e6e3",
   "outputs": [],
   "execution_count": 3
  },
  {
   "metadata": {
    "ExecuteTime": {
     "end_time": "2024-06-17T00:41:26.155111Z",
     "start_time": "2024-06-17T00:41:24.506635Z"
    }
   },
   "cell_type": "code",
   "source": [
    "# Encode types column and Tokenize reviews column\n",
    "encoder = LabelEncoder()\n",
    "data['types_encoded'] = encoder.fit_transform(data['types'])\n",
    "\n",
    "tokenizer = Tokenizer()\n",
    "tokenizer.fit_on_texts(data['review'])\n",
    "sequences = tokenizer.texts_to_sequences(data['review'])\n",
    "\n",
    "# Pad sequences\n",
    "max_sequence_length = max(map(len, sequences), default=0)\n",
    "padded_sequences = pad_sequences(sequences, maxlen=max_sequence_length)"
   ],
   "id": "4da0dc0a0eafd922",
   "outputs": [],
   "execution_count": 4
  },
  {
   "metadata": {
    "ExecuteTime": {
     "end_time": "2024-06-17T00:41:26.159675Z",
     "start_time": "2024-06-17T00:41:26.157021Z"
    }
   },
   "cell_type": "code",
   "source": [
    "# Create features set and normalize sentiment for label\n",
    "X = {\n",
    "    'review': padded_sequences,\n",
    "    'types': data['types_encoded'].values\n",
    "}\n",
    "\n",
    "Y = data['sentiment'].values"
   ],
   "id": "735d3200ac566cc6",
   "outputs": [],
   "execution_count": 5
  },
  {
   "metadata": {
    "ExecuteTime": {
     "end_time": "2024-06-17T00:41:27.041943Z",
     "start_time": "2024-06-17T00:41:26.160781Z"
    }
   },
   "cell_type": "code",
   "source": [
    "## Define Models Layer\n",
    "# Input\n",
    "review_input = Input(shape=(max_sequence_length,), name='review')\n",
    "types_input = Input(shape=(1,), name='types')\n",
    "\n",
    "# Embedding and LSTM for review\n",
    "review_embedding = Embedding(input_dim=len(tokenizer.word_index) + 1, output_dim=128)(review_input)\n",
    "review_lstm = LSTM(128)(review_embedding)\n",
    "\n",
    "# Embedding and Flatten for types\n",
    "types_embedding = Embedding(input_dim=len(encoder.classes_), output_dim=128)(types_input)\n",
    "types_flat = Flatten()(types_embedding)\n",
    "\n",
    "# Concatenate review and types\n",
    "concatenated = Concatenate()([review_lstm, types_flat])\n",
    "\n",
    "# Dense layers\n",
    "dense_1 = Dense(128, activation='relu')(concatenated)\n",
    "batch_1 = BatchNormalization()(dense_1)\n",
    "dropout_1 = Dropout(0.2)(batch_1)\n",
    "\n",
    "dense_2 = Dense(64, activation='relu')(dropout_1)\n",
    "batch_2 = BatchNormalization()(dense_2)\n",
    "dropout_2 = Dropout(0.2)(batch_2)\n",
    "\n",
    "dense_3 = Dense(32, activation='relu')(dropout_2)\n",
    "batch_3 = BatchNormalization()(dense_3)\n",
    "dropout_3 = Dropout(0.2)(batch_3)\n",
    "\n",
    "output = Dense(1, activation='relu')(dropout_3)"
   ],
   "id": "d35ca5119b28e81",
   "outputs": [],
   "execution_count": 6
  },
  {
   "metadata": {
    "ExecuteTime": {
     "end_time": "2024-06-17T00:41:27.088529Z",
     "start_time": "2024-06-17T00:41:27.043046Z"
    }
   },
   "cell_type": "code",
   "source": [
    "# Create and Compile the Model\n",
    "model = Model(inputs=[review_input, types_input], outputs=output)\n",
    "model.summary()\n",
    "model.compile(optimizer='adam', loss='mse', metrics=['mae'])"
   ],
   "id": "529b41a5646223ed",
   "outputs": [
    {
     "name": "stdout",
     "output_type": "stream",
     "text": [
      "Model: \"model\"\n",
      "__________________________________________________________________________________________________\n",
      " Layer (type)                Output Shape                 Param #   Connected to                  \n",
      "==================================================================================================\n",
      " review (InputLayer)         [(None, 807)]                0         []                            \n",
      "                                                                                                  \n",
      " types (InputLayer)          [(None, 1)]                  0         []                            \n",
      "                                                                                                  \n",
      " embedding (Embedding)       (None, 807, 128)             4762752   ['review[0][0]']              \n",
      "                                                                                                  \n",
      " embedding_1 (Embedding)     (None, 1, 128)               123648    ['types[0][0]']               \n",
      "                                                                                                  \n",
      " lstm (LSTM)                 (None, 128)                  131584    ['embedding[0][0]']           \n",
      "                                                                                                  \n",
      " flatten (Flatten)           (None, 128)                  0         ['embedding_1[0][0]']         \n",
      "                                                                                                  \n",
      " concatenate (Concatenate)   (None, 256)                  0         ['lstm[0][0]',                \n",
      "                                                                     'flatten[0][0]']             \n",
      "                                                                                                  \n",
      " dense (Dense)               (None, 128)                  32896     ['concatenate[0][0]']         \n",
      "                                                                                                  \n",
      " batch_normalization (Batch  (None, 128)                  512       ['dense[0][0]']               \n",
      " Normalization)                                                                                   \n",
      "                                                                                                  \n",
      " dropout (Dropout)           (None, 128)                  0         ['batch_normalization[0][0]'] \n",
      "                                                                                                  \n",
      " dense_1 (Dense)             (None, 64)                   8256      ['dropout[0][0]']             \n",
      "                                                                                                  \n",
      " batch_normalization_1 (Bat  (None, 64)                   256       ['dense_1[0][0]']             \n",
      " chNormalization)                                                                                 \n",
      "                                                                                                  \n",
      " dropout_1 (Dropout)         (None, 64)                   0         ['batch_normalization_1[0][0]'\n",
      "                                                                    ]                             \n",
      "                                                                                                  \n",
      " dense_2 (Dense)             (None, 32)                   2080      ['dropout_1[0][0]']           \n",
      "                                                                                                  \n",
      " batch_normalization_2 (Bat  (None, 32)                   128       ['dense_2[0][0]']             \n",
      " chNormalization)                                                                                 \n",
      "                                                                                                  \n",
      " dropout_2 (Dropout)         (None, 32)                   0         ['batch_normalization_2[0][0]'\n",
      "                                                                    ]                             \n",
      "                                                                                                  \n",
      " dense_3 (Dense)             (None, 1)                    33        ['dropout_2[0][0]']           \n",
      "                                                                                                  \n",
      "==================================================================================================\n",
      "Total params: 5062145 (19.31 MB)\n",
      "Trainable params: 5061697 (19.31 MB)\n",
      "Non-trainable params: 448 (1.75 KB)\n",
      "__________________________________________________________________________________________________\n"
     ]
    }
   ],
   "execution_count": 7
  },
  {
   "metadata": {
    "ExecuteTime": {
     "end_time": "2024-06-17T01:05:22.647661Z",
     "start_time": "2024-06-17T00:41:27.089698Z"
    }
   },
   "cell_type": "code",
   "source": "model.fit([X['review'], X['types']], Y, epochs=25, batch_size=32, validation_split=0.2)",
   "id": "17c67482d2170dec",
   "outputs": [
    {
     "name": "stdout",
     "output_type": "stream",
     "text": [
      "Epoch 1/25\n"
     ]
    },
    {
     "name": "stderr",
     "output_type": "stream",
     "text": [
      "WARNING: All log messages before absl::InitializeLog() is called are written to STDERR\n",
      "I0000 00:00:1718584890.734298   33388 device_compiler.h:186] Compiled cluster using XLA!  This line is logged at most once for the lifetime of the process.\n"
     ]
    },
    {
     "name": "stdout",
     "output_type": "stream",
     "text": [
      "819/819 [==============================] - 79s 91ms/step - loss: 3.4810 - mae: 1.3466 - val_loss: 3.5887 - val_mae: 1.7715\n",
      "Epoch 2/25\n",
      "819/819 [==============================] - 59s 72ms/step - loss: 0.9095 - mae: 0.6556 - val_loss: 0.2363 - val_mae: 0.3736\n",
      "Epoch 3/25\n",
      "819/819 [==============================] - 57s 70ms/step - loss: 0.3604 - mae: 0.4627 - val_loss: 0.2345 - val_mae: 0.3666\n",
      "Epoch 4/25\n",
      "819/819 [==============================] - 57s 70ms/step - loss: 0.2774 - mae: 0.4069 - val_loss: 0.4997 - val_mae: 0.6109\n",
      "Epoch 5/25\n",
      "819/819 [==============================] - 54s 66ms/step - loss: 0.1938 - mae: 0.3393 - val_loss: 0.2135 - val_mae: 0.3752\n",
      "Epoch 6/25\n",
      "819/819 [==============================] - 55s 67ms/step - loss: 0.1674 - mae: 0.3143 - val_loss: 1.0828 - val_mae: 0.9813\n",
      "Epoch 7/25\n",
      "819/819 [==============================] - 56s 68ms/step - loss: 0.1409 - mae: 0.2881 - val_loss: 0.0882 - val_mae: 0.2143\n",
      "Epoch 8/25\n",
      "819/819 [==============================] - 56s 68ms/step - loss: 0.1069 - mae: 0.2511 - val_loss: 0.0907 - val_mae: 0.2338\n",
      "Epoch 9/25\n",
      "819/819 [==============================] - 56s 69ms/step - loss: 0.0908 - mae: 0.2312 - val_loss: 0.0727 - val_mae: 0.1967\n",
      "Epoch 10/25\n",
      "819/819 [==============================] - 56s 68ms/step - loss: 0.0795 - mae: 0.2165 - val_loss: 0.0482 - val_mae: 0.1485\n",
      "Epoch 11/25\n",
      "819/819 [==============================] - 56s 69ms/step - loss: 0.0722 - mae: 0.2053 - val_loss: 0.0488 - val_mae: 0.1536\n",
      "Epoch 12/25\n",
      "819/819 [==============================] - 56s 69ms/step - loss: 0.0642 - mae: 0.1932 - val_loss: 0.0422 - val_mae: 0.1341\n",
      "Epoch 13/25\n",
      "819/819 [==============================] - 56s 68ms/step - loss: 0.0585 - mae: 0.1848 - val_loss: 0.0357 - val_mae: 0.1241\n",
      "Epoch 14/25\n",
      "819/819 [==============================] - 57s 70ms/step - loss: 0.0525 - mae: 0.1753 - val_loss: 0.0374 - val_mae: 0.1292\n",
      "Epoch 15/25\n",
      "819/819 [==============================] - 56s 69ms/step - loss: 0.0479 - mae: 0.1680 - val_loss: 0.0315 - val_mae: 0.1135\n",
      "Epoch 16/25\n",
      "819/819 [==============================] - 58s 71ms/step - loss: 0.0455 - mae: 0.1632 - val_loss: 0.0344 - val_mae: 0.1323\n",
      "Epoch 17/25\n",
      "819/819 [==============================] - 57s 69ms/step - loss: 0.0406 - mae: 0.1549 - val_loss: 0.0387 - val_mae: 0.1372\n",
      "Epoch 18/25\n",
      "819/819 [==============================] - 58s 70ms/step - loss: 0.0401 - mae: 0.1520 - val_loss: 0.0409 - val_mae: 0.1530\n",
      "Epoch 19/25\n",
      "819/819 [==============================] - 58s 71ms/step - loss: 0.0364 - mae: 0.1462 - val_loss: 0.0317 - val_mae: 0.1184\n",
      "Epoch 20/25\n",
      "819/819 [==============================] - 56s 69ms/step - loss: 0.0341 - mae: 0.1418 - val_loss: 0.0277 - val_mae: 0.1064\n",
      "Epoch 21/25\n",
      "819/819 [==============================] - 56s 68ms/step - loss: 0.0316 - mae: 0.1361 - val_loss: 0.0396 - val_mae: 0.1368\n",
      "Epoch 22/25\n",
      "819/819 [==============================] - 56s 68ms/step - loss: 0.0302 - mae: 0.1329 - val_loss: 0.0450 - val_mae: 0.1592\n",
      "Epoch 23/25\n",
      "819/819 [==============================] - 58s 70ms/step - loss: 0.0277 - mae: 0.1277 - val_loss: 0.0333 - val_mae: 0.1185\n",
      "Epoch 24/25\n",
      "819/819 [==============================] - 56s 69ms/step - loss: 0.0264 - mae: 0.1248 - val_loss: 0.0399 - val_mae: 0.1369\n",
      "Epoch 25/25\n",
      "819/819 [==============================] - 56s 68ms/step - loss: 0.0257 - mae: 0.1229 - val_loss: 0.0323 - val_mae: 0.1197\n"
     ]
    },
    {
     "data": {
      "text/plain": [
       "<keras.src.callbacks.History at 0x7f8b5a550c50>"
      ]
     },
     "execution_count": 8,
     "metadata": {},
     "output_type": "execute_result"
    }
   ],
   "execution_count": 8
  },
  {
   "metadata": {
    "ExecuteTime": {
     "end_time": "2024-06-17T01:05:47.700397Z",
     "start_time": "2024-06-17T01:05:22.649262Z"
    }
   },
   "cell_type": "code",
   "source": [
    "loss, mae = model.evaluate([X['review'], X['types']], Y)\n",
    "print(f'Model has a loss of {loss} and a mean absolute error of {mae}')"
   ],
   "id": "24db372305494fb7",
   "outputs": [
    {
     "name": "stdout",
     "output_type": "stream",
     "text": [
      "1024/1024 [==============================] - 25s 24ms/step - loss: 0.0217 - mae: 0.0954\n",
      "Model has a loss of 0.021696556359529495 and a mean absolute error of 0.095406174659729\n"
     ]
    }
   ],
   "execution_count": 9
  },
  {
   "metadata": {
    "ExecuteTime": {
     "end_time": "2024-06-17T01:08:31.190461Z",
     "start_time": "2024-06-17T01:08:25.196680Z"
    }
   },
   "cell_type": "code",
   "source": "model.save('saved-model')",
   "id": "3b5f0387ce355b77",
   "outputs": [
    {
     "name": "stdout",
     "output_type": "stream",
     "text": [
      "INFO:tensorflow:Assets written to: saved-model/assets\n"
     ]
    },
    {
     "name": "stderr",
     "output_type": "stream",
     "text": [
      "INFO:tensorflow:Assets written to: saved-model/assets\n"
     ]
    }
   ],
   "execution_count": 10
  },
  {
   "metadata": {
    "ExecuteTime": {
     "end_time": "2024-06-17T01:09:29.056433Z",
     "start_time": "2024-06-17T01:09:28.744238Z"
    }
   },
   "cell_type": "code",
   "source": "model.save('model.keras')",
   "id": "9594917d70fd68b2",
   "outputs": [],
   "execution_count": 11
  },
  {
   "metadata": {},
   "cell_type": "code",
   "outputs": [],
   "execution_count": null,
   "source": "",
   "id": "c17460a77455d087"
  }
 ],
 "metadata": {
  "kernelspec": {
   "display_name": "Python 3",
   "language": "python",
   "name": "python3"
  },
  "language_info": {
   "codemirror_mode": {
    "name": "ipython",
    "version": 2
   },
   "file_extension": ".py",
   "mimetype": "text/x-python",
   "name": "python",
   "nbconvert_exporter": "python",
   "pygments_lexer": "ipython2",
   "version": "2.7.6"
  }
 },
 "nbformat": 4,
 "nbformat_minor": 5
}
