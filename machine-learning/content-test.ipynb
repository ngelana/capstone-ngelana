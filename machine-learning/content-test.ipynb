{
 "cells": [
  {
   "metadata": {
    "ExecuteTime": {
     "end_time": "2024-06-17T19:09:32.003262Z",
     "start_time": "2024-06-17T19:09:31.916939Z"
    }
   },
   "cell_type": "code",
   "source": [
    "# Import os and disable tensorflow warnings\n",
    "import os\n",
    "\n",
    "import numpy as np\n",
    "\n",
    "os.environ['TF_CPP_MIN_LOG_LEVEL'] = '5'"
   ],
   "id": "6ebcabf4035e585e",
   "outputs": [],
   "execution_count": 1
  },
  {
   "metadata": {
    "ExecuteTime": {
     "end_time": "2024-06-17T19:09:34.780479Z",
     "start_time": "2024-06-17T19:09:32.297019Z"
    }
   },
   "cell_type": "code",
   "source": [
    "# Import libraries\n",
    "import pandas as pd\n",
    "\n",
    "from sklearn.preprocessing import LabelEncoder\n",
    "from tensorflow.keras.models import Model, load_model\n",
    "from tensorflow.keras.callbacks import EarlyStopping\n",
    "from tensorflow.keras.preprocessing.text import Tokenizer\n",
    "from tensorflow.keras.preprocessing.sequence import pad_sequences\n",
    "from tensorflow.keras.layers import Input, Embedding, LSTM, Dense, Concatenate, Flatten, BatchNormalization, Dropout"
   ],
   "id": "initial_id",
   "outputs": [],
   "execution_count": 2
  },
  {
   "metadata": {
    "ExecuteTime": {
     "end_time": "2024-06-17T19:09:34.989129Z",
     "start_time": "2024-06-17T19:09:34.782738Z"
    }
   },
   "cell_type": "code",
   "source": [
    "# Load reviews dataset\n",
    "reviews_path = 'combined-dataset/final_reviews_data.csv'\n",
    "data = pd.read_csv(reviews_path)"
   ],
   "id": "f7b038c9cb41e6e3",
   "outputs": [],
   "execution_count": 3
  },
  {
   "metadata": {
    "ExecuteTime": {
     "end_time": "2024-06-17T19:09:36.741950Z",
     "start_time": "2024-06-17T19:09:34.990550Z"
    }
   },
   "cell_type": "code",
   "source": [
    "# Encode types column and Tokenize reviews column\n",
    "encoder = LabelEncoder()\n",
    "data['types_encoded'] = encoder.fit_transform(data['types'])\n",
    "\n",
    "tokenizer = Tokenizer()\n",
    "tokenizer.fit_on_texts(data['review'])\n",
    "sequences = tokenizer.texts_to_sequences(data['review'])\n",
    "\n",
    "# Pad sequences\n",
    "max_sequence_length = max(map(len, sequences), default=0)\n",
    "padded_sequences = pad_sequences(sequences, maxlen=max_sequence_length)"
   ],
   "id": "4da0dc0a0eafd922",
   "outputs": [],
   "execution_count": 4
  },
  {
   "metadata": {
    "ExecuteTime": {
     "end_time": "2024-06-17T19:09:36.746090Z",
     "start_time": "2024-06-17T19:09:36.743371Z"
    }
   },
   "cell_type": "code",
   "source": [
    "# Create features set and normalize sentiment for label\n",
    "X = {\n",
    "    'review': padded_sequences,\n",
    "    'types': data['types_encoded'].values\n",
    "}\n",
    "\n",
    "Y = data['sentiment'].values"
   ],
   "id": "735d3200ac566cc6",
   "outputs": [],
   "execution_count": 5
  },
  {
   "metadata": {},
   "cell_type": "code",
   "source": [
    "## Define Models Layer\n",
    "# Input\n",
    "review_input = Input(shape=(max_sequence_length,), name='review')\n",
    "types_input = Input(shape=(1,), name='types')\n",
    "\n",
    "# Embedding and LSTM for review\n",
    "review_embedding = Embedding(input_dim=len(tokenizer.word_index) + 1, output_dim=128)(review_input)\n",
    "review_lstm = LSTM(128)(review_embedding)\n",
    "\n",
    "# Embedding and Flatten for types\n",
    "types_embedding = Embedding(input_dim=len(encoder.classes_), output_dim=128)(types_input)\n",
    "types_flat = Flatten()(types_embedding)\n",
    "\n",
    "# Concatenate review and types\n",
    "concatenated = Concatenate()([review_lstm, types_flat])\n",
    "\n",
    "# Dense layers\n",
    "dense_1 = Dense(128, activation='relu')(concatenated)\n",
    "batch_1 = BatchNormalization()(dense_1)\n",
    "dropout_1 = Dropout(0.2)(batch_1)\n",
    "\n",
    "dense_2 = Dense(64, activation='relu')(dropout_1)\n",
    "batch_2 = BatchNormalization()(dense_2)\n",
    "dropout_2 = Dropout(0.2)(batch_2)\n",
    "\n",
    "dense_3 = Dense(32, activation='relu')(dropout_2)\n",
    "batch_3 = BatchNormalization()(dense_3)\n",
    "dropout_3 = Dropout(0.2)(batch_3)\n",
    "\n",
    "output = Dense(1, activation='linear')(dropout_3)"
   ],
   "id": "d35ca5119b28e81",
   "outputs": [],
   "execution_count": null
  },
  {
   "metadata": {},
   "cell_type": "code",
   "source": [
    "# Create and Compile the Model\n",
    "model = Model(inputs=[review_input, types_input], outputs=output)\n",
    "model.summary()\n",
    "model.compile(optimizer='adam', loss='mse', metrics=['mae'])"
   ],
   "id": "529b41a5646223ed",
   "outputs": [],
   "execution_count": null
  },
  {
   "metadata": {},
   "cell_type": "code",
   "source": "early_stopping = EarlyStopping(monitor='val_loss', patience=10, restore_best_weights=True)",
   "id": "bb619e910897f917",
   "outputs": [],
   "execution_count": null
  },
  {
   "metadata": {},
   "cell_type": "code",
   "source": "model.fit([X['review'], X['types']], Y, epochs=100, batch_size=32, validation_split=0.2, callbacks=[early_stopping])",
   "id": "17c67482d2170dec",
   "outputs": [],
   "execution_count": null
  },
  {
   "metadata": {},
   "cell_type": "code",
   "source": [
    "loss, mae = model.evaluate([X['review'], X['types']], Y)\n",
    "print(f'Model has a loss of {loss} and a mean absolute error of {mae}')"
   ],
   "id": "24db372305494fb7",
   "outputs": [],
   "execution_count": null
  },
  {
   "metadata": {},
   "cell_type": "code",
   "source": "model.save('model.keras')",
   "id": "9594917d70fd68b2",
   "outputs": [],
   "execution_count": null
  },
  {
   "metadata": {
    "ExecuteTime": {
     "end_time": "2024-06-17T19:09:48.096572Z",
     "start_time": "2024-06-17T19:09:41.832147Z"
    }
   },
   "cell_type": "code",
   "source": "content_model = load_model('model.keras')",
   "id": "c17460a77455d087",
   "outputs": [],
   "execution_count": 6
  },
  {
   "metadata": {
    "ExecuteTime": {
     "end_time": "2024-06-17T19:11:23.221317Z",
     "start_time": "2024-06-17T19:11:23.217354Z"
    }
   },
   "cell_type": "code",
   "source": [
    "from sklearn.metrics.pairwise import cosine_similarity\n",
    "\n",
    "def get_place_recommendations(model, place_id, dataset, top_n=10):\n",
    "    place_idx = dataset[dataset['id'] == place_id].index[0]\n",
    "    place_review = X['review'][place_idx]\n",
    "    place_types = X['types'][place_idx]\n",
    "    \n",
    "    predicted_sentiments = model.predict([X['review'], X['types']])\n",
    "    \n",
    "    place_vector = np.concatenate([place_review, [place_types]])\n",
    "    all_vector = np.hstack([X['review'], X['types'].reshape(-1, 1)])\n",
    "    similarities = cosine_similarity([place_vector], all_vector)[0]\n",
    "    \n",
    "    similar_indices = np.argsort(similarities)[-top_n:][::-1]\n",
    "    similar_places = dataset.iloc[similar_indices]\n",
    "    \n",
    "    return similar_places, predicted_sentiments[similar_indices]"
   ],
   "id": "58cd422bb1961c2",
   "outputs": [],
   "execution_count": 11
  },
  {
   "metadata": {
    "ExecuteTime": {
     "end_time": "2024-06-17T19:11:46.221408Z",
     "start_time": "2024-06-17T19:11:23.855131Z"
    }
   },
   "cell_type": "code",
   "source": [
    "place_id = 'ChIJIaGQ-Eg60i0RnT9pzyD_gvM'\n",
    "\n",
    "recommendations = get_place_recommendations(content_model, place_id, data)\n",
    "print(recommendations)"
   ],
   "id": "976655150aad0ac4",
   "outputs": [
    {
     "name": "stdout",
     "output_type": "stream",
     "text": [
      "1024/1024 [==============================] - 22s 21ms/step\n",
      "(                                id                                    types  \\\n",
      "2552   ChIJIaGQ-Eg60i0RnT9pzyD_gvM                               cafe, food   \n",
      "18987  ChIJjT4DJK5G0i0R3pksi46oHZY                               cafe, food   \n",
      "23697  ChIJ1dMM21FH0i0Ru3XNx9p8_S0  indonesian_restaurant, restaurant, food   \n",
      "31801  ChIJAe-Pc09F0i0RFm0SEDsDyU8                       tourist_attraction   \n",
      "13981  ChIJxdi5l84n0i0RyUyMbwuSf1w                         restaurant, food   \n",
      "20320  ChIJqeoHnm2H0S0Re7c7kU8NUtE                 park, tourist_attraction   \n",
      "2716   ChIJ65f5180V0i0RkMx79fIo0Ts                         restaurant, food   \n",
      "4039   ChIJz0XREtZH0i0RowHdlImQUYQ           coffee_shop, cafe, store, food   \n",
      "30428  ChIJQ7sXNoZB0i0RLRxhrTl5500                           hotel, lodging   \n",
      "31575  ChIJt_0lSYZz0i0RfM-BdC8kMhU                         restaurant, food   \n",
      "\n",
      "      review_number                                             review  \\\n",
      "2552       review 1  Wajib mampir,, matcha milk tea with pearl, my ...   \n",
      "18987      review 3  Recommended! The food tastes great. Wifi and e...   \n",
      "23697      review 4  Some tasty pork dishes with an indo flavour at...   \n",
      "31801      review 5  Good beach, so many fisherman ship on here. Yo...   \n",
      "13981      review 3  Best restaurant around jati luwih area , nice ...   \n",
      "20320      review 4  Keep on walking through some beautiful Cacao, ...   \n",
      "2716       review 1  I can confirm with the other 1 star review, ca...   \n",
      "4039       review 1  Japanese ice coffee tastes good n the cookies ...   \n",
      "30428      review 5  The room was nice and clean. The bathroom need...   \n",
      "31575      review 5  It was sooo delicious! If you want to try auth...   \n",
      "\n",
      "          user_id  sentiment  types_encoded  \n",
      "2552   user_37983       5.00            153  \n",
      "18987  user_43617       4.47            153  \n",
      "23697   user_4182       4.40            469  \n",
      "31801  user_12555       4.20            860  \n",
      "13981  user_51302       3.91            719  \n",
      "20320  user_32594       4.25            557  \n",
      "2716   user_39344       3.21            719  \n",
      "4039     user_620       3.48            229  \n",
      "30428  user_27077       3.72            381  \n",
      "31575  user_30206       3.88            719  , array([[4.962055 ],\n",
      "       [4.3449564],\n",
      "       [4.205853 ],\n",
      "       [4.2392635],\n",
      "       [3.9615192],\n",
      "       [4.1569333],\n",
      "       [3.1920242],\n",
      "       [3.4887614],\n",
      "       [3.7289002],\n",
      "       [3.8694649]], dtype=float32))\n"
     ]
    }
   ],
   "execution_count": 12
  },
  {
   "metadata": {},
   "cell_type": "code",
   "source": "",
   "id": "12009ae30f9098fe",
   "outputs": [],
   "execution_count": null
  }
 ],
 "metadata": {
  "kernelspec": {
   "display_name": "Python 3",
   "language": "python",
   "name": "python3"
  },
  "language_info": {
   "codemirror_mode": {
    "name": "ipython",
    "version": 2
   },
   "file_extension": ".py",
   "mimetype": "text/x-python",
   "name": "python",
   "nbconvert_exporter": "python",
   "pygments_lexer": "ipython2",
   "version": "2.7.6"
  }
 },
 "nbformat": 4,
 "nbformat_minor": 5
}
