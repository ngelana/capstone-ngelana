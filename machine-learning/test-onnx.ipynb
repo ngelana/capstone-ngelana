{
 "cells": [
  {
   "metadata": {
    "ExecuteTime": {
     "end_time": "2024-06-16T23:54:23.614379Z",
     "start_time": "2024-06-16T23:54:23.610783Z"
    }
   },
   "cell_type": "code",
   "source": [
    "import tensorflow as tf\n",
    "from tensorflow.python.platform import build_info as build\n",
    "\n",
    "tf.autograph.set_verbosity(0)\n",
    "\n",
    "print(f\"tensorflow version: {tf.__version__}\")\n",
    "print(f\"Cuda Version: {build.build_info['cuda_version']}\")\n",
    "print(f\"Cudnn version: {build.build_info['cudnn_version']}\")"
   ],
   "id": "36e414c34a261530",
   "outputs": [
    {
     "name": "stdout",
     "output_type": "stream",
     "text": [
      "tensorflow version: 2.15.0\n",
      "Cuda Version: 12.2\n",
      "Cudnn version: 8\n"
     ]
    }
   ],
   "execution_count": 2
  },
  {
   "metadata": {},
   "cell_type": "code",
   "source": [
    "import tensorflow as tf\n",
    "import tf2onnx\n",
    "import onnx"
   ],
   "id": "8c31950c8a9573bf",
   "outputs": [],
   "execution_count": null
  },
  {
   "metadata": {},
   "cell_type": "code",
   "source": "model = tf.keras.models.load_model('test.keras')",
   "id": "656f515717f4b91b",
   "outputs": [],
   "execution_count": null
  },
  {
   "metadata": {},
   "cell_type": "code",
   "source": [
    "if isinstance(model.input, list):\n",
    "    input_details = [{'shape': input_tensor.shape, 'dtype': input_tensor.dtype, 'name': input_tensor.name} for input_tensor in model.inputs]\n",
    "else:\n",
    "    input_details = [{'shape': model.input.shape, 'dtype': model.input.dtype, 'name': model.input.name}]\n",
    "\n",
    "# Print input details\n",
    "for i, detail in enumerate(input_details):\n",
    "    print(f\"Input {i+1}: shape: {detail['shape']}, dtype: {detail['dtype']}, name: {detail['name']}\")\n"
   ],
   "id": "3af217cea2579372",
   "outputs": [],
   "execution_count": null
  },
  {
   "metadata": {},
   "cell_type": "code",
   "source": [
    "input_signature = [\n",
    "    tf.TensorSpec(shape=(None, 807), dtype=tf.float32, name='review'),\n",
    "    tf.TensorSpec(shape=(None, 1), dtype=tf.float32, name='types')\n",
    "]"
   ],
   "id": "bb33042648b70a7e",
   "outputs": [],
   "execution_count": null
  },
  {
   "metadata": {},
   "cell_type": "code",
   "source": [
    "onnx_model, _ = tf2onnx.convert.from_keras(model, input_signature=input_signature, opset=18)\n",
    "onnx.save(onnx_model, 'test.onnx')"
   ],
   "id": "8be2b816febef699",
   "outputs": [],
   "execution_count": null
  },
  {
   "metadata": {},
   "cell_type": "code",
   "source": "# !python -m tf2onnx.convert --saved-model saved-model --output model.onnx",
   "id": "d5db8b6526f3463",
   "outputs": [],
   "execution_count": null
  },
  {
   "metadata": {},
   "cell_type": "code",
   "source": "!pip show onnxruntime-gpu",
   "id": "149ebacd71ab4a67",
   "outputs": [],
   "execution_count": null
  },
  {
   "metadata": {},
   "cell_type": "code",
   "source": [
    "import onnxruntime as ort\n",
    "\n",
    "session = ort.InferenceSession('test.onnx', providers=['CUDAExecutionProvider'])"
   ],
   "id": "e87680543cb6db61",
   "outputs": [],
   "execution_count": null
  },
  {
   "metadata": {},
   "cell_type": "code",
   "source": [
    "import numpy as np\n",
    "\n",
    "# Dummy input data (replace with real data)\n",
    "review_input = np.random.rand(1, 807).astype(np.float32)\n",
    "types_input = np.random.rand(1, 1).astype(np.float32)\n",
    "\n",
    "# Prepare inputs\n",
    "inputs = {\n",
    "    \"review\": review_input,\n",
    "    \"types\": types_input\n",
    "}\n",
    "\n",
    "results_ort = session.run(None, inputs)\n",
    "\n",
    "print(results_ort)"
   ],
   "id": "16377d868bffbde5",
   "outputs": [],
   "execution_count": null
  },
  {
   "metadata": {},
   "cell_type": "code",
   "source": [
    "import pandas as pd\n",
    "\n",
    "from sklearn.preprocessing import LabelEncoder\n",
    "from tensorflow.keras.preprocessing.text import Tokenizer\n",
    "from tensorflow.keras.preprocessing.sequence import pad_sequences\n",
    "\n",
    "# from keras_tuner import RandomSearch, HyperModel\n",
    "\n",
    "# Load the dataset\n",
    "file_path = 'combined-dataset/final_reviews_data.csv'\n",
    "data = pd.read_csv(file_path)\n",
    "\n",
    "# Encode the 'types' column\n",
    "label_encoder = LabelEncoder()\n",
    "data['types_encoded'] = label_encoder.fit_transform(data['types'])\n",
    "\n",
    "# Tokenize the 'review' column\n",
    "tokenizer = Tokenizer()\n",
    "tokenizer.fit_on_texts(data['review'])\n",
    "sequences = tokenizer.texts_to_sequences(data['review'])\n",
    "\n",
    "# Pad the sequences\n",
    "max_sequence_length = max(len(seq) for seq in sequences)\n",
    "padded_sequences = pad_sequences(sequences, maxlen=max_sequence_length)\n",
    "\n",
    "# Create the feature set\n",
    "X = {\n",
    "    'review': padded_sequences.astype(np.float32),\n",
    "    'types': data['types_encoded'].values.astype(np.float32),\n",
    "}\n",
    "\n",
    "# Normalize the sentiment scores\n",
    "y = data['sentiment'].values\n"
   ],
   "id": "687e78d2e4c9bd0",
   "outputs": [],
   "execution_count": null
  },
  {
   "metadata": {},
   "cell_type": "code",
   "source": [
    "df_review = pd.read_csv('combined-dataset/final_reviews_data.csv')\n",
    "df_place = pd.read_csv('combined-dataset/combined_datasetV2.csv')"
   ],
   "id": "840caeb6e66eb49d",
   "outputs": [],
   "execution_count": null
  },
  {
   "metadata": {},
   "cell_type": "code",
   "source": [
    "import numpy as np\n",
    "\n",
    "# Dummy input data (replace with real data)\n",
    "review_input = X['review']\n",
    "types_input = X['types'].reshape(-1, 1)\n",
    "\n",
    "# Prepare inputs\n",
    "inputs = {\n",
    "    \"review\": review_input,\n",
    "    \"types\": types_input\n",
    "}\n",
    "\n",
    "results_ort = session.run(None, inputs)\n",
    "\n",
    "print(results_ort)"
   ],
   "id": "cd8ad4068ed43cf7",
   "outputs": [],
   "execution_count": null
  },
  {
   "metadata": {},
   "cell_type": "code",
   "source": "",
   "id": "4f3a28274f0d132d",
   "outputs": [],
   "execution_count": null
  }
 ],
 "metadata": {
  "kernelspec": {
   "display_name": "Python 3",
   "language": "python",
   "name": "python3"
  },
  "language_info": {
   "codemirror_mode": {
    "name": "ipython",
    "version": 2
   },
   "file_extension": ".py",
   "mimetype": "text/x-python",
   "name": "python",
   "nbconvert_exporter": "python",
   "pygments_lexer": "ipython2",
   "version": "2.7.6"
  }
 },
 "nbformat": 4,
 "nbformat_minor": 5
}
